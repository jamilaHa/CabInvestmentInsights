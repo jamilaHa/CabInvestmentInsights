{
  "nbformat": 4,
  "nbformat_minor": 0,
  "metadata": {
    "colab": {
      "name": "Cab_InvestmentNv.ipynb",
      "provenance": [],
      "collapsed_sections": []
    },
    "kernelspec": {
      "display_name": "Python 3",
      "name": "python3"
    },
    "language_info": {
      "name": "python"
    }
  },
  "cells": [
    {
      "cell_type": "markdown",
      "metadata": {
        "id": "5PsP-Lnzfo_7"
      },
      "source": [
        "#G2M insight for Cab Investment firm\n",
        "\n",
        "---\n",
        "\n"
      ]
    },
    {
      "cell_type": "markdown",
      "metadata": {
        "id": "t0M80ASDpPq_"
      },
      "source": [
        "Business problem:\n",
        "\n",
        "XYZ is a private firm in US.\n",
        "Due to remarkable growth in the Cab Industry in last few years and multiple key players in the market, it is planning for an investment in Cab industry and as per their Go-to-Market(G2M) strategy they want to understand the market before taking final decision.\n",
        "\n",
        "Objective:\n",
        "\n",
        "* Provide actionable insights for XYZ to facilitate the identification of the \n",
        "best cab company for making investment.\n",
        "* Find the most user-preferred cab service provider in each city in the United States by looking at every number of taxi service users and making monthly, seasonal, and annual profits on weekdays and holidays.\n",
        "\n",
        "The analysis includes :\n",
        "\n",
        " _ Data understanding\n",
        "\n",
        " _ Checking data quality\n",
        "\n",
        " _ Data visualization\n",
        " \n",
        " _ Creating hypothesis\n",
        " \n",
        " _ Recommendations for investment\n"
      ]
    },
    {
      "cell_type": "markdown",
      "metadata": {
        "id": "eetd4XX0KcL2"
      },
      "source": [
        "**1.   Upload and check data quality**\n"
      ]
    },
    {
      "cell_type": "code",
      "metadata": {
        "id": "Z2E3MeRbKIfW"
      },
      "source": [
        "import pandas as pd\n",
        "import numpy as np\n",
        "import matplotlib.pyplot as plt\n",
        "import pickle\n",
        "import warnings\n",
        "import seaborn as sns\n",
        "import missingno as msno\n",
        "warnings.filterwarnings('ignore') # Turn off warnings\n",
        "from sklearn.metrics import mean_squared_error\n",
        "from math import sqrt\n",
        "import statsmodels.api as sm\n",
        "from pylab import rcParams\n",
        "import statsmodels.api as sm\n",
        "from statsmodels.tsa.seasonal import seasonal_decompose"
      ],
      "execution_count": 12,
      "outputs": []
    },
    {
      "cell_type": "markdown",
      "metadata": {
        "id": "57PPq0ePpwvU"
      },
      "source": [
        "**Read CSV files**"
      ]
    },
    {
      "cell_type": "code",
      "metadata": {
        "colab": {
          "base_uri": "https://localhost:8080/",
          "height": 204
        },
        "id": "TcmX3wSTLWVG",
        "outputId": "47f02a97-30d6-4856-e1c1-63ab0837ac40"
      },
      "source": [
        "import pandas as pd\n",
        "cab = pd.read_csv(\"cabData.csv\", sep=';')\n",
        "cab.head()"
      ],
      "execution_count": 13,
      "outputs": [
        {
          "output_type": "execute_result",
          "data": {
            "text/html": [
              "<div>\n",
              "<style scoped>\n",
              "    .dataframe tbody tr th:only-of-type {\n",
              "        vertical-align: middle;\n",
              "    }\n",
              "\n",
              "    .dataframe tbody tr th {\n",
              "        vertical-align: top;\n",
              "    }\n",
              "\n",
              "    .dataframe thead th {\n",
              "        text-align: right;\n",
              "    }\n",
              "</style>\n",
              "<table border=\"1\" class=\"dataframe\">\n",
              "  <thead>\n",
              "    <tr style=\"text-align: right;\">\n",
              "      <th></th>\n",
              "      <th>Transaction ID</th>\n",
              "      <th>Date of Travel</th>\n",
              "      <th>Company</th>\n",
              "      <th>City</th>\n",
              "      <th>KM Travelled</th>\n",
              "      <th>Price Charged</th>\n",
              "      <th>Cost of Trip</th>\n",
              "    </tr>\n",
              "  </thead>\n",
              "  <tbody>\n",
              "    <tr>\n",
              "      <th>0</th>\n",
              "      <td>10000011</td>\n",
              "      <td>08/01/2016</td>\n",
              "      <td>Pink Cab</td>\n",
              "      <td>ATLANTA GA</td>\n",
              "      <td>30.45</td>\n",
              "      <td>370.95</td>\n",
              "      <td>313.635</td>\n",
              "    </tr>\n",
              "    <tr>\n",
              "      <th>1</th>\n",
              "      <td>10000012</td>\n",
              "      <td>06/01/2016</td>\n",
              "      <td>Pink Cab</td>\n",
              "      <td>ATLANTA GA</td>\n",
              "      <td>28.62</td>\n",
              "      <td>358.52</td>\n",
              "      <td>334.854</td>\n",
              "    </tr>\n",
              "    <tr>\n",
              "      <th>2</th>\n",
              "      <td>10000013</td>\n",
              "      <td>02/01/2016</td>\n",
              "      <td>Pink Cab</td>\n",
              "      <td>ATLANTA GA</td>\n",
              "      <td>9.04</td>\n",
              "      <td>125.20</td>\n",
              "      <td>97.632</td>\n",
              "    </tr>\n",
              "    <tr>\n",
              "      <th>3</th>\n",
              "      <td>10000014</td>\n",
              "      <td>07/01/2016</td>\n",
              "      <td>Pink Cab</td>\n",
              "      <td>ATLANTA GA</td>\n",
              "      <td>33.17</td>\n",
              "      <td>377.40</td>\n",
              "      <td>351.602</td>\n",
              "    </tr>\n",
              "    <tr>\n",
              "      <th>4</th>\n",
              "      <td>10000015</td>\n",
              "      <td>03/01/2016</td>\n",
              "      <td>Pink Cab</td>\n",
              "      <td>ATLANTA GA</td>\n",
              "      <td>8.73</td>\n",
              "      <td>114.62</td>\n",
              "      <td>97.776</td>\n",
              "    </tr>\n",
              "  </tbody>\n",
              "</table>\n",
              "</div>"
            ],
            "text/plain": [
              "   Transaction ID Date of Travel  ... Price Charged Cost of Trip\n",
              "0        10000011     08/01/2016  ...        370.95      313.635\n",
              "1        10000012     06/01/2016  ...        358.52      334.854\n",
              "2        10000013     02/01/2016  ...        125.20       97.632\n",
              "3        10000014     07/01/2016  ...        377.40      351.602\n",
              "4        10000015     03/01/2016  ...        114.62       97.776\n",
              "\n",
              "[5 rows x 7 columns]"
            ]
          },
          "metadata": {
            "tags": []
          },
          "execution_count": 13
        }
      ]
    },
    {
      "cell_type": "code",
      "metadata": {
        "colab": {
          "base_uri": "https://localhost:8080/"
        },
        "id": "HRdkJbs_LcJX",
        "outputId": "abdaaf9f-404e-40cd-d883-16b8f5338690"
      },
      "source": [
        "cab.info()"
      ],
      "execution_count": 14,
      "outputs": [
        {
          "output_type": "stream",
          "text": [
            "<class 'pandas.core.frame.DataFrame'>\n",
            "RangeIndex: 16381 entries, 0 to 16380\n",
            "Data columns (total 7 columns):\n",
            " #   Column          Non-Null Count  Dtype  \n",
            "---  ------          --------------  -----  \n",
            " 0   Transaction ID  16381 non-null  int64  \n",
            " 1   Date of Travel  16381 non-null  object \n",
            " 2   Company         16381 non-null  object \n",
            " 3   City            16381 non-null  object \n",
            " 4   KM Travelled    16381 non-null  float64\n",
            " 5   Price Charged   16380 non-null  float64\n",
            " 6   Cost of Trip    16380 non-null  float64\n",
            "dtypes: float64(3), int64(1), object(3)\n",
            "memory usage: 896.0+ KB\n"
          ],
          "name": "stdout"
        }
      ]
    },
    {
      "cell_type": "code",
      "metadata": {
        "colab": {
          "base_uri": "https://localhost:8080/"
        },
        "id": "ZkuCcABLLlaN",
        "outputId": "415a1dfe-33ad-4f34-e1ec-5f6a3df01f9c"
      },
      "source": [
        "cab.isnull().sum()"
      ],
      "execution_count": 15,
      "outputs": [
        {
          "output_type": "execute_result",
          "data": {
            "text/plain": [
              "Transaction ID    0\n",
              "Date of Travel    0\n",
              "Company           0\n",
              "City              0\n",
              "KM Travelled      0\n",
              "Price Charged     1\n",
              "Cost of Trip      1\n",
              "dtype: int64"
            ]
          },
          "metadata": {
            "tags": []
          },
          "execution_count": 15
        }
      ]
    },
    {
      "cell_type": "code",
      "metadata": {
        "colab": {
          "base_uri": "https://localhost:8080/",
          "height": 204
        },
        "id": "1NvMv5fDLoFk",
        "outputId": "c249cec5-c641-42c2-c8e0-f7533802f59d"
      },
      "source": [
        "city = pd.read_csv(\"City.csv\")\n",
        "city.head()"
      ],
      "execution_count": 16,
      "outputs": [
        {
          "output_type": "execute_result",
          "data": {
            "text/html": [
              "<div>\n",
              "<style scoped>\n",
              "    .dataframe tbody tr th:only-of-type {\n",
              "        vertical-align: middle;\n",
              "    }\n",
              "\n",
              "    .dataframe tbody tr th {\n",
              "        vertical-align: top;\n",
              "    }\n",
              "\n",
              "    .dataframe thead th {\n",
              "        text-align: right;\n",
              "    }\n",
              "</style>\n",
              "<table border=\"1\" class=\"dataframe\">\n",
              "  <thead>\n",
              "    <tr style=\"text-align: right;\">\n",
              "      <th></th>\n",
              "      <th>City</th>\n",
              "      <th>Population</th>\n",
              "      <th>Users</th>\n",
              "    </tr>\n",
              "  </thead>\n",
              "  <tbody>\n",
              "    <tr>\n",
              "      <th>0</th>\n",
              "      <td>NEW YORK NY</td>\n",
              "      <td>8,405,837</td>\n",
              "      <td>302,149</td>\n",
              "    </tr>\n",
              "    <tr>\n",
              "      <th>1</th>\n",
              "      <td>CHICAGO IL</td>\n",
              "      <td>1,955,130</td>\n",
              "      <td>164,468</td>\n",
              "    </tr>\n",
              "    <tr>\n",
              "      <th>2</th>\n",
              "      <td>LOS ANGELES CA</td>\n",
              "      <td>1,595,037</td>\n",
              "      <td>144,132</td>\n",
              "    </tr>\n",
              "    <tr>\n",
              "      <th>3</th>\n",
              "      <td>MIAMI FL</td>\n",
              "      <td>1,339,155</td>\n",
              "      <td>17,675</td>\n",
              "    </tr>\n",
              "    <tr>\n",
              "      <th>4</th>\n",
              "      <td>SILICON VALLEY</td>\n",
              "      <td>1,177,609</td>\n",
              "      <td>27,247</td>\n",
              "    </tr>\n",
              "  </tbody>\n",
              "</table>\n",
              "</div>"
            ],
            "text/plain": [
              "             City   Population      Users\n",
              "0     NEW YORK NY   8,405,837    302,149 \n",
              "1      CHICAGO IL   1,955,130    164,468 \n",
              "2  LOS ANGELES CA   1,595,037    144,132 \n",
              "3        MIAMI FL   1,339,155     17,675 \n",
              "4  SILICON VALLEY   1,177,609     27,247 "
            ]
          },
          "metadata": {
            "tags": []
          },
          "execution_count": 16
        }
      ]
    },
    {
      "cell_type": "code",
      "metadata": {
        "colab": {
          "base_uri": "https://localhost:8080/"
        },
        "id": "SDbogKtTLq05",
        "outputId": "25188f4e-d28f-47d1-94c8-a4165db72abc"
      },
      "source": [
        "city.info()"
      ],
      "execution_count": 17,
      "outputs": [
        {
          "output_type": "stream",
          "text": [
            "<class 'pandas.core.frame.DataFrame'>\n",
            "RangeIndex: 20 entries, 0 to 19\n",
            "Data columns (total 3 columns):\n",
            " #   Column      Non-Null Count  Dtype \n",
            "---  ------      --------------  ----- \n",
            " 0   City        20 non-null     object\n",
            " 1   Population  20 non-null     object\n",
            " 2   Users       20 non-null     object\n",
            "dtypes: object(3)\n",
            "memory usage: 608.0+ bytes\n"
          ],
          "name": "stdout"
        }
      ]
    },
    {
      "cell_type": "code",
      "metadata": {
        "colab": {
          "base_uri": "https://localhost:8080/"
        },
        "id": "Dd93u4FAYQCa",
        "outputId": "873285dd-bf1d-4438-b0e7-5779ca2bb9aa"
      },
      "source": [
        "city.isnull().sum()"
      ],
      "execution_count": 18,
      "outputs": [
        {
          "output_type": "execute_result",
          "data": {
            "text/plain": [
              "City          0\n",
              "Population    0\n",
              "Users         0\n",
              "dtype: int64"
            ]
          },
          "metadata": {
            "tags": []
          },
          "execution_count": 18
        }
      ]
    },
    {
      "cell_type": "code",
      "metadata": {
        "colab": {
          "base_uri": "https://localhost:8080/",
          "height": 204
        },
        "id": "_uj5tWlsL0I-",
        "outputId": "c5f4ea5c-6cf9-4e17-9935-fbdc0cd132ca"
      },
      "source": [
        "trans= pd.read_csv(\"Transaction_ID.csv\")\n",
        "trans.head()"
      ],
      "execution_count": 19,
      "outputs": [
        {
          "output_type": "execute_result",
          "data": {
            "text/html": [
              "<div>\n",
              "<style scoped>\n",
              "    .dataframe tbody tr th:only-of-type {\n",
              "        vertical-align: middle;\n",
              "    }\n",
              "\n",
              "    .dataframe tbody tr th {\n",
              "        vertical-align: top;\n",
              "    }\n",
              "\n",
              "    .dataframe thead th {\n",
              "        text-align: right;\n",
              "    }\n",
              "</style>\n",
              "<table border=\"1\" class=\"dataframe\">\n",
              "  <thead>\n",
              "    <tr style=\"text-align: right;\">\n",
              "      <th></th>\n",
              "      <th>Transaction ID</th>\n",
              "      <th>Customer ID</th>\n",
              "      <th>Payment_Mode</th>\n",
              "    </tr>\n",
              "  </thead>\n",
              "  <tbody>\n",
              "    <tr>\n",
              "      <th>0</th>\n",
              "      <td>10000011</td>\n",
              "      <td>29290</td>\n",
              "      <td>Card</td>\n",
              "    </tr>\n",
              "    <tr>\n",
              "      <th>1</th>\n",
              "      <td>10000012</td>\n",
              "      <td>27703</td>\n",
              "      <td>Card</td>\n",
              "    </tr>\n",
              "    <tr>\n",
              "      <th>2</th>\n",
              "      <td>10000013</td>\n",
              "      <td>28712</td>\n",
              "      <td>Cash</td>\n",
              "    </tr>\n",
              "    <tr>\n",
              "      <th>3</th>\n",
              "      <td>10000014</td>\n",
              "      <td>28020</td>\n",
              "      <td>Cash</td>\n",
              "    </tr>\n",
              "    <tr>\n",
              "      <th>4</th>\n",
              "      <td>10000015</td>\n",
              "      <td>27182</td>\n",
              "      <td>Card</td>\n",
              "    </tr>\n",
              "  </tbody>\n",
              "</table>\n",
              "</div>"
            ],
            "text/plain": [
              "   Transaction ID  Customer ID Payment_Mode\n",
              "0        10000011        29290         Card\n",
              "1        10000012        27703         Card\n",
              "2        10000013        28712         Cash\n",
              "3        10000014        28020         Cash\n",
              "4        10000015        27182         Card"
            ]
          },
          "metadata": {
            "tags": []
          },
          "execution_count": 19
        }
      ]
    },
    {
      "cell_type": "code",
      "metadata": {
        "colab": {
          "base_uri": "https://localhost:8080/"
        },
        "id": "wcOxk7KXL4YG",
        "outputId": "484391cf-b659-43bc-a88d-0050c0aac3a5"
      },
      "source": [
        "trans.info()"
      ],
      "execution_count": 20,
      "outputs": [
        {
          "output_type": "stream",
          "text": [
            "<class 'pandas.core.frame.DataFrame'>\n",
            "RangeIndex: 51192 entries, 0 to 51191\n",
            "Data columns (total 3 columns):\n",
            " #   Column          Non-Null Count  Dtype \n",
            "---  ------          --------------  ----- \n",
            " 0   Transaction ID  51192 non-null  int64 \n",
            " 1   Customer ID     51192 non-null  int64 \n",
            " 2   Payment_Mode    51192 non-null  object\n",
            "dtypes: int64(2), object(1)\n",
            "memory usage: 1.2+ MB\n"
          ],
          "name": "stdout"
        }
      ]
    },
    {
      "cell_type": "code",
      "metadata": {
        "colab": {
          "base_uri": "https://localhost:8080/"
        },
        "id": "IkPKw16rYWYx",
        "outputId": "29bc5659-3b18-4dae-e682-d75cf47ace0f"
      },
      "source": [
        "trans.isnull().sum()"
      ],
      "execution_count": 21,
      "outputs": [
        {
          "output_type": "execute_result",
          "data": {
            "text/plain": [
              "Transaction ID    0\n",
              "Customer ID       0\n",
              "Payment_Mode      0\n",
              "dtype: int64"
            ]
          },
          "metadata": {
            "tags": []
          },
          "execution_count": 21
        }
      ]
    },
    {
      "cell_type": "code",
      "metadata": {
        "colab": {
          "base_uri": "https://localhost:8080/",
          "height": 204
        },
        "id": "G3LQpsknL-ev",
        "outputId": "458192a9-42d0-4c3e-d5a9-be3288ecabc9"
      },
      "source": [
        "customer = pd.read_csv(\"Customer_ID.csv\")\n",
        "customer.head()"
      ],
      "execution_count": 22,
      "outputs": [
        {
          "output_type": "execute_result",
          "data": {
            "text/html": [
              "<div>\n",
              "<style scoped>\n",
              "    .dataframe tbody tr th:only-of-type {\n",
              "        vertical-align: middle;\n",
              "    }\n",
              "\n",
              "    .dataframe tbody tr th {\n",
              "        vertical-align: top;\n",
              "    }\n",
              "\n",
              "    .dataframe thead th {\n",
              "        text-align: right;\n",
              "    }\n",
              "</style>\n",
              "<table border=\"1\" class=\"dataframe\">\n",
              "  <thead>\n",
              "    <tr style=\"text-align: right;\">\n",
              "      <th></th>\n",
              "      <th>Customer ID</th>\n",
              "      <th>Gender</th>\n",
              "      <th>Age</th>\n",
              "      <th>Income (USD/Month)</th>\n",
              "    </tr>\n",
              "  </thead>\n",
              "  <tbody>\n",
              "    <tr>\n",
              "      <th>0</th>\n",
              "      <td>29290</td>\n",
              "      <td>Male</td>\n",
              "      <td>28</td>\n",
              "      <td>10813</td>\n",
              "    </tr>\n",
              "    <tr>\n",
              "      <th>1</th>\n",
              "      <td>27703</td>\n",
              "      <td>Male</td>\n",
              "      <td>27</td>\n",
              "      <td>9237</td>\n",
              "    </tr>\n",
              "    <tr>\n",
              "      <th>2</th>\n",
              "      <td>28712</td>\n",
              "      <td>Male</td>\n",
              "      <td>53</td>\n",
              "      <td>11242</td>\n",
              "    </tr>\n",
              "    <tr>\n",
              "      <th>3</th>\n",
              "      <td>28020</td>\n",
              "      <td>Male</td>\n",
              "      <td>23</td>\n",
              "      <td>23327</td>\n",
              "    </tr>\n",
              "    <tr>\n",
              "      <th>4</th>\n",
              "      <td>27182</td>\n",
              "      <td>Male</td>\n",
              "      <td>33</td>\n",
              "      <td>8536</td>\n",
              "    </tr>\n",
              "  </tbody>\n",
              "</table>\n",
              "</div>"
            ],
            "text/plain": [
              "   Customer ID Gender  Age  Income (USD/Month)\n",
              "0        29290   Male   28               10813\n",
              "1        27703   Male   27                9237\n",
              "2        28712   Male   53               11242\n",
              "3        28020   Male   23               23327\n",
              "4        27182   Male   33                8536"
            ]
          },
          "metadata": {
            "tags": []
          },
          "execution_count": 22
        }
      ]
    },
    {
      "cell_type": "code",
      "metadata": {
        "colab": {
          "base_uri": "https://localhost:8080/"
        },
        "id": "iqohiuhEMByw",
        "outputId": "d251bb37-41cb-441c-ba17-82364748479c"
      },
      "source": [
        "customer.info()"
      ],
      "execution_count": 23,
      "outputs": [
        {
          "output_type": "stream",
          "text": [
            "<class 'pandas.core.frame.DataFrame'>\n",
            "RangeIndex: 49171 entries, 0 to 49170\n",
            "Data columns (total 4 columns):\n",
            " #   Column              Non-Null Count  Dtype \n",
            "---  ------              --------------  ----- \n",
            " 0   Customer ID         49171 non-null  int64 \n",
            " 1   Gender              49171 non-null  object\n",
            " 2   Age                 49171 non-null  int64 \n",
            " 3   Income (USD/Month)  49171 non-null  int64 \n",
            "dtypes: int64(3), object(1)\n",
            "memory usage: 1.5+ MB\n"
          ],
          "name": "stdout"
        }
      ]
    },
    {
      "cell_type": "code",
      "metadata": {
        "colab": {
          "base_uri": "https://localhost:8080/"
        },
        "id": "B4p1_O3XYZhT",
        "outputId": "daea5e1f-d423-4646-94dc-9afca808c594"
      },
      "source": [
        "customer.isnull().sum()"
      ],
      "execution_count": 24,
      "outputs": [
        {
          "output_type": "execute_result",
          "data": {
            "text/plain": [
              "Customer ID           0\n",
              "Gender                0\n",
              "Age                   0\n",
              "Income (USD/Month)    0\n",
              "dtype: int64"
            ]
          },
          "metadata": {
            "tags": []
          },
          "execution_count": 24
        }
      ]
    },
    {
      "cell_type": "code",
      "metadata": {
        "colab": {
          "base_uri": "https://localhost:8080/"
        },
        "id": "0QoMbuYrMDn1",
        "outputId": "4c328079-c4d0-4dcb-f669-d40d82804f58"
      },
      "source": [
        "customer.isnull().values.any()\n",
        "cab.isnull().values.any()\n",
        "city.isnull().values.any()\n",
        "trans.isnull().values.any()"
      ],
      "execution_count": 25,
      "outputs": [
        {
          "output_type": "execute_result",
          "data": {
            "text/plain": [
              "False"
            ]
          },
          "metadata": {
            "tags": []
          },
          "execution_count": 25
        }
      ]
    },
    {
      "cell_type": "markdown",
      "metadata": {
        "id": "zBfIB5drK6R5"
      },
      "source": [
        "\n",
        "#2.   Prepare the master data by merging the four datasets (cab,trans,customer and city)\n",
        "\n",
        "\n",
        "\n"
      ]
    },
    {
      "cell_type": "code",
      "metadata": {
        "colab": {
          "base_uri": "https://localhost:8080/",
          "height": 343
        },
        "id": "teB3qe_3MNyb",
        "outputId": "d9a3b306-b3f8-4fea-b52d-bc6a3f91134d"
      },
      "source": [
        "masterData= pd.merge(pd.merge(pd.merge(cab,trans),customer),city) \n",
        "masterData.head()\n"
      ],
      "execution_count": 26,
      "outputs": [
        {
          "output_type": "execute_result",
          "data": {
            "text/html": [
              "<div>\n",
              "<style scoped>\n",
              "    .dataframe tbody tr th:only-of-type {\n",
              "        vertical-align: middle;\n",
              "    }\n",
              "\n",
              "    .dataframe tbody tr th {\n",
              "        vertical-align: top;\n",
              "    }\n",
              "\n",
              "    .dataframe thead th {\n",
              "        text-align: right;\n",
              "    }\n",
              "</style>\n",
              "<table border=\"1\" class=\"dataframe\">\n",
              "  <thead>\n",
              "    <tr style=\"text-align: right;\">\n",
              "      <th></th>\n",
              "      <th>Transaction ID</th>\n",
              "      <th>Date of Travel</th>\n",
              "      <th>Company</th>\n",
              "      <th>City</th>\n",
              "      <th>KM Travelled</th>\n",
              "      <th>Price Charged</th>\n",
              "      <th>Cost of Trip</th>\n",
              "      <th>Customer ID</th>\n",
              "      <th>Payment_Mode</th>\n",
              "      <th>Gender</th>\n",
              "      <th>Age</th>\n",
              "      <th>Income (USD/Month)</th>\n",
              "      <th>Population</th>\n",
              "      <th>Users</th>\n",
              "    </tr>\n",
              "  </thead>\n",
              "  <tbody>\n",
              "    <tr>\n",
              "      <th>0</th>\n",
              "      <td>10000011</td>\n",
              "      <td>08/01/2016</td>\n",
              "      <td>Pink Cab</td>\n",
              "      <td>ATLANTA GA</td>\n",
              "      <td>30.45</td>\n",
              "      <td>370.95</td>\n",
              "      <td>313.635</td>\n",
              "      <td>29290</td>\n",
              "      <td>Card</td>\n",
              "      <td>Male</td>\n",
              "      <td>28</td>\n",
              "      <td>10813</td>\n",
              "      <td>814,885</td>\n",
              "      <td>24,701</td>\n",
              "    </tr>\n",
              "    <tr>\n",
              "      <th>1</th>\n",
              "      <td>10000012</td>\n",
              "      <td>06/01/2016</td>\n",
              "      <td>Pink Cab</td>\n",
              "      <td>ATLANTA GA</td>\n",
              "      <td>28.62</td>\n",
              "      <td>358.52</td>\n",
              "      <td>334.854</td>\n",
              "      <td>27703</td>\n",
              "      <td>Card</td>\n",
              "      <td>Male</td>\n",
              "      <td>27</td>\n",
              "      <td>9237</td>\n",
              "      <td>814,885</td>\n",
              "      <td>24,701</td>\n",
              "    </tr>\n",
              "    <tr>\n",
              "      <th>2</th>\n",
              "      <td>10000013</td>\n",
              "      <td>02/01/2016</td>\n",
              "      <td>Pink Cab</td>\n",
              "      <td>ATLANTA GA</td>\n",
              "      <td>9.04</td>\n",
              "      <td>125.20</td>\n",
              "      <td>97.632</td>\n",
              "      <td>28712</td>\n",
              "      <td>Cash</td>\n",
              "      <td>Male</td>\n",
              "      <td>53</td>\n",
              "      <td>11242</td>\n",
              "      <td>814,885</td>\n",
              "      <td>24,701</td>\n",
              "    </tr>\n",
              "    <tr>\n",
              "      <th>3</th>\n",
              "      <td>10000014</td>\n",
              "      <td>07/01/2016</td>\n",
              "      <td>Pink Cab</td>\n",
              "      <td>ATLANTA GA</td>\n",
              "      <td>33.17</td>\n",
              "      <td>377.40</td>\n",
              "      <td>351.602</td>\n",
              "      <td>28020</td>\n",
              "      <td>Cash</td>\n",
              "      <td>Male</td>\n",
              "      <td>23</td>\n",
              "      <td>23327</td>\n",
              "      <td>814,885</td>\n",
              "      <td>24,701</td>\n",
              "    </tr>\n",
              "    <tr>\n",
              "      <th>4</th>\n",
              "      <td>10000015</td>\n",
              "      <td>03/01/2016</td>\n",
              "      <td>Pink Cab</td>\n",
              "      <td>ATLANTA GA</td>\n",
              "      <td>8.73</td>\n",
              "      <td>114.62</td>\n",
              "      <td>97.776</td>\n",
              "      <td>27182</td>\n",
              "      <td>Card</td>\n",
              "      <td>Male</td>\n",
              "      <td>33</td>\n",
              "      <td>8536</td>\n",
              "      <td>814,885</td>\n",
              "      <td>24,701</td>\n",
              "    </tr>\n",
              "  </tbody>\n",
              "</table>\n",
              "</div>"
            ],
            "text/plain": [
              "   Transaction ID Date of Travel  ... Population     Users\n",
              "0        10000011     08/01/2016  ...   814,885    24,701 \n",
              "1        10000012     06/01/2016  ...   814,885    24,701 \n",
              "2        10000013     02/01/2016  ...   814,885    24,701 \n",
              "3        10000014     07/01/2016  ...   814,885    24,701 \n",
              "4        10000015     03/01/2016  ...   814,885    24,701 \n",
              "\n",
              "[5 rows x 14 columns]"
            ]
          },
          "metadata": {
            "tags": []
          },
          "execution_count": 26
        }
      ]
    },
    {
      "cell_type": "code",
      "metadata": {
        "colab": {
          "base_uri": "https://localhost:8080/"
        },
        "id": "rlXNpWaSMQAy",
        "outputId": "2b7ffa79-1684-48e7-e07f-97f488735e8e"
      },
      "source": [
        "masterData.info()\n",
        "masterData.isnull().sum()"
      ],
      "execution_count": 27,
      "outputs": [
        {
          "output_type": "stream",
          "text": [
            "<class 'pandas.core.frame.DataFrame'>\n",
            "Int64Index: 16381 entries, 0 to 16380\n",
            "Data columns (total 14 columns):\n",
            " #   Column              Non-Null Count  Dtype  \n",
            "---  ------              --------------  -----  \n",
            " 0   Transaction ID      16381 non-null  int64  \n",
            " 1   Date of Travel      16381 non-null  object \n",
            " 2   Company             16381 non-null  object \n",
            " 3   City                16381 non-null  object \n",
            " 4   KM Travelled        16381 non-null  float64\n",
            " 5   Price Charged       16380 non-null  float64\n",
            " 6   Cost of Trip        16380 non-null  float64\n",
            " 7   Customer ID         16381 non-null  int64  \n",
            " 8   Payment_Mode        16381 non-null  object \n",
            " 9   Gender              16381 non-null  object \n",
            " 10  Age                 16381 non-null  int64  \n",
            " 11  Income (USD/Month)  16381 non-null  int64  \n",
            " 12  Population          16381 non-null  object \n",
            " 13  Users               16381 non-null  object \n",
            "dtypes: float64(3), int64(4), object(7)\n",
            "memory usage: 1.9+ MB\n"
          ],
          "name": "stdout"
        },
        {
          "output_type": "execute_result",
          "data": {
            "text/plain": [
              "Transaction ID        0\n",
              "Date of Travel        0\n",
              "Company               0\n",
              "City                  0\n",
              "KM Travelled          0\n",
              "Price Charged         1\n",
              "Cost of Trip          1\n",
              "Customer ID           0\n",
              "Payment_Mode          0\n",
              "Gender                0\n",
              "Age                   0\n",
              "Income (USD/Month)    0\n",
              "Population            0\n",
              "Users                 0\n",
              "dtype: int64"
            ]
          },
          "metadata": {
            "tags": []
          },
          "execution_count": 27
        }
      ]
    },
    {
      "cell_type": "code",
      "metadata": {
        "id": "oq1w04fnMVI4"
      },
      "source": [
        "#replace the space in each column with '_'\n",
        "masterData.columns=masterData.columns.str.strip().str.lower().str.replace(' ', '_')"
      ],
      "execution_count": 28,
      "outputs": []
    },
    {
      "cell_type": "code",
      "metadata": {
        "colab": {
          "base_uri": "https://localhost:8080/",
          "height": 309
        },
        "id": "ACf4-I08YkJv",
        "outputId": "c88cf55d-ea1f-455a-f623-6deda400a5a9"
      },
      "source": [
        "masterData.head()"
      ],
      "execution_count": 29,
      "outputs": [
        {
          "output_type": "execute_result",
          "data": {
            "text/html": [
              "<div>\n",
              "<style scoped>\n",
              "    .dataframe tbody tr th:only-of-type {\n",
              "        vertical-align: middle;\n",
              "    }\n",
              "\n",
              "    .dataframe tbody tr th {\n",
              "        vertical-align: top;\n",
              "    }\n",
              "\n",
              "    .dataframe thead th {\n",
              "        text-align: right;\n",
              "    }\n",
              "</style>\n",
              "<table border=\"1\" class=\"dataframe\">\n",
              "  <thead>\n",
              "    <tr style=\"text-align: right;\">\n",
              "      <th></th>\n",
              "      <th>transaction_id</th>\n",
              "      <th>date_of_travel</th>\n",
              "      <th>company</th>\n",
              "      <th>city</th>\n",
              "      <th>km_travelled</th>\n",
              "      <th>price_charged</th>\n",
              "      <th>cost_of_trip</th>\n",
              "      <th>customer_id</th>\n",
              "      <th>payment_mode</th>\n",
              "      <th>gender</th>\n",
              "      <th>age</th>\n",
              "      <th>income_(usd/month)</th>\n",
              "      <th>population</th>\n",
              "      <th>users</th>\n",
              "    </tr>\n",
              "  </thead>\n",
              "  <tbody>\n",
              "    <tr>\n",
              "      <th>0</th>\n",
              "      <td>10000011</td>\n",
              "      <td>08/01/2016</td>\n",
              "      <td>Pink Cab</td>\n",
              "      <td>ATLANTA GA</td>\n",
              "      <td>30.45</td>\n",
              "      <td>370.95</td>\n",
              "      <td>313.635</td>\n",
              "      <td>29290</td>\n",
              "      <td>Card</td>\n",
              "      <td>Male</td>\n",
              "      <td>28</td>\n",
              "      <td>10813</td>\n",
              "      <td>814,885</td>\n",
              "      <td>24,701</td>\n",
              "    </tr>\n",
              "    <tr>\n",
              "      <th>1</th>\n",
              "      <td>10000012</td>\n",
              "      <td>06/01/2016</td>\n",
              "      <td>Pink Cab</td>\n",
              "      <td>ATLANTA GA</td>\n",
              "      <td>28.62</td>\n",
              "      <td>358.52</td>\n",
              "      <td>334.854</td>\n",
              "      <td>27703</td>\n",
              "      <td>Card</td>\n",
              "      <td>Male</td>\n",
              "      <td>27</td>\n",
              "      <td>9237</td>\n",
              "      <td>814,885</td>\n",
              "      <td>24,701</td>\n",
              "    </tr>\n",
              "    <tr>\n",
              "      <th>2</th>\n",
              "      <td>10000013</td>\n",
              "      <td>02/01/2016</td>\n",
              "      <td>Pink Cab</td>\n",
              "      <td>ATLANTA GA</td>\n",
              "      <td>9.04</td>\n",
              "      <td>125.20</td>\n",
              "      <td>97.632</td>\n",
              "      <td>28712</td>\n",
              "      <td>Cash</td>\n",
              "      <td>Male</td>\n",
              "      <td>53</td>\n",
              "      <td>11242</td>\n",
              "      <td>814,885</td>\n",
              "      <td>24,701</td>\n",
              "    </tr>\n",
              "    <tr>\n",
              "      <th>3</th>\n",
              "      <td>10000014</td>\n",
              "      <td>07/01/2016</td>\n",
              "      <td>Pink Cab</td>\n",
              "      <td>ATLANTA GA</td>\n",
              "      <td>33.17</td>\n",
              "      <td>377.40</td>\n",
              "      <td>351.602</td>\n",
              "      <td>28020</td>\n",
              "      <td>Cash</td>\n",
              "      <td>Male</td>\n",
              "      <td>23</td>\n",
              "      <td>23327</td>\n",
              "      <td>814,885</td>\n",
              "      <td>24,701</td>\n",
              "    </tr>\n",
              "    <tr>\n",
              "      <th>4</th>\n",
              "      <td>10000015</td>\n",
              "      <td>03/01/2016</td>\n",
              "      <td>Pink Cab</td>\n",
              "      <td>ATLANTA GA</td>\n",
              "      <td>8.73</td>\n",
              "      <td>114.62</td>\n",
              "      <td>97.776</td>\n",
              "      <td>27182</td>\n",
              "      <td>Card</td>\n",
              "      <td>Male</td>\n",
              "      <td>33</td>\n",
              "      <td>8536</td>\n",
              "      <td>814,885</td>\n",
              "      <td>24,701</td>\n",
              "    </tr>\n",
              "  </tbody>\n",
              "</table>\n",
              "</div>"
            ],
            "text/plain": [
              "   transaction_id date_of_travel  ... population     users\n",
              "0        10000011     08/01/2016  ...   814,885    24,701 \n",
              "1        10000012     06/01/2016  ...   814,885    24,701 \n",
              "2        10000013     02/01/2016  ...   814,885    24,701 \n",
              "3        10000014     07/01/2016  ...   814,885    24,701 \n",
              "4        10000015     03/01/2016  ...   814,885    24,701 \n",
              "\n",
              "[5 rows x 14 columns]"
            ]
          },
          "metadata": {
            "tags": []
          },
          "execution_count": 29
        }
      ]
    },
    {
      "cell_type": "code",
      "metadata": {
        "colab": {
          "base_uri": "https://localhost:8080/"
        },
        "id": "LeAPR9eaqFrB",
        "outputId": "9bd2eea1-408c-42a9-8ca1-46432a141a93"
      },
      "source": [
        "masterData.shape"
      ],
      "execution_count": 30,
      "outputs": [
        {
          "output_type": "execute_result",
          "data": {
            "text/plain": [
              "(16381, 14)"
            ]
          },
          "metadata": {
            "tags": []
          },
          "execution_count": 30
        }
      ]
    },
    {
      "cell_type": "markdown",
      "metadata": {
        "id": "tOVYZVH3OhK-"
      },
      "source": [
        "#3. Add new columns\n"
      ]
    },
    {
      "cell_type": "code",
      "metadata": {
        "id": "cyM1uWJVMiFS"
      },
      "source": [
        "#Adding new columns\n",
        "#Extracting the day,weekday, month and the year from the date of travel\n",
        "masterData['day'] = pd.DatetimeIndex(masterData[\"date_of_travel\"]).day\n",
        "masterData['Weekday'] = pd.DatetimeIndex(masterData[\"date_of_travel\"]).weekday\n",
        "masterData['month'] = pd.DatetimeIndex(masterData[\"date_of_travel\"]).month\n",
        "masterData['year'] = pd.DatetimeIndex(masterData[\"date_of_travel\"]).year\n"
      ],
      "execution_count": 31,
      "outputs": []
    },
    {
      "cell_type": "code",
      "metadata": {
        "id": "dnuRrl-GZjqU"
      },
      "source": [
        "#The Profit per one Trip which is the Differnce between Price Charged and Cost of trip\n",
        "masterData['profit_per_one_trip'] = masterData['price_charged'] - masterData['cost_of_trip']\n",
        "\n",
        "#The Profit per kilometre\n",
        "masterData['profit_per_km'] = masterData['profit_per_one_trip'] / masterData['km_travelled']  \n",
        "\n",
        "# Price Per kilometer Travelled\n",
        "masterData[\"price_per_km\"]= masterData[\"price_charged\"] / masterData[\"km_travelled\"]\n",
        "\n",
        "#Cost Per Kilometer Travelled \n",
        "masterData[\"cost_per_km\"]= masterData[\"cost_of_trip\"] / masterData[\"km_travelled\"]\n",
        "#Profit Per year\n",
        "#masterData[\"profit_per_year\"]= masterData[\"profit_per_one_trip\"] / masterData[\"year\"]\n"
      ],
      "execution_count": 32,
      "outputs": []
    },
    {
      "cell_type": "code",
      "metadata": {
        "colab": {
          "base_uri": "https://localhost:8080/",
          "height": 213
        },
        "id": "GehVCFVEMn-m",
        "outputId": "6cab90cf-a6d7-4a02-99b8-7cf66c76c032"
      },
      "source": [
        "# View the dataset\n",
        "masterData.head(3)"
      ],
      "execution_count": 33,
      "outputs": [
        {
          "output_type": "execute_result",
          "data": {
            "text/html": [
              "<div>\n",
              "<style scoped>\n",
              "    .dataframe tbody tr th:only-of-type {\n",
              "        vertical-align: middle;\n",
              "    }\n",
              "\n",
              "    .dataframe tbody tr th {\n",
              "        vertical-align: top;\n",
              "    }\n",
              "\n",
              "    .dataframe thead th {\n",
              "        text-align: right;\n",
              "    }\n",
              "</style>\n",
              "<table border=\"1\" class=\"dataframe\">\n",
              "  <thead>\n",
              "    <tr style=\"text-align: right;\">\n",
              "      <th></th>\n",
              "      <th>transaction_id</th>\n",
              "      <th>date_of_travel</th>\n",
              "      <th>company</th>\n",
              "      <th>city</th>\n",
              "      <th>km_travelled</th>\n",
              "      <th>price_charged</th>\n",
              "      <th>cost_of_trip</th>\n",
              "      <th>customer_id</th>\n",
              "      <th>payment_mode</th>\n",
              "      <th>gender</th>\n",
              "      <th>age</th>\n",
              "      <th>income_(usd/month)</th>\n",
              "      <th>population</th>\n",
              "      <th>users</th>\n",
              "      <th>day</th>\n",
              "      <th>Weekday</th>\n",
              "      <th>month</th>\n",
              "      <th>year</th>\n",
              "      <th>profit_per_one_trip</th>\n",
              "      <th>profit_per_km</th>\n",
              "      <th>price_per_km</th>\n",
              "      <th>cost_per_km</th>\n",
              "    </tr>\n",
              "  </thead>\n",
              "  <tbody>\n",
              "    <tr>\n",
              "      <th>0</th>\n",
              "      <td>10000011</td>\n",
              "      <td>08/01/2016</td>\n",
              "      <td>Pink Cab</td>\n",
              "      <td>ATLANTA GA</td>\n",
              "      <td>30.45</td>\n",
              "      <td>370.95</td>\n",
              "      <td>313.635</td>\n",
              "      <td>29290</td>\n",
              "      <td>Card</td>\n",
              "      <td>Male</td>\n",
              "      <td>28</td>\n",
              "      <td>10813</td>\n",
              "      <td>814,885</td>\n",
              "      <td>24,701</td>\n",
              "      <td>1</td>\n",
              "      <td>0</td>\n",
              "      <td>8</td>\n",
              "      <td>2016</td>\n",
              "      <td>57.315</td>\n",
              "      <td>1.882266</td>\n",
              "      <td>12.182266</td>\n",
              "      <td>10.3</td>\n",
              "    </tr>\n",
              "    <tr>\n",
              "      <th>1</th>\n",
              "      <td>10000012</td>\n",
              "      <td>06/01/2016</td>\n",
              "      <td>Pink Cab</td>\n",
              "      <td>ATLANTA GA</td>\n",
              "      <td>28.62</td>\n",
              "      <td>358.52</td>\n",
              "      <td>334.854</td>\n",
              "      <td>27703</td>\n",
              "      <td>Card</td>\n",
              "      <td>Male</td>\n",
              "      <td>27</td>\n",
              "      <td>9237</td>\n",
              "      <td>814,885</td>\n",
              "      <td>24,701</td>\n",
              "      <td>1</td>\n",
              "      <td>2</td>\n",
              "      <td>6</td>\n",
              "      <td>2016</td>\n",
              "      <td>23.666</td>\n",
              "      <td>0.826904</td>\n",
              "      <td>12.526904</td>\n",
              "      <td>11.7</td>\n",
              "    </tr>\n",
              "    <tr>\n",
              "      <th>2</th>\n",
              "      <td>10000013</td>\n",
              "      <td>02/01/2016</td>\n",
              "      <td>Pink Cab</td>\n",
              "      <td>ATLANTA GA</td>\n",
              "      <td>9.04</td>\n",
              "      <td>125.20</td>\n",
              "      <td>97.632</td>\n",
              "      <td>28712</td>\n",
              "      <td>Cash</td>\n",
              "      <td>Male</td>\n",
              "      <td>53</td>\n",
              "      <td>11242</td>\n",
              "      <td>814,885</td>\n",
              "      <td>24,701</td>\n",
              "      <td>1</td>\n",
              "      <td>0</td>\n",
              "      <td>2</td>\n",
              "      <td>2016</td>\n",
              "      <td>27.568</td>\n",
              "      <td>3.049558</td>\n",
              "      <td>13.849558</td>\n",
              "      <td>10.8</td>\n",
              "    </tr>\n",
              "  </tbody>\n",
              "</table>\n",
              "</div>"
            ],
            "text/plain": [
              "   transaction_id date_of_travel  ... price_per_km cost_per_km\n",
              "0        10000011     08/01/2016  ...    12.182266        10.3\n",
              "1        10000012     06/01/2016  ...    12.526904        11.7\n",
              "2        10000013     02/01/2016  ...    13.849558        10.8\n",
              "\n",
              "[3 rows x 22 columns]"
            ]
          },
          "metadata": {
            "tags": []
          },
          "execution_count": 33
        }
      ]
    },
    {
      "cell_type": "markdown",
      "metadata": {
        "id": "pMf8L8GnPDBF"
      },
      "source": [
        "#4. Exploratory Data Analysis"
      ]
    },
    {
      "cell_type": "markdown",
      "metadata": {
        "id": "YImNCy0AaBnp"
      },
      "source": [
        "Descriptive statistics for master Data"
      ]
    },
    {
      "cell_type": "code",
      "metadata": {
        "colab": {
          "base_uri": "https://localhost:8080/",
          "height": 317
        },
        "id": "Rd3wGe6sSqz4",
        "outputId": "7ded4138-7a2e-4fff-a4c5-39c3798bd061"
      },
      "source": [
        "masterData.describe()"
      ],
      "execution_count": 34,
      "outputs": [
        {
          "output_type": "execute_result",
          "data": {
            "text/html": [
              "<div>\n",
              "<style scoped>\n",
              "    .dataframe tbody tr th:only-of-type {\n",
              "        vertical-align: middle;\n",
              "    }\n",
              "\n",
              "    .dataframe tbody tr th {\n",
              "        vertical-align: top;\n",
              "    }\n",
              "\n",
              "    .dataframe thead th {\n",
              "        text-align: right;\n",
              "    }\n",
              "</style>\n",
              "<table border=\"1\" class=\"dataframe\">\n",
              "  <thead>\n",
              "    <tr style=\"text-align: right;\">\n",
              "      <th></th>\n",
              "      <th>transaction_id</th>\n",
              "      <th>km_travelled</th>\n",
              "      <th>price_charged</th>\n",
              "      <th>cost_of_trip</th>\n",
              "      <th>customer_id</th>\n",
              "      <th>age</th>\n",
              "      <th>income_(usd/month)</th>\n",
              "      <th>day</th>\n",
              "      <th>Weekday</th>\n",
              "      <th>month</th>\n",
              "      <th>year</th>\n",
              "      <th>profit_per_one_trip</th>\n",
              "      <th>profit_per_km</th>\n",
              "      <th>price_per_km</th>\n",
              "      <th>cost_per_km</th>\n",
              "    </tr>\n",
              "  </thead>\n",
              "  <tbody>\n",
              "    <tr>\n",
              "      <th>count</th>\n",
              "      <td>1.638100e+04</td>\n",
              "      <td>16381.000000</td>\n",
              "      <td>16380.000000</td>\n",
              "      <td>16380.000000</td>\n",
              "      <td>16381.000000</td>\n",
              "      <td>16381.000000</td>\n",
              "      <td>16381.000000</td>\n",
              "      <td>16381.000000</td>\n",
              "      <td>16381.000000</td>\n",
              "      <td>16381.000000</td>\n",
              "      <td>16381.0</td>\n",
              "      <td>16380.000000</td>\n",
              "      <td>16380.000000</td>\n",
              "      <td>16380.000000</td>\n",
              "      <td>16380.000000</td>\n",
              "    </tr>\n",
              "    <tr>\n",
              "      <th>mean</th>\n",
              "      <td>1.001045e+07</td>\n",
              "      <td>22.656807</td>\n",
              "      <td>465.797951</td>\n",
              "      <td>288.952424</td>\n",
              "      <td>20946.355961</td>\n",
              "      <td>35.481533</td>\n",
              "      <td>15085.982602</td>\n",
              "      <td>13.959343</td>\n",
              "      <td>3.679812</td>\n",
              "      <td>3.884745</td>\n",
              "      <td>2016.0</td>\n",
              "      <td>176.845527</td>\n",
              "      <td>7.790468</td>\n",
              "      <td>20.543542</td>\n",
              "      <td>12.753074</td>\n",
              "    </tr>\n",
              "    <tr>\n",
              "      <th>std</th>\n",
              "      <td>6.012641e+03</td>\n",
              "      <td>12.261866</td>\n",
              "      <td>307.400769</td>\n",
              "      <td>158.974927</td>\n",
              "      <td>21849.836415</td>\n",
              "      <td>12.593581</td>\n",
              "      <td>8033.626824</td>\n",
              "      <td>10.183880</td>\n",
              "      <td>1.973784</td>\n",
              "      <td>3.179878</td>\n",
              "      <td>0.0</td>\n",
              "      <td>192.627250</td>\n",
              "      <td>6.463212</td>\n",
              "      <td>6.785097</td>\n",
              "      <td>1.131453</td>\n",
              "    </tr>\n",
              "    <tr>\n",
              "      <th>min</th>\n",
              "      <td>1.000001e+07</td>\n",
              "      <td>1.900000</td>\n",
              "      <td>16.380000</td>\n",
              "      <td>19.200000</td>\n",
              "      <td>1.000000</td>\n",
              "      <td>18.000000</td>\n",
              "      <td>2004.000000</td>\n",
              "      <td>1.000000</td>\n",
              "      <td>0.000000</td>\n",
              "      <td>1.000000</td>\n",
              "      <td>2016.0</td>\n",
              "      <td>-150.380000</td>\n",
              "      <td>-4.551020</td>\n",
              "      <td>6.767944</td>\n",
              "      <td>10.000000</td>\n",
              "    </tr>\n",
              "    <tr>\n",
              "      <th>25%</th>\n",
              "      <td>1.000515e+07</td>\n",
              "      <td>12.000000</td>\n",
              "      <td>220.805000</td>\n",
              "      <td>151.800000</td>\n",
              "      <td>3253.000000</td>\n",
              "      <td>25.000000</td>\n",
              "      <td>8362.000000</td>\n",
              "      <td>3.000000</td>\n",
              "      <td>2.000000</td>\n",
              "      <td>2.000000</td>\n",
              "      <td>2016.0</td>\n",
              "      <td>41.655300</td>\n",
              "      <td>2.965079</td>\n",
              "      <td>15.519659</td>\n",
              "      <td>12.120000</td>\n",
              "    </tr>\n",
              "    <tr>\n",
              "      <th>50%</th>\n",
              "      <td>1.001032e+07</td>\n",
              "      <td>22.660000</td>\n",
              "      <td>420.350000</td>\n",
              "      <td>288.014400</td>\n",
              "      <td>7817.000000</td>\n",
              "      <td>33.000000</td>\n",
              "      <td>14844.000000</td>\n",
              "      <td>16.000000</td>\n",
              "      <td>4.000000</td>\n",
              "      <td>3.000000</td>\n",
              "      <td>2016.0</td>\n",
              "      <td>111.521000</td>\n",
              "      <td>5.884530</td>\n",
              "      <td>18.693624</td>\n",
              "      <td>12.840000</td>\n",
              "    </tr>\n",
              "    <tr>\n",
              "      <th>75%</th>\n",
              "      <td>1.001560e+07</td>\n",
              "      <td>32.960000</td>\n",
              "      <td>643.182500</td>\n",
              "      <td>418.650500</td>\n",
              "      <td>50335.000000</td>\n",
              "      <td>42.000000</td>\n",
              "      <td>21037.000000</td>\n",
              "      <td>23.000000</td>\n",
              "      <td>5.000000</td>\n",
              "      <td>6.000000</td>\n",
              "      <td>2016.0</td>\n",
              "      <td>244.129500</td>\n",
              "      <td>11.604303</td>\n",
              "      <td>24.717036</td>\n",
              "      <td>13.680000</td>\n",
              "    </tr>\n",
              "    <tr>\n",
              "      <th>max</th>\n",
              "      <td>1.002084e+07</td>\n",
              "      <td>48.000000</td>\n",
              "      <td>1978.790000</td>\n",
              "      <td>685.440000</td>\n",
              "      <td>60000.000000</td>\n",
              "      <td>65.000000</td>\n",
              "      <td>34996.000000</td>\n",
              "      <td>31.000000</td>\n",
              "      <td>6.000000</td>\n",
              "      <td>12.000000</td>\n",
              "      <td>2016.0</td>\n",
              "      <td>1327.622000</td>\n",
              "      <td>29.974427</td>\n",
              "      <td>42.995830</td>\n",
              "      <td>14.400000</td>\n",
              "    </tr>\n",
              "  </tbody>\n",
              "</table>\n",
              "</div>"
            ],
            "text/plain": [
              "       transaction_id  km_travelled  ...  price_per_km   cost_per_km\n",
              "count    1.638100e+04  16381.000000  ...  16380.000000  16380.000000\n",
              "mean     1.001045e+07     22.656807  ...     20.543542     12.753074\n",
              "std      6.012641e+03     12.261866  ...      6.785097      1.131453\n",
              "min      1.000001e+07      1.900000  ...      6.767944     10.000000\n",
              "25%      1.000515e+07     12.000000  ...     15.519659     12.120000\n",
              "50%      1.001032e+07     22.660000  ...     18.693624     12.840000\n",
              "75%      1.001560e+07     32.960000  ...     24.717036     13.680000\n",
              "max      1.002084e+07     48.000000  ...     42.995830     14.400000\n",
              "\n",
              "[8 rows x 15 columns]"
            ]
          },
          "metadata": {
            "tags": []
          },
          "execution_count": 34
        }
      ]
    },
    {
      "cell_type": "markdown",
      "metadata": {
        "id": "nu8Sw-Yzq8jP"
      },
      "source": [
        "It display valid values"
      ]
    },
    {
      "cell_type": "markdown",
      "metadata": {
        "id": "0gBcxnGfrR-_"
      },
      "source": [
        "Check if exist duplicate rows "
      ]
    },
    {
      "cell_type": "code",
      "metadata": {
        "colab": {
          "base_uri": "https://localhost:8080/",
          "height": 69
        },
        "id": "j7UnX9unrV73",
        "outputId": "0abcb47b-82fb-497a-f806-b2bde8cabf27"
      },
      "source": [
        "Checkduplicate = masterData[masterData.duplicated()]\n",
        "Checkduplicate"
      ],
      "execution_count": 35,
      "outputs": [
        {
          "output_type": "execute_result",
          "data": {
            "text/html": [
              "<div>\n",
              "<style scoped>\n",
              "    .dataframe tbody tr th:only-of-type {\n",
              "        vertical-align: middle;\n",
              "    }\n",
              "\n",
              "    .dataframe tbody tr th {\n",
              "        vertical-align: top;\n",
              "    }\n",
              "\n",
              "    .dataframe thead th {\n",
              "        text-align: right;\n",
              "    }\n",
              "</style>\n",
              "<table border=\"1\" class=\"dataframe\">\n",
              "  <thead>\n",
              "    <tr style=\"text-align: right;\">\n",
              "      <th></th>\n",
              "      <th>transaction_id</th>\n",
              "      <th>date_of_travel</th>\n",
              "      <th>company</th>\n",
              "      <th>city</th>\n",
              "      <th>km_travelled</th>\n",
              "      <th>price_charged</th>\n",
              "      <th>cost_of_trip</th>\n",
              "      <th>customer_id</th>\n",
              "      <th>payment_mode</th>\n",
              "      <th>gender</th>\n",
              "      <th>age</th>\n",
              "      <th>income_(usd/month)</th>\n",
              "      <th>population</th>\n",
              "      <th>users</th>\n",
              "      <th>day</th>\n",
              "      <th>Weekday</th>\n",
              "      <th>month</th>\n",
              "      <th>year</th>\n",
              "      <th>profit_per_one_trip</th>\n",
              "      <th>profit_per_km</th>\n",
              "      <th>price_per_km</th>\n",
              "      <th>cost_per_km</th>\n",
              "    </tr>\n",
              "  </thead>\n",
              "  <tbody>\n",
              "  </tbody>\n",
              "</table>\n",
              "</div>"
            ],
            "text/plain": [
              "Empty DataFrame\n",
              "Columns: [transaction_id, date_of_travel, company, city, km_travelled, price_charged, cost_of_trip, customer_id, payment_mode, gender, age, income_(usd/month), population, users, day, Weekday, month, year, profit_per_one_trip, profit_per_km, price_per_km, cost_per_km]\n",
              "Index: []"
            ]
          },
          "metadata": {
            "tags": []
          },
          "execution_count": 35
        }
      ]
    },
    {
      "cell_type": "markdown",
      "metadata": {
        "id": "GEsUHuJArg7W"
      },
      "source": [
        "It doesn't contain any duplicate rows"
      ]
    },
    {
      "cell_type": "markdown",
      "metadata": {
        "id": "BadqRKUjeBao"
      },
      "source": [
        "#5. Data visualization of features"
      ]
    },
    {
      "cell_type": "code",
      "metadata": {
        "colab": {
          "base_uri": "https://localhost:8080/",
          "height": 941
        },
        "id": "U_7KJpIDd-0i",
        "outputId": "25dd63ec-31a6-4a4c-fe6d-f24a35a2a496"
      },
      "source": [
        "#Data Visualization¶\n",
        "numericValues = masterData.select_dtypes(include=['float'])\n",
        "numericValues.hist(figsize=(11,13))"
      ],
      "execution_count": 36,
      "outputs": [
        {
          "output_type": "execute_result",
          "data": {
            "text/plain": [
              "array([[<matplotlib.axes._subplots.AxesSubplot object at 0x7fc94b27ab10>,\n",
              "        <matplotlib.axes._subplots.AxesSubplot object at 0x7fc94b25a290>,\n",
              "        <matplotlib.axes._subplots.AxesSubplot object at 0x7fc94b20e910>],\n",
              "       [<matplotlib.axes._subplots.AxesSubplot object at 0x7fc94b1c4f90>,\n",
              "        <matplotlib.axes._subplots.AxesSubplot object at 0x7fc94b184650>,\n",
              "        <matplotlib.axes._subplots.AxesSubplot object at 0x7fc94b13bcd0>],\n",
              "       [<matplotlib.axes._subplots.AxesSubplot object at 0x7fc94b0fc410>,\n",
              "        <matplotlib.axes._subplots.AxesSubplot object at 0x7fc94b0b29d0>,\n",
              "        <matplotlib.axes._subplots.AxesSubplot object at 0x7fc94b0b2a10>]],\n",
              "      dtype=object)"
            ]
          },
          "metadata": {
            "tags": []
          },
          "execution_count": 36
        },
        {
          "output_type": "display_data",
          "data": {
            "image/png": "[encoded data removed]",
            "text/plain": [
              "<Figure size 792x936 with 9 Axes>"
            ]
          },
          "metadata": {
            "tags": [],
            "needs_background": "light"
          }
        }
      ]
    },
    {
      "cell_type": "code",
      "metadata": {
        "colab": {
          "base_uri": "https://localhost:8080/",
          "height": 242
        },
        "id": "MA-U3cZ3eSiq",
        "outputId": "6d52ba74-461e-4bd2-e533-5dabe1d94dd1"
      },
      "source": [
        "categoricValues = masterData.select_dtypes(include=['object'])\n",
        "plt.figure(figsize=(11,3))\n",
        "sns.countplot(data=categoricValues, x='company')"
      ],
      "execution_count": 37,
      "outputs": [
        {
          "output_type": "execute_result",
          "data": {
            "text/plain": [
              "<matplotlib.axes._subplots.AxesSubplot at 0x7fc94c7b5610>"
            ]
          },
          "metadata": {
            "tags": []
          },
          "execution_count": 37
        },
        {
          "output_type": "display_data",
          "data": {
            "image/png": "[encoded data removed]",
            "text/plain": [
              "<Figure size 792x216 with 1 Axes>"
            ]
          },
          "metadata": {
            "tags": [],
            "needs_background": "light"
          }
        }
      ]
    },
    {
      "cell_type": "markdown",
      "metadata": {
        "id": "RDQN29Cruidv"
      },
      "source": [
        "Yellow cab company is in high demand more than twice as much as the Pink cab"
      ]
    },
    {
      "cell_type": "code",
      "metadata": {
        "colab": {
          "base_uri": "https://localhost:8080/",
          "height": 265
        },
        "id": "z4k08L8beide",
        "outputId": "a2234269-e83b-4415-b0e0-23f87fa228a6"
      },
      "source": [
        "masterData['gender'].value_counts().plot.barh();"
      ],
      "execution_count": 38,
      "outputs": [
        {
          "output_type": "display_data",
          "data": {
            "image/png": "[encoded data removed]",
            "text/plain": [
              "<Figure size 432x288 with 1 Axes>"
            ]
          },
          "metadata": {
            "tags": [],
            "needs_background": "light"
          }
        }
      ]
    },
    {
      "cell_type": "code",
      "metadata": {
        "colab": {
          "base_uri": "https://localhost:8080/",
          "height": 265
        },
        "id": "_SLBOzqpezBS",
        "outputId": "3f542b58-2a3a-4859-bdf6-fc4e4efc09f1"
      },
      "source": [
        "masterData['payment_mode'].value_counts().plot.barh();"
      ],
      "execution_count": 39,
      "outputs": [
        {
          "output_type": "display_data",
          "data": {
            "image/png": "[encoded data removed]",
            "text/plain": [
              "<Figure size 432x288 with 1 Axes>"
            ]
          },
          "metadata": {
            "tags": [],
            "needs_background": "light"
          }
        }
      ]
    },
    {
      "cell_type": "markdown",
      "metadata": {
        "id": "6xYd-zkov-ZP"
      },
      "source": [
        "The card payment method is more used than cash"
      ]
    },
    {
      "cell_type": "code",
      "metadata": {
        "colab": {
          "base_uri": "https://localhost:8080/",
          "height": 265
        },
        "id": "trIwJe0hwXdd",
        "outputId": "cc00aee8-5270-4511-b59a-5892c52f86ee"
      },
      "source": [
        "masterData['city'].value_counts().plot.barh();"
      ],
      "execution_count": 40,
      "outputs": [
        {
          "output_type": "display_data",
          "data": {
            "image/png": "[encoded data removed]",
            "text/plain": [
              "<Figure size 432x288 with 1 Axes>"
            ]
          },
          "metadata": {
            "tags": [],
            "needs_background": "light"
          }
        }
      ]
    },
    {
      "cell_type": "markdown",
      "metadata": {
        "id": "ZghHg_kJRXCj"
      },
      "source": [
        "6. Data Connections"
      ]
    },
    {
      "cell_type": "code",
      "metadata": {
        "colab": {
          "base_uri": "https://localhost:8080/"
        },
        "id": "pakzoVu-MvBd",
        "outputId": "313ae896-250e-4219-80ff-f72328ad74de"
      },
      "source": [
        "masterData['km_travelled'] = pd.to_numeric(masterData['km_travelled'], errors='coerce')\n",
        "masterData['price_charged'] = pd.to_numeric(masterData['price_charged'], errors='coerce')\n",
        "masterData['cost_of_trip'] = pd.to_numeric(masterData['cost_of_trip'], errors='coerce')\n",
        "masterData['age'] = pd.to_numeric(masterData['age'], errors='coerce')\n",
        "masterData['income_(usd/month)'] = pd.to_numeric(masterData['income_(usd/month)'], errors='coerce')\n",
        "#save the master data\n",
        "masterData.to_csv('masterData.csv', sep=';')\n",
        "masterData=pd.read_csv(\"masterData.csv\" , sep=';')\n",
        "masterData.head(3)\n",
        "masterData.info()"
      ],
      "execution_count": 41,
      "outputs": [
        {
          "output_type": "stream",
          "text": [
            "<class 'pandas.core.frame.DataFrame'>\n",
            "RangeIndex: 16381 entries, 0 to 16380\n",
            "Data columns (total 23 columns):\n",
            " #   Column               Non-Null Count  Dtype  \n",
            "---  ------               --------------  -----  \n",
            " 0   Unnamed: 0           16381 non-null  int64  \n",
            " 1   transaction_id       16381 non-null  int64  \n",
            " 2   date_of_travel       16381 non-null  object \n",
            " 3   company              16381 non-null  object \n",
            " 4   city                 16381 non-null  object \n",
            " 5   km_travelled         16381 non-null  float64\n",
            " 6   price_charged        16380 non-null  float64\n",
            " 7   cost_of_trip         16380 non-null  float64\n",
            " 8   customer_id          16381 non-null  int64  \n",
            " 9   payment_mode         16381 non-null  object \n",
            " 10  gender               16381 non-null  object \n",
            " 11  age                  16381 non-null  int64  \n",
            " 12  income_(usd/month)   16381 non-null  int64  \n",
            " 13  population           16381 non-null  object \n",
            " 14  users                16381 non-null  object \n",
            " 15  day                  16381 non-null  int64  \n",
            " 16  Weekday              16381 non-null  int64  \n",
            " 17  month                16381 non-null  int64  \n",
            " 18  year                 16381 non-null  int64  \n",
            " 19  profit_per_one_trip  16380 non-null  float64\n",
            " 20  profit_per_km        16380 non-null  float64\n",
            " 21  price_per_km         16380 non-null  float64\n",
            " 22  cost_per_km          16380 non-null  float64\n",
            "dtypes: float64(7), int64(9), object(7)\n",
            "memory usage: 2.9+ MB\n"
          ],
          "name": "stdout"
        }
      ]
    },
    {
      "cell_type": "markdown",
      "metadata": {
        "id": "nJzZWHjnAJVJ"
      },
      "source": [
        "**City analysis**"
      ]
    },
    {
      "cell_type": "code",
      "metadata": {
        "colab": {
          "base_uri": "https://localhost:8080/",
          "height": 669
        },
        "id": "t133SMvUzVXl",
        "outputId": "cae37720-5573-48c8-e5b7-e50c3d3b5fad"
      },
      "source": [
        "city_grp = masterData.groupby('city')\n",
        "city_grp['company'].value_counts().unstack()"
      ],
      "execution_count": 42,
      "outputs": [
        {
          "output_type": "execute_result",
          "data": {
            "text/html": [
              "<div>\n",
              "<style scoped>\n",
              "    .dataframe tbody tr th:only-of-type {\n",
              "        vertical-align: middle;\n",
              "    }\n",
              "\n",
              "    .dataframe tbody tr th {\n",
              "        vertical-align: top;\n",
              "    }\n",
              "\n",
              "    .dataframe thead th {\n",
              "        text-align: right;\n",
              "    }\n",
              "</style>\n",
              "<table border=\"1\" class=\"dataframe\">\n",
              "  <thead>\n",
              "    <tr style=\"text-align: right;\">\n",
              "      <th>company</th>\n",
              "      <th>Pink Cab</th>\n",
              "      <th>Yellow Cab</th>\n",
              "    </tr>\n",
              "    <tr>\n",
              "      <th>city</th>\n",
              "      <th></th>\n",
              "      <th></th>\n",
              "    </tr>\n",
              "  </thead>\n",
              "  <tbody>\n",
              "    <tr>\n",
              "      <th>ATLANTA GA</th>\n",
              "      <td>74</td>\n",
              "      <td>258</td>\n",
              "    </tr>\n",
              "    <tr>\n",
              "      <th>AUSTIN TX</th>\n",
              "      <td>29</td>\n",
              "      <td>96</td>\n",
              "    </tr>\n",
              "    <tr>\n",
              "      <th>BOSTON MA</th>\n",
              "      <td>248</td>\n",
              "      <td>1408</td>\n",
              "    </tr>\n",
              "    <tr>\n",
              "      <th>CHICAGO IL</th>\n",
              "      <td>412</td>\n",
              "      <td>2642</td>\n",
              "    </tr>\n",
              "    <tr>\n",
              "      <th>DALLAS TX</th>\n",
              "      <td>78</td>\n",
              "      <td>270</td>\n",
              "    </tr>\n",
              "    <tr>\n",
              "      <th>DENVER CO</th>\n",
              "      <td>50</td>\n",
              "      <td>107</td>\n",
              "    </tr>\n",
              "    <tr>\n",
              "      <th>LOS ANGELES CA</th>\n",
              "      <td>816</td>\n",
              "      <td>1377</td>\n",
              "    </tr>\n",
              "    <tr>\n",
              "      <th>MIAMI FL</th>\n",
              "      <td>62</td>\n",
              "      <td>93</td>\n",
              "    </tr>\n",
              "    <tr>\n",
              "      <th>NASHVILLE TN</th>\n",
              "      <td>69</td>\n",
              "      <td>39</td>\n",
              "    </tr>\n",
              "    <tr>\n",
              "      <th>NEW YORK NY</th>\n",
              "      <td>328</td>\n",
              "      <td>3500</td>\n",
              "    </tr>\n",
              "    <tr>\n",
              "      <th>ORANGE COUNTY</th>\n",
              "      <td>53</td>\n",
              "      <td>69</td>\n",
              "    </tr>\n",
              "    <tr>\n",
              "      <th>PHOENIX AZ</th>\n",
              "      <td>41</td>\n",
              "      <td>42</td>\n",
              "    </tr>\n",
              "    <tr>\n",
              "      <th>PITTSBURGH PA</th>\n",
              "      <td>12</td>\n",
              "      <td>22</td>\n",
              "    </tr>\n",
              "    <tr>\n",
              "      <th>SACRAMENTO CA</th>\n",
              "      <td>47</td>\n",
              "      <td>49</td>\n",
              "    </tr>\n",
              "    <tr>\n",
              "      <th>SAN DIEGO CA</th>\n",
              "      <td>453</td>\n",
              "      <td>426</td>\n",
              "    </tr>\n",
              "    <tr>\n",
              "      <th>SEATTLE WA</th>\n",
              "      <td>181</td>\n",
              "      <td>305</td>\n",
              "    </tr>\n",
              "    <tr>\n",
              "      <th>SILICON VALLEY</th>\n",
              "      <td>136</td>\n",
              "      <td>187</td>\n",
              "    </tr>\n",
              "    <tr>\n",
              "      <th>TUCSON AZ</th>\n",
              "      <td>32</td>\n",
              "      <td>44</td>\n",
              "    </tr>\n",
              "    <tr>\n",
              "      <th>WASHINGTON DC</th>\n",
              "      <td>176</td>\n",
              "      <td>2150</td>\n",
              "    </tr>\n",
              "  </tbody>\n",
              "</table>\n",
              "</div>"
            ],
            "text/plain": [
              "company         Pink Cab  Yellow Cab\n",
              "city                                \n",
              "ATLANTA GA            74         258\n",
              "AUSTIN TX             29          96\n",
              "BOSTON MA            248        1408\n",
              "CHICAGO IL           412        2642\n",
              "DALLAS TX             78         270\n",
              "DENVER CO             50         107\n",
              "LOS ANGELES CA       816        1377\n",
              "MIAMI FL              62          93\n",
              "NASHVILLE TN          69          39\n",
              "NEW YORK NY          328        3500\n",
              "ORANGE COUNTY         53          69\n",
              "PHOENIX AZ            41          42\n",
              "PITTSBURGH PA         12          22\n",
              "SACRAMENTO CA         47          49\n",
              "SAN DIEGO CA         453         426\n",
              "SEATTLE WA           181         305\n",
              "SILICON VALLEY       136         187\n",
              "TUCSON AZ             32          44\n",
              "WASHINGTON DC        176        2150"
            ]
          },
          "metadata": {
            "tags": []
          },
          "execution_count": 42
        }
      ]
    },
    {
      "cell_type": "markdown",
      "metadata": {
        "id": "cs2lxU6wzm0v"
      },
      "source": [
        "Yellow Cab is more preffered by users over Pink Cabs, and, New York City has the highest number of user in the data set."
      ]
    },
    {
      "cell_type": "code",
      "metadata": {
        "colab": {
          "base_uri": "https://localhost:8080/",
          "height": 357
        },
        "id": "vrAk8p9UTAa_",
        "outputId": "01757492-7950-4cdc-b91a-84ca233e6d0b"
      },
      "source": [
        "pd.crosstab(index=masterData['city'],columns=masterData['company']).plot(kind='bar')\n",
        "plt.show()"
      ],
      "execution_count": 43,
      "outputs": [
        {
          "output_type": "display_data",
          "data": {
            "image/png": "[encoded data removed]",
            "text/plain": [
              "<Figure size 432x288 with 1 Axes>"
            ]
          },
          "metadata": {
            "tags": [],
            "needs_background": "light"
          }
        }
      ]
    },
    {
      "cell_type": "code",
      "metadata": {
        "id": "W5JMFLs8pAKj",
        "colab": {
          "base_uri": "https://localhost:8080/",
          "height": 669
        },
        "outputId": "f4737189-f2cf-4a2d-fa97-e1dc58b780e5"
      },
      "source": [
        "city_grp = masterData.groupby('city')\n",
        "city_grp['company'].value_counts().unstack()"
      ],
      "execution_count": 44,
      "outputs": [
        {
          "output_type": "execute_result",
          "data": {
            "text/html": [
              "<div>\n",
              "<style scoped>\n",
              "    .dataframe tbody tr th:only-of-type {\n",
              "        vertical-align: middle;\n",
              "    }\n",
              "\n",
              "    .dataframe tbody tr th {\n",
              "        vertical-align: top;\n",
              "    }\n",
              "\n",
              "    .dataframe thead th {\n",
              "        text-align: right;\n",
              "    }\n",
              "</style>\n",
              "<table border=\"1\" class=\"dataframe\">\n",
              "  <thead>\n",
              "    <tr style=\"text-align: right;\">\n",
              "      <th>company</th>\n",
              "      <th>Pink Cab</th>\n",
              "      <th>Yellow Cab</th>\n",
              "    </tr>\n",
              "    <tr>\n",
              "      <th>city</th>\n",
              "      <th></th>\n",
              "      <th></th>\n",
              "    </tr>\n",
              "  </thead>\n",
              "  <tbody>\n",
              "    <tr>\n",
              "      <th>ATLANTA GA</th>\n",
              "      <td>74</td>\n",
              "      <td>258</td>\n",
              "    </tr>\n",
              "    <tr>\n",
              "      <th>AUSTIN TX</th>\n",
              "      <td>29</td>\n",
              "      <td>96</td>\n",
              "    </tr>\n",
              "    <tr>\n",
              "      <th>BOSTON MA</th>\n",
              "      <td>248</td>\n",
              "      <td>1408</td>\n",
              "    </tr>\n",
              "    <tr>\n",
              "      <th>CHICAGO IL</th>\n",
              "      <td>412</td>\n",
              "      <td>2642</td>\n",
              "    </tr>\n",
              "    <tr>\n",
              "      <th>DALLAS TX</th>\n",
              "      <td>78</td>\n",
              "      <td>270</td>\n",
              "    </tr>\n",
              "    <tr>\n",
              "      <th>DENVER CO</th>\n",
              "      <td>50</td>\n",
              "      <td>107</td>\n",
              "    </tr>\n",
              "    <tr>\n",
              "      <th>LOS ANGELES CA</th>\n",
              "      <td>816</td>\n",
              "      <td>1377</td>\n",
              "    </tr>\n",
              "    <tr>\n",
              "      <th>MIAMI FL</th>\n",
              "      <td>62</td>\n",
              "      <td>93</td>\n",
              "    </tr>\n",
              "    <tr>\n",
              "      <th>NASHVILLE TN</th>\n",
              "      <td>69</td>\n",
              "      <td>39</td>\n",
              "    </tr>\n",
              "    <tr>\n",
              "      <th>NEW YORK NY</th>\n",
              "      <td>328</td>\n",
              "      <td>3500</td>\n",
              "    </tr>\n",
              "    <tr>\n",
              "      <th>ORANGE COUNTY</th>\n",
              "      <td>53</td>\n",
              "      <td>69</td>\n",
              "    </tr>\n",
              "    <tr>\n",
              "      <th>PHOENIX AZ</th>\n",
              "      <td>41</td>\n",
              "      <td>42</td>\n",
              "    </tr>\n",
              "    <tr>\n",
              "      <th>PITTSBURGH PA</th>\n",
              "      <td>12</td>\n",
              "      <td>22</td>\n",
              "    </tr>\n",
              "    <tr>\n",
              "      <th>SACRAMENTO CA</th>\n",
              "      <td>47</td>\n",
              "      <td>49</td>\n",
              "    </tr>\n",
              "    <tr>\n",
              "      <th>SAN DIEGO CA</th>\n",
              "      <td>453</td>\n",
              "      <td>426</td>\n",
              "    </tr>\n",
              "    <tr>\n",
              "      <th>SEATTLE WA</th>\n",
              "      <td>181</td>\n",
              "      <td>305</td>\n",
              "    </tr>\n",
              "    <tr>\n",
              "      <th>SILICON VALLEY</th>\n",
              "      <td>136</td>\n",
              "      <td>187</td>\n",
              "    </tr>\n",
              "    <tr>\n",
              "      <th>TUCSON AZ</th>\n",
              "      <td>32</td>\n",
              "      <td>44</td>\n",
              "    </tr>\n",
              "    <tr>\n",
              "      <th>WASHINGTON DC</th>\n",
              "      <td>176</td>\n",
              "      <td>2150</td>\n",
              "    </tr>\n",
              "  </tbody>\n",
              "</table>\n",
              "</div>"
            ],
            "text/plain": [
              "company         Pink Cab  Yellow Cab\n",
              "city                                \n",
              "ATLANTA GA            74         258\n",
              "AUSTIN TX             29          96\n",
              "BOSTON MA            248        1408\n",
              "CHICAGO IL           412        2642\n",
              "DALLAS TX             78         270\n",
              "DENVER CO             50         107\n",
              "LOS ANGELES CA       816        1377\n",
              "MIAMI FL              62          93\n",
              "NASHVILLE TN          69          39\n",
              "NEW YORK NY          328        3500\n",
              "ORANGE COUNTY         53          69\n",
              "PHOENIX AZ            41          42\n",
              "PITTSBURGH PA         12          22\n",
              "SACRAMENTO CA         47          49\n",
              "SAN DIEGO CA         453         426\n",
              "SEATTLE WA           181         305\n",
              "SILICON VALLEY       136         187\n",
              "TUCSON AZ             32          44\n",
              "WASHINGTON DC        176        2150"
            ]
          },
          "metadata": {
            "tags": []
          },
          "execution_count": 44
        }
      ]
    },
    {
      "cell_type": "markdown",
      "metadata": {
        "id": "n8ivjvAMy15e"
      },
      "source": [
        "Yellow cab company it is more in demand than Pink cab company in almost all cities"
      ]
    },
    {
      "cell_type": "markdown",
      "metadata": {
        "id": "91mdQRoTARDr"
      },
      "source": [
        "**Payment mode analysis**"
      ]
    },
    {
      "cell_type": "code",
      "metadata": {
        "colab": {
          "base_uri": "https://localhost:8080/",
          "height": 173
        },
        "id": "jfU5sperTBK6",
        "outputId": "7445335f-082f-456a-cca3-dcc682934f4a"
      },
      "source": [
        "pd.crosstab(index=masterData['payment_mode'],columns=masterData['company'],margins=True)"
      ],
      "execution_count": 45,
      "outputs": [
        {
          "output_type": "execute_result",
          "data": {
            "text/html": [
              "<div>\n",
              "<style scoped>\n",
              "    .dataframe tbody tr th:only-of-type {\n",
              "        vertical-align: middle;\n",
              "    }\n",
              "\n",
              "    .dataframe tbody tr th {\n",
              "        vertical-align: top;\n",
              "    }\n",
              "\n",
              "    .dataframe thead th {\n",
              "        text-align: right;\n",
              "    }\n",
              "</style>\n",
              "<table border=\"1\" class=\"dataframe\">\n",
              "  <thead>\n",
              "    <tr style=\"text-align: right;\">\n",
              "      <th>company</th>\n",
              "      <th>Pink Cab</th>\n",
              "      <th>Yellow Cab</th>\n",
              "      <th>All</th>\n",
              "    </tr>\n",
              "    <tr>\n",
              "      <th>payment_mode</th>\n",
              "      <th></th>\n",
              "      <th></th>\n",
              "      <th></th>\n",
              "    </tr>\n",
              "  </thead>\n",
              "  <tbody>\n",
              "    <tr>\n",
              "      <th>Card</th>\n",
              "      <td>1923</td>\n",
              "      <td>7895</td>\n",
              "      <td>9818</td>\n",
              "    </tr>\n",
              "    <tr>\n",
              "      <th>Cash</th>\n",
              "      <td>1374</td>\n",
              "      <td>5189</td>\n",
              "      <td>6563</td>\n",
              "    </tr>\n",
              "    <tr>\n",
              "      <th>All</th>\n",
              "      <td>3297</td>\n",
              "      <td>13084</td>\n",
              "      <td>16381</td>\n",
              "    </tr>\n",
              "  </tbody>\n",
              "</table>\n",
              "</div>"
            ],
            "text/plain": [
              "company       Pink Cab  Yellow Cab    All\n",
              "payment_mode                             \n",
              "Card              1923        7895   9818\n",
              "Cash              1374        5189   6563\n",
              "All               3297       13084  16381"
            ]
          },
          "metadata": {
            "tags": []
          },
          "execution_count": 45
        }
      ]
    },
    {
      "cell_type": "code",
      "metadata": {
        "colab": {
          "base_uri": "https://localhost:8080/",
          "height": 322
        },
        "id": "z90S4v1iTBtB",
        "outputId": "77d0598b-276b-46f1-f621-af4e5d6df1d2"
      },
      "source": [
        "pd.crosstab(index=masterData['company'],columns=masterData['payment_mode']).plot(kind='bar')\n",
        "plt.show()"
      ],
      "execution_count": 46,
      "outputs": [
        {
          "output_type": "display_data",
          "data": {
            "image/png": "[encoded data removed]",
            "text/plain": [
              "<Figure size 432x288 with 1 Axes>"
            ]
          },
          "metadata": {
            "tags": [],
            "needs_background": "light"
          }
        }
      ]
    },
    {
      "cell_type": "markdown",
      "metadata": {
        "id": "9J0xB7LU1KSX"
      },
      "source": [
        "The Card payment method is more used than Cash in both, pink cab and yellow cab"
      ]
    },
    {
      "cell_type": "markdown",
      "metadata": {
        "id": "jTKqflgSAWyy"
      },
      "source": [
        "**Gender analysis**"
      ]
    },
    {
      "cell_type": "code",
      "metadata": {
        "colab": {
          "base_uri": "https://localhost:8080/",
          "height": 173
        },
        "id": "USjzoDi7TCKT",
        "outputId": "861d7fb3-7ab1-4dc6-d396-b6f8cd14dae0"
      },
      "source": [
        "pd.crosstab(index=masterData['gender'],columns=masterData['company'],margins=True)"
      ],
      "execution_count": 47,
      "outputs": [
        {
          "output_type": "execute_result",
          "data": {
            "text/html": [
              "<div>\n",
              "<style scoped>\n",
              "    .dataframe tbody tr th:only-of-type {\n",
              "        vertical-align: middle;\n",
              "    }\n",
              "\n",
              "    .dataframe tbody tr th {\n",
              "        vertical-align: top;\n",
              "    }\n",
              "\n",
              "    .dataframe thead th {\n",
              "        text-align: right;\n",
              "    }\n",
              "</style>\n",
              "<table border=\"1\" class=\"dataframe\">\n",
              "  <thead>\n",
              "    <tr style=\"text-align: right;\">\n",
              "      <th>company</th>\n",
              "      <th>Pink Cab</th>\n",
              "      <th>Yellow Cab</th>\n",
              "      <th>All</th>\n",
              "    </tr>\n",
              "    <tr>\n",
              "      <th>gender</th>\n",
              "      <th></th>\n",
              "      <th></th>\n",
              "      <th></th>\n",
              "    </tr>\n",
              "  </thead>\n",
              "  <tbody>\n",
              "    <tr>\n",
              "      <th>Female</th>\n",
              "      <td>1139</td>\n",
              "      <td>4465</td>\n",
              "      <td>5604</td>\n",
              "    </tr>\n",
              "    <tr>\n",
              "      <th>Male</th>\n",
              "      <td>2158</td>\n",
              "      <td>8619</td>\n",
              "      <td>10777</td>\n",
              "    </tr>\n",
              "    <tr>\n",
              "      <th>All</th>\n",
              "      <td>3297</td>\n",
              "      <td>13084</td>\n",
              "      <td>16381</td>\n",
              "    </tr>\n",
              "  </tbody>\n",
              "</table>\n",
              "</div>"
            ],
            "text/plain": [
              "company  Pink Cab  Yellow Cab    All\n",
              "gender                              \n",
              "Female       1139        4465   5604\n",
              "Male         2158        8619  10777\n",
              "All          3297       13084  16381"
            ]
          },
          "metadata": {
            "tags": []
          },
          "execution_count": 47
        }
      ]
    },
    {
      "cell_type": "code",
      "metadata": {
        "colab": {
          "base_uri": "https://localhost:8080/",
          "height": 322
        },
        "id": "-Skg-X-0TCtc",
        "outputId": "3f605b60-5617-490c-f9eb-b90198b20608"
      },
      "source": [
        "pd.crosstab(index=masterData['company'],columns=masterData['gender']).plot(kind='bar')\n",
        "plt.show()"
      ],
      "execution_count": 48,
      "outputs": [
        {
          "output_type": "display_data",
          "data": {
            "image/png": "[encoded data removed]",
            "text/plain": [
              "<Figure size 432x288 with 1 Axes>"
            ]
          },
          "metadata": {
            "tags": [],
            "needs_background": "light"
          }
        }
      ]
    },
    {
      "cell_type": "markdown",
      "metadata": {
        "id": "AG0MKPJp13M0"
      },
      "source": [
        "The number of Male who travel by taxi is high compared to female users"
      ]
    },
    {
      "cell_type": "markdown",
      "metadata": {
        "id": "bLGC5NycHYZA"
      },
      "source": [
        "**Age analysis**"
      ]
    },
    {
      "cell_type": "code",
      "metadata": {
        "colab": {
          "base_uri": "https://localhost:8080/",
          "height": 225
        },
        "id": "ySvunBcFHec1",
        "outputId": "ae6a0123-5358-41a8-8345-8d3a5f39edb0"
      },
      "source": [
        "# Age range for Company\n",
        "g = sns.FacetGrid(masterData, col = \"company\")\n",
        "g.map(sns.histplot, \"age\", bins = 30)\n",
        "plt.show()"
      ],
      "execution_count": 49,
      "outputs": [
        {
          "output_type": "display_data",
          "data": {
            "image/png": "[encoded data removed]",
            "text/plain": [
              "<Figure size 432x216 with 2 Axes>"
            ]
          },
          "metadata": {
            "tags": [],
            "needs_background": "light"
          }
        }
      ]
    },
    {
      "cell_type": "markdown",
      "metadata": {
        "id": "MPJ9HujyHtGS"
      },
      "source": [
        "The highest number of Yellow cab users and Pink cab users are middle-aged"
      ]
    },
    {
      "cell_type": "markdown",
      "metadata": {
        "id": "VIM3jpz15MbR"
      },
      "source": [
        "**Price Charged Analysis**"
      ]
    },
    {
      "cell_type": "markdown",
      "metadata": {
        "id": "qcEuE7eG57sJ"
      },
      "source": [
        "1. Hypothesis: Is there a difference in the price charged by the two cab company?"
      ]
    },
    {
      "cell_type": "code",
      "metadata": {
        "colab": {
          "base_uri": "https://localhost:8080/",
          "height": 142
        },
        "id": "VSCzCyAbTEY_",
        "outputId": "acad5c7d-dd7a-4001-fa03-d2158f554322"
      },
      "source": [
        "company_type = masterData.groupby(\"company\")\n",
        "company_type.mean().loc[:,[\"price_charged\"]]"
      ],
      "execution_count": 50,
      "outputs": [
        {
          "output_type": "execute_result",
          "data": {
            "text/html": [
              "<div>\n",
              "<style scoped>\n",
              "    .dataframe tbody tr th:only-of-type {\n",
              "        vertical-align: middle;\n",
              "    }\n",
              "\n",
              "    .dataframe tbody tr th {\n",
              "        vertical-align: top;\n",
              "    }\n",
              "\n",
              "    .dataframe thead th {\n",
              "        text-align: right;\n",
              "    }\n",
              "</style>\n",
              "<table border=\"1\" class=\"dataframe\">\n",
              "  <thead>\n",
              "    <tr style=\"text-align: right;\">\n",
              "      <th></th>\n",
              "      <th>price_charged</th>\n",
              "    </tr>\n",
              "    <tr>\n",
              "      <th>company</th>\n",
              "      <th></th>\n",
              "    </tr>\n",
              "  </thead>\n",
              "  <tbody>\n",
              "    <tr>\n",
              "      <th>Pink Cab</th>\n",
              "      <td>324.987043</td>\n",
              "    </tr>\n",
              "    <tr>\n",
              "      <th>Yellow Cab</th>\n",
              "      <td>501.283204</td>\n",
              "    </tr>\n",
              "  </tbody>\n",
              "</table>\n",
              "</div>"
            ],
            "text/plain": [
              "            price_charged\n",
              "company                  \n",
              "Pink Cab       324.987043\n",
              "Yellow Cab     501.283204"
            ]
          },
          "metadata": {
            "tags": []
          },
          "execution_count": 50
        }
      ]
    },
    {
      "cell_type": "code",
      "metadata": {
        "colab": {
          "base_uri": "https://localhost:8080/",
          "height": 351
        },
        "id": "Hq1i5KvU4xoi",
        "outputId": "92100189-f638-42d4-aa40-1c05ec834497"
      },
      "source": [
        "plt.figure(figsize=(10,5))\n",
        "plt.bar(company_type.mean().index,company_type.mean()[\"price_charged\"],color=[\"pink\",\"yellow\"],bottom=10)\n",
        "plt.xlabel(\"Company\",fontsize=11)\n",
        "plt.ylabel(\"Averge\",fontsize=11)\n",
        "plt.title(\"Price Charged\",fontsize=14,fontstyle=\"italic\",fontweight=\"bold\")\n",
        "plt.savefig(\"price_charged.png\",dpi=100)\n",
        "plt.show()"
      ],
      "execution_count": 51,
      "outputs": [
        {
          "output_type": "display_data",
          "data": {
            "image/png": "[encoded data removed]",
            "text/plain": [
              "<Figure size 720x360 with 1 Axes>"
            ]
          },
          "metadata": {
            "tags": [],
            "needs_background": "light"
          }
        }
      ]
    },
    {
      "cell_type": "markdown",
      "metadata": {
        "id": "2onSspZn9FKF"
      },
      "source": [
        "**Profit Analysis**"
      ]
    },
    {
      "cell_type": "markdown",
      "metadata": {
        "id": "uiYtYARP9gOB"
      },
      "source": [
        "2. Hypothesis: Is there a difference in the profit per one trip by the two cab company?"
      ]
    },
    {
      "cell_type": "code",
      "metadata": {
        "colab": {
          "base_uri": "https://localhost:8080/",
          "height": 142
        },
        "id": "UNk_KVlb-Nqa",
        "outputId": "ba115c4a-6926-45cd-d727-afb903569eeb"
      },
      "source": [
        "company_type.mean().loc[:,[\"profit_per_one_trip\"]]"
      ],
      "execution_count": 52,
      "outputs": [
        {
          "output_type": "execute_result",
          "data": {
            "text/html": [
              "<div>\n",
              "<style scoped>\n",
              "    .dataframe tbody tr th:only-of-type {\n",
              "        vertical-align: middle;\n",
              "    }\n",
              "\n",
              "    .dataframe tbody tr th {\n",
              "        vertical-align: top;\n",
              "    }\n",
              "\n",
              "    .dataframe thead th {\n",
              "        text-align: right;\n",
              "    }\n",
              "</style>\n",
              "<table border=\"1\" class=\"dataframe\">\n",
              "  <thead>\n",
              "    <tr style=\"text-align: right;\">\n",
              "      <th></th>\n",
              "      <th>profit_per_one_trip</th>\n",
              "    </tr>\n",
              "    <tr>\n",
              "      <th>company</th>\n",
              "      <th></th>\n",
              "    </tr>\n",
              "  </thead>\n",
              "  <tbody>\n",
              "    <tr>\n",
              "      <th>Pink Cab</th>\n",
              "      <td>76.975326</td>\n",
              "    </tr>\n",
              "    <tr>\n",
              "      <th>Yellow Cab</th>\n",
              "      <td>202.013459</td>\n",
              "    </tr>\n",
              "  </tbody>\n",
              "</table>\n",
              "</div>"
            ],
            "text/plain": [
              "            profit_per_one_trip\n",
              "company                        \n",
              "Pink Cab              76.975326\n",
              "Yellow Cab           202.013459"
            ]
          },
          "metadata": {
            "tags": []
          },
          "execution_count": 52
        }
      ]
    },
    {
      "cell_type": "code",
      "metadata": {
        "colab": {
          "base_uri": "https://localhost:8080/",
          "height": 351
        },
        "id": "Eapx9zRn4yL9",
        "outputId": "377ed6b1-5153-46a9-ec1b-51782d52c855"
      },
      "source": [
        "plt.figure(figsize=(10,5))\n",
        "plt.bar(company_type.mean().index,company_type.mean()[\"profit_per_one_trip\"],color=[\"pink\",\"yellow\"],bottom=10)\n",
        "plt.xlabel(\"Company\",fontsize=11)\n",
        "plt.ylabel(\"Averge\",fontsize=11)\n",
        "plt.title(\"profit per one trip\",fontsize=14,fontstyle=\"italic\",fontweight=\"bold\")\n",
        "plt.savefig(\"price_charged.png\",dpi=100)\n",
        "plt.show()"
      ],
      "execution_count": 53,
      "outputs": [
        {
          "output_type": "display_data",
          "data": {
            "image/png": "[encoded data removed]",
            "text/plain": [
              "<Figure size 720x360 with 1 Axes>"
            ]
          },
          "metadata": {
            "tags": [],
            "needs_background": "light"
          }
        }
      ]
    },
    {
      "cell_type": "markdown",
      "metadata": {
        "id": "4nai7xvj95pB"
      },
      "source": [
        "**Income Analysis**"
      ]
    },
    {
      "cell_type": "markdown",
      "metadata": {
        "id": "NcdU8Y7r9qjU"
      },
      "source": [
        "3. Hypothesis: Is there a difference in the income (usd/month) by the two cab company?"
      ]
    },
    {
      "cell_type": "code",
      "metadata": {
        "colab": {
          "base_uri": "https://localhost:8080/",
          "height": 142
        },
        "id": "-mvDj7cE-Tcp",
        "outputId": "83a94119-96ef-4bb2-9802-d44132c651b9"
      },
      "source": [
        "company_type.mean().loc[:,[\"income_(usd/month)\"]]"
      ],
      "execution_count": 54,
      "outputs": [
        {
          "output_type": "execute_result",
          "data": {
            "text/html": [
              "<div>\n",
              "<style scoped>\n",
              "    .dataframe tbody tr th:only-of-type {\n",
              "        vertical-align: middle;\n",
              "    }\n",
              "\n",
              "    .dataframe tbody tr th {\n",
              "        vertical-align: top;\n",
              "    }\n",
              "\n",
              "    .dataframe thead th {\n",
              "        text-align: right;\n",
              "    }\n",
              "</style>\n",
              "<table border=\"1\" class=\"dataframe\">\n",
              "  <thead>\n",
              "    <tr style=\"text-align: right;\">\n",
              "      <th></th>\n",
              "      <th>income_(usd/month)</th>\n",
              "    </tr>\n",
              "    <tr>\n",
              "      <th>company</th>\n",
              "      <th></th>\n",
              "    </tr>\n",
              "  </thead>\n",
              "  <tbody>\n",
              "    <tr>\n",
              "      <th>Pink Cab</th>\n",
              "      <td>15237.558690</td>\n",
              "    </tr>\n",
              "    <tr>\n",
              "      <th>Yellow Cab</th>\n",
              "      <td>15047.787374</td>\n",
              "    </tr>\n",
              "  </tbody>\n",
              "</table>\n",
              "</div>"
            ],
            "text/plain": [
              "            income_(usd/month)\n",
              "company                       \n",
              "Pink Cab          15237.558690\n",
              "Yellow Cab        15047.787374"
            ]
          },
          "metadata": {
            "tags": []
          },
          "execution_count": 54
        }
      ]
    },
    {
      "cell_type": "code",
      "metadata": {
        "colab": {
          "base_uri": "https://localhost:8080/",
          "height": 351
        },
        "id": "dj4ce_oJ4z3f",
        "outputId": "885acb70-bbe4-4207-e067-524bbbba8a3d"
      },
      "source": [
        "plt.figure(figsize=(10,5))\n",
        "plt.bar(company_type.mean().index,company_type.mean()[\"income_(usd/month)\"],color=[\"pink\",\"yellow\"],bottom=10)\n",
        "plt.xlabel(\"Company\",fontsize=11)\n",
        "plt.ylabel(\"Averge\",fontsize=11)\n",
        "plt.title(\"income (usd/month)\",fontsize=14,fontstyle=\"italic\",fontweight=\"bold\")\n",
        "plt.savefig(\"price_charged.png\",dpi=100)\n",
        "plt.show()"
      ],
      "execution_count": 55,
      "outputs": [
        {
          "output_type": "display_data",
          "data": {
            "image/png": "[encoded data removed]",
            "text/plain": [
              "<Figure size 720x360 with 1 Axes>"
            ]
          },
          "metadata": {
            "tags": [],
            "needs_background": "light"
          }
        }
      ]
    },
    {
      "cell_type": "markdown",
      "metadata": {
        "id": "N8zZtM6_-90P"
      },
      "source": [
        "**KM Travelled analysis**"
      ]
    },
    {
      "cell_type": "markdown",
      "metadata": {
        "id": "n6dwKEPu_EQT"
      },
      "source": [
        "4. Hpothesis: Is there difference in the KM travelled by two cab company?"
      ]
    },
    {
      "cell_type": "code",
      "metadata": {
        "colab": {
          "base_uri": "https://localhost:8080/",
          "height": 142
        },
        "id": "-5iXV7tX40pB",
        "outputId": "4461cce4-0efd-48e3-af39-77a21e80aea0"
      },
      "source": [
        "company_type.mean().loc[:,[\"km_travelled\"]]"
      ],
      "execution_count": 56,
      "outputs": [
        {
          "output_type": "execute_result",
          "data": {
            "text/html": [
              "<div>\n",
              "<style scoped>\n",
              "    .dataframe tbody tr th:only-of-type {\n",
              "        vertical-align: middle;\n",
              "    }\n",
              "\n",
              "    .dataframe tbody tr th {\n",
              "        vertical-align: top;\n",
              "    }\n",
              "\n",
              "    .dataframe thead th {\n",
              "        text-align: right;\n",
              "    }\n",
              "</style>\n",
              "<table border=\"1\" class=\"dataframe\">\n",
              "  <thead>\n",
              "    <tr style=\"text-align: right;\">\n",
              "      <th></th>\n",
              "      <th>km_travelled</th>\n",
              "    </tr>\n",
              "    <tr>\n",
              "      <th>company</th>\n",
              "      <th></th>\n",
              "    </tr>\n",
              "  </thead>\n",
              "  <tbody>\n",
              "    <tr>\n",
              "      <th>Pink Cab</th>\n",
              "      <td>22.560925</td>\n",
              "    </tr>\n",
              "    <tr>\n",
              "      <th>Yellow Cab</th>\n",
              "      <td>22.680968</td>\n",
              "    </tr>\n",
              "  </tbody>\n",
              "</table>\n",
              "</div>"
            ],
            "text/plain": [
              "            km_travelled\n",
              "company                 \n",
              "Pink Cab       22.560925\n",
              "Yellow Cab     22.680968"
            ]
          },
          "metadata": {
            "tags": []
          },
          "execution_count": 56
        }
      ]
    },
    {
      "cell_type": "code",
      "metadata": {
        "colab": {
          "base_uri": "https://localhost:8080/",
          "height": 296
        },
        "id": "0ZovvRvL41Uw",
        "outputId": "d289de2b-1645-4053-ebbe-7a5f50415674"
      },
      "source": [
        "plt.figure(figsize=(7,4))\n",
        "plt.bar(company_type.mean().index,company_type.mean()[\"km_travelled\"],color=[\"pink\",\"yellow\"])\n",
        "plt.xlabel(\"Company\",fontsize=11)\n",
        "plt.ylabel(\"Averge\",fontsize=11)\n",
        "plt.title(\"Km travelled\",fontsize=14,fontstyle=\"italic\",fontweight=\"bold\")\n",
        "plt.savefig(\"KM.png\", dpi=100)\n",
        "plt.show()"
      ],
      "execution_count": 57,
      "outputs": [
        {
          "output_type": "display_data",
          "data": {
            "image/png": "[encoded data removed]",
            "text/plain": [
              "<Figure size 504x288 with 1 Axes>"
            ]
          },
          "metadata": {
            "tags": [],
            "needs_background": "light"
          }
        }
      ]
    },
    {
      "cell_type": "markdown",
      "metadata": {
        "id": "cjiTwrqt_TuS"
      },
      "source": [
        "We didn't notice any difference in the KM travelled between Yellow and Pink Cab"
      ]
    },
    {
      "cell_type": "markdown",
      "metadata": {
        "id": "nR2ZlSZDDOfq"
      },
      "source": [
        "**Profit per KM/City**"
      ]
    },
    {
      "cell_type": "code",
      "metadata": {
        "colab": {
          "base_uri": "https://localhost:8080/",
          "height": 504
        },
        "id": "TNvbMvHe417j",
        "outputId": "8422a85a-57f0-4974-b3ce-af5f58b9a04e"
      },
      "source": [
        "masterData.groupby('city')['profit_per_km'].median().plot(kind='bar', figsize=(15,7), ylabel='profit_per_km');\n"
      ],
      "execution_count": 58,
      "outputs": [
        {
          "output_type": "display_data",
          "data": {
            "image/png": "[encoded data removed]",
            "text/plain": [
              "<Figure size 1080x504 with 1 Axes>"
            ]
          },
          "metadata": {
            "tags": [],
            "needs_background": "light"
          }
        }
      ]
    },
    {
      "cell_type": "markdown",
      "metadata": {
        "id": "BssdkUhxDxvB"
      },
      "source": [
        "Based on the graph, the highest Profit per km margin is in favor of New York City, however the lowest Profit per KM is in favor of Sacramenyo has."
      ]
    },
    {
      "cell_type": "code",
      "metadata": {
        "id": "ekjJR2wA42hZ",
        "colab": {
          "base_uri": "https://localhost:8080/",
          "height": 388
        },
        "outputId": "30a09146-5f70-4a53-d71b-e537f2e353e9"
      },
      "source": [
        "# Profit distribution by year and company\n",
        "plt.figure(figsize=(12,6))\n",
        "ax = sns.barplot(x='year', y=\"profit_per_one_trip\", hue=\"company\", data=masterData)\n"
      ],
      "execution_count": 59,
      "outputs": [
        {
          "output_type": "display_data",
          "data": {
            "image/png": "[encoded data removed]",
            "text/plain": [
              "<Figure size 864x432 with 1 Axes>"
            ]
          },
          "metadata": {
            "tags": [],
            "needs_background": "light"
          }
        }
      ]
    },
    {
      "cell_type": "markdown",
      "metadata": {
        "id": "B83qN8X7T0ec"
      },
      "source": [
        "Overall Yellow company profit per one trip is higher more than twice than Pink company in the three years.\n",
        "\n"
      ]
    },
    {
      "cell_type": "markdown",
      "metadata": {
        "id": "ZAXErFKyMTzI"
      },
      "source": [
        "**Customer per company analysis**"
      ]
    },
    {
      "cell_type": "code",
      "metadata": {
        "id": "MADPZ-PF44h-",
        "colab": {
          "base_uri": "https://localhost:8080/"
        },
        "outputId": "c4b76895-fc23-46e5-a32f-5e7cb73544b7"
      },
      "source": [
        "print(len(masterData.customer_id.unique()), 'customers')\n"
      ],
      "execution_count": 60,
      "outputs": [
        {
          "output_type": "stream",
          "text": [
            "11640 customers\n"
          ],
          "name": "stdout"
        }
      ]
    },
    {
      "cell_type": "code",
      "metadata": {
        "id": "fvzY3Hel45nc",
        "colab": {
          "base_uri": "https://localhost:8080/",
          "height": 419
        },
        "outputId": "70d8faf9-916b-487a-ad8a-0a41d23f6aa0"
      },
      "source": [
        "masterData.groupby(['customer_id','company', ]).size().to_frame('size').reset_index()\n"
      ],
      "execution_count": 61,
      "outputs": [
        {
          "output_type": "execute_result",
          "data": {
            "text/html": [
              "<div>\n",
              "<style scoped>\n",
              "    .dataframe tbody tr th:only-of-type {\n",
              "        vertical-align: middle;\n",
              "    }\n",
              "\n",
              "    .dataframe tbody tr th {\n",
              "        vertical-align: top;\n",
              "    }\n",
              "\n",
              "    .dataframe thead th {\n",
              "        text-align: right;\n",
              "    }\n",
              "</style>\n",
              "<table border=\"1\" class=\"dataframe\">\n",
              "  <thead>\n",
              "    <tr style=\"text-align: right;\">\n",
              "      <th></th>\n",
              "      <th>customer_id</th>\n",
              "      <th>company</th>\n",
              "      <th>size</th>\n",
              "    </tr>\n",
              "  </thead>\n",
              "  <tbody>\n",
              "    <tr>\n",
              "      <th>0</th>\n",
              "      <td>1</td>\n",
              "      <td>Pink Cab</td>\n",
              "      <td>1</td>\n",
              "    </tr>\n",
              "    <tr>\n",
              "      <th>1</th>\n",
              "      <td>1</td>\n",
              "      <td>Yellow Cab</td>\n",
              "      <td>1</td>\n",
              "    </tr>\n",
              "    <tr>\n",
              "      <th>2</th>\n",
              "      <td>2</td>\n",
              "      <td>Yellow Cab</td>\n",
              "      <td>1</td>\n",
              "    </tr>\n",
              "    <tr>\n",
              "      <th>3</th>\n",
              "      <td>3</td>\n",
              "      <td>Yellow Cab</td>\n",
              "      <td>1</td>\n",
              "    </tr>\n",
              "    <tr>\n",
              "      <th>4</th>\n",
              "      <td>4</td>\n",
              "      <td>Yellow Cab</td>\n",
              "      <td>1</td>\n",
              "    </tr>\n",
              "    <tr>\n",
              "      <th>...</th>\n",
              "      <td>...</td>\n",
              "      <td>...</td>\n",
              "      <td>...</td>\n",
              "    </tr>\n",
              "    <tr>\n",
              "      <th>12597</th>\n",
              "      <td>59994</td>\n",
              "      <td>Yellow Cab</td>\n",
              "      <td>3</td>\n",
              "    </tr>\n",
              "    <tr>\n",
              "      <th>12598</th>\n",
              "      <td>59995</td>\n",
              "      <td>Yellow Cab</td>\n",
              "      <td>1</td>\n",
              "    </tr>\n",
              "    <tr>\n",
              "      <th>12599</th>\n",
              "      <td>59997</td>\n",
              "      <td>Yellow Cab</td>\n",
              "      <td>1</td>\n",
              "    </tr>\n",
              "    <tr>\n",
              "      <th>12600</th>\n",
              "      <td>59998</td>\n",
              "      <td>Yellow Cab</td>\n",
              "      <td>1</td>\n",
              "    </tr>\n",
              "    <tr>\n",
              "      <th>12601</th>\n",
              "      <td>60000</td>\n",
              "      <td>Yellow Cab</td>\n",
              "      <td>1</td>\n",
              "    </tr>\n",
              "  </tbody>\n",
              "</table>\n",
              "<p>12602 rows × 3 columns</p>\n",
              "</div>"
            ],
            "text/plain": [
              "       customer_id     company  size\n",
              "0                1    Pink Cab     1\n",
              "1                1  Yellow Cab     1\n",
              "2                2  Yellow Cab     1\n",
              "3                3  Yellow Cab     1\n",
              "4                4  Yellow Cab     1\n",
              "...            ...         ...   ...\n",
              "12597        59994  Yellow Cab     3\n",
              "12598        59995  Yellow Cab     1\n",
              "12599        59997  Yellow Cab     1\n",
              "12600        59998  Yellow Cab     1\n",
              "12601        60000  Yellow Cab     1\n",
              "\n",
              "[12602 rows x 3 columns]"
            ]
          },
          "metadata": {
            "tags": []
          },
          "execution_count": 61
        }
      ]
    },
    {
      "cell_type": "markdown",
      "metadata": {
        "id": "U9sU2BZrNizU"
      },
      "source": [
        "Many customers choose to use Yellow cab company more to travel.\n",
        "the same customer sometimes travel with both companies. "
      ]
    },
    {
      "cell_type": "code",
      "metadata": {
        "id": "T18O2Zcf46Wf",
        "colab": {
          "base_uri": "https://localhost:8080/",
          "height": 142
        },
        "outputId": "f06af227-716d-462a-879e-620238cebcbd"
      },
      "source": [
        "cal= masterData.groupby(['customer_id','company' ]).size().to_frame('size').reset_index()\n",
        "cal.groupby('company').sum()"
      ],
      "execution_count": 62,
      "outputs": [
        {
          "output_type": "execute_result",
          "data": {
            "text/html": [
              "<div>\n",
              "<style scoped>\n",
              "    .dataframe tbody tr th:only-of-type {\n",
              "        vertical-align: middle;\n",
              "    }\n",
              "\n",
              "    .dataframe tbody tr th {\n",
              "        vertical-align: top;\n",
              "    }\n",
              "\n",
              "    .dataframe thead th {\n",
              "        text-align: right;\n",
              "    }\n",
              "</style>\n",
              "<table border=\"1\" class=\"dataframe\">\n",
              "  <thead>\n",
              "    <tr style=\"text-align: right;\">\n",
              "      <th></th>\n",
              "      <th>customer_id</th>\n",
              "      <th>size</th>\n",
              "    </tr>\n",
              "    <tr>\n",
              "      <th>company</th>\n",
              "      <th></th>\n",
              "      <th></th>\n",
              "    </tr>\n",
              "  </thead>\n",
              "  <tbody>\n",
              "    <tr>\n",
              "      <th>Pink Cab</th>\n",
              "      <td>64045427</td>\n",
              "      <td>3297</td>\n",
              "    </tr>\n",
              "    <tr>\n",
              "      <th>Yellow Cab</th>\n",
              "      <td>215055028</td>\n",
              "      <td>13084</td>\n",
              "    </tr>\n",
              "  </tbody>\n",
              "</table>\n",
              "</div>"
            ],
            "text/plain": [
              "            customer_id   size\n",
              "company                       \n",
              "Pink Cab       64045427   3297\n",
              "Yellow Cab    215055028  13084"
            ]
          },
          "metadata": {
            "tags": []
          },
          "execution_count": 62
        }
      ]
    },
    {
      "cell_type": "markdown",
      "metadata": {
        "id": "szTIiacXOZlU"
      },
      "source": [
        "The highest number of customers in the cab industry is in the favor of Yellow cab "
      ]
    },
    {
      "cell_type": "code",
      "metadata": {
        "id": "DygU_dFBOp3_",
        "colab": {
          "base_uri": "https://localhost:8080/",
          "height": 389
        },
        "outputId": "5cbd99ab-7d98-40a5-9056-9c4a292bd55d"
      },
      "source": [
        "plt.figure(figsize=(10, 5))\n",
        "sns.countplot(masterData.company)\n",
        "plt.xticks(rotation=90)\n",
        "\n",
        "plt.title(\"Number of customers by company\", {\"fontname\":\"fantasy\", \"fontweight\":\"bold\", \"fontsize\":\"medium\"})\n",
        "plt.ylabel(\"Customers\", {\"fontname\": \"serif\", \"fontweight\":\"bold\"})\n",
        "plt.xlabel(\"Cab company\", {\"fontname\": \"serif\", \"fontweight\":\"bold\"})\n",
        "plt.xticks(rotation=90)\n",
        "plt.show()"
      ],
      "execution_count": 63,
      "outputs": [
        {
          "output_type": "display_data",
          "data": {
            "image/png": "[encoded data removed]",
            "text/plain": [
              "<Figure size 720x360 with 1 Axes>"
            ]
          },
          "metadata": {
            "tags": [],
            "needs_background": "light"
          }
        }
      ]
    },
    {
      "cell_type": "markdown",
      "metadata": {
        "id": "71QeswkaunDo"
      },
      "source": [
        "**Week Analysis**"
      ]
    },
    {
      "cell_type": "markdown",
      "metadata": {
        "id": "NYzl610k4Wli"
      },
      "source": [
        "Hypothesis: Does the profit margin of each company increase in week?"
      ]
    },
    {
      "cell_type": "code",
      "metadata": {
        "id": "dODVsAP5uq2y",
        "colab": {
          "base_uri": "https://localhost:8080/",
          "height": 514
        },
        "outputId": "63c98fb7-822d-454e-b543-c3499cb0bbd6"
      },
      "source": [
        "weekday_group = masterData.groupby([masterData['Weekday'], 'company'])\n",
        "(weekday_group[['km_travelled', 'profit_per_one_trip', 'profit_per_km','company']].median())\n"
      ],
      "execution_count": 64,
      "outputs": [
        {
          "output_type": "execute_result",
          "data": {
            "text/html": [
              "<div>\n",
              "<style scoped>\n",
              "    .dataframe tbody tr th:only-of-type {\n",
              "        vertical-align: middle;\n",
              "    }\n",
              "\n",
              "    .dataframe tbody tr th {\n",
              "        vertical-align: top;\n",
              "    }\n",
              "\n",
              "    .dataframe thead th {\n",
              "        text-align: right;\n",
              "    }\n",
              "</style>\n",
              "<table border=\"1\" class=\"dataframe\">\n",
              "  <thead>\n",
              "    <tr style=\"text-align: right;\">\n",
              "      <th></th>\n",
              "      <th></th>\n",
              "      <th>km_travelled</th>\n",
              "      <th>profit_per_one_trip</th>\n",
              "      <th>profit_per_km</th>\n",
              "    </tr>\n",
              "    <tr>\n",
              "      <th>Weekday</th>\n",
              "      <th>company</th>\n",
              "      <th></th>\n",
              "      <th></th>\n",
              "      <th></th>\n",
              "    </tr>\n",
              "  </thead>\n",
              "  <tbody>\n",
              "    <tr>\n",
              "      <th rowspan=\"2\" valign=\"top\">0</th>\n",
              "      <th>Pink Cab</th>\n",
              "      <td>22.660</td>\n",
              "      <td>47.7920</td>\n",
              "      <td>2.653477</td>\n",
              "    </tr>\n",
              "    <tr>\n",
              "      <th>Yellow Cab</th>\n",
              "      <td>22.600</td>\n",
              "      <td>126.8900</td>\n",
              "      <td>7.156658</td>\n",
              "    </tr>\n",
              "    <tr>\n",
              "      <th rowspan=\"2\" valign=\"top\">1</th>\n",
              "      <th>Pink Cab</th>\n",
              "      <td>25.300</td>\n",
              "      <td>58.7620</td>\n",
              "      <td>2.597368</td>\n",
              "    </tr>\n",
              "    <tr>\n",
              "      <th>Yellow Cab</th>\n",
              "      <td>22.470</td>\n",
              "      <td>141.7700</td>\n",
              "      <td>7.342916</td>\n",
              "    </tr>\n",
              "    <tr>\n",
              "      <th rowspan=\"2\" valign=\"top\">2</th>\n",
              "      <th>Pink Cab</th>\n",
              "      <td>21.420</td>\n",
              "      <td>39.0900</td>\n",
              "      <td>2.415060</td>\n",
              "    </tr>\n",
              "    <tr>\n",
              "      <th>Yellow Cab</th>\n",
              "      <td>22.610</td>\n",
              "      <td>109.6850</td>\n",
              "      <td>6.018220</td>\n",
              "    </tr>\n",
              "    <tr>\n",
              "      <th rowspan=\"2\" valign=\"top\">3</th>\n",
              "      <th>Pink Cab</th>\n",
              "      <td>23.280</td>\n",
              "      <td>52.2450</td>\n",
              "      <td>3.003476</td>\n",
              "    </tr>\n",
              "    <tr>\n",
              "      <th>Yellow Cab</th>\n",
              "      <td>22.680</td>\n",
              "      <td>126.4872</td>\n",
              "      <td>7.034386</td>\n",
              "    </tr>\n",
              "    <tr>\n",
              "      <th rowspan=\"2\" valign=\"top\">4</th>\n",
              "      <th>Pink Cab</th>\n",
              "      <td>23.320</td>\n",
              "      <td>48.3240</td>\n",
              "      <td>2.790187</td>\n",
              "    </tr>\n",
              "    <tr>\n",
              "      <th>Yellow Cab</th>\n",
              "      <td>22.600</td>\n",
              "      <td>119.9680</td>\n",
              "      <td>6.178878</td>\n",
              "    </tr>\n",
              "    <tr>\n",
              "      <th rowspan=\"2\" valign=\"top\">5</th>\n",
              "      <th>Pink Cab</th>\n",
              "      <td>22.715</td>\n",
              "      <td>65.4475</td>\n",
              "      <td>3.794259</td>\n",
              "    </tr>\n",
              "    <tr>\n",
              "      <th>Yellow Cab</th>\n",
              "      <td>22.610</td>\n",
              "      <td>147.4882</td>\n",
              "      <td>7.568186</td>\n",
              "    </tr>\n",
              "    <tr>\n",
              "      <th rowspan=\"2\" valign=\"top\">6</th>\n",
              "      <th>Pink Cab</th>\n",
              "      <td>21.160</td>\n",
              "      <td>64.3035</td>\n",
              "      <td>3.561241</td>\n",
              "    </tr>\n",
              "    <tr>\n",
              "      <th>Yellow Cab</th>\n",
              "      <td>23.040</td>\n",
              "      <td>143.2960</td>\n",
              "      <td>7.411078</td>\n",
              "    </tr>\n",
              "  </tbody>\n",
              "</table>\n",
              "</div>"
            ],
            "text/plain": [
              "                    km_travelled  profit_per_one_trip  profit_per_km\n",
              "Weekday company                                                     \n",
              "0       Pink Cab          22.660              47.7920       2.653477\n",
              "        Yellow Cab        22.600             126.8900       7.156658\n",
              "1       Pink Cab          25.300              58.7620       2.597368\n",
              "        Yellow Cab        22.470             141.7700       7.342916\n",
              "2       Pink Cab          21.420              39.0900       2.415060\n",
              "        Yellow Cab        22.610             109.6850       6.018220\n",
              "3       Pink Cab          23.280              52.2450       3.003476\n",
              "        Yellow Cab        22.680             126.4872       7.034386\n",
              "4       Pink Cab          23.320              48.3240       2.790187\n",
              "        Yellow Cab        22.600             119.9680       6.178878\n",
              "5       Pink Cab          22.715              65.4475       3.794259\n",
              "        Yellow Cab        22.610             147.4882       7.568186\n",
              "6       Pink Cab          21.160              64.3035       3.561241\n",
              "        Yellow Cab        23.040             143.2960       7.411078"
            ]
          },
          "metadata": {
            "tags": []
          },
          "execution_count": 64
        }
      ]
    },
    {
      "cell_type": "code",
      "metadata": {
        "id": "PY6b2er14522",
        "colab": {
          "base_uri": "https://localhost:8080/",
          "height": 346
        },
        "outputId": "4a5c6db1-f335-413a-b2e3-edf990ca7c5f"
      },
      "source": [
        "plt.figure(figsize=(10, 5))\n",
        "sns.barplot(x = masterData['Weekday'] , y= masterData['profit_per_one_trip'] , hue = masterData['company'])\n",
        "\n",
        "plt.title(\"Profit per weekday by company\", {\"fontname\":\"fantasy\", \"fontweight\":\"bold\", \"fontsize\":\"medium\"})\n",
        "plt.ylabel(\"Profit\", {\"fontname\": \"serif\", \"fontweight\":\"bold\"})\n",
        "plt.xlabel(\"weekday\", {\"fontname\": \"serif\", \"fontweight\":\"bold\"})\n",
        "plt.show()"
      ],
      "execution_count": 65,
      "outputs": [
        {
          "output_type": "display_data",
          "data": {
            "image/png": "[encoded data removed]",
            "text/plain": [
              "<Figure size 720x360 with 1 Axes>"
            ]
          },
          "metadata": {
            "tags": [],
            "needs_background": "light"
          }
        }
      ]
    },
    {
      "cell_type": "markdown",
      "metadata": {
        "id": "q2ExbN1JwlgO"
      },
      "source": [
        "Profit per one trip increases in the weekends, especially, in Yellow cab.\n",
        "This increase is caused by the increase of kilometres travelled.\n"
      ]
    },
    {
      "cell_type": "markdown",
      "metadata": {
        "id": "Jx0W7dZE6ZQw"
      },
      "source": [
        "**seasonality Analysis**"
      ]
    },
    {
      "cell_type": "markdown",
      "metadata": {
        "id": "MVGRSGDD6dff"
      },
      "source": [
        "Hypothesis: Is there any seasonality in the profit margin of each company?"
      ]
    },
    {
      "cell_type": "code",
      "metadata": {
        "id": "3yCI8mbb8ImQ",
        "colab": {
          "base_uri": "https://localhost:8080/",
          "height": 483
        },
        "outputId": "5158bcb8-131a-44fa-d1d8-9de4c6598a03"
      },
      "source": [
        "monthGroup = masterData.groupby(['month','company'])\n",
        "(monthGroup[['km_travelled', 'profit_per_one_trip', 'profit_per_km']].median()).unstack()"
      ],
      "execution_count": 66,
      "outputs": [
        {
          "output_type": "execute_result",
          "data": {
            "text/html": [
              "<div>\n",
              "<style scoped>\n",
              "    .dataframe tbody tr th:only-of-type {\n",
              "        vertical-align: middle;\n",
              "    }\n",
              "\n",
              "    .dataframe tbody tr th {\n",
              "        vertical-align: top;\n",
              "    }\n",
              "\n",
              "    .dataframe thead tr th {\n",
              "        text-align: left;\n",
              "    }\n",
              "\n",
              "    .dataframe thead tr:last-of-type th {\n",
              "        text-align: right;\n",
              "    }\n",
              "</style>\n",
              "<table border=\"1\" class=\"dataframe\">\n",
              "  <thead>\n",
              "    <tr>\n",
              "      <th></th>\n",
              "      <th colspan=\"2\" halign=\"left\">km_travelled</th>\n",
              "      <th colspan=\"2\" halign=\"left\">profit_per_one_trip</th>\n",
              "      <th colspan=\"2\" halign=\"left\">profit_per_km</th>\n",
              "    </tr>\n",
              "    <tr>\n",
              "      <th>company</th>\n",
              "      <th>Pink Cab</th>\n",
              "      <th>Yellow Cab</th>\n",
              "      <th>Pink Cab</th>\n",
              "      <th>Yellow Cab</th>\n",
              "      <th>Pink Cab</th>\n",
              "      <th>Yellow Cab</th>\n",
              "    </tr>\n",
              "    <tr>\n",
              "      <th>month</th>\n",
              "      <th></th>\n",
              "      <th></th>\n",
              "      <th></th>\n",
              "      <th></th>\n",
              "      <th></th>\n",
              "      <th></th>\n",
              "    </tr>\n",
              "  </thead>\n",
              "  <tbody>\n",
              "    <tr>\n",
              "      <th>1</th>\n",
              "      <td>22.770</td>\n",
              "      <td>22.770</td>\n",
              "      <td>42.220</td>\n",
              "      <td>141.7204</td>\n",
              "      <td>2.467610</td>\n",
              "      <td>7.241865</td>\n",
              "    </tr>\n",
              "    <tr>\n",
              "      <th>2</th>\n",
              "      <td>22.040</td>\n",
              "      <td>22.725</td>\n",
              "      <td>63.992</td>\n",
              "      <td>142.4516</td>\n",
              "      <td>3.796667</td>\n",
              "      <td>7.137679</td>\n",
              "    </tr>\n",
              "    <tr>\n",
              "      <th>3</th>\n",
              "      <td>23.390</td>\n",
              "      <td>22.420</td>\n",
              "      <td>62.319</td>\n",
              "      <td>107.8680</td>\n",
              "      <td>3.188079</td>\n",
              "      <td>6.288079</td>\n",
              "    </tr>\n",
              "    <tr>\n",
              "      <th>4</th>\n",
              "      <td>19.785</td>\n",
              "      <td>23.310</td>\n",
              "      <td>45.998</td>\n",
              "      <td>113.1960</td>\n",
              "      <td>2.602487</td>\n",
              "      <td>5.329879</td>\n",
              "    </tr>\n",
              "    <tr>\n",
              "      <th>5</th>\n",
              "      <td>22.570</td>\n",
              "      <td>22.050</td>\n",
              "      <td>60.800</td>\n",
              "      <td>141.4200</td>\n",
              "      <td>3.154928</td>\n",
              "      <td>6.689147</td>\n",
              "    </tr>\n",
              "    <tr>\n",
              "      <th>6</th>\n",
              "      <td>24.750</td>\n",
              "      <td>21.850</td>\n",
              "      <td>69.158</td>\n",
              "      <td>140.8626</td>\n",
              "      <td>3.854464</td>\n",
              "      <td>7.265472</td>\n",
              "    </tr>\n",
              "    <tr>\n",
              "      <th>7</th>\n",
              "      <td>21.630</td>\n",
              "      <td>22.600</td>\n",
              "      <td>57.006</td>\n",
              "      <td>156.8608</td>\n",
              "      <td>3.678422</td>\n",
              "      <td>8.072174</td>\n",
              "    </tr>\n",
              "    <tr>\n",
              "      <th>8</th>\n",
              "      <td>23.520</td>\n",
              "      <td>24.195</td>\n",
              "      <td>56.395</td>\n",
              "      <td>140.2310</td>\n",
              "      <td>2.742017</td>\n",
              "      <td>7.460749</td>\n",
              "    </tr>\n",
              "    <tr>\n",
              "      <th>9</th>\n",
              "      <td>23.940</td>\n",
              "      <td>22.800</td>\n",
              "      <td>67.720</td>\n",
              "      <td>165.3284</td>\n",
              "      <td>3.698026</td>\n",
              "      <td>8.104043</td>\n",
              "    </tr>\n",
              "    <tr>\n",
              "      <th>10</th>\n",
              "      <td>21.310</td>\n",
              "      <td>22.390</td>\n",
              "      <td>51.928</td>\n",
              "      <td>138.0770</td>\n",
              "      <td>3.382822</td>\n",
              "      <td>8.221144</td>\n",
              "    </tr>\n",
              "    <tr>\n",
              "      <th>11</th>\n",
              "      <td>22.530</td>\n",
              "      <td>23.920</td>\n",
              "      <td>19.766</td>\n",
              "      <td>119.7800</td>\n",
              "      <td>1.578848</td>\n",
              "      <td>7.153158</td>\n",
              "    </tr>\n",
              "    <tr>\n",
              "      <th>12</th>\n",
              "      <td>19.200</td>\n",
              "      <td>23.530</td>\n",
              "      <td>53.348</td>\n",
              "      <td>132.6962</td>\n",
              "      <td>3.231439</td>\n",
              "      <td>7.061830</td>\n",
              "    </tr>\n",
              "  </tbody>\n",
              "</table>\n",
              "</div>"
            ],
            "text/plain": [
              "        km_travelled             ... profit_per_km           \n",
              "company     Pink Cab Yellow Cab  ...      Pink Cab Yellow Cab\n",
              "month                            ...                         \n",
              "1             22.770     22.770  ...      2.467610   7.241865\n",
              "2             22.040     22.725  ...      3.796667   7.137679\n",
              "3             23.390     22.420  ...      3.188079   6.288079\n",
              "4             19.785     23.310  ...      2.602487   5.329879\n",
              "5             22.570     22.050  ...      3.154928   6.689147\n",
              "6             24.750     21.850  ...      3.854464   7.265472\n",
              "7             21.630     22.600  ...      3.678422   8.072174\n",
              "8             23.520     24.195  ...      2.742017   7.460749\n",
              "9             23.940     22.800  ...      3.698026   8.104043\n",
              "10            21.310     22.390  ...      3.382822   8.221144\n",
              "11            22.530     23.920  ...      1.578848   7.153158\n",
              "12            19.200     23.530  ...      3.231439   7.061830\n",
              "\n",
              "[12 rows x 6 columns]"
            ]
          },
          "metadata": {
            "tags": []
          },
          "execution_count": 66
        }
      ]
    },
    {
      "cell_type": "markdown",
      "metadata": {
        "id": "wHM3Hdrn-6p5"
      },
      "source": [
        "The profit margin for yellow cab is always greater than Pink cab"
      ]
    },
    {
      "cell_type": "code",
      "metadata": {
        "id": "mgyteZcB8KE8",
        "colab": {
          "base_uri": "https://localhost:8080/",
          "height": 429
        },
        "outputId": "0fa7f382-0ffc-4338-eb13-b51452b68ba0"
      },
      "source": [
        "((monthGroup[['profit_per_one_trip']].median()).unstack()).plot(kind='bar', figsize=(15,7), ylabel='Median Profit per trip');\n"
      ],
      "execution_count": 67,
      "outputs": [
        {
          "output_type": "display_data",
          "data": {
            "image/png": "[encoded data removed]",
            "text/plain": [
              "<Figure size 1080x504 with 1 Axes>"
            ]
          },
          "metadata": {
            "tags": [],
            "needs_background": "light"
          }
        }
      ]
    },
    {
      "cell_type": "code",
      "metadata": {
        "id": "HVjpdV5YBN8K",
        "colab": {
          "base_uri": "https://localhost:8080/",
          "height": 435
        },
        "outputId": "49861201-fdf7-4c87-b0a7-8e1fe1d3670c"
      },
      "source": [
        "((monthGroup[['profit_per_km']].median()).unstack()).plot(kind='bar', figsize=(15,7), ylabel='Median Profit per km');\n"
      ],
      "execution_count": 68,
      "outputs": [
        {
          "output_type": "display_data",
          "data": {
            "image/png": "[encoded data removed]",
            "text/plain": [
              "<Figure size 1080x504 with 1 Axes>"
            ]
          },
          "metadata": {
            "tags": [],
            "needs_background": "light"
          }
        }
      ]
    },
    {
      "cell_type": "markdown",
      "metadata": {
        "id": "ARbXzAe9-zui"
      },
      "source": [
        "The profit increase in the spring season especially in May.\n",
        "\n",
        "During July and August, both companys recorded a decrease in profit per km and profit per one trip. We can say that there's some seasonality \n",
        "\n"
      ]
    },
    {
      "cell_type": "markdown",
      "metadata": {
        "id": "P4b6VyqyUjKX"
      },
      "source": [
        "**Yearly analysis**\n"
      ]
    },
    {
      "cell_type": "markdown",
      "metadata": {
        "id": "eHGRLXZKUxm2"
      },
      "source": [
        "**Hypothesis: what's the mean profit of each company in each year ?**\n",
        "\n"
      ]
    },
    {
      "cell_type": "code",
      "metadata": {
        "id": "UkxZq5NDOqnp",
        "colab": {
          "base_uri": "https://localhost:8080/",
          "height": 111
        },
        "outputId": "e710bab7-f09c-47e0-9078-d55a22d33916"
      },
      "source": [
        "profit_year = masterData.groupby([masterData['year'], masterData['company']])['profit_per_one_trip'].mean().to_frame().reset_index()\n",
        "profit_year\n"
      ],
      "execution_count": 69,
      "outputs": [
        {
          "output_type": "execute_result",
          "data": {
            "text/html": [
              "<div>\n",
              "<style scoped>\n",
              "    .dataframe tbody tr th:only-of-type {\n",
              "        vertical-align: middle;\n",
              "    }\n",
              "\n",
              "    .dataframe tbody tr th {\n",
              "        vertical-align: top;\n",
              "    }\n",
              "\n",
              "    .dataframe thead th {\n",
              "        text-align: right;\n",
              "    }\n",
              "</style>\n",
              "<table border=\"1\" class=\"dataframe\">\n",
              "  <thead>\n",
              "    <tr style=\"text-align: right;\">\n",
              "      <th></th>\n",
              "      <th>year</th>\n",
              "      <th>company</th>\n",
              "      <th>profit_per_one_trip</th>\n",
              "    </tr>\n",
              "  </thead>\n",
              "  <tbody>\n",
              "    <tr>\n",
              "      <th>0</th>\n",
              "      <td>2016</td>\n",
              "      <td>Pink Cab</td>\n",
              "      <td>76.975326</td>\n",
              "    </tr>\n",
              "    <tr>\n",
              "      <th>1</th>\n",
              "      <td>2016</td>\n",
              "      <td>Yellow Cab</td>\n",
              "      <td>202.013459</td>\n",
              "    </tr>\n",
              "  </tbody>\n",
              "</table>\n",
              "</div>"
            ],
            "text/plain": [
              "   year     company  profit_per_one_trip\n",
              "0  2016    Pink Cab            76.975326\n",
              "1  2016  Yellow Cab           202.013459"
            ]
          },
          "metadata": {
            "tags": []
          },
          "execution_count": 69
        }
      ]
    },
    {
      "cell_type": "markdown",
      "metadata": {
        "id": "QPlL1g8Oobsd"
      },
      "source": [
        "in 2018, profit margin has decreased in the Pink cab.\n",
        "Compared to Yellow cab profit, Pink cab profit is much less ."
      ]
    },
    {
      "cell_type": "code",
      "metadata": {
        "id": "rcEwxN6gOrKc",
        "colab": {
          "base_uri": "https://localhost:8080/",
          "height": 346
        },
        "outputId": "00989c74-6542-4be1-95ad-6a309d5a44c5"
      },
      "source": [
        "plt.figure(figsize=(10, 5))\n",
        "sns.barplot(x = 'year' , y= 'profit_per_one_trip' , hue = 'company', data = profit_year)\n",
        "\n",
        "plt.title(\"Profit per year by company\", {\"fontname\":\"fantasy\", \"fontweight\":\"bold\", \"fontsize\":\"medium\"})\n",
        "plt.ylabel(\"Profit\", {\"fontname\": \"serif\", \"fontweight\":\"bold\"})\n",
        "plt.xlabel(\"Year\", {\"fontname\": \"serif\", \"fontweight\":\"bold\"})\n",
        "plt.show()"
      ],
      "execution_count": 70,
      "outputs": [
        {
          "output_type": "display_data",
          "data": {
            "image/png": "[encoded data removed]",
            "text/plain": [
              "<Figure size 720x360 with 1 Axes>"
            ]
          },
          "metadata": {
            "tags": [],
            "needs_background": "light"
          }
        }
      ]
    },
    {
      "cell_type": "markdown",
      "metadata": {
        "id": "v09XxfTCqjiK"
      },
      "source": [
        "**Hypothesis: what's the mean price of each company in every year ?**\n",
        "\n"
      ]
    },
    {
      "cell_type": "code",
      "metadata": {
        "id": "pGVK4ENDp6nj",
        "colab": {
          "base_uri": "https://localhost:8080/",
          "height": 111
        },
        "outputId": "b7f5d4ed-4f1f-45bb-f074-7b7849ba77b4"
      },
      "source": [
        "priceCharg_year = masterData.groupby([masterData['year'], 'company'])['price_charged'].mean().to_frame().reset_index()\n",
        "priceCharg_year"
      ],
      "execution_count": 71,
      "outputs": [
        {
          "output_type": "execute_result",
          "data": {
            "text/html": [
              "<div>\n",
              "<style scoped>\n",
              "    .dataframe tbody tr th:only-of-type {\n",
              "        vertical-align: middle;\n",
              "    }\n",
              "\n",
              "    .dataframe tbody tr th {\n",
              "        vertical-align: top;\n",
              "    }\n",
              "\n",
              "    .dataframe thead th {\n",
              "        text-align: right;\n",
              "    }\n",
              "</style>\n",
              "<table border=\"1\" class=\"dataframe\">\n",
              "  <thead>\n",
              "    <tr style=\"text-align: right;\">\n",
              "      <th></th>\n",
              "      <th>year</th>\n",
              "      <th>company</th>\n",
              "      <th>price_charged</th>\n",
              "    </tr>\n",
              "  </thead>\n",
              "  <tbody>\n",
              "    <tr>\n",
              "      <th>0</th>\n",
              "      <td>2016</td>\n",
              "      <td>Pink Cab</td>\n",
              "      <td>324.987043</td>\n",
              "    </tr>\n",
              "    <tr>\n",
              "      <th>1</th>\n",
              "      <td>2016</td>\n",
              "      <td>Yellow Cab</td>\n",
              "      <td>501.283204</td>\n",
              "    </tr>\n",
              "  </tbody>\n",
              "</table>\n",
              "</div>"
            ],
            "text/plain": [
              "   year     company  price_charged\n",
              "0  2016    Pink Cab     324.987043\n",
              "1  2016  Yellow Cab     501.283204"
            ]
          },
          "metadata": {
            "tags": []
          },
          "execution_count": 71
        }
      ]
    },
    {
      "cell_type": "code",
      "metadata": {
        "id": "RKWFfjR3p7J-",
        "colab": {
          "base_uri": "https://localhost:8080/",
          "height": 346
        },
        "outputId": "dfed0d84-adbc-4bf9-ed4a-0127fe12c7a2"
      },
      "source": [
        "plt.figure(figsize=(10, 5))\n",
        "\n",
        "sns.barplot(x = 'year' , y= 'price_charged' , hue = 'company', data = priceCharg_year)\n",
        "\n",
        "plt.title(\"Price/year for each company\", {\"fontname\":\"fantasy\", \"fontweight\":\"bold\", \"fontsize\":\"medium\"})\n",
        "plt.ylabel(\"Price\", {\"fontname\": \"serif\", \"fontweight\":\"bold\"})\n",
        "plt.xlabel(\"Year\", {\"fontname\": \"serif\", \"fontweight\":\"bold\"})\n",
        "plt.show()"
      ],
      "execution_count": 72,
      "outputs": [
        {
          "output_type": "display_data",
          "data": {
            "image/png": "[encoded data removed]",
            "text/plain": [
              "<Figure size 720x360 with 1 Axes>"
            ]
          },
          "metadata": {
            "tags": [],
            "needs_background": "light"
          }
        }
      ]
    },
    {
      "cell_type": "markdown",
      "metadata": {
        "id": "10Imr4MZrm1d"
      },
      "source": [
        "Yellow Company has the highest price charged along three years."
      ]
    },
    {
      "cell_type": "markdown",
      "metadata": {
        "id": "YQkze69aVW7j"
      },
      "source": [
        "**Hypothesis: Which company has maximum cab users every year?**\n"
      ]
    },
    {
      "cell_type": "code",
      "metadata": {
        "id": "71eWXuf9p7y5",
        "colab": {
          "base_uri": "https://localhost:8080/",
          "height": 111
        },
        "outputId": "4f70d054-6b98-41fb-de3b-e10cae977507"
      },
      "source": [
        "customer_per_year = masterData.groupby([masterData['year'], 'company'])['customer_id'].count().to_frame().reset_index()\n",
        "customer_per_year"
      ],
      "execution_count": 73,
      "outputs": [
        {
          "output_type": "execute_result",
          "data": {
            "text/html": [
              "<div>\n",
              "<style scoped>\n",
              "    .dataframe tbody tr th:only-of-type {\n",
              "        vertical-align: middle;\n",
              "    }\n",
              "\n",
              "    .dataframe tbody tr th {\n",
              "        vertical-align: top;\n",
              "    }\n",
              "\n",
              "    .dataframe thead th {\n",
              "        text-align: right;\n",
              "    }\n",
              "</style>\n",
              "<table border=\"1\" class=\"dataframe\">\n",
              "  <thead>\n",
              "    <tr style=\"text-align: right;\">\n",
              "      <th></th>\n",
              "      <th>year</th>\n",
              "      <th>company</th>\n",
              "      <th>customer_id</th>\n",
              "    </tr>\n",
              "  </thead>\n",
              "  <tbody>\n",
              "    <tr>\n",
              "      <th>0</th>\n",
              "      <td>2016</td>\n",
              "      <td>Pink Cab</td>\n",
              "      <td>3297</td>\n",
              "    </tr>\n",
              "    <tr>\n",
              "      <th>1</th>\n",
              "      <td>2016</td>\n",
              "      <td>Yellow Cab</td>\n",
              "      <td>13084</td>\n",
              "    </tr>\n",
              "  </tbody>\n",
              "</table>\n",
              "</div>"
            ],
            "text/plain": [
              "   year     company  customer_id\n",
              "0  2016    Pink Cab         3297\n",
              "1  2016  Yellow Cab        13084"
            ]
          },
          "metadata": {
            "tags": []
          },
          "execution_count": 73
        }
      ]
    },
    {
      "cell_type": "code",
      "metadata": {
        "id": "IHNMVC6wtqqC",
        "colab": {
          "base_uri": "https://localhost:8080/",
          "height": 346
        },
        "outputId": "f1ccccbe-a0ad-4571-96f8-678558f7b6ef"
      },
      "source": [
        "plt.figure(figsize=(10, 5))\n",
        "\n",
        "sns.barplot(x = 'year' , y= 'customer_id' , hue = 'company', data = customer_per_year)\n",
        "\n",
        "plt.title(\"Customers/year for each company\", {\"fontname\":\"fantasy\", \"fontweight\":\"bold\", \"fontsize\":\"medium\"})\n",
        "plt.ylabel(\"Customers\", {\"fontname\": \"serif\", \"fontweight\":\"bold\"})\n",
        "plt.xlabel(\"Year\", {\"fontname\": \"serif\", \"fontweight\":\"bold\"})\n",
        "plt.show()"
      ],
      "execution_count": 74,
      "outputs": [
        {
          "output_type": "display_data",
          "data": {
            "image/png": "[encoded data removed]",
            "text/plain": [
              "<Figure size 720x360 with 1 Axes>"
            ]
          },
          "metadata": {
            "tags": [],
            "needs_background": "light"
          }
        }
      ]
    },
    {
      "cell_type": "markdown",
      "metadata": {
        "id": "TK7wk1Evt9BM"
      },
      "source": [
        "Over years, Yellow company has the highest number of customers, especially in 2017\n",
        "\n"
      ]
    },
    {
      "cell_type": "markdown",
      "metadata": {
        "id": "ziju9wwNJsV4"
      },
      "source": [
        "**Add Us holidays data set**"
      ]
    },
    {
      "cell_type": "code",
      "metadata": {
        "colab": {
          "base_uri": "https://localhost:8080/",
          "height": 204
        },
        "id": "VgCeVXU_A-Lt",
        "outputId": "d3383e80-d264-47d1-a4d4-d1ffafcf05ff"
      },
      "source": [
        "import pandas as pd\n",
        "holiday = pd.read_csv('https://query.data.world/s/xfi2xhr5c5zo2l3ryb3ldbbxdnqfc2')\n",
        "holiday.head()"
      ],
      "execution_count": 75,
      "outputs": [
        {
          "output_type": "execute_result",
          "data": {
            "text/html": [
              "<div>\n",
              "<style scoped>\n",
              "    .dataframe tbody tr th:only-of-type {\n",
              "        vertical-align: middle;\n",
              "    }\n",
              "\n",
              "    .dataframe tbody tr th {\n",
              "        vertical-align: top;\n",
              "    }\n",
              "\n",
              "    .dataframe thead th {\n",
              "        text-align: right;\n",
              "    }\n",
              "</style>\n",
              "<table border=\"1\" class=\"dataframe\">\n",
              "  <thead>\n",
              "    <tr style=\"text-align: right;\">\n",
              "      <th></th>\n",
              "      <th>Date</th>\n",
              "      <th>Holiday</th>\n",
              "    </tr>\n",
              "  </thead>\n",
              "  <tbody>\n",
              "    <tr>\n",
              "      <th>0</th>\n",
              "      <td>12/31/2010</td>\n",
              "      <td>New Year's Day</td>\n",
              "    </tr>\n",
              "    <tr>\n",
              "      <th>1</th>\n",
              "      <td>1/17/2011</td>\n",
              "      <td>Birthday of Martin Luther King, Jr.</td>\n",
              "    </tr>\n",
              "    <tr>\n",
              "      <th>2</th>\n",
              "      <td>2/21/2011</td>\n",
              "      <td>Washington's Birthday</td>\n",
              "    </tr>\n",
              "    <tr>\n",
              "      <th>3</th>\n",
              "      <td>5/30/2011</td>\n",
              "      <td>Memorial Day</td>\n",
              "    </tr>\n",
              "    <tr>\n",
              "      <th>4</th>\n",
              "      <td>7/4/2011</td>\n",
              "      <td>Independence Day</td>\n",
              "    </tr>\n",
              "  </tbody>\n",
              "</table>\n",
              "</div>"
            ],
            "text/plain": [
              "         Date                              Holiday\n",
              "0  12/31/2010                       New Year's Day\n",
              "1   1/17/2011  Birthday of Martin Luther King, Jr.\n",
              "2   2/21/2011                Washington's Birthday\n",
              "3   5/30/2011                         Memorial Day\n",
              "4    7/4/2011                     Independence Day"
            ]
          },
          "metadata": {
            "tags": []
          },
          "execution_count": 75
        }
      ]
    },
    {
      "cell_type": "code",
      "metadata": {
        "id": "_Sd243wVBepB"
      },
      "source": [
        "holiday['Date'] = pd.to_datetime(holiday['Date'])"
      ],
      "execution_count": 76,
      "outputs": []
    },
    {
      "cell_type": "code",
      "metadata": {
        "colab": {
          "base_uri": "https://localhost:8080/",
          "height": 419
        },
        "id": "7CeCXedWPm3T",
        "outputId": "20d5dbf5-6059-4c5e-ef70-9d0886390eb4"
      },
      "source": [
        "holiday['weekend'] = pd.DatetimeIndex(holiday[\"Date\"]).dayofweek\n",
        "holiday.head(100)"
      ],
      "execution_count": 77,
      "outputs": [
        {
          "output_type": "execute_result",
          "data": {
            "text/html": [
              "<div>\n",
              "<style scoped>\n",
              "    .dataframe tbody tr th:only-of-type {\n",
              "        vertical-align: middle;\n",
              "    }\n",
              "\n",
              "    .dataframe tbody tr th {\n",
              "        vertical-align: top;\n",
              "    }\n",
              "\n",
              "    .dataframe thead th {\n",
              "        text-align: right;\n",
              "    }\n",
              "</style>\n",
              "<table border=\"1\" class=\"dataframe\">\n",
              "  <thead>\n",
              "    <tr style=\"text-align: right;\">\n",
              "      <th></th>\n",
              "      <th>Date</th>\n",
              "      <th>Holiday</th>\n",
              "      <th>weekend</th>\n",
              "    </tr>\n",
              "  </thead>\n",
              "  <tbody>\n",
              "    <tr>\n",
              "      <th>0</th>\n",
              "      <td>2010-12-31</td>\n",
              "      <td>New Year's Day</td>\n",
              "      <td>4</td>\n",
              "    </tr>\n",
              "    <tr>\n",
              "      <th>1</th>\n",
              "      <td>2011-01-17</td>\n",
              "      <td>Birthday of Martin Luther King, Jr.</td>\n",
              "      <td>0</td>\n",
              "    </tr>\n",
              "    <tr>\n",
              "      <th>2</th>\n",
              "      <td>2011-02-21</td>\n",
              "      <td>Washington's Birthday</td>\n",
              "      <td>0</td>\n",
              "    </tr>\n",
              "    <tr>\n",
              "      <th>3</th>\n",
              "      <td>2011-05-30</td>\n",
              "      <td>Memorial Day</td>\n",
              "      <td>0</td>\n",
              "    </tr>\n",
              "    <tr>\n",
              "      <th>4</th>\n",
              "      <td>2011-07-04</td>\n",
              "      <td>Independence Day</td>\n",
              "      <td>0</td>\n",
              "    </tr>\n",
              "    <tr>\n",
              "      <th>...</th>\n",
              "      <td>...</td>\n",
              "      <td>...</td>\n",
              "      <td>...</td>\n",
              "    </tr>\n",
              "    <tr>\n",
              "      <th>95</th>\n",
              "      <td>2020-09-07</td>\n",
              "      <td>Labor Day</td>\n",
              "      <td>0</td>\n",
              "    </tr>\n",
              "    <tr>\n",
              "      <th>96</th>\n",
              "      <td>2020-10-12</td>\n",
              "      <td>Columbus Day</td>\n",
              "      <td>0</td>\n",
              "    </tr>\n",
              "    <tr>\n",
              "      <th>97</th>\n",
              "      <td>2020-11-11</td>\n",
              "      <td>Veterans Day</td>\n",
              "      <td>2</td>\n",
              "    </tr>\n",
              "    <tr>\n",
              "      <th>98</th>\n",
              "      <td>2020-11-26</td>\n",
              "      <td>Thanksgiving Day</td>\n",
              "      <td>3</td>\n",
              "    </tr>\n",
              "    <tr>\n",
              "      <th>99</th>\n",
              "      <td>2020-12-25</td>\n",
              "      <td>Christmas Day</td>\n",
              "      <td>4</td>\n",
              "    </tr>\n",
              "  </tbody>\n",
              "</table>\n",
              "<p>100 rows × 3 columns</p>\n",
              "</div>"
            ],
            "text/plain": [
              "         Date                              Holiday  weekend\n",
              "0  2010-12-31                       New Year's Day        4\n",
              "1  2011-01-17  Birthday of Martin Luther King, Jr.        0\n",
              "2  2011-02-21                Washington's Birthday        0\n",
              "3  2011-05-30                         Memorial Day        0\n",
              "4  2011-07-04                     Independence Day        0\n",
              "..        ...                                  ...      ...\n",
              "95 2020-09-07                            Labor Day        0\n",
              "96 2020-10-12                         Columbus Day        0\n",
              "97 2020-11-11                         Veterans Day        2\n",
              "98 2020-11-26                     Thanksgiving Day        3\n",
              "99 2020-12-25                        Christmas Day        4\n",
              "\n",
              "[100 rows x 3 columns]"
            ]
          },
          "metadata": {
            "tags": []
          },
          "execution_count": 77
        }
      ]
    },
    {
      "cell_type": "code",
      "metadata": {
        "colab": {
          "base_uri": "https://localhost:8080/",
          "height": 204
        },
        "id": "fzWS-KC5p_Db",
        "outputId": "161861d3-5b14-4e59-d239-da62eef0e901"
      },
      "source": [
        "holiday.head()"
      ],
      "execution_count": 78,
      "outputs": [
        {
          "output_type": "execute_result",
          "data": {
            "text/html": [
              "<div>\n",
              "<style scoped>\n",
              "    .dataframe tbody tr th:only-of-type {\n",
              "        vertical-align: middle;\n",
              "    }\n",
              "\n",
              "    .dataframe tbody tr th {\n",
              "        vertical-align: top;\n",
              "    }\n",
              "\n",
              "    .dataframe thead th {\n",
              "        text-align: right;\n",
              "    }\n",
              "</style>\n",
              "<table border=\"1\" class=\"dataframe\">\n",
              "  <thead>\n",
              "    <tr style=\"text-align: right;\">\n",
              "      <th></th>\n",
              "      <th>Date</th>\n",
              "      <th>Holiday</th>\n",
              "      <th>weekend</th>\n",
              "    </tr>\n",
              "  </thead>\n",
              "  <tbody>\n",
              "    <tr>\n",
              "      <th>0</th>\n",
              "      <td>2010-12-31</td>\n",
              "      <td>New Year's Day</td>\n",
              "      <td>4</td>\n",
              "    </tr>\n",
              "    <tr>\n",
              "      <th>1</th>\n",
              "      <td>2011-01-17</td>\n",
              "      <td>Birthday of Martin Luther King, Jr.</td>\n",
              "      <td>0</td>\n",
              "    </tr>\n",
              "    <tr>\n",
              "      <th>2</th>\n",
              "      <td>2011-02-21</td>\n",
              "      <td>Washington's Birthday</td>\n",
              "      <td>0</td>\n",
              "    </tr>\n",
              "    <tr>\n",
              "      <th>3</th>\n",
              "      <td>2011-05-30</td>\n",
              "      <td>Memorial Day</td>\n",
              "      <td>0</td>\n",
              "    </tr>\n",
              "    <tr>\n",
              "      <th>4</th>\n",
              "      <td>2011-07-04</td>\n",
              "      <td>Independence Day</td>\n",
              "      <td>0</td>\n",
              "    </tr>\n",
              "  </tbody>\n",
              "</table>\n",
              "</div>"
            ],
            "text/plain": [
              "        Date                              Holiday  weekend\n",
              "0 2010-12-31                       New Year's Day        4\n",
              "1 2011-01-17  Birthday of Martin Luther King, Jr.        0\n",
              "2 2011-02-21                Washington's Birthday        0\n",
              "3 2011-05-30                         Memorial Day        0\n",
              "4 2011-07-04                     Independence Day        0"
            ]
          },
          "metadata": {
            "tags": []
          },
          "execution_count": 78
        }
      ]
    },
    {
      "cell_type": "code",
      "metadata": {
        "colab": {
          "base_uri": "https://localhost:8080/"
        },
        "id": "2U476QyUzTy0",
        "outputId": "002ccf76-5100-428e-88cd-6f26866bba42"
      },
      "source": [
        "holiday.info()"
      ],
      "execution_count": 79,
      "outputs": [
        {
          "output_type": "stream",
          "text": [
            "<class 'pandas.core.frame.DataFrame'>\n",
            "RangeIndex: 100 entries, 0 to 99\n",
            "Data columns (total 3 columns):\n",
            " #   Column   Non-Null Count  Dtype         \n",
            "---  ------   --------------  -----         \n",
            " 0   Date     100 non-null    datetime64[ns]\n",
            " 1   Holiday  100 non-null    object        \n",
            " 2   weekend  100 non-null    int64         \n",
            "dtypes: datetime64[ns](1), int64(1), object(1)\n",
            "memory usage: 2.5+ KB\n"
          ],
          "name": "stdout"
        }
      ]
    },
    {
      "cell_type": "code",
      "metadata": {
        "colab": {
          "base_uri": "https://localhost:8080/"
        },
        "id": "4-ieLowszXm5",
        "outputId": "c4abc3a3-09a0-4f47-cb89-7fbe25e5cb64"
      },
      "source": [
        "holiday.isnull().sum()"
      ],
      "execution_count": 80,
      "outputs": [
        {
          "output_type": "execute_result",
          "data": {
            "text/plain": [
              "Date       0\n",
              "Holiday    0\n",
              "weekend    0\n",
              "dtype: int64"
            ]
          },
          "metadata": {
            "tags": []
          },
          "execution_count": 80
        }
      ]
    },
    {
      "cell_type": "code",
      "metadata": {
        "colab": {
          "base_uri": "https://localhost:8080/",
          "height": 343
        },
        "id": "fD3_C4mgqA8j",
        "outputId": "218e8b35-2b85-4548-fc2a-48ac4c20c9ba"
      },
      "source": [
        "#holiday['Date'] = pd.to_datetime(holiday['Date'])\n",
        "holiday.sort_values(by='Date', inplace=True)\n",
        "holiday.reset_index().set_index('Date',drop=False, inplace=True)\n",
        "\n",
        "masterData = pd.merge(masterData, holiday, left_index=True, right_index=True)\n",
        "masterData.head()"
      ],
      "execution_count": 81,
      "outputs": [
        {
          "output_type": "execute_result",
          "data": {
            "text/html": [
              "<div>\n",
              "<style scoped>\n",
              "    .dataframe tbody tr th:only-of-type {\n",
              "        vertical-align: middle;\n",
              "    }\n",
              "\n",
              "    .dataframe tbody tr th {\n",
              "        vertical-align: top;\n",
              "    }\n",
              "\n",
              "    .dataframe thead th {\n",
              "        text-align: right;\n",
              "    }\n",
              "</style>\n",
              "<table border=\"1\" class=\"dataframe\">\n",
              "  <thead>\n",
              "    <tr style=\"text-align: right;\">\n",
              "      <th></th>\n",
              "      <th>Unnamed: 0</th>\n",
              "      <th>transaction_id</th>\n",
              "      <th>date_of_travel</th>\n",
              "      <th>company</th>\n",
              "      <th>city</th>\n",
              "      <th>km_travelled</th>\n",
              "      <th>price_charged</th>\n",
              "      <th>cost_of_trip</th>\n",
              "      <th>customer_id</th>\n",
              "      <th>payment_mode</th>\n",
              "      <th>gender</th>\n",
              "      <th>age</th>\n",
              "      <th>income_(usd/month)</th>\n",
              "      <th>population</th>\n",
              "      <th>users</th>\n",
              "      <th>day</th>\n",
              "      <th>Weekday</th>\n",
              "      <th>month</th>\n",
              "      <th>year</th>\n",
              "      <th>profit_per_one_trip</th>\n",
              "      <th>profit_per_km</th>\n",
              "      <th>price_per_km</th>\n",
              "      <th>cost_per_km</th>\n",
              "      <th>Date</th>\n",
              "      <th>Holiday</th>\n",
              "      <th>weekend</th>\n",
              "    </tr>\n",
              "  </thead>\n",
              "  <tbody>\n",
              "    <tr>\n",
              "      <th>0</th>\n",
              "      <td>0</td>\n",
              "      <td>10000011</td>\n",
              "      <td>08/01/2016</td>\n",
              "      <td>Pink Cab</td>\n",
              "      <td>ATLANTA GA</td>\n",
              "      <td>30.45</td>\n",
              "      <td>370.95</td>\n",
              "      <td>313.635</td>\n",
              "      <td>29290</td>\n",
              "      <td>Card</td>\n",
              "      <td>Male</td>\n",
              "      <td>28</td>\n",
              "      <td>10813</td>\n",
              "      <td>814,885</td>\n",
              "      <td>24,701</td>\n",
              "      <td>1</td>\n",
              "      <td>0</td>\n",
              "      <td>8</td>\n",
              "      <td>2016</td>\n",
              "      <td>57.315</td>\n",
              "      <td>1.882266</td>\n",
              "      <td>12.182266</td>\n",
              "      <td>10.3</td>\n",
              "      <td>2010-12-31</td>\n",
              "      <td>New Year's Day</td>\n",
              "      <td>4</td>\n",
              "    </tr>\n",
              "    <tr>\n",
              "      <th>1</th>\n",
              "      <td>1</td>\n",
              "      <td>10000012</td>\n",
              "      <td>06/01/2016</td>\n",
              "      <td>Pink Cab</td>\n",
              "      <td>ATLANTA GA</td>\n",
              "      <td>28.62</td>\n",
              "      <td>358.52</td>\n",
              "      <td>334.854</td>\n",
              "      <td>27703</td>\n",
              "      <td>Card</td>\n",
              "      <td>Male</td>\n",
              "      <td>27</td>\n",
              "      <td>9237</td>\n",
              "      <td>814,885</td>\n",
              "      <td>24,701</td>\n",
              "      <td>1</td>\n",
              "      <td>2</td>\n",
              "      <td>6</td>\n",
              "      <td>2016</td>\n",
              "      <td>23.666</td>\n",
              "      <td>0.826904</td>\n",
              "      <td>12.526904</td>\n",
              "      <td>11.7</td>\n",
              "      <td>2011-01-17</td>\n",
              "      <td>Birthday of Martin Luther King, Jr.</td>\n",
              "      <td>0</td>\n",
              "    </tr>\n",
              "    <tr>\n",
              "      <th>2</th>\n",
              "      <td>2</td>\n",
              "      <td>10000013</td>\n",
              "      <td>02/01/2016</td>\n",
              "      <td>Pink Cab</td>\n",
              "      <td>ATLANTA GA</td>\n",
              "      <td>9.04</td>\n",
              "      <td>125.20</td>\n",
              "      <td>97.632</td>\n",
              "      <td>28712</td>\n",
              "      <td>Cash</td>\n",
              "      <td>Male</td>\n",
              "      <td>53</td>\n",
              "      <td>11242</td>\n",
              "      <td>814,885</td>\n",
              "      <td>24,701</td>\n",
              "      <td>1</td>\n",
              "      <td>0</td>\n",
              "      <td>2</td>\n",
              "      <td>2016</td>\n",
              "      <td>27.568</td>\n",
              "      <td>3.049558</td>\n",
              "      <td>13.849558</td>\n",
              "      <td>10.8</td>\n",
              "      <td>2011-02-21</td>\n",
              "      <td>Washington's Birthday</td>\n",
              "      <td>0</td>\n",
              "    </tr>\n",
              "    <tr>\n",
              "      <th>3</th>\n",
              "      <td>3</td>\n",
              "      <td>10000014</td>\n",
              "      <td>07/01/2016</td>\n",
              "      <td>Pink Cab</td>\n",
              "      <td>ATLANTA GA</td>\n",
              "      <td>33.17</td>\n",
              "      <td>377.40</td>\n",
              "      <td>351.602</td>\n",
              "      <td>28020</td>\n",
              "      <td>Cash</td>\n",
              "      <td>Male</td>\n",
              "      <td>23</td>\n",
              "      <td>23327</td>\n",
              "      <td>814,885</td>\n",
              "      <td>24,701</td>\n",
              "      <td>1</td>\n",
              "      <td>4</td>\n",
              "      <td>7</td>\n",
              "      <td>2016</td>\n",
              "      <td>25.798</td>\n",
              "      <td>0.777751</td>\n",
              "      <td>11.377751</td>\n",
              "      <td>10.6</td>\n",
              "      <td>2011-05-30</td>\n",
              "      <td>Memorial Day</td>\n",
              "      <td>0</td>\n",
              "    </tr>\n",
              "    <tr>\n",
              "      <th>4</th>\n",
              "      <td>4</td>\n",
              "      <td>10000015</td>\n",
              "      <td>03/01/2016</td>\n",
              "      <td>Pink Cab</td>\n",
              "      <td>ATLANTA GA</td>\n",
              "      <td>8.73</td>\n",
              "      <td>114.62</td>\n",
              "      <td>97.776</td>\n",
              "      <td>27182</td>\n",
              "      <td>Card</td>\n",
              "      <td>Male</td>\n",
              "      <td>33</td>\n",
              "      <td>8536</td>\n",
              "      <td>814,885</td>\n",
              "      <td>24,701</td>\n",
              "      <td>1</td>\n",
              "      <td>1</td>\n",
              "      <td>3</td>\n",
              "      <td>2016</td>\n",
              "      <td>16.844</td>\n",
              "      <td>1.929439</td>\n",
              "      <td>13.129439</td>\n",
              "      <td>11.2</td>\n",
              "      <td>2011-07-04</td>\n",
              "      <td>Independence Day</td>\n",
              "      <td>0</td>\n",
              "    </tr>\n",
              "  </tbody>\n",
              "</table>\n",
              "</div>"
            ],
            "text/plain": [
              "   Unnamed: 0  transaction_id  ...                              Holiday weekend\n",
              "0           0        10000011  ...                       New Year's Day       4\n",
              "1           1        10000012  ...  Birthday of Martin Luther King, Jr.       0\n",
              "2           2        10000013  ...                Washington's Birthday       0\n",
              "3           3        10000014  ...                         Memorial Day       0\n",
              "4           4        10000015  ...                     Independence Day       0\n",
              "\n",
              "[5 rows x 26 columns]"
            ]
          },
          "metadata": {
            "tags": []
          },
          "execution_count": 81
        }
      ]
    },
    {
      "cell_type": "code",
      "metadata": {
        "id": "l8_vQdLuC6Yf"
      },
      "source": [
        "masterData.to_csv('masterDataNew.csv', sep=';')"
      ],
      "execution_count": 82,
      "outputs": []
    },
    {
      "cell_type": "code",
      "metadata": {
        "id": "xjOiDOa389dC"
      },
      "source": [
        "masterData=pd.read_csv(\"masterDataNew (1).csv\" , sep=';')\n"
      ],
      "execution_count": 83,
      "outputs": []
    },
    {
      "cell_type": "markdown",
      "metadata": {
        "id": "7USTo-4D9Vob"
      },
      "source": [
        "Due to the difficulty to replace Null weekend value with False and the rest with True, Excel is used."
      ]
    },
    {
      "cell_type": "code",
      "metadata": {
        "colab": {
          "base_uri": "https://localhost:8080/",
          "height": 1000
        },
        "id": "cPeWFXp6qCK4",
        "outputId": "7c7f77fb-8a36-4c64-dde0-7fd9482b3b5c"
      },
      "source": [
        "masterData.head(20)"
      ],
      "execution_count": 84,
      "outputs": [
        {
          "output_type": "execute_result",
          "data": {
            "text/html": [
              "<div>\n",
              "<style scoped>\n",
              "    .dataframe tbody tr th:only-of-type {\n",
              "        vertical-align: middle;\n",
              "    }\n",
              "\n",
              "    .dataframe tbody tr th {\n",
              "        vertical-align: top;\n",
              "    }\n",
              "\n",
              "    .dataframe thead th {\n",
              "        text-align: right;\n",
              "    }\n",
              "</style>\n",
              "<table border=\"1\" class=\"dataframe\">\n",
              "  <thead>\n",
              "    <tr style=\"text-align: right;\">\n",
              "      <th></th>\n",
              "      <th>Unnamed: 0</th>\n",
              "      <th>Unnamed: 0.1</th>\n",
              "      <th>transaction_id</th>\n",
              "      <th>date_of_travel</th>\n",
              "      <th>company</th>\n",
              "      <th>city</th>\n",
              "      <th>km_travelled</th>\n",
              "      <th>price_charged</th>\n",
              "      <th>cost_of_trip</th>\n",
              "      <th>customer_id</th>\n",
              "      <th>payment_mode</th>\n",
              "      <th>gender</th>\n",
              "      <th>age</th>\n",
              "      <th>income_(usd/month)</th>\n",
              "      <th>population</th>\n",
              "      <th>users</th>\n",
              "      <th>day</th>\n",
              "      <th>Weekday</th>\n",
              "      <th>month</th>\n",
              "      <th>year</th>\n",
              "      <th>profit_per_one_trip</th>\n",
              "      <th>profit_per_km</th>\n",
              "      <th>price_per_km</th>\n",
              "      <th>cost_per_km</th>\n",
              "      <th>Date_x</th>\n",
              "      <th>Holiday_x</th>\n",
              "      <th>weekend_x</th>\n",
              "      <th>Date_y</th>\n",
              "      <th>Holiday_y</th>\n",
              "      <th>weekend_y</th>\n",
              "    </tr>\n",
              "  </thead>\n",
              "  <tbody>\n",
              "    <tr>\n",
              "      <th>0</th>\n",
              "      <td>0</td>\n",
              "      <td>0</td>\n",
              "      <td>10000011</td>\n",
              "      <td>08/01/2016</td>\n",
              "      <td>Pink Cab</td>\n",
              "      <td>ATLANTA GA</td>\n",
              "      <td>30.45</td>\n",
              "      <td>370.95</td>\n",
              "      <td>313.6350</td>\n",
              "      <td>29290</td>\n",
              "      <td>Card</td>\n",
              "      <td>Male</td>\n",
              "      <td>28</td>\n",
              "      <td>10813</td>\n",
              "      <td>814,885</td>\n",
              "      <td>24,701</td>\n",
              "      <td>1</td>\n",
              "      <td>0</td>\n",
              "      <td>8</td>\n",
              "      <td>2016</td>\n",
              "      <td>57.3150</td>\n",
              "      <td>1.882266</td>\n",
              "      <td>12.182266</td>\n",
              "      <td>10.30</td>\n",
              "      <td>31/12/2010</td>\n",
              "      <td>New Year's Day</td>\n",
              "      <td>False</td>\n",
              "      <td>31/12/2010</td>\n",
              "      <td>New Year's Day</td>\n",
              "      <td>True</td>\n",
              "    </tr>\n",
              "    <tr>\n",
              "      <th>1</th>\n",
              "      <td>1</td>\n",
              "      <td>1</td>\n",
              "      <td>10351127</td>\n",
              "      <td>21/07/2018</td>\n",
              "      <td>Yellow Cab</td>\n",
              "      <td>ATLANTA GA</td>\n",
              "      <td>26.19</td>\n",
              "      <td>598.70</td>\n",
              "      <td>317.4228</td>\n",
              "      <td>29290</td>\n",
              "      <td>Cash</td>\n",
              "      <td>Male</td>\n",
              "      <td>28</td>\n",
              "      <td>10813</td>\n",
              "      <td>814,885</td>\n",
              "      <td>24,701</td>\n",
              "      <td>21</td>\n",
              "      <td>5</td>\n",
              "      <td>7</td>\n",
              "      <td>2018</td>\n",
              "      <td>281.2772</td>\n",
              "      <td>10.739870</td>\n",
              "      <td>22.859870</td>\n",
              "      <td>12.12</td>\n",
              "      <td>17/01/2011</td>\n",
              "      <td>Birthday of Martin Luther King, Jr.</td>\n",
              "      <td>False</td>\n",
              "      <td>17/01/2011</td>\n",
              "      <td>Birthday of Martin Luther King, Jr.</td>\n",
              "      <td>False</td>\n",
              "    </tr>\n",
              "    <tr>\n",
              "      <th>2</th>\n",
              "      <td>2</td>\n",
              "      <td>2</td>\n",
              "      <td>10412921</td>\n",
              "      <td>23/11/2018</td>\n",
              "      <td>Yellow Cab</td>\n",
              "      <td>ATLANTA GA</td>\n",
              "      <td>42.55</td>\n",
              "      <td>792.05</td>\n",
              "      <td>597.4020</td>\n",
              "      <td>29290</td>\n",
              "      <td>Card</td>\n",
              "      <td>Male</td>\n",
              "      <td>28</td>\n",
              "      <td>10813</td>\n",
              "      <td>814,885</td>\n",
              "      <td>24,701</td>\n",
              "      <td>23</td>\n",
              "      <td>4</td>\n",
              "      <td>11</td>\n",
              "      <td>2018</td>\n",
              "      <td>194.6480</td>\n",
              "      <td>4.574571</td>\n",
              "      <td>18.614571</td>\n",
              "      <td>14.04</td>\n",
              "      <td>21/02/2011</td>\n",
              "      <td>Washington's Birthday</td>\n",
              "      <td>False</td>\n",
              "      <td>21/02/2011</td>\n",
              "      <td>Washington's Birthday</td>\n",
              "      <td>False</td>\n",
              "    </tr>\n",
              "    <tr>\n",
              "      <th>3</th>\n",
              "      <td>3</td>\n",
              "      <td>3</td>\n",
              "      <td>10000012</td>\n",
              "      <td>06/01/2016</td>\n",
              "      <td>Pink Cab</td>\n",
              "      <td>ATLANTA GA</td>\n",
              "      <td>28.62</td>\n",
              "      <td>358.52</td>\n",
              "      <td>334.8540</td>\n",
              "      <td>27703</td>\n",
              "      <td>Card</td>\n",
              "      <td>Male</td>\n",
              "      <td>27</td>\n",
              "      <td>9237</td>\n",
              "      <td>814,885</td>\n",
              "      <td>24,701</td>\n",
              "      <td>1</td>\n",
              "      <td>2</td>\n",
              "      <td>6</td>\n",
              "      <td>2016</td>\n",
              "      <td>23.6660</td>\n",
              "      <td>0.826904</td>\n",
              "      <td>12.526904</td>\n",
              "      <td>11.70</td>\n",
              "      <td>30/05/2011</td>\n",
              "      <td>Memorial Day</td>\n",
              "      <td>False</td>\n",
              "      <td>30/05/2011</td>\n",
              "      <td>Memorial Day</td>\n",
              "      <td>False</td>\n",
              "    </tr>\n",
              "    <tr>\n",
              "      <th>4</th>\n",
              "      <td>4</td>\n",
              "      <td>4</td>\n",
              "      <td>10320494</td>\n",
              "      <td>21/04/2018</td>\n",
              "      <td>Yellow Cab</td>\n",
              "      <td>ATLANTA GA</td>\n",
              "      <td>36.38</td>\n",
              "      <td>721.10</td>\n",
              "      <td>467.1192</td>\n",
              "      <td>27703</td>\n",
              "      <td>Card</td>\n",
              "      <td>Male</td>\n",
              "      <td>27</td>\n",
              "      <td>9237</td>\n",
              "      <td>814,885</td>\n",
              "      <td>24,701</td>\n",
              "      <td>21</td>\n",
              "      <td>5</td>\n",
              "      <td>4</td>\n",
              "      <td>2018</td>\n",
              "      <td>253.9808</td>\n",
              "      <td>6.981330</td>\n",
              "      <td>19.821330</td>\n",
              "      <td>12.84</td>\n",
              "      <td>04/07/2011</td>\n",
              "      <td>Independence Day</td>\n",
              "      <td>False</td>\n",
              "      <td>04/07/2011</td>\n",
              "      <td>Independence Day</td>\n",
              "      <td>False</td>\n",
              "    </tr>\n",
              "    <tr>\n",
              "      <th>5</th>\n",
              "      <td>5</td>\n",
              "      <td>5</td>\n",
              "      <td>10324737</td>\n",
              "      <td>04/05/2018</td>\n",
              "      <td>Yellow Cab</td>\n",
              "      <td>ATLANTA GA</td>\n",
              "      <td>6.18</td>\n",
              "      <td>138.40</td>\n",
              "      <td>87.5088</td>\n",
              "      <td>27703</td>\n",
              "      <td>Cash</td>\n",
              "      <td>Male</td>\n",
              "      <td>27</td>\n",
              "      <td>9237</td>\n",
              "      <td>814,885</td>\n",
              "      <td>24,701</td>\n",
              "      <td>5</td>\n",
              "      <td>3</td>\n",
              "      <td>4</td>\n",
              "      <td>2018</td>\n",
              "      <td>50.8912</td>\n",
              "      <td>8.234822</td>\n",
              "      <td>22.394822</td>\n",
              "      <td>14.16</td>\n",
              "      <td>05/09/2011</td>\n",
              "      <td>Labor Day</td>\n",
              "      <td>False</td>\n",
              "      <td>05/09/2011</td>\n",
              "      <td>Labor Day</td>\n",
              "      <td>False</td>\n",
              "    </tr>\n",
              "    <tr>\n",
              "      <th>6</th>\n",
              "      <td>6</td>\n",
              "      <td>6</td>\n",
              "      <td>10395626</td>\n",
              "      <td>27/10/2018</td>\n",
              "      <td>Pink Cab</td>\n",
              "      <td>ATLANTA GA</td>\n",
              "      <td>13.39</td>\n",
              "      <td>167.03</td>\n",
              "      <td>141.9340</td>\n",
              "      <td>27703</td>\n",
              "      <td>Card</td>\n",
              "      <td>Male</td>\n",
              "      <td>27</td>\n",
              "      <td>9237</td>\n",
              "      <td>814,885</td>\n",
              "      <td>24,701</td>\n",
              "      <td>27</td>\n",
              "      <td>5</td>\n",
              "      <td>10</td>\n",
              "      <td>2018</td>\n",
              "      <td>25.0960</td>\n",
              "      <td>1.874235</td>\n",
              "      <td>12.474235</td>\n",
              "      <td>10.60</td>\n",
              "      <td>10/10/2011</td>\n",
              "      <td>Columbus Day</td>\n",
              "      <td>False</td>\n",
              "      <td>10/10/2011</td>\n",
              "      <td>Columbus Day</td>\n",
              "      <td>False</td>\n",
              "    </tr>\n",
              "    <tr>\n",
              "      <th>7</th>\n",
              "      <td>7</td>\n",
              "      <td>7</td>\n",
              "      <td>10000013</td>\n",
              "      <td>02/01/2016</td>\n",
              "      <td>Pink Cab</td>\n",
              "      <td>ATLANTA GA</td>\n",
              "      <td>9.04</td>\n",
              "      <td>125.20</td>\n",
              "      <td>97.6320</td>\n",
              "      <td>28712</td>\n",
              "      <td>Cash</td>\n",
              "      <td>Male</td>\n",
              "      <td>53</td>\n",
              "      <td>11242</td>\n",
              "      <td>814,885</td>\n",
              "      <td>24,701</td>\n",
              "      <td>1</td>\n",
              "      <td>0</td>\n",
              "      <td>2</td>\n",
              "      <td>2016</td>\n",
              "      <td>27.5680</td>\n",
              "      <td>3.049558</td>\n",
              "      <td>13.849558</td>\n",
              "      <td>10.80</td>\n",
              "      <td>11/11/2011</td>\n",
              "      <td>Veterans Day</td>\n",
              "      <td>False</td>\n",
              "      <td>11/11/2011</td>\n",
              "      <td>Veterans Day</td>\n",
              "      <td>True</td>\n",
              "    </tr>\n",
              "    <tr>\n",
              "      <th>8</th>\n",
              "      <td>8</td>\n",
              "      <td>8</td>\n",
              "      <td>10079404</td>\n",
              "      <td>21/09/2016</td>\n",
              "      <td>Yellow Cab</td>\n",
              "      <td>ATLANTA GA</td>\n",
              "      <td>39.60</td>\n",
              "      <td>704.30</td>\n",
              "      <td>494.2080</td>\n",
              "      <td>28712</td>\n",
              "      <td>Card</td>\n",
              "      <td>Male</td>\n",
              "      <td>53</td>\n",
              "      <td>11242</td>\n",
              "      <td>814,885</td>\n",
              "      <td>24,701</td>\n",
              "      <td>21</td>\n",
              "      <td>2</td>\n",
              "      <td>9</td>\n",
              "      <td>2016</td>\n",
              "      <td>210.0920</td>\n",
              "      <td>5.305354</td>\n",
              "      <td>17.785354</td>\n",
              "      <td>12.48</td>\n",
              "      <td>24/11/2011</td>\n",
              "      <td>Thanksgiving Day</td>\n",
              "      <td>False</td>\n",
              "      <td>24/11/2011</td>\n",
              "      <td>Thanksgiving Day</td>\n",
              "      <td>True</td>\n",
              "    </tr>\n",
              "    <tr>\n",
              "      <th>9</th>\n",
              "      <td>9</td>\n",
              "      <td>9</td>\n",
              "      <td>10186994</td>\n",
              "      <td>23/06/2017</td>\n",
              "      <td>Yellow Cab</td>\n",
              "      <td>ATLANTA GA</td>\n",
              "      <td>18.19</td>\n",
              "      <td>365.63</td>\n",
              "      <td>246.6564</td>\n",
              "      <td>28712</td>\n",
              "      <td>Card</td>\n",
              "      <td>Male</td>\n",
              "      <td>53</td>\n",
              "      <td>11242</td>\n",
              "      <td>814,885</td>\n",
              "      <td>24,701</td>\n",
              "      <td>23</td>\n",
              "      <td>4</td>\n",
              "      <td>6</td>\n",
              "      <td>2017</td>\n",
              "      <td>118.9736</td>\n",
              "      <td>6.540605</td>\n",
              "      <td>20.100605</td>\n",
              "      <td>13.56</td>\n",
              "      <td>26/12/2011</td>\n",
              "      <td>Christmas Day</td>\n",
              "      <td>False</td>\n",
              "      <td>26/12/2011</td>\n",
              "      <td>Christmas Day</td>\n",
              "      <td>False</td>\n",
              "    </tr>\n",
              "    <tr>\n",
              "      <th>10</th>\n",
              "      <td>10</td>\n",
              "      <td>10</td>\n",
              "      <td>10320493</td>\n",
              "      <td>21/04/2018</td>\n",
              "      <td>Yellow Cab</td>\n",
              "      <td>ATLANTA GA</td>\n",
              "      <td>19.38</td>\n",
              "      <td>326.35</td>\n",
              "      <td>272.0952</td>\n",
              "      <td>28712</td>\n",
              "      <td>Cash</td>\n",
              "      <td>Male</td>\n",
              "      <td>53</td>\n",
              "      <td>11242</td>\n",
              "      <td>814,885</td>\n",
              "      <td>24,701</td>\n",
              "      <td>21</td>\n",
              "      <td>5</td>\n",
              "      <td>4</td>\n",
              "      <td>2018</td>\n",
              "      <td>54.2548</td>\n",
              "      <td>2.799525</td>\n",
              "      <td>16.839525</td>\n",
              "      <td>14.04</td>\n",
              "      <td>02/01/2012</td>\n",
              "      <td>New Year's Day</td>\n",
              "      <td>False</td>\n",
              "      <td>02/01/2012</td>\n",
              "      <td>New Year's Day</td>\n",
              "      <td>False</td>\n",
              "    </tr>\n",
              "    <tr>\n",
              "      <th>11</th>\n",
              "      <td>11</td>\n",
              "      <td>11</td>\n",
              "      <td>10000014</td>\n",
              "      <td>07/01/2016</td>\n",
              "      <td>Pink Cab</td>\n",
              "      <td>ATLANTA GA</td>\n",
              "      <td>33.17</td>\n",
              "      <td>377.40</td>\n",
              "      <td>351.6020</td>\n",
              "      <td>28020</td>\n",
              "      <td>Cash</td>\n",
              "      <td>Male</td>\n",
              "      <td>23</td>\n",
              "      <td>23327</td>\n",
              "      <td>814,885</td>\n",
              "      <td>24,701</td>\n",
              "      <td>1</td>\n",
              "      <td>4</td>\n",
              "      <td>7</td>\n",
              "      <td>2016</td>\n",
              "      <td>25.7980</td>\n",
              "      <td>0.777751</td>\n",
              "      <td>11.377751</td>\n",
              "      <td>10.60</td>\n",
              "      <td>16/01/2012</td>\n",
              "      <td>Birthday of Martin Luther King, Jr.</td>\n",
              "      <td>False</td>\n",
              "      <td>16/01/2012</td>\n",
              "      <td>Birthday of Martin Luther King, Jr.</td>\n",
              "      <td>False</td>\n",
              "    </tr>\n",
              "    <tr>\n",
              "      <th>12</th>\n",
              "      <td>12</td>\n",
              "      <td>12</td>\n",
              "      <td>10094994</td>\n",
              "      <td>27/10/2016</td>\n",
              "      <td>Pink Cab</td>\n",
              "      <td>ATLANTA GA</td>\n",
              "      <td>41.44</td>\n",
              "      <td>522.14</td>\n",
              "      <td>484.8480</td>\n",
              "      <td>28020</td>\n",
              "      <td>Cash</td>\n",
              "      <td>Male</td>\n",
              "      <td>23</td>\n",
              "      <td>23327</td>\n",
              "      <td>814,885</td>\n",
              "      <td>24,701</td>\n",
              "      <td>27</td>\n",
              "      <td>3</td>\n",
              "      <td>10</td>\n",
              "      <td>2016</td>\n",
              "      <td>37.2920</td>\n",
              "      <td>0.899903</td>\n",
              "      <td>12.599903</td>\n",
              "      <td>11.70</td>\n",
              "      <td>20/02/2012</td>\n",
              "      <td>Washington's Birthday</td>\n",
              "      <td>False</td>\n",
              "      <td>20/02/2012</td>\n",
              "      <td>Washington's Birthday</td>\n",
              "      <td>False</td>\n",
              "    </tr>\n",
              "    <tr>\n",
              "      <th>13</th>\n",
              "      <td>13</td>\n",
              "      <td>13</td>\n",
              "      <td>10140112</td>\n",
              "      <td>27/01/2017</td>\n",
              "      <td>Yellow Cab</td>\n",
              "      <td>ATLANTA GA</td>\n",
              "      <td>24.72</td>\n",
              "      <td>515.66</td>\n",
              "      <td>323.3376</td>\n",
              "      <td>28020</td>\n",
              "      <td>Card</td>\n",
              "      <td>Male</td>\n",
              "      <td>23</td>\n",
              "      <td>23327</td>\n",
              "      <td>814,885</td>\n",
              "      <td>24,701</td>\n",
              "      <td>27</td>\n",
              "      <td>4</td>\n",
              "      <td>1</td>\n",
              "      <td>2017</td>\n",
              "      <td>192.3224</td>\n",
              "      <td>7.780032</td>\n",
              "      <td>20.860032</td>\n",
              "      <td>13.08</td>\n",
              "      <td>28/05/2012</td>\n",
              "      <td>Memorial Day</td>\n",
              "      <td>False</td>\n",
              "      <td>28/05/2012</td>\n",
              "      <td>Memorial Day</td>\n",
              "      <td>False</td>\n",
              "    </tr>\n",
              "    <tr>\n",
              "      <th>14</th>\n",
              "      <td>14</td>\n",
              "      <td>14</td>\n",
              "      <td>10326470</td>\n",
              "      <td>11/05/2018</td>\n",
              "      <td>Pink Cab</td>\n",
              "      <td>ATLANTA GA</td>\n",
              "      <td>34.00</td>\n",
              "      <td>451.19</td>\n",
              "      <td>408.0000</td>\n",
              "      <td>28020</td>\n",
              "      <td>Cash</td>\n",
              "      <td>Male</td>\n",
              "      <td>23</td>\n",
              "      <td>23327</td>\n",
              "      <td>814,885</td>\n",
              "      <td>24,701</td>\n",
              "      <td>5</td>\n",
              "      <td>0</td>\n",
              "      <td>11</td>\n",
              "      <td>2018</td>\n",
              "      <td>43.1900</td>\n",
              "      <td>1.270294</td>\n",
              "      <td>13.270294</td>\n",
              "      <td>12.00</td>\n",
              "      <td>04/07/2012</td>\n",
              "      <td>Independence Day</td>\n",
              "      <td>False</td>\n",
              "      <td>04/07/2012</td>\n",
              "      <td>Independence Day</td>\n",
              "      <td>True</td>\n",
              "    </tr>\n",
              "    <tr>\n",
              "      <th>15</th>\n",
              "      <td>15</td>\n",
              "      <td>15</td>\n",
              "      <td>10000015</td>\n",
              "      <td>03/01/2016</td>\n",
              "      <td>Pink Cab</td>\n",
              "      <td>ATLANTA GA</td>\n",
              "      <td>8.73</td>\n",
              "      <td>114.62</td>\n",
              "      <td>97.7760</td>\n",
              "      <td>27182</td>\n",
              "      <td>Card</td>\n",
              "      <td>Male</td>\n",
              "      <td>33</td>\n",
              "      <td>8536</td>\n",
              "      <td>814,885</td>\n",
              "      <td>24,701</td>\n",
              "      <td>1</td>\n",
              "      <td>1</td>\n",
              "      <td>3</td>\n",
              "      <td>2016</td>\n",
              "      <td>16.8440</td>\n",
              "      <td>1.929439</td>\n",
              "      <td>13.129439</td>\n",
              "      <td>11.20</td>\n",
              "      <td>03/09/2012</td>\n",
              "      <td>Labor Day</td>\n",
              "      <td>False</td>\n",
              "      <td>03/09/2012</td>\n",
              "      <td>Labor Day</td>\n",
              "      <td>False</td>\n",
              "    </tr>\n",
              "    <tr>\n",
              "      <th>16</th>\n",
              "      <td>16</td>\n",
              "      <td>16</td>\n",
              "      <td>10099482</td>\n",
              "      <td>06/11/2016</td>\n",
              "      <td>Yellow Cab</td>\n",
              "      <td>ATLANTA GA</td>\n",
              "      <td>10.90</td>\n",
              "      <td>191.13</td>\n",
              "      <td>132.1080</td>\n",
              "      <td>27182</td>\n",
              "      <td>Card</td>\n",
              "      <td>Male</td>\n",
              "      <td>33</td>\n",
              "      <td>8536</td>\n",
              "      <td>814,885</td>\n",
              "      <td>24,701</td>\n",
              "      <td>11</td>\n",
              "      <td>5</td>\n",
              "      <td>6</td>\n",
              "      <td>2016</td>\n",
              "      <td>59.0220</td>\n",
              "      <td>5.414862</td>\n",
              "      <td>17.534862</td>\n",
              "      <td>12.12</td>\n",
              "      <td>08/10/2012</td>\n",
              "      <td>Columbus Day</td>\n",
              "      <td>False</td>\n",
              "      <td>08/10/2012</td>\n",
              "      <td>Columbus Day</td>\n",
              "      <td>False</td>\n",
              "    </tr>\n",
              "    <tr>\n",
              "      <th>17</th>\n",
              "      <td>17</td>\n",
              "      <td>17</td>\n",
              "      <td>10179732</td>\n",
              "      <td>03/06/2017</td>\n",
              "      <td>Yellow Cab</td>\n",
              "      <td>ATLANTA GA</td>\n",
              "      <td>20.00</td>\n",
              "      <td>321.04</td>\n",
              "      <td>271.2000</td>\n",
              "      <td>27182</td>\n",
              "      <td>Cash</td>\n",
              "      <td>Male</td>\n",
              "      <td>33</td>\n",
              "      <td>8536</td>\n",
              "      <td>814,885</td>\n",
              "      <td>24,701</td>\n",
              "      <td>6</td>\n",
              "      <td>0</td>\n",
              "      <td>3</td>\n",
              "      <td>2017</td>\n",
              "      <td>49.8400</td>\n",
              "      <td>2.492000</td>\n",
              "      <td>16.052000</td>\n",
              "      <td>13.56</td>\n",
              "      <td>12/11/2012</td>\n",
              "      <td>Veterans Day</td>\n",
              "      <td>False</td>\n",
              "      <td>12/11/2012</td>\n",
              "      <td>Veterans Day</td>\n",
              "      <td>False</td>\n",
              "    </tr>\n",
              "    <tr>\n",
              "      <th>18</th>\n",
              "      <td>18</td>\n",
              "      <td>18</td>\n",
              "      <td>10293463</td>\n",
              "      <td>13/01/2018</td>\n",
              "      <td>Yellow Cab</td>\n",
              "      <td>ATLANTA GA</td>\n",
              "      <td>40.56</td>\n",
              "      <td>893.17</td>\n",
              "      <td>549.9936</td>\n",
              "      <td>27182</td>\n",
              "      <td>Card</td>\n",
              "      <td>Male</td>\n",
              "      <td>33</td>\n",
              "      <td>8536</td>\n",
              "      <td>814,885</td>\n",
              "      <td>24,701</td>\n",
              "      <td>13</td>\n",
              "      <td>5</td>\n",
              "      <td>1</td>\n",
              "      <td>2018</td>\n",
              "      <td>343.1764</td>\n",
              "      <td>8.460957</td>\n",
              "      <td>22.020957</td>\n",
              "      <td>13.56</td>\n",
              "      <td>22/11/2012</td>\n",
              "      <td>Thanksgiving Day</td>\n",
              "      <td>False</td>\n",
              "      <td>22/11/2012</td>\n",
              "      <td>Thanksgiving Day</td>\n",
              "      <td>True</td>\n",
              "    </tr>\n",
              "    <tr>\n",
              "      <th>19</th>\n",
              "      <td>19</td>\n",
              "      <td>19</td>\n",
              "      <td>10000016</td>\n",
              "      <td>07/01/2016</td>\n",
              "      <td>Pink Cab</td>\n",
              "      <td>ATLANTA GA</td>\n",
              "      <td>6.06</td>\n",
              "      <td>72.43</td>\n",
              "      <td>63.0240</td>\n",
              "      <td>27318</td>\n",
              "      <td>Cash</td>\n",
              "      <td>Male</td>\n",
              "      <td>25</td>\n",
              "      <td>13984</td>\n",
              "      <td>814,885</td>\n",
              "      <td>24,701</td>\n",
              "      <td>1</td>\n",
              "      <td>4</td>\n",
              "      <td>7</td>\n",
              "      <td>2016</td>\n",
              "      <td>9.4060</td>\n",
              "      <td>1.552145</td>\n",
              "      <td>11.952145</td>\n",
              "      <td>10.40</td>\n",
              "      <td>25/12/2012</td>\n",
              "      <td>Christmas Day</td>\n",
              "      <td>False</td>\n",
              "      <td>25/12/2012</td>\n",
              "      <td>Christmas Day</td>\n",
              "      <td>True</td>\n",
              "    </tr>\n",
              "  </tbody>\n",
              "</table>\n",
              "</div>"
            ],
            "text/plain": [
              "    Unnamed: 0  Unnamed: 0.1  ...                            Holiday_y weekend_y\n",
              "0            0             0  ...                       New Year's Day      True\n",
              "1            1             1  ...  Birthday of Martin Luther King, Jr.     False\n",
              "2            2             2  ...                Washington's Birthday     False\n",
              "3            3             3  ...                         Memorial Day     False\n",
              "4            4             4  ...                     Independence Day     False\n",
              "5            5             5  ...                            Labor Day     False\n",
              "6            6             6  ...                         Columbus Day     False\n",
              "7            7             7  ...                         Veterans Day      True\n",
              "8            8             8  ...                     Thanksgiving Day      True\n",
              "9            9             9  ...                        Christmas Day     False\n",
              "10          10            10  ...                       New Year's Day     False\n",
              "11          11            11  ...  Birthday of Martin Luther King, Jr.     False\n",
              "12          12            12  ...                Washington's Birthday     False\n",
              "13          13            13  ...                         Memorial Day     False\n",
              "14          14            14  ...                     Independence Day      True\n",
              "15          15            15  ...                            Labor Day     False\n",
              "16          16            16  ...                         Columbus Day     False\n",
              "17          17            17  ...                         Veterans Day     False\n",
              "18          18            18  ...                     Thanksgiving Day      True\n",
              "19          19            19  ...                        Christmas Day      True\n",
              "\n",
              "[20 rows x 30 columns]"
            ]
          },
          "metadata": {
            "tags": []
          },
          "execution_count": 84
        }
      ]
    },
    {
      "cell_type": "code",
      "metadata": {
        "id": "JFP-wWws-J1q"
      },
      "source": [
        "masterData.drop('Unnamed: 0', axis=1, inplace=True)\n",
        "masterData.drop('Unnamed: 0.1', axis=1, inplace=True)\n"
      ],
      "execution_count": 85,
      "outputs": []
    },
    {
      "cell_type": "code",
      "metadata": {
        "id": "sgu59gtU_6XH"
      },
      "source": [
        "masterData.drop('Date_x', axis=1, inplace=True)\n",
        "masterData.drop('Holiday_x', axis=1, inplace=True)\n",
        "masterData.drop('weekend_x', axis=1, inplace=True)"
      ],
      "execution_count": 86,
      "outputs": []
    },
    {
      "cell_type": "code",
      "metadata": {
        "colab": {
          "base_uri": "https://localhost:8080/"
        },
        "id": "bnxNn2VU3dna",
        "outputId": "f34fe28a-64eb-460a-9f78-826833f2942a"
      },
      "source": [
        "masterData.groupby('weekend_y')['km_travelled'].mean()"
      ],
      "execution_count": 87,
      "outputs": [
        {
          "output_type": "execute_result",
          "data": {
            "text/plain": [
              "weekend_y\n",
              "False    22.560806\n",
              "True     25.747368\n",
              "Name: km_travelled, dtype: float64"
            ]
          },
          "metadata": {
            "tags": []
          },
          "execution_count": 87
        }
      ]
    },
    {
      "cell_type": "code",
      "metadata": {
        "colab": {
          "base_uri": "https://localhost:8080/",
          "height": 461
        },
        "id": "knqPKmU1ABN0",
        "outputId": "6a3b1a85-4a89-49f2-b55d-d26eee8a1aa5"
      },
      "source": [
        "masterData.groupby('weekend_y')['km_travelled'].mean().plot(kind='bar', figsize=(15,7), ylabel='KM Travelled', title='Average Kilometres Travelled');"
      ],
      "execution_count": 88,
      "outputs": [
        {
          "output_type": "display_data",
          "data": {
            "image/png": "[encoded data removed]",
            "text/plain": [
              "<Figure size 1080x504 with 1 Axes>"
            ]
          },
          "metadata": {
            "tags": [],
            "needs_background": "light"
          }
        }
      ]
    },
    {
      "cell_type": "markdown",
      "metadata": {
        "id": "TfBiIg4eAe8z"
      },
      "source": [
        "Distance travelled in weekends is more big than weekdays\n"
      ]
    },
    {
      "cell_type": "code",
      "metadata": {
        "colab": {
          "base_uri": "https://localhost:8080/"
        },
        "id": "78kX7OEZ-9-1",
        "outputId": "7cb08705-ac99-45d7-a652-1cf5303cdd30"
      },
      "source": [
        "masterData.groupby('Holiday_y')['km_travelled'].median()"
      ],
      "execution_count": 89,
      "outputs": [
        {
          "output_type": "execute_result",
          "data": {
            "text/plain": [
              "Holiday_y\n",
              "Birthday of Martin Luther King, Jr.    26.780\n",
              "Christmas Day                          21.095\n",
              "Columbus Day                           23.300\n",
              "Independence Day                       25.160\n",
              "Labor Day                              14.615\n",
              "Memorial Day                           24.975\n",
              "New Year's Day                         32.985\n",
              "Thanksgiving Day                       33.175\n",
              "Veterans Day                           17.500\n",
              "Washington's Birthday                  24.525\n",
              "Name: km_travelled, dtype: float64"
            ]
          },
          "metadata": {
            "tags": []
          },
          "execution_count": 89
        }
      ]
    },
    {
      "cell_type": "code",
      "metadata": {
        "colab": {
          "base_uri": "https://localhost:8080/",
          "height": 616
        },
        "id": "NjuPa6MP--II",
        "outputId": "c48ea0c9-bfa3-4c53-cc43-1e0e7527b9f4"
      },
      "source": [
        "masterData.groupby('Holiday_y')['km_travelled'].median().plot(kind='bar', figsize=(13,7), ylabel='KM Travelled', title='Average Kilometres Travelled');"
      ],
      "execution_count": 90,
      "outputs": [
        {
          "output_type": "display_data",
          "data": {
            "image/png": "[encoded data removed]",
            "text/plain": [
              "<Figure size 936x504 with 1 Axes>"
            ]
          },
          "metadata": {
            "tags": [],
            "needs_background": "light"
          }
        }
      ]
    },
    {
      "cell_type": "markdown",
      "metadata": {
        "id": "_AZl31lOBouN"
      },
      "source": [
        "The maximum avearge kilometres travelled is in Thanksgiving Day.\n"
      ]
    },
    {
      "cell_type": "code",
      "metadata": {
        "colab": {
          "base_uri": "https://localhost:8080/",
          "height": 593
        },
        "id": "7j8ZbXREB_kS",
        "outputId": "cc355607-0e92-437f-f1ce-0a2de37217ec"
      },
      "source": [
        "masterData.groupby('Holiday_y')['price_charged', 'cost_of_trip'].median().plot(kind='bar', figsize=(15,7), ylabel='Cost & Price Charged', title='Cost of trip and price Charged during holidays');\n"
      ],
      "execution_count": 91,
      "outputs": [
        {
          "output_type": "display_data",
          "data": {
            "image/png": "[encoded data removed]",
            "text/plain": [
              "<Figure size 1080x504 with 1 Axes>"
            ]
          },
          "metadata": {
            "tags": [],
            "needs_background": "light"
          }
        }
      ]
    },
    {
      "cell_type": "code",
      "metadata": {
        "colab": {
          "base_uri": "https://localhost:8080/",
          "height": 593
        },
        "id": "-5RRqrDkw2Mu",
        "outputId": "9414bcd1-c4a1-40e0-c3c0-13809d6dcd1d"
      },
      "source": [
        "masterData.groupby('Holiday_y')['profit_per_one_trip'].median().plot(kind='bar', figsize=(15,7), ylabel='Cost & Price Charged', title='profit_per_one_trip during holidays');\n"
      ],
      "execution_count": 92,
      "outputs": [
        {
          "output_type": "display_data",
          "data": {
            "image/png": "[encoded data removed]",
            "text/plain": [
              "<Figure size 1080x504 with 1 Axes>"
            ]
          },
          "metadata": {
            "tags": [],
            "needs_background": "light"
          }
        }
      ]
    },
    {
      "cell_type": "markdown",
      "metadata": {
        "id": "BtkxlzPoYwK0"
      },
      "source": [
        "**In order to determine if there is a significant difference between the means of two groups, We will use a type of inferential statistic called, T-test.**"
      ]
    },
    {
      "cell_type": "code",
      "metadata": {
        "id": "hqcP2VhrZV1Q"
      },
      "source": [
        "import scipy.stats as stat\n",
        "from scipy.stats import ttest_1samp\n",
        "from scipy.stats import ttest_ind\n",
        "\n",
        "sample_size = int((10/100)*359392) \n",
        "def T_test(a, b):\n",
        "    sample_a = np.random.choice(a, sample_size)\n",
        "    sample_b = np.random.choice(b, sample_size)\n",
        "    ttest, p_value = ttest_ind(sample_a, sample_b, equal_var = False)\n",
        "    print(f'p-value: {p_value}')\n",
        "    if p_value < 0.05:    # alpha value is 0.05 or 5%\n",
        "        print(\"Reject null hypothesis (H0)\")\n",
        "    else:\n",
        "        print(\"Accept null hypothesis (H0)\")"
      ],
      "execution_count": 93,
      "outputs": []
    },
    {
      "cell_type": "markdown",
      "metadata": {
        "id": "QDZX1-XTWnWm"
      },
      "source": [
        "**On KM travelled:**\n",
        "\n",
        "Hypothesis: \n",
        "\n",
        "H0 = KM travelled by Yellow Cab and Pink Cab are equal\n",
        "\n",
        "H1 = KM travelled by Yellow Cab and Pink Cab are not equal\n"
      ]
    },
    {
      "cell_type": "code",
      "metadata": {
        "colab": {
          "base_uri": "https://localhost:8080/"
        },
        "id": "ESSyhhgWSKQb",
        "outputId": "054cf45a-ac21-407e-ab84-bb3b79bfee4d"
      },
      "source": [
        "masterData['km_travelled'].groupby(masterData['company']).mean()"
      ],
      "execution_count": 94,
      "outputs": [
        {
          "output_type": "execute_result",
          "data": {
            "text/plain": [
              "company\n",
              "Pink Cab      20.738929\n",
              "Yellow Cab    24.951111\n",
              "Name: km_travelled, dtype: float64"
            ]
          },
          "metadata": {
            "tags": []
          },
          "execution_count": 94
        }
      ]
    },
    {
      "cell_type": "code",
      "metadata": {
        "colab": {
          "base_uri": "https://localhost:8080/"
        },
        "id": "Ic5VOuSvaIYS",
        "outputId": "d91ca61c-cfd3-4fb4-bc33-accf7aa2e42e"
      },
      "source": [
        "T_test(masterData[masterData['company'] == 'Yellow Cab']['km_travelled'], masterData[masterData['company'] == 'Pink Cab']['km_travelled'])"
      ],
      "execution_count": 95,
      "outputs": [
        {
          "output_type": "stream",
          "text": [
            "p-value: 0.0\n",
            "Reject null hypothesis (H0)\n"
          ],
          "name": "stdout"
        }
      ]
    },
    {
      "cell_type": "markdown",
      "metadata": {
        "id": "hjIk-ZgSc2_q"
      },
      "source": [
        "**On profit per one trip**\n",
        "\n",
        "Hypothesis:\n",
        "\n",
        "H0 = Profit per one trip for weekdays and weekends are identical\n",
        "\n",
        "H1 = Profit per one trip for weekdays and weekends are not identical\n",
        "\n"
      ]
    },
    {
      "cell_type": "code",
      "metadata": {
        "id": "7W2QRbTFaKVo",
        "colab": {
          "base_uri": "https://localhost:8080/"
        },
        "outputId": "cbbb0221-9a7b-4726-f777-947a3e7eed3b"
      },
      "source": [
        "masterData['profit_per_one_trip'].groupby(masterData['weekend_y']).mean()"
      ],
      "execution_count": 96,
      "outputs": [
        {
          "output_type": "execute_result",
          "data": {
            "text/plain": [
              "weekend_y\n",
              "False    155.113258\n",
              "True     211.981879\n",
              "Name: profit_per_one_trip, dtype: float64"
            ]
          },
          "metadata": {
            "tags": []
          },
          "execution_count": 96
        }
      ]
    },
    {
      "cell_type": "code",
      "metadata": {
        "id": "9qO-hYc6cZci",
        "colab": {
          "base_uri": "https://localhost:8080/"
        },
        "outputId": "d86ecfe0-d881-46d9-b62c-31d660f62442"
      },
      "source": [
        "T_test(masterData[masterData['weekend_y'] > 0]['profit_per_one_trip'], masterData[masterData['weekend_y'] == 0]['profit_per_one_trip'])\n"
      ],
      "execution_count": 97,
      "outputs": [
        {
          "output_type": "stream",
          "text": [
            "p-value: 3.7172440043767963e-286\n",
            "Reject null hypothesis (H0)\n"
          ],
          "name": "stdout"
        }
      ]
    },
    {
      "cell_type": "markdown",
      "metadata": {
        "id": "V0T_1fZzEV8M"
      },
      "source": [
        "Hypothesis:\n",
        "\n",
        "H0 = Profit is same for both Yellow cab and Pink cab\n",
        "\n",
        "H1 = Profit is not same for both Yellow cab and Pink cab"
      ]
    },
    {
      "cell_type": "code",
      "metadata": {
        "colab": {
          "base_uri": "https://localhost:8080/"
        },
        "id": "Kw2qieMkcaCm",
        "outputId": "1fcac5c9-96d5-4f83-da55-9e94c8cbe83d"
      },
      "source": [
        "masterData['profit_per_one_trip'].groupby(masterData['company']).mean()\n"
      ],
      "execution_count": 98,
      "outputs": [
        {
          "output_type": "execute_result",
          "data": {
            "text/plain": [
              "company\n",
              "Pink Cab       29.916679\n",
              "Yellow Cab    233.814811\n",
              "Name: profit_per_one_trip, dtype: float64"
            ]
          },
          "metadata": {
            "tags": []
          },
          "execution_count": 98
        }
      ]
    },
    {
      "cell_type": "code",
      "metadata": {
        "colab": {
          "base_uri": "https://localhost:8080/"
        },
        "id": "9po9Q2t-cakZ",
        "outputId": "6e883feb-1e67-4348-9139-9e18f0a32144"
      },
      "source": [
        "T_test(masterData[masterData['company'] == 'Yellow Cab']['profit_per_one_trip'], masterData[masterData['company'] == 'Pink Cab']['profit_per_one_trip'])\n"
      ],
      "execution_count": 99,
      "outputs": [
        {
          "output_type": "stream",
          "text": [
            "p-value: 0.0\n",
            "Reject null hypothesis (H0)\n"
          ],
          "name": "stdout"
        }
      ]
    },
    {
      "cell_type": "markdown",
      "metadata": {
        "id": "fQWKp_-PFcAl"
      },
      "source": [
        "**On price charged:**\n",
        "\n",
        "Hypothesis:\n",
        "\n",
        "H0 = Price charged by Yellow and Pink Cabs are same\n",
        "\n",
        "H1 = Price charged by Yellow and Pink Cabs are not same"
      ]
    },
    {
      "cell_type": "code",
      "metadata": {
        "colab": {
          "base_uri": "https://localhost:8080/"
        },
        "id": "AF0LUXHqcb4F",
        "outputId": "e077824c-d913-4f24-8366-2ad33345f2c8"
      },
      "source": [
        "masterData['price_per_km'].groupby(masterData['company']).mean()\n"
      ],
      "execution_count": 100,
      "outputs": [
        {
          "output_type": "execute_result",
          "data": {
            "text/plain": [
              "company\n",
              "Pink Cab      12.324567\n",
              "Yellow Cab    23.200070\n",
              "Name: price_per_km, dtype: float64"
            ]
          },
          "metadata": {
            "tags": []
          },
          "execution_count": 100
        }
      ]
    },
    {
      "cell_type": "code",
      "metadata": {
        "colab": {
          "base_uri": "https://localhost:8080/"
        },
        "id": "5Pofg_vDcdbg",
        "outputId": "33706565-32bb-4790-8c10-46db2b698026"
      },
      "source": [
        "T_test(masterData[masterData['company'] == 'Yellow Cab']['price_per_km'], masterData[masterData['company'] == 'Pink Cab']['price_per_km'])\n"
      ],
      "execution_count": 101,
      "outputs": [
        {
          "output_type": "stream",
          "text": [
            "p-value: 0.0\n",
            "Reject null hypothesis (H0)\n"
          ],
          "name": "stdout"
        }
      ]
    },
    {
      "cell_type": "markdown",
      "metadata": {
        "id": "CQ0DCLhqHxtZ"
      },
      "source": [
        "**On cost:**\n",
        "\n",
        "Hypothesis:\n",
        "\n",
        "H0 = Cost for both Yellow and Pink Cabs are same\n",
        "\n",
        "H1 = Cost for both Yellow and Pink Cabs are not same"
      ]
    },
    {
      "cell_type": "code",
      "metadata": {
        "colab": {
          "base_uri": "https://localhost:8080/"
        },
        "id": "6kM1IHN3cfOf",
        "outputId": "79f22fe3-65a9-459e-e464-72e36a612753"
      },
      "source": [
        "masterData['cost_of_trip'].groupby(masterData['company']).mean()\n"
      ],
      "execution_count": 102,
      "outputs": [
        {
          "output_type": "execute_result",
          "data": {
            "text/plain": [
              "company\n",
              "Pink Cab      228.122607\n",
              "Yellow Cab    331.805050\n",
              "Name: cost_of_trip, dtype: float64"
            ]
          },
          "metadata": {
            "tags": []
          },
          "execution_count": 102
        }
      ]
    },
    {
      "cell_type": "code",
      "metadata": {
        "colab": {
          "base_uri": "https://localhost:8080/"
        },
        "id": "iiDcQmXFchbf",
        "outputId": "01e33433-c786-4b29-c113-6a716fcd1148"
      },
      "source": [
        "T_test(masterData[masterData['company'] == 'Yellow Cab']['cost_of_trip'], masterData[masterData['company'] == 'Pink Cab']['cost_of_trip'])\n"
      ],
      "execution_count": 103,
      "outputs": [
        {
          "output_type": "stream",
          "text": [
            "p-value: 0.0\n",
            "Reject null hypothesis (H0)\n"
          ],
          "name": "stdout"
        }
      ]
    },
    {
      "cell_type": "markdown",
      "metadata": {
        "id": "NUgHYTFPY4y6"
      },
      "source": [
        "\n",
        "**Pearson correlation coefficient**\n",
        "\n",
        "The Pearson correlation coefficient measures the linear relationship between two datasets. \n",
        "It calculate a Pearson correlation coefficient and the p-value for testing non-correlation.\n",
        "\n"
      ]
    },
    {
      "cell_type": "markdown",
      "metadata": {
        "id": "BPoE3zm4UcIq"
      },
      "source": [
        "\n",
        "Hypothesis:\n",
        "\n",
        "H0 = km Travelled and profit per one trip are not related\n",
        "\n",
        "H1 = km Travelled and profit per one trip are related"
      ]
    },
    {
      "cell_type": "code",
      "metadata": {
        "id": "teLtdXhlci2d"
      },
      "source": [
        "kmtr = masterData['km_travelled']\n",
        "prof = masterData['profit_per_one_trip']"
      ],
      "execution_count": 104,
      "outputs": []
    },
    {
      "cell_type": "code",
      "metadata": {
        "colab": {
          "base_uri": "https://localhost:8080/"
        },
        "id": "RacO7SpFaLDy",
        "outputId": "184b2fe7-ffaf-4245-ee7e-f5c2d63cef09"
      },
      "source": [
        "from scipy.stats import pearsonr\n",
        "\n",
        "stat, p = pearsonr(kmtr, prof)\n",
        "print('stat=%.3f, p=%.3f' % (stat, p))\n",
        "if p > 0.05:\n",
        "    print('Km travelled and profit per trip are not related')\n",
        "else:\n",
        "    print('Km travelled and profit per trip are related')"
      ],
      "execution_count": 105,
      "outputs": [
        {
          "output_type": "stream",
          "text": [
            "stat=0.366, p=0.000\n",
            "Km travelled and profit per trip are related\n"
          ],
          "name": "stdout"
        }
      ]
    },
    {
      "cell_type": "markdown",
      "metadata": {
        "id": "8-Du-LMmYLx2"
      },
      "source": [
        "Hypothesis:\n",
        "\n",
        "H0: There is no relationship profit per one trip and age\n",
        "\n",
        "H1: There is relationship between profit per one trip and age"
      ]
    },
    {
      "cell_type": "code",
      "metadata": {
        "id": "1H7ZRbhtZ5w2"
      },
      "source": [
        "agee = masterData['age']\n",
        "profitr = masterData['profit_per_one_trip']"
      ],
      "execution_count": 106,
      "outputs": []
    },
    {
      "cell_type": "code",
      "metadata": {
        "colab": {
          "base_uri": "https://localhost:8080/"
        },
        "id": "7ILEvf3EaGeY",
        "outputId": "9a8b2fa4-1e32-4fa5-8ca4-f29607240bf7"
      },
      "source": [
        "from scipy.stats import pearsonr\n",
        "\n",
        "stat, p = pearsonr(agee, profitr)\n",
        "print('stat=%.3f, p=%.3f' % (stat, p))\n",
        "if p > 0.05:\n",
        "    print('age and profit are not related')\n",
        "else:\n",
        "    print('age and profit are related')"
      ],
      "execution_count": 107,
      "outputs": [
        {
          "output_type": "stream",
          "text": [
            "stat=-0.089, p=0.378\n",
            "age and profit are not related\n"
          ],
          "name": "stdout"
        }
      ]
    },
    {
      "cell_type": "markdown",
      "metadata": {
        "id": "4fk2YCAnyVLA"
      },
      "source": [
        "\n",
        "Hypothesis:\n",
        "\n",
        "H0: There is no relationship price charged and cost of trip and age\n",
        "\n",
        "H1: There is relationship between price charged and cost of trip and age"
      ]
    },
    {
      "cell_type": "code",
      "metadata": {
        "id": "fUAzJaCIma0j"
      },
      "source": [
        "price = masterData['price_charged']\n",
        "cost = masterData['cost_of_trip']"
      ],
      "execution_count": 108,
      "outputs": []
    },
    {
      "cell_type": "code",
      "metadata": {
        "colab": {
          "base_uri": "https://localhost:8080/"
        },
        "id": "-BYPacZ5mbgL",
        "outputId": "db731267-0eeb-4b59-e163-b1758b388b3f"
      },
      "source": [
        "from scipy.stats import pearsonr\n",
        "\n",
        "stat, p = pearsonr(price, cost)\n",
        "print('stat=%.3f, p=%.3f' % (stat, p))\n",
        "if p > 0.05:\n",
        "    print('price charged and cost_of_trip are not related')\n",
        "else:\n",
        "    print('price charged and cost_of_trip are related')"
      ],
      "execution_count": 109,
      "outputs": [
        {
          "output_type": "stream",
          "text": [
            "stat=0.798, p=0.000\n",
            "price charged and cost_of_trip are related\n"
          ],
          "name": "stdout"
        }
      ]
    },
    {
      "cell_type": "markdown",
      "metadata": {
        "id": "PpHkJ5O6Q3rB"
      },
      "source": [
        "**Recommendations & Insights**\n",
        "\n",
        "\n",
        "Investing in Yellow Cab will be the best decision by following these points:\n",
        "\n",
        "Yellow cab is the superior in terms of rides, profits.\n",
        "\n",
        "That's mean, that most rides are made with yellow taxis.\n",
        "Yellow Cab has the biggest share of the profits.\n",
        "\n",
        "Over years, Yellow company has the highest number of customers, especially in 2017.\n",
        "\n",
        "Most of the customers for both yellow cab and Pink cab are Young and Middle-aged. \n",
        "\n",
        "Weekly, monthly and anual profit of Yellow Cab is always much higher than Pink Cab.\n",
        "\n",
        "Most of the customer of populated cities prefer Yellow Cab. \n",
        "\n",
        "During July and August, both companys recorded a decrease in profit per km and profit per one trip. We can say that there's some seasonality.\n",
        "\n",
        "Payment mode  of most of the customers of Yellow Cab is card. For Pink Cab, both card & cash payments are used.\n"
      ]
    }
  ]
}