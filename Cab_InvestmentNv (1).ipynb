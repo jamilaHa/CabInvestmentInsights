{
  "nbformat": 4,
  "nbformat_minor": 0,
  "metadata": {
    "colab": {
      "name": "Cab_InvestmentNv.ipynb",
      "provenance": [],
      "collapsed_sections": []
    },
    "kernelspec": {
      "display_name": "Python 3",
      "name": "python3"
    },
    "language_info": {
      "name": "python"
    }
  },
  "cells": [
    {
      "cell_type": "markdown",
      "metadata": {
        "id": "5PsP-Lnzfo_7"
      },
      "source": [
        "#G2M insight for Cab Investment firm\n",
        "\n",
        "---\n",
        "\n"
      ]
    },
    {
      "cell_type": "markdown",
      "metadata": {
        "id": "t0M80ASDpPq_"
      },
      "source": [
        "Business problem:\n",
        "\n",
        "XYZ is a private firm in US.\n",
        "Due to remarkable growth in the Cab Industry in last few years and multiple key players in the market, it is planning for an investment in Cab industry and as per their Go-to-Market(G2M) strategy they want to understand the market before taking final decision.\n"
      ]
    },
    {
      "cell_type": "markdown",
      "metadata": {
        "id": "eetd4XX0KcL2"
      },
      "source": [
        "**1.   Upload and check data quality**\n"
      ]
    },
    {
      "cell_type": "code",
      "metadata": {
        "id": "Z2E3MeRbKIfW"
      },
      "source": [
        "import pandas as pd\n",
        "import numpy as np\n",
        "import matplotlib.pyplot as plt\n",
        "import pickle\n",
        "import warnings\n",
        "import seaborn as sns\n",
        "import missingno as msno\n",
        "warnings.filterwarnings('ignore') # Turn off warnings\n",
        "from sklearn.metrics import mean_squared_error\n",
        "from math import sqrt\n",
        "import statsmodels.api as sm\n",
        "from pylab import rcParams\n",
        "import statsmodels.api as sm\n",
        "from statsmodels.tsa.seasonal import seasonal_decompose"
      ],
      "execution_count": 72,
      "outputs": []
    },
    {
      "cell_type": "markdown",
      "metadata": {
        "id": "57PPq0ePpwvU"
      },
      "source": [
        "**Read CSV files**"
      ]
    },
    {
      "cell_type": "code",
      "metadata": {
        "colab": {
          "base_uri": "https://localhost:8080/",
          "height": 204
        },
        "id": "TcmX3wSTLWVG",
        "outputId": "5cec8077-50d1-4319-c5cd-883f07cb5f33"
      },
      "source": [
        "import pandas as pd\n",
        "cab = pd.read_csv(\"cabData.csv\", sep=';')\n",
        "cab.head()"
      ],
      "execution_count": 73,
      "outputs": [
        {
          "output_type": "execute_result",
          "data": {
            "text/html": [
              "<div>\n",
              "<style scoped>\n",
              "    .dataframe tbody tr th:only-of-type {\n",
              "        vertical-align: middle;\n",
              "    }\n",
              "\n",
              "    .dataframe tbody tr th {\n",
              "        vertical-align: top;\n",
              "    }\n",
              "\n",
              "    .dataframe thead th {\n",
              "        text-align: right;\n",
              "    }\n",
              "</style>\n",
              "<table border=\"1\" class=\"dataframe\">\n",
              "  <thead>\n",
              "    <tr style=\"text-align: right;\">\n",
              "      <th></th>\n",
              "      <th>Transaction ID</th>\n",
              "      <th>Date of Travel</th>\n",
              "      <th>Company</th>\n",
              "      <th>City</th>\n",
              "      <th>KM Travelled</th>\n",
              "      <th>Price Charged</th>\n",
              "      <th>Cost of Trip</th>\n",
              "    </tr>\n",
              "  </thead>\n",
              "  <tbody>\n",
              "    <tr>\n",
              "      <th>0</th>\n",
              "      <td>10000011</td>\n",
              "      <td>08/01/2016</td>\n",
              "      <td>Pink Cab</td>\n",
              "      <td>ATLANTA GA</td>\n",
              "      <td>30.45</td>\n",
              "      <td>370.95</td>\n",
              "      <td>313.635</td>\n",
              "    </tr>\n",
              "    <tr>\n",
              "      <th>1</th>\n",
              "      <td>10000012</td>\n",
              "      <td>06/01/2016</td>\n",
              "      <td>Pink Cab</td>\n",
              "      <td>ATLANTA GA</td>\n",
              "      <td>28.62</td>\n",
              "      <td>358.52</td>\n",
              "      <td>334.854</td>\n",
              "    </tr>\n",
              "    <tr>\n",
              "      <th>2</th>\n",
              "      <td>10000013</td>\n",
              "      <td>02/01/2016</td>\n",
              "      <td>Pink Cab</td>\n",
              "      <td>ATLANTA GA</td>\n",
              "      <td>9.04</td>\n",
              "      <td>125.20</td>\n",
              "      <td>97.632</td>\n",
              "    </tr>\n",
              "    <tr>\n",
              "      <th>3</th>\n",
              "      <td>10000014</td>\n",
              "      <td>07/01/2016</td>\n",
              "      <td>Pink Cab</td>\n",
              "      <td>ATLANTA GA</td>\n",
              "      <td>33.17</td>\n",
              "      <td>377.40</td>\n",
              "      <td>351.602</td>\n",
              "    </tr>\n",
              "    <tr>\n",
              "      <th>4</th>\n",
              "      <td>10000015</td>\n",
              "      <td>03/01/2016</td>\n",
              "      <td>Pink Cab</td>\n",
              "      <td>ATLANTA GA</td>\n",
              "      <td>8.73</td>\n",
              "      <td>114.62</td>\n",
              "      <td>97.776</td>\n",
              "    </tr>\n",
              "  </tbody>\n",
              "</table>\n",
              "</div>"
            ],
            "text/plain": [
              "   Transaction ID Date of Travel  ... Price Charged Cost of Trip\n",
              "0        10000011     08/01/2016  ...        370.95      313.635\n",
              "1        10000012     06/01/2016  ...        358.52      334.854\n",
              "2        10000013     02/01/2016  ...        125.20       97.632\n",
              "3        10000014     07/01/2016  ...        377.40      351.602\n",
              "4        10000015     03/01/2016  ...        114.62       97.776\n",
              "\n",
              "[5 rows x 7 columns]"
            ]
          },
          "metadata": {
            "tags": []
          },
          "execution_count": 73
        }
      ]
    },
    {
      "cell_type": "code",
      "metadata": {
        "colab": {
          "base_uri": "https://localhost:8080/"
        },
        "id": "HRdkJbs_LcJX",
        "outputId": "22f07bd5-a571-47bd-bbed-14dd6aa4ae88"
      },
      "source": [
        "cab.info()"
      ],
      "execution_count": 74,
      "outputs": [
        {
          "output_type": "stream",
          "text": [
            "<class 'pandas.core.frame.DataFrame'>\n",
            "RangeIndex: 359392 entries, 0 to 359391\n",
            "Data columns (total 7 columns):\n",
            " #   Column          Non-Null Count   Dtype  \n",
            "---  ------          --------------   -----  \n",
            " 0   Transaction ID  359392 non-null  int64  \n",
            " 1   Date of Travel  359392 non-null  object \n",
            " 2   Company         359392 non-null  object \n",
            " 3   City            359392 non-null  object \n",
            " 4   KM Travelled    359392 non-null  float64\n",
            " 5   Price Charged   359392 non-null  float64\n",
            " 6   Cost of Trip    359392 non-null  float64\n",
            "dtypes: float64(3), int64(1), object(3)\n",
            "memory usage: 19.2+ MB\n"
          ],
          "name": "stdout"
        }
      ]
    },
    {
      "cell_type": "code",
      "metadata": {
        "colab": {
          "base_uri": "https://localhost:8080/"
        },
        "id": "ZkuCcABLLlaN",
        "outputId": "a5d3a8dd-cafe-485a-ac5e-d03cf1e79c83"
      },
      "source": [
        "cab.isnull().sum()"
      ],
      "execution_count": 75,
      "outputs": [
        {
          "output_type": "execute_result",
          "data": {
            "text/plain": [
              "Transaction ID    0\n",
              "Date of Travel    0\n",
              "Company           0\n",
              "City              0\n",
              "KM Travelled      0\n",
              "Price Charged     0\n",
              "Cost of Trip      0\n",
              "dtype: int64"
            ]
          },
          "metadata": {
            "tags": []
          },
          "execution_count": 75
        }
      ]
    },
    {
      "cell_type": "code",
      "metadata": {
        "colab": {
          "base_uri": "https://localhost:8080/",
          "height": 204
        },
        "id": "1NvMv5fDLoFk",
        "outputId": "82dc3d0c-1928-4451-8b5d-51cd39b7292e"
      },
      "source": [
        "city = pd.read_csv(\"City.csv\")\n",
        "city.head()"
      ],
      "execution_count": 76,
      "outputs": [
        {
          "output_type": "execute_result",
          "data": {
            "text/html": [
              "<div>\n",
              "<style scoped>\n",
              "    .dataframe tbody tr th:only-of-type {\n",
              "        vertical-align: middle;\n",
              "    }\n",
              "\n",
              "    .dataframe tbody tr th {\n",
              "        vertical-align: top;\n",
              "    }\n",
              "\n",
              "    .dataframe thead th {\n",
              "        text-align: right;\n",
              "    }\n",
              "</style>\n",
              "<table border=\"1\" class=\"dataframe\">\n",
              "  <thead>\n",
              "    <tr style=\"text-align: right;\">\n",
              "      <th></th>\n",
              "      <th>City</th>\n",
              "      <th>Population</th>\n",
              "      <th>Users</th>\n",
              "    </tr>\n",
              "  </thead>\n",
              "  <tbody>\n",
              "    <tr>\n",
              "      <th>0</th>\n",
              "      <td>NEW YORK NY</td>\n",
              "      <td>8,405,837</td>\n",
              "      <td>302,149</td>\n",
              "    </tr>\n",
              "    <tr>\n",
              "      <th>1</th>\n",
              "      <td>CHICAGO IL</td>\n",
              "      <td>1,955,130</td>\n",
              "      <td>164,468</td>\n",
              "    </tr>\n",
              "    <tr>\n",
              "      <th>2</th>\n",
              "      <td>LOS ANGELES CA</td>\n",
              "      <td>1,595,037</td>\n",
              "      <td>144,132</td>\n",
              "    </tr>\n",
              "    <tr>\n",
              "      <th>3</th>\n",
              "      <td>MIAMI FL</td>\n",
              "      <td>1,339,155</td>\n",
              "      <td>17,675</td>\n",
              "    </tr>\n",
              "    <tr>\n",
              "      <th>4</th>\n",
              "      <td>SILICON VALLEY</td>\n",
              "      <td>1,177,609</td>\n",
              "      <td>27,247</td>\n",
              "    </tr>\n",
              "  </tbody>\n",
              "</table>\n",
              "</div>"
            ],
            "text/plain": [
              "             City   Population      Users\n",
              "0     NEW YORK NY   8,405,837    302,149 \n",
              "1      CHICAGO IL   1,955,130    164,468 \n",
              "2  LOS ANGELES CA   1,595,037    144,132 \n",
              "3        MIAMI FL   1,339,155     17,675 \n",
              "4  SILICON VALLEY   1,177,609     27,247 "
            ]
          },
          "metadata": {
            "tags": []
          },
          "execution_count": 76
        }
      ]
    },
    {
      "cell_type": "code",
      "metadata": {
        "colab": {
          "base_uri": "https://localhost:8080/"
        },
        "id": "SDbogKtTLq05",
        "outputId": "18977073-813e-4775-cb59-3bb383e413f0"
      },
      "source": [
        "city.info()"
      ],
      "execution_count": 77,
      "outputs": [
        {
          "output_type": "stream",
          "text": [
            "<class 'pandas.core.frame.DataFrame'>\n",
            "RangeIndex: 20 entries, 0 to 19\n",
            "Data columns (total 3 columns):\n",
            " #   Column      Non-Null Count  Dtype \n",
            "---  ------      --------------  ----- \n",
            " 0   City        20 non-null     object\n",
            " 1   Population  20 non-null     object\n",
            " 2   Users       20 non-null     object\n",
            "dtypes: object(3)\n",
            "memory usage: 608.0+ bytes\n"
          ],
          "name": "stdout"
        }
      ]
    },
    {
      "cell_type": "code",
      "metadata": {
        "colab": {
          "base_uri": "https://localhost:8080/"
        },
        "id": "Dd93u4FAYQCa",
        "outputId": "ccad875f-196e-4ea9-cba4-cc8f7bdf2d3c"
      },
      "source": [
        "city.isnull().sum()"
      ],
      "execution_count": 78,
      "outputs": [
        {
          "output_type": "execute_result",
          "data": {
            "text/plain": [
              "City          0\n",
              "Population    0\n",
              "Users         0\n",
              "dtype: int64"
            ]
          },
          "metadata": {
            "tags": []
          },
          "execution_count": 78
        }
      ]
    },
    {
      "cell_type": "code",
      "metadata": {
        "colab": {
          "base_uri": "https://localhost:8080/",
          "height": 204
        },
        "id": "_uj5tWlsL0I-",
        "outputId": "0ed207b3-0593-4715-9aa6-8c566d94449b"
      },
      "source": [
        "trans= pd.read_csv(\"Transaction_ID.csv\")\n",
        "trans.head()"
      ],
      "execution_count": 79,
      "outputs": [
        {
          "output_type": "execute_result",
          "data": {
            "text/html": [
              "<div>\n",
              "<style scoped>\n",
              "    .dataframe tbody tr th:only-of-type {\n",
              "        vertical-align: middle;\n",
              "    }\n",
              "\n",
              "    .dataframe tbody tr th {\n",
              "        vertical-align: top;\n",
              "    }\n",
              "\n",
              "    .dataframe thead th {\n",
              "        text-align: right;\n",
              "    }\n",
              "</style>\n",
              "<table border=\"1\" class=\"dataframe\">\n",
              "  <thead>\n",
              "    <tr style=\"text-align: right;\">\n",
              "      <th></th>\n",
              "      <th>Transaction ID</th>\n",
              "      <th>Customer ID</th>\n",
              "      <th>Payment_Mode</th>\n",
              "    </tr>\n",
              "  </thead>\n",
              "  <tbody>\n",
              "    <tr>\n",
              "      <th>0</th>\n",
              "      <td>10000011</td>\n",
              "      <td>29290</td>\n",
              "      <td>Card</td>\n",
              "    </tr>\n",
              "    <tr>\n",
              "      <th>1</th>\n",
              "      <td>10000012</td>\n",
              "      <td>27703</td>\n",
              "      <td>Card</td>\n",
              "    </tr>\n",
              "    <tr>\n",
              "      <th>2</th>\n",
              "      <td>10000013</td>\n",
              "      <td>28712</td>\n",
              "      <td>Cash</td>\n",
              "    </tr>\n",
              "    <tr>\n",
              "      <th>3</th>\n",
              "      <td>10000014</td>\n",
              "      <td>28020</td>\n",
              "      <td>Cash</td>\n",
              "    </tr>\n",
              "    <tr>\n",
              "      <th>4</th>\n",
              "      <td>10000015</td>\n",
              "      <td>27182</td>\n",
              "      <td>Card</td>\n",
              "    </tr>\n",
              "  </tbody>\n",
              "</table>\n",
              "</div>"
            ],
            "text/plain": [
              "   Transaction ID  Customer ID Payment_Mode\n",
              "0        10000011        29290         Card\n",
              "1        10000012        27703         Card\n",
              "2        10000013        28712         Cash\n",
              "3        10000014        28020         Cash\n",
              "4        10000015        27182         Card"
            ]
          },
          "metadata": {
            "tags": []
          },
          "execution_count": 79
        }
      ]
    },
    {
      "cell_type": "code",
      "metadata": {
        "colab": {
          "base_uri": "https://localhost:8080/"
        },
        "id": "wcOxk7KXL4YG",
        "outputId": "9b8ea62b-c0a6-412a-ddb8-76da9a0882cd"
      },
      "source": [
        "trans.info()"
      ],
      "execution_count": 80,
      "outputs": [
        {
          "output_type": "stream",
          "text": [
            "<class 'pandas.core.frame.DataFrame'>\n",
            "RangeIndex: 440098 entries, 0 to 440097\n",
            "Data columns (total 3 columns):\n",
            " #   Column          Non-Null Count   Dtype \n",
            "---  ------          --------------   ----- \n",
            " 0   Transaction ID  440098 non-null  int64 \n",
            " 1   Customer ID     440098 non-null  int64 \n",
            " 2   Payment_Mode    440098 non-null  object\n",
            "dtypes: int64(2), object(1)\n",
            "memory usage: 10.1+ MB\n"
          ],
          "name": "stdout"
        }
      ]
    },
    {
      "cell_type": "code",
      "metadata": {
        "colab": {
          "base_uri": "https://localhost:8080/"
        },
        "id": "IkPKw16rYWYx",
        "outputId": "b4ce5e89-d772-4af7-b218-81786efe9762"
      },
      "source": [
        "trans.isnull().sum()"
      ],
      "execution_count": 81,
      "outputs": [
        {
          "output_type": "execute_result",
          "data": {
            "text/plain": [
              "Transaction ID    0\n",
              "Customer ID       0\n",
              "Payment_Mode      0\n",
              "dtype: int64"
            ]
          },
          "metadata": {
            "tags": []
          },
          "execution_count": 81
        }
      ]
    },
    {
      "cell_type": "code",
      "metadata": {
        "colab": {
          "base_uri": "https://localhost:8080/",
          "height": 204
        },
        "id": "G3LQpsknL-ev",
        "outputId": "7458639f-3657-463d-a93c-c373dab54e11"
      },
      "source": [
        "customer = pd.read_csv(\"Customer_ID.csv\")\n",
        "customer.head()"
      ],
      "execution_count": 82,
      "outputs": [
        {
          "output_type": "execute_result",
          "data": {
            "text/html": [
              "<div>\n",
              "<style scoped>\n",
              "    .dataframe tbody tr th:only-of-type {\n",
              "        vertical-align: middle;\n",
              "    }\n",
              "\n",
              "    .dataframe tbody tr th {\n",
              "        vertical-align: top;\n",
              "    }\n",
              "\n",
              "    .dataframe thead th {\n",
              "        text-align: right;\n",
              "    }\n",
              "</style>\n",
              "<table border=\"1\" class=\"dataframe\">\n",
              "  <thead>\n",
              "    <tr style=\"text-align: right;\">\n",
              "      <th></th>\n",
              "      <th>Customer ID</th>\n",
              "      <th>Gender</th>\n",
              "      <th>Age</th>\n",
              "      <th>Income (USD/Month)</th>\n",
              "    </tr>\n",
              "  </thead>\n",
              "  <tbody>\n",
              "    <tr>\n",
              "      <th>0</th>\n",
              "      <td>29290</td>\n",
              "      <td>Male</td>\n",
              "      <td>28</td>\n",
              "      <td>10813</td>\n",
              "    </tr>\n",
              "    <tr>\n",
              "      <th>1</th>\n",
              "      <td>27703</td>\n",
              "      <td>Male</td>\n",
              "      <td>27</td>\n",
              "      <td>9237</td>\n",
              "    </tr>\n",
              "    <tr>\n",
              "      <th>2</th>\n",
              "      <td>28712</td>\n",
              "      <td>Male</td>\n",
              "      <td>53</td>\n",
              "      <td>11242</td>\n",
              "    </tr>\n",
              "    <tr>\n",
              "      <th>3</th>\n",
              "      <td>28020</td>\n",
              "      <td>Male</td>\n",
              "      <td>23</td>\n",
              "      <td>23327</td>\n",
              "    </tr>\n",
              "    <tr>\n",
              "      <th>4</th>\n",
              "      <td>27182</td>\n",
              "      <td>Male</td>\n",
              "      <td>33</td>\n",
              "      <td>8536</td>\n",
              "    </tr>\n",
              "  </tbody>\n",
              "</table>\n",
              "</div>"
            ],
            "text/plain": [
              "   Customer ID Gender  Age  Income (USD/Month)\n",
              "0        29290   Male   28               10813\n",
              "1        27703   Male   27                9237\n",
              "2        28712   Male   53               11242\n",
              "3        28020   Male   23               23327\n",
              "4        27182   Male   33                8536"
            ]
          },
          "metadata": {
            "tags": []
          },
          "execution_count": 82
        }
      ]
    },
    {
      "cell_type": "code",
      "metadata": {
        "colab": {
          "base_uri": "https://localhost:8080/"
        },
        "id": "iqohiuhEMByw",
        "outputId": "828ff5db-2180-4c8e-a626-e4c1e610e956"
      },
      "source": [
        "customer.info()"
      ],
      "execution_count": 83,
      "outputs": [
        {
          "output_type": "stream",
          "text": [
            "<class 'pandas.core.frame.DataFrame'>\n",
            "RangeIndex: 49171 entries, 0 to 49170\n",
            "Data columns (total 4 columns):\n",
            " #   Column              Non-Null Count  Dtype \n",
            "---  ------              --------------  ----- \n",
            " 0   Customer ID         49171 non-null  int64 \n",
            " 1   Gender              49171 non-null  object\n",
            " 2   Age                 49171 non-null  int64 \n",
            " 3   Income (USD/Month)  49171 non-null  int64 \n",
            "dtypes: int64(3), object(1)\n",
            "memory usage: 1.5+ MB\n"
          ],
          "name": "stdout"
        }
      ]
    },
    {
      "cell_type": "code",
      "metadata": {
        "colab": {
          "base_uri": "https://localhost:8080/"
        },
        "id": "B4p1_O3XYZhT",
        "outputId": "a057f855-4065-4a46-a92b-04ef192b2640"
      },
      "source": [
        "customer.isnull().sum()"
      ],
      "execution_count": 84,
      "outputs": [
        {
          "output_type": "execute_result",
          "data": {
            "text/plain": [
              "Customer ID           0\n",
              "Gender                0\n",
              "Age                   0\n",
              "Income (USD/Month)    0\n",
              "dtype: int64"
            ]
          },
          "metadata": {
            "tags": []
          },
          "execution_count": 84
        }
      ]
    },
    {
      "cell_type": "code",
      "metadata": {
        "colab": {
          "base_uri": "https://localhost:8080/"
        },
        "id": "0QoMbuYrMDn1",
        "outputId": "87df7fdf-8d6a-40cc-e5a0-813e863a9da3"
      },
      "source": [
        "customer.isnull().values.any()\n",
        "cab.isnull().values.any()\n",
        "city.isnull().values.any()\n",
        "trans.isnull().values.any()"
      ],
      "execution_count": 85,
      "outputs": [
        {
          "output_type": "execute_result",
          "data": {
            "text/plain": [
              "False"
            ]
          },
          "metadata": {
            "tags": []
          },
          "execution_count": 85
        }
      ]
    },
    {
      "cell_type": "markdown",
      "metadata": {
        "id": "zBfIB5drK6R5"
      },
      "source": [
        "\n",
        "#2.   Prepare the master data by merging the four datasets (cab,trans,customer and city)\n",
        "\n",
        "\n",
        "\n"
      ]
    },
    {
      "cell_type": "code",
      "metadata": {
        "colab": {
          "base_uri": "https://localhost:8080/",
          "height": 326
        },
        "id": "teB3qe_3MNyb",
        "outputId": "93396cde-f111-440d-e08f-c0fc03d9b5f4"
      },
      "source": [
        "masterData= pd.merge(pd.merge(pd.merge(cab,trans),customer),city) \n",
        "masterData.head()"
      ],
      "execution_count": 86,
      "outputs": [
        {
          "output_type": "execute_result",
          "data": {
            "text/html": [
              "<div>\n",
              "<style scoped>\n",
              "    .dataframe tbody tr th:only-of-type {\n",
              "        vertical-align: middle;\n",
              "    }\n",
              "\n",
              "    .dataframe tbody tr th {\n",
              "        vertical-align: top;\n",
              "    }\n",
              "\n",
              "    .dataframe thead th {\n",
              "        text-align: right;\n",
              "    }\n",
              "</style>\n",
              "<table border=\"1\" class=\"dataframe\">\n",
              "  <thead>\n",
              "    <tr style=\"text-align: right;\">\n",
              "      <th></th>\n",
              "      <th>Transaction ID</th>\n",
              "      <th>Date of Travel</th>\n",
              "      <th>Company</th>\n",
              "      <th>City</th>\n",
              "      <th>KM Travelled</th>\n",
              "      <th>Price Charged</th>\n",
              "      <th>Cost of Trip</th>\n",
              "      <th>Customer ID</th>\n",
              "      <th>Payment_Mode</th>\n",
              "      <th>Gender</th>\n",
              "      <th>Age</th>\n",
              "      <th>Income (USD/Month)</th>\n",
              "      <th>Population</th>\n",
              "      <th>Users</th>\n",
              "    </tr>\n",
              "  </thead>\n",
              "  <tbody>\n",
              "    <tr>\n",
              "      <th>0</th>\n",
              "      <td>10000011</td>\n",
              "      <td>08/01/2016</td>\n",
              "      <td>Pink Cab</td>\n",
              "      <td>ATLANTA GA</td>\n",
              "      <td>30.45</td>\n",
              "      <td>370.95</td>\n",
              "      <td>313.6350</td>\n",
              "      <td>29290</td>\n",
              "      <td>Card</td>\n",
              "      <td>Male</td>\n",
              "      <td>28</td>\n",
              "      <td>10813</td>\n",
              "      <td>814,885</td>\n",
              "      <td>24,701</td>\n",
              "    </tr>\n",
              "    <tr>\n",
              "      <th>1</th>\n",
              "      <td>10351127</td>\n",
              "      <td>21/07/2018</td>\n",
              "      <td>Yellow Cab</td>\n",
              "      <td>ATLANTA GA</td>\n",
              "      <td>26.19</td>\n",
              "      <td>598.70</td>\n",
              "      <td>317.4228</td>\n",
              "      <td>29290</td>\n",
              "      <td>Cash</td>\n",
              "      <td>Male</td>\n",
              "      <td>28</td>\n",
              "      <td>10813</td>\n",
              "      <td>814,885</td>\n",
              "      <td>24,701</td>\n",
              "    </tr>\n",
              "    <tr>\n",
              "      <th>2</th>\n",
              "      <td>10412921</td>\n",
              "      <td>23/11/2018</td>\n",
              "      <td>Yellow Cab</td>\n",
              "      <td>ATLANTA GA</td>\n",
              "      <td>42.55</td>\n",
              "      <td>792.05</td>\n",
              "      <td>597.4020</td>\n",
              "      <td>29290</td>\n",
              "      <td>Card</td>\n",
              "      <td>Male</td>\n",
              "      <td>28</td>\n",
              "      <td>10813</td>\n",
              "      <td>814,885</td>\n",
              "      <td>24,701</td>\n",
              "    </tr>\n",
              "    <tr>\n",
              "      <th>3</th>\n",
              "      <td>10000012</td>\n",
              "      <td>06/01/2016</td>\n",
              "      <td>Pink Cab</td>\n",
              "      <td>ATLANTA GA</td>\n",
              "      <td>28.62</td>\n",
              "      <td>358.52</td>\n",
              "      <td>334.8540</td>\n",
              "      <td>27703</td>\n",
              "      <td>Card</td>\n",
              "      <td>Male</td>\n",
              "      <td>27</td>\n",
              "      <td>9237</td>\n",
              "      <td>814,885</td>\n",
              "      <td>24,701</td>\n",
              "    </tr>\n",
              "    <tr>\n",
              "      <th>4</th>\n",
              "      <td>10320494</td>\n",
              "      <td>21/04/2018</td>\n",
              "      <td>Yellow Cab</td>\n",
              "      <td>ATLANTA GA</td>\n",
              "      <td>36.38</td>\n",
              "      <td>721.10</td>\n",
              "      <td>467.1192</td>\n",
              "      <td>27703</td>\n",
              "      <td>Card</td>\n",
              "      <td>Male</td>\n",
              "      <td>27</td>\n",
              "      <td>9237</td>\n",
              "      <td>814,885</td>\n",
              "      <td>24,701</td>\n",
              "    </tr>\n",
              "  </tbody>\n",
              "</table>\n",
              "</div>"
            ],
            "text/plain": [
              "   Transaction ID Date of Travel  ... Population     Users\n",
              "0        10000011     08/01/2016  ...   814,885    24,701 \n",
              "1        10351127     21/07/2018  ...   814,885    24,701 \n",
              "2        10412921     23/11/2018  ...   814,885    24,701 \n",
              "3        10000012     06/01/2016  ...   814,885    24,701 \n",
              "4        10320494     21/04/2018  ...   814,885    24,701 \n",
              "\n",
              "[5 rows x 14 columns]"
            ]
          },
          "metadata": {
            "tags": []
          },
          "execution_count": 86
        }
      ]
    },
    {
      "cell_type": "code",
      "metadata": {
        "colab": {
          "base_uri": "https://localhost:8080/"
        },
        "id": "rlXNpWaSMQAy",
        "outputId": "edac3e68-dd68-4f2c-a8bc-208ed08c1b7c"
      },
      "source": [
        "masterData.info()\n",
        "masterData.isnull().sum()"
      ],
      "execution_count": 87,
      "outputs": [
        {
          "output_type": "stream",
          "text": [
            "<class 'pandas.core.frame.DataFrame'>\n",
            "Int64Index: 359392 entries, 0 to 359391\n",
            "Data columns (total 14 columns):\n",
            " #   Column              Non-Null Count   Dtype  \n",
            "---  ------              --------------   -----  \n",
            " 0   Transaction ID      359392 non-null  int64  \n",
            " 1   Date of Travel      359392 non-null  object \n",
            " 2   Company             359392 non-null  object \n",
            " 3   City                359392 non-null  object \n",
            " 4   KM Travelled        359392 non-null  float64\n",
            " 5   Price Charged       359392 non-null  float64\n",
            " 6   Cost of Trip        359392 non-null  float64\n",
            " 7   Customer ID         359392 non-null  int64  \n",
            " 8   Payment_Mode        359392 non-null  object \n",
            " 9   Gender              359392 non-null  object \n",
            " 10  Age                 359392 non-null  int64  \n",
            " 11  Income (USD/Month)  359392 non-null  int64  \n",
            " 12  Population          359392 non-null  object \n",
            " 13  Users               359392 non-null  object \n",
            "dtypes: float64(3), int64(4), object(7)\n",
            "memory usage: 41.1+ MB\n"
          ],
          "name": "stdout"
        },
        {
          "output_type": "execute_result",
          "data": {
            "text/plain": [
              "Transaction ID        0\n",
              "Date of Travel        0\n",
              "Company               0\n",
              "City                  0\n",
              "KM Travelled          0\n",
              "Price Charged         0\n",
              "Cost of Trip          0\n",
              "Customer ID           0\n",
              "Payment_Mode          0\n",
              "Gender                0\n",
              "Age                   0\n",
              "Income (USD/Month)    0\n",
              "Population            0\n",
              "Users                 0\n",
              "dtype: int64"
            ]
          },
          "metadata": {
            "tags": []
          },
          "execution_count": 87
        }
      ]
    },
    {
      "cell_type": "code",
      "metadata": {
        "id": "oq1w04fnMVI4"
      },
      "source": [
        "#replace the space in each column with '_'\n",
        "masterData.columns=masterData.columns.str.strip().str.lower().str.replace(' ', '_')"
      ],
      "execution_count": 88,
      "outputs": []
    },
    {
      "cell_type": "code",
      "metadata": {
        "colab": {
          "base_uri": "https://localhost:8080/",
          "height": 309
        },
        "id": "ACf4-I08YkJv",
        "outputId": "0ef91206-aeea-4170-c5a6-08d4cbe0c7b0"
      },
      "source": [
        "masterData.head()"
      ],
      "execution_count": 89,
      "outputs": [
        {
          "output_type": "execute_result",
          "data": {
            "text/html": [
              "<div>\n",
              "<style scoped>\n",
              "    .dataframe tbody tr th:only-of-type {\n",
              "        vertical-align: middle;\n",
              "    }\n",
              "\n",
              "    .dataframe tbody tr th {\n",
              "        vertical-align: top;\n",
              "    }\n",
              "\n",
              "    .dataframe thead th {\n",
              "        text-align: right;\n",
              "    }\n",
              "</style>\n",
              "<table border=\"1\" class=\"dataframe\">\n",
              "  <thead>\n",
              "    <tr style=\"text-align: right;\">\n",
              "      <th></th>\n",
              "      <th>transaction_id</th>\n",
              "      <th>date_of_travel</th>\n",
              "      <th>company</th>\n",
              "      <th>city</th>\n",
              "      <th>km_travelled</th>\n",
              "      <th>price_charged</th>\n",
              "      <th>cost_of_trip</th>\n",
              "      <th>customer_id</th>\n",
              "      <th>payment_mode</th>\n",
              "      <th>gender</th>\n",
              "      <th>age</th>\n",
              "      <th>income_(usd/month)</th>\n",
              "      <th>population</th>\n",
              "      <th>users</th>\n",
              "    </tr>\n",
              "  </thead>\n",
              "  <tbody>\n",
              "    <tr>\n",
              "      <th>0</th>\n",
              "      <td>10000011</td>\n",
              "      <td>08/01/2016</td>\n",
              "      <td>Pink Cab</td>\n",
              "      <td>ATLANTA GA</td>\n",
              "      <td>30.45</td>\n",
              "      <td>370.95</td>\n",
              "      <td>313.6350</td>\n",
              "      <td>29290</td>\n",
              "      <td>Card</td>\n",
              "      <td>Male</td>\n",
              "      <td>28</td>\n",
              "      <td>10813</td>\n",
              "      <td>814,885</td>\n",
              "      <td>24,701</td>\n",
              "    </tr>\n",
              "    <tr>\n",
              "      <th>1</th>\n",
              "      <td>10351127</td>\n",
              "      <td>21/07/2018</td>\n",
              "      <td>Yellow Cab</td>\n",
              "      <td>ATLANTA GA</td>\n",
              "      <td>26.19</td>\n",
              "      <td>598.70</td>\n",
              "      <td>317.4228</td>\n",
              "      <td>29290</td>\n",
              "      <td>Cash</td>\n",
              "      <td>Male</td>\n",
              "      <td>28</td>\n",
              "      <td>10813</td>\n",
              "      <td>814,885</td>\n",
              "      <td>24,701</td>\n",
              "    </tr>\n",
              "    <tr>\n",
              "      <th>2</th>\n",
              "      <td>10412921</td>\n",
              "      <td>23/11/2018</td>\n",
              "      <td>Yellow Cab</td>\n",
              "      <td>ATLANTA GA</td>\n",
              "      <td>42.55</td>\n",
              "      <td>792.05</td>\n",
              "      <td>597.4020</td>\n",
              "      <td>29290</td>\n",
              "      <td>Card</td>\n",
              "      <td>Male</td>\n",
              "      <td>28</td>\n",
              "      <td>10813</td>\n",
              "      <td>814,885</td>\n",
              "      <td>24,701</td>\n",
              "    </tr>\n",
              "    <tr>\n",
              "      <th>3</th>\n",
              "      <td>10000012</td>\n",
              "      <td>06/01/2016</td>\n",
              "      <td>Pink Cab</td>\n",
              "      <td>ATLANTA GA</td>\n",
              "      <td>28.62</td>\n",
              "      <td>358.52</td>\n",
              "      <td>334.8540</td>\n",
              "      <td>27703</td>\n",
              "      <td>Card</td>\n",
              "      <td>Male</td>\n",
              "      <td>27</td>\n",
              "      <td>9237</td>\n",
              "      <td>814,885</td>\n",
              "      <td>24,701</td>\n",
              "    </tr>\n",
              "    <tr>\n",
              "      <th>4</th>\n",
              "      <td>10320494</td>\n",
              "      <td>21/04/2018</td>\n",
              "      <td>Yellow Cab</td>\n",
              "      <td>ATLANTA GA</td>\n",
              "      <td>36.38</td>\n",
              "      <td>721.10</td>\n",
              "      <td>467.1192</td>\n",
              "      <td>27703</td>\n",
              "      <td>Card</td>\n",
              "      <td>Male</td>\n",
              "      <td>27</td>\n",
              "      <td>9237</td>\n",
              "      <td>814,885</td>\n",
              "      <td>24,701</td>\n",
              "    </tr>\n",
              "  </tbody>\n",
              "</table>\n",
              "</div>"
            ],
            "text/plain": [
              "   transaction_id date_of_travel  ... population     users\n",
              "0        10000011     08/01/2016  ...   814,885    24,701 \n",
              "1        10351127     21/07/2018  ...   814,885    24,701 \n",
              "2        10412921     23/11/2018  ...   814,885    24,701 \n",
              "3        10000012     06/01/2016  ...   814,885    24,701 \n",
              "4        10320494     21/04/2018  ...   814,885    24,701 \n",
              "\n",
              "[5 rows x 14 columns]"
            ]
          },
          "metadata": {
            "tags": []
          },
          "execution_count": 89
        }
      ]
    },
    {
      "cell_type": "code",
      "metadata": {
        "colab": {
          "base_uri": "https://localhost:8080/"
        },
        "id": "LeAPR9eaqFrB",
        "outputId": "762208b1-a888-4b81-f330-deb1356aa1a8"
      },
      "source": [
        "masterData.shape"
      ],
      "execution_count": 90,
      "outputs": [
        {
          "output_type": "execute_result",
          "data": {
            "text/plain": [
              "(359392, 14)"
            ]
          },
          "metadata": {
            "tags": []
          },
          "execution_count": 90
        }
      ]
    },
    {
      "cell_type": "markdown",
      "metadata": {
        "id": "tOVYZVH3OhK-"
      },
      "source": [
        "#3. Add new columns\n"
      ]
    },
    {
      "cell_type": "code",
      "metadata": {
        "id": "cyM1uWJVMiFS"
      },
      "source": [
        "#Adding new columns\n",
        "#Extracting the day,weekday, month and the year from the date of travel\n",
        "masterData['day'] = pd.DatetimeIndex(masterData[\"date_of_travel\"]).day\n",
        "masterData['Weekday'] = pd.DatetimeIndex(masterData[\"date_of_travel\"]).weekday\n",
        "masterData['month'] = pd.DatetimeIndex(masterData[\"date_of_travel\"]).month\n",
        "masterData['year'] = pd.DatetimeIndex(masterData[\"date_of_travel\"]).year\n"
      ],
      "execution_count": 91,
      "outputs": []
    },
    {
      "cell_type": "code",
      "metadata": {
        "id": "dnuRrl-GZjqU"
      },
      "source": [
        "#The Profit per one Trip which is the Differnce between Price Charged and Cost of trip\n",
        "masterData['profit_per_one_trip'] = masterData['price_charged'] - masterData['cost_of_trip']\n",
        "\n",
        "#The Profit per kilometre\n",
        "masterData['profit_per_km'] = masterData['profit_per_one_trip'] / masterData['km_travelled']  \n",
        "\n",
        "# Price Per kilometer Travelled\n",
        "masterData[\"price_per_km\"]= masterData[\"price_charged\"] / masterData[\"km_travelled\"]\n",
        "\n",
        "#Cost Per Kilometer Travelled \n",
        "masterData[\"cost_per_km\"]= masterData[\"cost_of_trip\"] / masterData[\"km_travelled\"]\n",
        "#Profit Per year\n",
        "#masterData[\"profit_per_year\"]= masterData[\"profit_per_one_trip\"] / masterData[\"year\"]\n"
      ],
      "execution_count": 92,
      "outputs": []
    },
    {
      "cell_type": "code",
      "metadata": {
        "colab": {
          "base_uri": "https://localhost:8080/",
          "height": 213
        },
        "id": "GehVCFVEMn-m",
        "outputId": "641c3f6e-b5cf-4842-9ac2-f0c3ae391b23"
      },
      "source": [
        "# View the dataset\n",
        "masterData.head(3)"
      ],
      "execution_count": 93,
      "outputs": [
        {
          "output_type": "execute_result",
          "data": {
            "text/html": [
              "<div>\n",
              "<style scoped>\n",
              "    .dataframe tbody tr th:only-of-type {\n",
              "        vertical-align: middle;\n",
              "    }\n",
              "\n",
              "    .dataframe tbody tr th {\n",
              "        vertical-align: top;\n",
              "    }\n",
              "\n",
              "    .dataframe thead th {\n",
              "        text-align: right;\n",
              "    }\n",
              "</style>\n",
              "<table border=\"1\" class=\"dataframe\">\n",
              "  <thead>\n",
              "    <tr style=\"text-align: right;\">\n",
              "      <th></th>\n",
              "      <th>transaction_id</th>\n",
              "      <th>date_of_travel</th>\n",
              "      <th>company</th>\n",
              "      <th>city</th>\n",
              "      <th>km_travelled</th>\n",
              "      <th>price_charged</th>\n",
              "      <th>cost_of_trip</th>\n",
              "      <th>customer_id</th>\n",
              "      <th>payment_mode</th>\n",
              "      <th>gender</th>\n",
              "      <th>age</th>\n",
              "      <th>income_(usd/month)</th>\n",
              "      <th>population</th>\n",
              "      <th>users</th>\n",
              "      <th>day</th>\n",
              "      <th>Weekday</th>\n",
              "      <th>month</th>\n",
              "      <th>year</th>\n",
              "      <th>profit_per_one_trip</th>\n",
              "      <th>profit_per_km</th>\n",
              "      <th>price_per_km</th>\n",
              "      <th>cost_per_km</th>\n",
              "    </tr>\n",
              "  </thead>\n",
              "  <tbody>\n",
              "    <tr>\n",
              "      <th>0</th>\n",
              "      <td>10000011</td>\n",
              "      <td>08/01/2016</td>\n",
              "      <td>Pink Cab</td>\n",
              "      <td>ATLANTA GA</td>\n",
              "      <td>30.45</td>\n",
              "      <td>370.95</td>\n",
              "      <td>313.6350</td>\n",
              "      <td>29290</td>\n",
              "      <td>Card</td>\n",
              "      <td>Male</td>\n",
              "      <td>28</td>\n",
              "      <td>10813</td>\n",
              "      <td>814,885</td>\n",
              "      <td>24,701</td>\n",
              "      <td>1</td>\n",
              "      <td>0</td>\n",
              "      <td>8</td>\n",
              "      <td>2016</td>\n",
              "      <td>57.3150</td>\n",
              "      <td>1.882266</td>\n",
              "      <td>12.182266</td>\n",
              "      <td>10.30</td>\n",
              "    </tr>\n",
              "    <tr>\n",
              "      <th>1</th>\n",
              "      <td>10351127</td>\n",
              "      <td>21/07/2018</td>\n",
              "      <td>Yellow Cab</td>\n",
              "      <td>ATLANTA GA</td>\n",
              "      <td>26.19</td>\n",
              "      <td>598.70</td>\n",
              "      <td>317.4228</td>\n",
              "      <td>29290</td>\n",
              "      <td>Cash</td>\n",
              "      <td>Male</td>\n",
              "      <td>28</td>\n",
              "      <td>10813</td>\n",
              "      <td>814,885</td>\n",
              "      <td>24,701</td>\n",
              "      <td>21</td>\n",
              "      <td>5</td>\n",
              "      <td>7</td>\n",
              "      <td>2018</td>\n",
              "      <td>281.2772</td>\n",
              "      <td>10.739870</td>\n",
              "      <td>22.859870</td>\n",
              "      <td>12.12</td>\n",
              "    </tr>\n",
              "    <tr>\n",
              "      <th>2</th>\n",
              "      <td>10412921</td>\n",
              "      <td>23/11/2018</td>\n",
              "      <td>Yellow Cab</td>\n",
              "      <td>ATLANTA GA</td>\n",
              "      <td>42.55</td>\n",
              "      <td>792.05</td>\n",
              "      <td>597.4020</td>\n",
              "      <td>29290</td>\n",
              "      <td>Card</td>\n",
              "      <td>Male</td>\n",
              "      <td>28</td>\n",
              "      <td>10813</td>\n",
              "      <td>814,885</td>\n",
              "      <td>24,701</td>\n",
              "      <td>23</td>\n",
              "      <td>4</td>\n",
              "      <td>11</td>\n",
              "      <td>2018</td>\n",
              "      <td>194.6480</td>\n",
              "      <td>4.574571</td>\n",
              "      <td>18.614571</td>\n",
              "      <td>14.04</td>\n",
              "    </tr>\n",
              "  </tbody>\n",
              "</table>\n",
              "</div>"
            ],
            "text/plain": [
              "   transaction_id date_of_travel  ... price_per_km cost_per_km\n",
              "0        10000011     08/01/2016  ...    12.182266       10.30\n",
              "1        10351127     21/07/2018  ...    22.859870       12.12\n",
              "2        10412921     23/11/2018  ...    18.614571       14.04\n",
              "\n",
              "[3 rows x 22 columns]"
            ]
          },
          "metadata": {
            "tags": []
          },
          "execution_count": 93
        }
      ]
    },
    {
      "cell_type": "markdown",
      "metadata": {
        "id": "pMf8L8GnPDBF"
      },
      "source": [
        "#4. Exploratory Data Analysis"
      ]
    },
    {
      "cell_type": "markdown",
      "metadata": {
        "id": "YImNCy0AaBnp"
      },
      "source": [
        "Descriptive statistics for master Data"
      ]
    },
    {
      "cell_type": "code",
      "metadata": {
        "colab": {
          "base_uri": "https://localhost:8080/",
          "height": 317
        },
        "id": "Rd3wGe6sSqz4",
        "outputId": "a0053d05-2586-44f8-a58c-51f71d36ca4a"
      },
      "source": [
        "masterData.describe()"
      ],
      "execution_count": 94,
      "outputs": [
        {
          "output_type": "execute_result",
          "data": {
            "text/html": [
              "<div>\n",
              "<style scoped>\n",
              "    .dataframe tbody tr th:only-of-type {\n",
              "        vertical-align: middle;\n",
              "    }\n",
              "\n",
              "    .dataframe tbody tr th {\n",
              "        vertical-align: top;\n",
              "    }\n",
              "\n",
              "    .dataframe thead th {\n",
              "        text-align: right;\n",
              "    }\n",
              "</style>\n",
              "<table border=\"1\" class=\"dataframe\">\n",
              "  <thead>\n",
              "    <tr style=\"text-align: right;\">\n",
              "      <th></th>\n",
              "      <th>transaction_id</th>\n",
              "      <th>km_travelled</th>\n",
              "      <th>price_charged</th>\n",
              "      <th>cost_of_trip</th>\n",
              "      <th>customer_id</th>\n",
              "      <th>age</th>\n",
              "      <th>income_(usd/month)</th>\n",
              "      <th>day</th>\n",
              "      <th>Weekday</th>\n",
              "      <th>month</th>\n",
              "      <th>year</th>\n",
              "      <th>profit_per_one_trip</th>\n",
              "      <th>profit_per_km</th>\n",
              "      <th>price_per_km</th>\n",
              "      <th>cost_per_km</th>\n",
              "    </tr>\n",
              "  </thead>\n",
              "  <tbody>\n",
              "    <tr>\n",
              "      <th>count</th>\n",
              "      <td>3.593920e+05</td>\n",
              "      <td>359392.000000</td>\n",
              "      <td>359392.000000</td>\n",
              "      <td>359392.000000</td>\n",
              "      <td>359392.000000</td>\n",
              "      <td>359392.000000</td>\n",
              "      <td>359392.000000</td>\n",
              "      <td>359392.000000</td>\n",
              "      <td>359392.000000</td>\n",
              "      <td>359392.000000</td>\n",
              "      <td>359392.000000</td>\n",
              "      <td>359392.000000</td>\n",
              "      <td>359392.000000</td>\n",
              "      <td>359392.000000</td>\n",
              "      <td>359392.000000</td>\n",
              "    </tr>\n",
              "    <tr>\n",
              "      <th>mean</th>\n",
              "      <td>1.022076e+07</td>\n",
              "      <td>22.567254</td>\n",
              "      <td>423.443311</td>\n",
              "      <td>286.190113</td>\n",
              "      <td>19191.652115</td>\n",
              "      <td>35.336705</td>\n",
              "      <td>15048.822937</td>\n",
              "      <td>15.972835</td>\n",
              "      <td>3.463461</td>\n",
              "      <td>7.156047</td>\n",
              "      <td>2017.045199</td>\n",
              "      <td>137.253198</td>\n",
              "      <td>6.083579</td>\n",
              "      <td>18.765127</td>\n",
              "      <td>12.681548</td>\n",
              "    </tr>\n",
              "    <tr>\n",
              "      <th>std</th>\n",
              "      <td>1.268058e+05</td>\n",
              "      <td>12.233526</td>\n",
              "      <td>274.378911</td>\n",
              "      <td>157.993661</td>\n",
              "      <td>21012.412463</td>\n",
              "      <td>12.594234</td>\n",
              "      <td>7969.409482</td>\n",
              "      <td>8.503010</td>\n",
              "      <td>1.940577</td>\n",
              "      <td>3.413283</td>\n",
              "      <td>0.800239</td>\n",
              "      <td>160.311840</td>\n",
              "      <td>5.543493</td>\n",
              "      <td>5.878560</td>\n",
              "      <td>1.167944</td>\n",
              "    </tr>\n",
              "    <tr>\n",
              "      <th>min</th>\n",
              "      <td>1.000001e+07</td>\n",
              "      <td>1.900000</td>\n",
              "      <td>15.600000</td>\n",
              "      <td>19.000000</td>\n",
              "      <td>1.000000</td>\n",
              "      <td>18.000000</td>\n",
              "      <td>2000.000000</td>\n",
              "      <td>1.000000</td>\n",
              "      <td>0.000000</td>\n",
              "      <td>1.000000</td>\n",
              "      <td>2016.000000</td>\n",
              "      <td>-220.060000</td>\n",
              "      <td>-4.998235</td>\n",
              "      <td>6.338621</td>\n",
              "      <td>10.000000</td>\n",
              "    </tr>\n",
              "    <tr>\n",
              "      <th>25%</th>\n",
              "      <td>1.011081e+07</td>\n",
              "      <td>12.000000</td>\n",
              "      <td>206.437500</td>\n",
              "      <td>151.200000</td>\n",
              "      <td>2705.000000</td>\n",
              "      <td>25.000000</td>\n",
              "      <td>8424.000000</td>\n",
              "      <td>9.000000</td>\n",
              "      <td>2.000000</td>\n",
              "      <td>4.000000</td>\n",
              "      <td>2016.000000</td>\n",
              "      <td>28.012000</td>\n",
              "      <td>2.000385</td>\n",
              "      <td>14.451327</td>\n",
              "      <td>12.000000</td>\n",
              "    </tr>\n",
              "    <tr>\n",
              "      <th>50%</th>\n",
              "      <td>1.022104e+07</td>\n",
              "      <td>22.440000</td>\n",
              "      <td>386.360000</td>\n",
              "      <td>282.480000</td>\n",
              "      <td>7459.000000</td>\n",
              "      <td>33.000000</td>\n",
              "      <td>14685.000000</td>\n",
              "      <td>16.000000</td>\n",
              "      <td>4.000000</td>\n",
              "      <td>8.000000</td>\n",
              "      <td>2017.000000</td>\n",
              "      <td>81.962000</td>\n",
              "      <td>4.466809</td>\n",
              "      <td>17.153501</td>\n",
              "      <td>12.840000</td>\n",
              "    </tr>\n",
              "    <tr>\n",
              "      <th>75%</th>\n",
              "      <td>1.033094e+07</td>\n",
              "      <td>32.960000</td>\n",
              "      <td>583.660000</td>\n",
              "      <td>413.683200</td>\n",
              "      <td>36078.000000</td>\n",
              "      <td>42.000000</td>\n",
              "      <td>21035.000000</td>\n",
              "      <td>23.000000</td>\n",
              "      <td>5.000000</td>\n",
              "      <td>10.000000</td>\n",
              "      <td>2018.000000</td>\n",
              "      <td>190.030000</td>\n",
              "      <td>9.170006</td>\n",
              "      <td>22.234926</td>\n",
              "      <td>13.680000</td>\n",
              "    </tr>\n",
              "    <tr>\n",
              "      <th>max</th>\n",
              "      <td>1.044011e+07</td>\n",
              "      <td>48.000000</td>\n",
              "      <td>2048.030000</td>\n",
              "      <td>691.200000</td>\n",
              "      <td>60000.000000</td>\n",
              "      <td>65.000000</td>\n",
              "      <td>35000.000000</td>\n",
              "      <td>31.000000</td>\n",
              "      <td>6.000000</td>\n",
              "      <td>12.000000</td>\n",
              "      <td>2018.000000</td>\n",
              "      <td>1463.966000</td>\n",
              "      <td>41.115556</td>\n",
              "      <td>53.955556</td>\n",
              "      <td>14.400000</td>\n",
              "    </tr>\n",
              "  </tbody>\n",
              "</table>\n",
              "</div>"
            ],
            "text/plain": [
              "       transaction_id   km_travelled  ...   price_per_km    cost_per_km\n",
              "count    3.593920e+05  359392.000000  ...  359392.000000  359392.000000\n",
              "mean     1.022076e+07      22.567254  ...      18.765127      12.681548\n",
              "std      1.268058e+05      12.233526  ...       5.878560       1.167944\n",
              "min      1.000001e+07       1.900000  ...       6.338621      10.000000\n",
              "25%      1.011081e+07      12.000000  ...      14.451327      12.000000\n",
              "50%      1.022104e+07      22.440000  ...      17.153501      12.840000\n",
              "75%      1.033094e+07      32.960000  ...      22.234926      13.680000\n",
              "max      1.044011e+07      48.000000  ...      53.955556      14.400000\n",
              "\n",
              "[8 rows x 15 columns]"
            ]
          },
          "metadata": {
            "tags": []
          },
          "execution_count": 94
        }
      ]
    },
    {
      "cell_type": "markdown",
      "metadata": {
        "id": "nu8Sw-Yzq8jP"
      },
      "source": [
        "It display valid values"
      ]
    },
    {
      "cell_type": "markdown",
      "metadata": {
        "id": "0gBcxnGfrR-_"
      },
      "source": [
        "Check if exist duplicate rows "
      ]
    },
    {
      "cell_type": "code",
      "metadata": {
        "colab": {
          "base_uri": "https://localhost:8080/",
          "height": 69
        },
        "id": "j7UnX9unrV73",
        "outputId": "45a74234-856a-41a1-9e6d-7f036040eb09"
      },
      "source": [
        "Checkduplicate = masterData[masterData.duplicated()]\n",
        "Checkduplicate"
      ],
      "execution_count": 95,
      "outputs": [
        {
          "output_type": "execute_result",
          "data": {
            "text/html": [
              "<div>\n",
              "<style scoped>\n",
              "    .dataframe tbody tr th:only-of-type {\n",
              "        vertical-align: middle;\n",
              "    }\n",
              "\n",
              "    .dataframe tbody tr th {\n",
              "        vertical-align: top;\n",
              "    }\n",
              "\n",
              "    .dataframe thead th {\n",
              "        text-align: right;\n",
              "    }\n",
              "</style>\n",
              "<table border=\"1\" class=\"dataframe\">\n",
              "  <thead>\n",
              "    <tr style=\"text-align: right;\">\n",
              "      <th></th>\n",
              "      <th>transaction_id</th>\n",
              "      <th>date_of_travel</th>\n",
              "      <th>company</th>\n",
              "      <th>city</th>\n",
              "      <th>km_travelled</th>\n",
              "      <th>price_charged</th>\n",
              "      <th>cost_of_trip</th>\n",
              "      <th>customer_id</th>\n",
              "      <th>payment_mode</th>\n",
              "      <th>gender</th>\n",
              "      <th>age</th>\n",
              "      <th>income_(usd/month)</th>\n",
              "      <th>population</th>\n",
              "      <th>users</th>\n",
              "      <th>day</th>\n",
              "      <th>Weekday</th>\n",
              "      <th>month</th>\n",
              "      <th>year</th>\n",
              "      <th>profit_per_one_trip</th>\n",
              "      <th>profit_per_km</th>\n",
              "      <th>price_per_km</th>\n",
              "      <th>cost_per_km</th>\n",
              "    </tr>\n",
              "  </thead>\n",
              "  <tbody>\n",
              "  </tbody>\n",
              "</table>\n",
              "</div>"
            ],
            "text/plain": [
              "Empty DataFrame\n",
              "Columns: [transaction_id, date_of_travel, company, city, km_travelled, price_charged, cost_of_trip, customer_id, payment_mode, gender, age, income_(usd/month), population, users, day, Weekday, month, year, profit_per_one_trip, profit_per_km, price_per_km, cost_per_km]\n",
              "Index: []"
            ]
          },
          "metadata": {
            "tags": []
          },
          "execution_count": 95
        }
      ]
    },
    {
      "cell_type": "markdown",
      "metadata": {
        "id": "GEsUHuJArg7W"
      },
      "source": [
        "It doesn't contain any duplicate rows"
      ]
    },
    {
      "cell_type": "markdown",
      "metadata": {
        "id": "BadqRKUjeBao"
      },
      "source": [
        "#5. Data visualization of features"
      ]
    },
    {
      "cell_type": "code",
      "metadata": {
        "colab": {
          "base_uri": "https://localhost:8080/",
          "height": 941
        },
        "id": "U_7KJpIDd-0i",
        "outputId": "bcc04a68-b00c-4a0f-94b7-1c4bdd92c0c4"
      },
      "source": [
        "#Data Visualization¶\n",
        "numericValues = masterData.select_dtypes(include=['float'])\n",
        "numericValues.hist(figsize=(11,13))"
      ],
      "execution_count": 96,
      "outputs": [
        {
          "output_type": "execute_result",
          "data": {
            "text/plain": [
              "array([[<matplotlib.axes._subplots.AxesSubplot object at 0x7f80e330cbd0>,\n",
              "        <matplotlib.axes._subplots.AxesSubplot object at 0x7f80e31ad750>,\n",
              "        <matplotlib.axes._subplots.AxesSubplot object at 0x7f80d9692250>],\n",
              "       [<matplotlib.axes._subplots.AxesSubplot object at 0x7f80da5880d0>,\n",
              "        <matplotlib.axes._subplots.AxesSubplot object at 0x7f80da6da750>,\n",
              "        <matplotlib.axes._subplots.AxesSubplot object at 0x7f80da4b1dd0>],\n",
              "       [<matplotlib.axes._subplots.AxesSubplot object at 0x7f80da504510>,\n",
              "        <matplotlib.axes._subplots.AxesSubplot object at 0x7f80da492ad0>,\n",
              "        <matplotlib.axes._subplots.AxesSubplot object at 0x7f80da492b10>]],\n",
              "      dtype=object)"
            ]
          },
          "metadata": {
            "tags": []
          },
          "execution_count": 96
        },
        {
          "output_type": "display_data",
          "data": {
            "image/png": "[encoded data removed]",
            "text/plain": [
              "<Figure size 792x936 with 9 Axes>"
            ]
          },
          "metadata": {
            "tags": [],
            "needs_background": "light"
          }
        }
      ]
    },
    {
      "cell_type": "code",
      "metadata": {
        "colab": {
          "base_uri": "https://localhost:8080/",
          "height": 242
        },
        "id": "MA-U3cZ3eSiq",
        "outputId": "05d0b277-4e3b-4f94-e8e0-3dd39b5b3193"
      },
      "source": [
        "categoricValues = masterData.select_dtypes(include=['object'])\n",
        "plt.figure(figsize=(11,3))\n",
        "sns.countplot(data=categoricValues, x='company')"
      ],
      "execution_count": 97,
      "outputs": [
        {
          "output_type": "execute_result",
          "data": {
            "text/plain": [
              "<matplotlib.axes._subplots.AxesSubplot at 0x7f80d9ea08d0>"
            ]
          },
          "metadata": {
            "tags": []
          },
          "execution_count": 97
        },
        {
          "output_type": "display_data",
          "data": {
            "image/png": "[encoded data removed]",
            "text/plain": [
              "<Figure size 792x216 with 1 Axes>"
            ]
          },
          "metadata": {
            "tags": [],
            "needs_background": "light"
          }
        }
      ]
    },
    {
      "cell_type": "markdown",
      "metadata": {
        "id": "RDQN29Cruidv"
      },
      "source": [
        "Yellow cab company is in high demand more than twice as much as the Pink cab"
      ]
    },
    {
      "cell_type": "code",
      "metadata": {
        "colab": {
          "base_uri": "https://localhost:8080/",
          "height": 265
        },
        "id": "z4k08L8beide",
        "outputId": "00dafb50-846f-4e3e-de07-cdfb6c5fe2d5"
      },
      "source": [
        "masterData['gender'].value_counts().plot.barh();"
      ],
      "execution_count": 98,
      "outputs": [
        {
          "output_type": "display_data",
          "data": {
            "image/png": "[encoded data removed]",
            "text/plain": [
              "<Figure size 432x288 with 1 Axes>"
            ]
          },
          "metadata": {
            "tags": [],
            "needs_background": "light"
          }
        }
      ]
    },
    {
      "cell_type": "code",
      "metadata": {
        "colab": {
          "base_uri": "https://localhost:8080/",
          "height": 265
        },
        "id": "_SLBOzqpezBS",
        "outputId": "2af1fdac-830d-464f-9ffb-683019db93a3"
      },
      "source": [
        "masterData['payment_mode'].value_counts().plot.barh();"
      ],
      "execution_count": 99,
      "outputs": [
        {
          "output_type": "display_data",
          "data": {
            "image/png": "[encoded data removed]",
            "text/plain": [
              "<Figure size 432x288 with 1 Axes>"
            ]
          },
          "metadata": {
            "tags": [],
            "needs_background": "light"
          }
        }
      ]
    },
    {
      "cell_type": "markdown",
      "metadata": {
        "id": "6xYd-zkov-ZP"
      },
      "source": [
        "The card payment method is more used than cash"
      ]
    },
    {
      "cell_type": "code",
      "metadata": {
        "colab": {
          "base_uri": "https://localhost:8080/",
          "height": 265
        },
        "id": "trIwJe0hwXdd",
        "outputId": "f9567810-ba2a-49c0-d138-b160128e6072"
      },
      "source": [
        "masterData['city'].value_counts().plot.barh();"
      ],
      "execution_count": 100,
      "outputs": [
        {
          "output_type": "display_data",
          "data": {
            "image/png": "[encoded data removed]",
            "text/plain": [
              "<Figure size 432x288 with 1 Axes>"
            ]
          },
          "metadata": {
            "tags": [],
            "needs_background": "light"
          }
        }
      ]
    },
    {
      "cell_type": "markdown",
      "metadata": {
        "id": "ZghHg_kJRXCj"
      },
      "source": [
        "6. Data Connections"
      ]
    },
    {
      "cell_type": "code",
      "metadata": {
        "colab": {
          "base_uri": "https://localhost:8080/"
        },
        "id": "pakzoVu-MvBd",
        "outputId": "5c01affc-402e-409a-9b92-91931d5e6f5b"
      },
      "source": [
        "masterData['km_travelled'] = pd.to_numeric(masterData['km_travelled'], errors='coerce')\n",
        "masterData['price_charged'] = pd.to_numeric(masterData['price_charged'], errors='coerce')\n",
        "masterData['cost_of_trip'] = pd.to_numeric(masterData['cost_of_trip'], errors='coerce')\n",
        "masterData['age'] = pd.to_numeric(masterData['age'], errors='coerce')\n",
        "masterData['income_(usd/month)'] = pd.to_numeric(masterData['income_(usd/month)'], errors='coerce')\n",
        "#save the master data\n",
        "masterData.to_csv('masterData.csv', sep=';')\n",
        "masterData=pd.read_csv(\"masterData.csv\" , sep=';')\n",
        "masterData.head(3)\n",
        "masterData.info()"
      ],
      "execution_count": 101,
      "outputs": [
        {
          "output_type": "stream",
          "text": [
            "<class 'pandas.core.frame.DataFrame'>\n",
            "RangeIndex: 359392 entries, 0 to 359391\n",
            "Data columns (total 23 columns):\n",
            " #   Column               Non-Null Count   Dtype  \n",
            "---  ------               --------------   -----  \n",
            " 0   Unnamed: 0           359392 non-null  int64  \n",
            " 1   transaction_id       359392 non-null  int64  \n",
            " 2   date_of_travel       359392 non-null  object \n",
            " 3   company              359392 non-null  object \n",
            " 4   city                 359392 non-null  object \n",
            " 5   km_travelled         359392 non-null  float64\n",
            " 6   price_charged        359392 non-null  float64\n",
            " 7   cost_of_trip         359392 non-null  float64\n",
            " 8   customer_id          359392 non-null  int64  \n",
            " 9   payment_mode         359392 non-null  object \n",
            " 10  gender               359392 non-null  object \n",
            " 11  age                  359392 non-null  int64  \n",
            " 12  income_(usd/month)   359392 non-null  int64  \n",
            " 13  population           359392 non-null  object \n",
            " 14  users                359392 non-null  object \n",
            " 15  day                  359392 non-null  int64  \n",
            " 16  Weekday              359392 non-null  int64  \n",
            " 17  month                359392 non-null  int64  \n",
            " 18  year                 359392 non-null  int64  \n",
            " 19  profit_per_one_trip  359392 non-null  float64\n",
            " 20  profit_per_km        359392 non-null  float64\n",
            " 21  price_per_km         359392 non-null  float64\n",
            " 22  cost_per_km          359392 non-null  float64\n",
            "dtypes: float64(7), int64(9), object(7)\n",
            "memory usage: 63.1+ MB\n"
          ],
          "name": "stdout"
        }
      ]
    },
    {
      "cell_type": "markdown",
      "metadata": {
        "id": "nJzZWHjnAJVJ"
      },
      "source": [
        "**City analysis**"
      ]
    },
    {
      "cell_type": "code",
      "metadata": {
        "colab": {
          "base_uri": "https://localhost:8080/",
          "height": 669
        },
        "id": "t133SMvUzVXl",
        "outputId": "aee00949-2c2a-4221-e51b-bbeb3065ad54"
      },
      "source": [
        "city_grp = masterData.groupby('city')\n",
        "city_grp['company'].value_counts().unstack()"
      ],
      "execution_count": 102,
      "outputs": [
        {
          "output_type": "execute_result",
          "data": {
            "text/html": [
              "<div>\n",
              "<style scoped>\n",
              "    .dataframe tbody tr th:only-of-type {\n",
              "        vertical-align: middle;\n",
              "    }\n",
              "\n",
              "    .dataframe tbody tr th {\n",
              "        vertical-align: top;\n",
              "    }\n",
              "\n",
              "    .dataframe thead th {\n",
              "        text-align: right;\n",
              "    }\n",
              "</style>\n",
              "<table border=\"1\" class=\"dataframe\">\n",
              "  <thead>\n",
              "    <tr style=\"text-align: right;\">\n",
              "      <th>company</th>\n",
              "      <th>Pink Cab</th>\n",
              "      <th>Yellow Cab</th>\n",
              "    </tr>\n",
              "    <tr>\n",
              "      <th>city</th>\n",
              "      <th></th>\n",
              "      <th></th>\n",
              "    </tr>\n",
              "  </thead>\n",
              "  <tbody>\n",
              "    <tr>\n",
              "      <th>ATLANTA GA</th>\n",
              "      <td>1762</td>\n",
              "      <td>5795</td>\n",
              "    </tr>\n",
              "    <tr>\n",
              "      <th>AUSTIN TX</th>\n",
              "      <td>1868</td>\n",
              "      <td>3028</td>\n",
              "    </tr>\n",
              "    <tr>\n",
              "      <th>BOSTON MA</th>\n",
              "      <td>5186</td>\n",
              "      <td>24506</td>\n",
              "    </tr>\n",
              "    <tr>\n",
              "      <th>CHICAGO IL</th>\n",
              "      <td>9361</td>\n",
              "      <td>47264</td>\n",
              "    </tr>\n",
              "    <tr>\n",
              "      <th>DALLAS TX</th>\n",
              "      <td>1380</td>\n",
              "      <td>5637</td>\n",
              "    </tr>\n",
              "    <tr>\n",
              "      <th>DENVER CO</th>\n",
              "      <td>1394</td>\n",
              "      <td>2431</td>\n",
              "    </tr>\n",
              "    <tr>\n",
              "      <th>LOS ANGELES CA</th>\n",
              "      <td>19865</td>\n",
              "      <td>28168</td>\n",
              "    </tr>\n",
              "    <tr>\n",
              "      <th>MIAMI FL</th>\n",
              "      <td>2002</td>\n",
              "      <td>4452</td>\n",
              "    </tr>\n",
              "    <tr>\n",
              "      <th>NASHVILLE TN</th>\n",
              "      <td>1841</td>\n",
              "      <td>1169</td>\n",
              "    </tr>\n",
              "    <tr>\n",
              "      <th>NEW YORK NY</th>\n",
              "      <td>13967</td>\n",
              "      <td>85918</td>\n",
              "    </tr>\n",
              "    <tr>\n",
              "      <th>ORANGE COUNTY</th>\n",
              "      <td>1513</td>\n",
              "      <td>2469</td>\n",
              "    </tr>\n",
              "    <tr>\n",
              "      <th>PHOENIX AZ</th>\n",
              "      <td>864</td>\n",
              "      <td>1200</td>\n",
              "    </tr>\n",
              "    <tr>\n",
              "      <th>PITTSBURGH PA</th>\n",
              "      <td>682</td>\n",
              "      <td>631</td>\n",
              "    </tr>\n",
              "    <tr>\n",
              "      <th>SACRAMENTO CA</th>\n",
              "      <td>1334</td>\n",
              "      <td>1033</td>\n",
              "    </tr>\n",
              "    <tr>\n",
              "      <th>SAN DIEGO CA</th>\n",
              "      <td>10672</td>\n",
              "      <td>9816</td>\n",
              "    </tr>\n",
              "    <tr>\n",
              "      <th>SEATTLE WA</th>\n",
              "      <td>2732</td>\n",
              "      <td>5265</td>\n",
              "    </tr>\n",
              "    <tr>\n",
              "      <th>SILICON VALLEY</th>\n",
              "      <td>3797</td>\n",
              "      <td>4722</td>\n",
              "    </tr>\n",
              "    <tr>\n",
              "      <th>TUCSON AZ</th>\n",
              "      <td>799</td>\n",
              "      <td>1132</td>\n",
              "    </tr>\n",
              "    <tr>\n",
              "      <th>WASHINGTON DC</th>\n",
              "      <td>3692</td>\n",
              "      <td>40045</td>\n",
              "    </tr>\n",
              "  </tbody>\n",
              "</table>\n",
              "</div>"
            ],
            "text/plain": [
              "company         Pink Cab  Yellow Cab\n",
              "city                                \n",
              "ATLANTA GA          1762        5795\n",
              "AUSTIN TX           1868        3028\n",
              "BOSTON MA           5186       24506\n",
              "CHICAGO IL          9361       47264\n",
              "DALLAS TX           1380        5637\n",
              "DENVER CO           1394        2431\n",
              "LOS ANGELES CA     19865       28168\n",
              "MIAMI FL            2002        4452\n",
              "NASHVILLE TN        1841        1169\n",
              "NEW YORK NY        13967       85918\n",
              "ORANGE COUNTY       1513        2469\n",
              "PHOENIX AZ           864        1200\n",
              "PITTSBURGH PA        682         631\n",
              "SACRAMENTO CA       1334        1033\n",
              "SAN DIEGO CA       10672        9816\n",
              "SEATTLE WA          2732        5265\n",
              "SILICON VALLEY      3797        4722\n",
              "TUCSON AZ            799        1132\n",
              "WASHINGTON DC       3692       40045"
            ]
          },
          "metadata": {
            "tags": []
          },
          "execution_count": 102
        }
      ]
    },
    {
      "cell_type": "markdown",
      "metadata": {
        "id": "cs2lxU6wzm0v"
      },
      "source": [
        "Yellow Cab is more preffered by users over Pink Cabs, and, New York City has the highest number of user in the data set."
      ]
    },
    {
      "cell_type": "code",
      "metadata": {
        "colab": {
          "base_uri": "https://localhost:8080/",
          "height": 357
        },
        "id": "vrAk8p9UTAa_",
        "outputId": "a3c858a3-838a-4140-b8dd-6df0eddc1a55"
      },
      "source": [
        "pd.crosstab(index=masterData['city'],columns=masterData['company']).plot(kind='bar')\n",
        "plt.show()"
      ],
      "execution_count": 103,
      "outputs": [
        {
          "output_type": "display_data",
          "data": {
            "image/png": "[encoded data removed]",
            "text/plain": [
              "<Figure size 432x288 with 1 Axes>"
            ]
          },
          "metadata": {
            "tags": [],
            "needs_background": "light"
          }
        }
      ]
    },
    {
      "cell_type": "code",
      "metadata": {
        "id": "W5JMFLs8pAKj",
        "colab": {
          "base_uri": "https://localhost:8080/",
          "height": 669
        },
        "outputId": "69638aa2-d4a5-4e01-a2f8-4edef8ef67cc"
      },
      "source": [
        "city_grp = masterData.groupby('city')\n",
        "city_grp['company'].value_counts().unstack()"
      ],
      "execution_count": 104,
      "outputs": [
        {
          "output_type": "execute_result",
          "data": {
            "text/html": [
              "<div>\n",
              "<style scoped>\n",
              "    .dataframe tbody tr th:only-of-type {\n",
              "        vertical-align: middle;\n",
              "    }\n",
              "\n",
              "    .dataframe tbody tr th {\n",
              "        vertical-align: top;\n",
              "    }\n",
              "\n",
              "    .dataframe thead th {\n",
              "        text-align: right;\n",
              "    }\n",
              "</style>\n",
              "<table border=\"1\" class=\"dataframe\">\n",
              "  <thead>\n",
              "    <tr style=\"text-align: right;\">\n",
              "      <th>company</th>\n",
              "      <th>Pink Cab</th>\n",
              "      <th>Yellow Cab</th>\n",
              "    </tr>\n",
              "    <tr>\n",
              "      <th>city</th>\n",
              "      <th></th>\n",
              "      <th></th>\n",
              "    </tr>\n",
              "  </thead>\n",
              "  <tbody>\n",
              "    <tr>\n",
              "      <th>ATLANTA GA</th>\n",
              "      <td>1762</td>\n",
              "      <td>5795</td>\n",
              "    </tr>\n",
              "    <tr>\n",
              "      <th>AUSTIN TX</th>\n",
              "      <td>1868</td>\n",
              "      <td>3028</td>\n",
              "    </tr>\n",
              "    <tr>\n",
              "      <th>BOSTON MA</th>\n",
              "      <td>5186</td>\n",
              "      <td>24506</td>\n",
              "    </tr>\n",
              "    <tr>\n",
              "      <th>CHICAGO IL</th>\n",
              "      <td>9361</td>\n",
              "      <td>47264</td>\n",
              "    </tr>\n",
              "    <tr>\n",
              "      <th>DALLAS TX</th>\n",
              "      <td>1380</td>\n",
              "      <td>5637</td>\n",
              "    </tr>\n",
              "    <tr>\n",
              "      <th>DENVER CO</th>\n",
              "      <td>1394</td>\n",
              "      <td>2431</td>\n",
              "    </tr>\n",
              "    <tr>\n",
              "      <th>LOS ANGELES CA</th>\n",
              "      <td>19865</td>\n",
              "      <td>28168</td>\n",
              "    </tr>\n",
              "    <tr>\n",
              "      <th>MIAMI FL</th>\n",
              "      <td>2002</td>\n",
              "      <td>4452</td>\n",
              "    </tr>\n",
              "    <tr>\n",
              "      <th>NASHVILLE TN</th>\n",
              "      <td>1841</td>\n",
              "      <td>1169</td>\n",
              "    </tr>\n",
              "    <tr>\n",
              "      <th>NEW YORK NY</th>\n",
              "      <td>13967</td>\n",
              "      <td>85918</td>\n",
              "    </tr>\n",
              "    <tr>\n",
              "      <th>ORANGE COUNTY</th>\n",
              "      <td>1513</td>\n",
              "      <td>2469</td>\n",
              "    </tr>\n",
              "    <tr>\n",
              "      <th>PHOENIX AZ</th>\n",
              "      <td>864</td>\n",
              "      <td>1200</td>\n",
              "    </tr>\n",
              "    <tr>\n",
              "      <th>PITTSBURGH PA</th>\n",
              "      <td>682</td>\n",
              "      <td>631</td>\n",
              "    </tr>\n",
              "    <tr>\n",
              "      <th>SACRAMENTO CA</th>\n",
              "      <td>1334</td>\n",
              "      <td>1033</td>\n",
              "    </tr>\n",
              "    <tr>\n",
              "      <th>SAN DIEGO CA</th>\n",
              "      <td>10672</td>\n",
              "      <td>9816</td>\n",
              "    </tr>\n",
              "    <tr>\n",
              "      <th>SEATTLE WA</th>\n",
              "      <td>2732</td>\n",
              "      <td>5265</td>\n",
              "    </tr>\n",
              "    <tr>\n",
              "      <th>SILICON VALLEY</th>\n",
              "      <td>3797</td>\n",
              "      <td>4722</td>\n",
              "    </tr>\n",
              "    <tr>\n",
              "      <th>TUCSON AZ</th>\n",
              "      <td>799</td>\n",
              "      <td>1132</td>\n",
              "    </tr>\n",
              "    <tr>\n",
              "      <th>WASHINGTON DC</th>\n",
              "      <td>3692</td>\n",
              "      <td>40045</td>\n",
              "    </tr>\n",
              "  </tbody>\n",
              "</table>\n",
              "</div>"
            ],
            "text/plain": [
              "company         Pink Cab  Yellow Cab\n",
              "city                                \n",
              "ATLANTA GA          1762        5795\n",
              "AUSTIN TX           1868        3028\n",
              "BOSTON MA           5186       24506\n",
              "CHICAGO IL          9361       47264\n",
              "DALLAS TX           1380        5637\n",
              "DENVER CO           1394        2431\n",
              "LOS ANGELES CA     19865       28168\n",
              "MIAMI FL            2002        4452\n",
              "NASHVILLE TN        1841        1169\n",
              "NEW YORK NY        13967       85918\n",
              "ORANGE COUNTY       1513        2469\n",
              "PHOENIX AZ           864        1200\n",
              "PITTSBURGH PA        682         631\n",
              "SACRAMENTO CA       1334        1033\n",
              "SAN DIEGO CA       10672        9816\n",
              "SEATTLE WA          2732        5265\n",
              "SILICON VALLEY      3797        4722\n",
              "TUCSON AZ            799        1132\n",
              "WASHINGTON DC       3692       40045"
            ]
          },
          "metadata": {
            "tags": []
          },
          "execution_count": 104
        }
      ]
    },
    {
      "cell_type": "markdown",
      "metadata": {
        "id": "n8ivjvAMy15e"
      },
      "source": [
        "Yellow cab company it is more in demand than Pink cab company in almost all cities"
      ]
    },
    {
      "cell_type": "markdown",
      "metadata": {
        "id": "91mdQRoTARDr"
      },
      "source": [
        "**Payment mode analysis**"
      ]
    },
    {
      "cell_type": "code",
      "metadata": {
        "colab": {
          "base_uri": "https://localhost:8080/",
          "height": 173
        },
        "id": "jfU5sperTBK6",
        "outputId": "93ec0aa6-7381-47a9-812d-9170f7e64077"
      },
      "source": [
        "pd.crosstab(index=masterData['payment_mode'],columns=masterData['company'],margins=True)"
      ],
      "execution_count": 105,
      "outputs": [
        {
          "output_type": "execute_result",
          "data": {
            "text/html": [
              "<div>\n",
              "<style scoped>\n",
              "    .dataframe tbody tr th:only-of-type {\n",
              "        vertical-align: middle;\n",
              "    }\n",
              "\n",
              "    .dataframe tbody tr th {\n",
              "        vertical-align: top;\n",
              "    }\n",
              "\n",
              "    .dataframe thead th {\n",
              "        text-align: right;\n",
              "    }\n",
              "</style>\n",
              "<table border=\"1\" class=\"dataframe\">\n",
              "  <thead>\n",
              "    <tr style=\"text-align: right;\">\n",
              "      <th>company</th>\n",
              "      <th>Pink Cab</th>\n",
              "      <th>Yellow Cab</th>\n",
              "      <th>All</th>\n",
              "    </tr>\n",
              "    <tr>\n",
              "      <th>payment_mode</th>\n",
              "      <th></th>\n",
              "      <th></th>\n",
              "      <th></th>\n",
              "    </tr>\n",
              "  </thead>\n",
              "  <tbody>\n",
              "    <tr>\n",
              "      <th>Card</th>\n",
              "      <td>50719</td>\n",
              "      <td>164785</td>\n",
              "      <td>215504</td>\n",
              "    </tr>\n",
              "    <tr>\n",
              "      <th>Cash</th>\n",
              "      <td>33992</td>\n",
              "      <td>109896</td>\n",
              "      <td>143888</td>\n",
              "    </tr>\n",
              "    <tr>\n",
              "      <th>All</th>\n",
              "      <td>84711</td>\n",
              "      <td>274681</td>\n",
              "      <td>359392</td>\n",
              "    </tr>\n",
              "  </tbody>\n",
              "</table>\n",
              "</div>"
            ],
            "text/plain": [
              "company       Pink Cab  Yellow Cab     All\n",
              "payment_mode                              \n",
              "Card             50719      164785  215504\n",
              "Cash             33992      109896  143888\n",
              "All              84711      274681  359392"
            ]
          },
          "metadata": {
            "tags": []
          },
          "execution_count": 105
        }
      ]
    },
    {
      "cell_type": "code",
      "metadata": {
        "colab": {
          "base_uri": "https://localhost:8080/",
          "height": 322
        },
        "id": "z90S4v1iTBtB",
        "outputId": "04bfa6f0-083c-4910-ab78-bebca2b2caf7"
      },
      "source": [
        "pd.crosstab(index=masterData['company'],columns=masterData['payment_mode']).plot(kind='bar')\n",
        "plt.show()"
      ],
      "execution_count": 106,
      "outputs": [
        {
          "output_type": "display_data",
          "data": {
            "image/png": "[encoded data removed]",
            "text/plain": [
              "<Figure size 432x288 with 1 Axes>"
            ]
          },
          "metadata": {
            "tags": [],
            "needs_background": "light"
          }
        }
      ]
    },
    {
      "cell_type": "markdown",
      "metadata": {
        "id": "9J0xB7LU1KSX"
      },
      "source": [
        "The Card payment method is more used than Cash in both, pink cab and yellow cab"
      ]
    },
    {
      "cell_type": "markdown",
      "metadata": {
        "id": "jTKqflgSAWyy"
      },
      "source": [
        "**Gender analysis**"
      ]
    },
    {
      "cell_type": "code",
      "metadata": {
        "colab": {
          "base_uri": "https://localhost:8080/",
          "height": 173
        },
        "id": "USjzoDi7TCKT",
        "outputId": "dfb00864-43c3-4a49-a9cf-8c0f60a64aa9"
      },
      "source": [
        "pd.crosstab(index=masterData['gender'],columns=masterData['company'],margins=True)"
      ],
      "execution_count": 107,
      "outputs": [
        {
          "output_type": "execute_result",
          "data": {
            "text/html": [
              "<div>\n",
              "<style scoped>\n",
              "    .dataframe tbody tr th:only-of-type {\n",
              "        vertical-align: middle;\n",
              "    }\n",
              "\n",
              "    .dataframe tbody tr th {\n",
              "        vertical-align: top;\n",
              "    }\n",
              "\n",
              "    .dataframe thead th {\n",
              "        text-align: right;\n",
              "    }\n",
              "</style>\n",
              "<table border=\"1\" class=\"dataframe\">\n",
              "  <thead>\n",
              "    <tr style=\"text-align: right;\">\n",
              "      <th>company</th>\n",
              "      <th>Pink Cab</th>\n",
              "      <th>Yellow Cab</th>\n",
              "      <th>All</th>\n",
              "    </tr>\n",
              "    <tr>\n",
              "      <th>gender</th>\n",
              "      <th></th>\n",
              "      <th></th>\n",
              "      <th></th>\n",
              "    </tr>\n",
              "  </thead>\n",
              "  <tbody>\n",
              "    <tr>\n",
              "      <th>Female</th>\n",
              "      <td>37480</td>\n",
              "      <td>116000</td>\n",
              "      <td>153480</td>\n",
              "    </tr>\n",
              "    <tr>\n",
              "      <th>Male</th>\n",
              "      <td>47231</td>\n",
              "      <td>158681</td>\n",
              "      <td>205912</td>\n",
              "    </tr>\n",
              "    <tr>\n",
              "      <th>All</th>\n",
              "      <td>84711</td>\n",
              "      <td>274681</td>\n",
              "      <td>359392</td>\n",
              "    </tr>\n",
              "  </tbody>\n",
              "</table>\n",
              "</div>"
            ],
            "text/plain": [
              "company  Pink Cab  Yellow Cab     All\n",
              "gender                               \n",
              "Female      37480      116000  153480\n",
              "Male        47231      158681  205912\n",
              "All         84711      274681  359392"
            ]
          },
          "metadata": {
            "tags": []
          },
          "execution_count": 107
        }
      ]
    },
    {
      "cell_type": "code",
      "metadata": {
        "colab": {
          "base_uri": "https://localhost:8080/",
          "height": 322
        },
        "id": "-Skg-X-0TCtc",
        "outputId": "3b177470-e6dc-4561-c630-587e9c94bb5e"
      },
      "source": [
        "pd.crosstab(index=masterData['company'],columns=masterData['gender']).plot(kind='bar')\n",
        "plt.show()"
      ],
      "execution_count": 108,
      "outputs": [
        {
          "output_type": "display_data",
          "data": {
            "image/png": "[encoded data removed]",
            "text/plain": [
              "<Figure size 432x288 with 1 Axes>"
            ]
          },
          "metadata": {
            "tags": [],
            "needs_background": "light"
          }
        }
      ]
    },
    {
      "cell_type": "markdown",
      "metadata": {
        "id": "AG0MKPJp13M0"
      },
      "source": [
        "The number of Male who travel by taxi is high compared to female users"
      ]
    },
    {
      "cell_type": "markdown",
      "metadata": {
        "id": "bLGC5NycHYZA"
      },
      "source": [
        "**Age analysis**"
      ]
    },
    {
      "cell_type": "code",
      "metadata": {
        "colab": {
          "base_uri": "https://localhost:8080/",
          "height": 225
        },
        "id": "ySvunBcFHec1",
        "outputId": "db3653f4-c4cf-4405-e31f-9e6e17bbf8ab"
      },
      "source": [
        "# Age range for Company\n",
        "g = sns.FacetGrid(masterData, col = \"company\")\n",
        "g.map(sns.histplot, \"age\", bins = 30)\n",
        "plt.show()"
      ],
      "execution_count": 109,
      "outputs": [
        {
          "output_type": "display_data",
          "data": {
            "image/png": "[encoded data removed]",
            "text/plain": [
              "<Figure size 432x216 with 2 Axes>"
            ]
          },
          "metadata": {
            "tags": [],
            "needs_background": "light"
          }
        }
      ]
    },
    {
      "cell_type": "markdown",
      "metadata": {
        "id": "MPJ9HujyHtGS"
      },
      "source": [
        "The highest number of Yellow cab users and Pink cab users are middle-aged"
      ]
    },
    {
      "cell_type": "markdown",
      "metadata": {
        "id": "VIM3jpz15MbR"
      },
      "source": [
        "**Price Charged Analysis**"
      ]
    },
    {
      "cell_type": "markdown",
      "metadata": {
        "id": "qcEuE7eG57sJ"
      },
      "source": [
        "1. Hypothesis: Is there a differnce in the price charged by the two cab company?"
      ]
    },
    {
      "cell_type": "code",
      "metadata": {
        "colab": {
          "base_uri": "https://localhost:8080/",
          "height": 142
        },
        "id": "VSCzCyAbTEY_",
        "outputId": "acd7c9a6-5a73-4af2-d38d-5277c6c9aaee"
      },
      "source": [
        "company_type = masterData.groupby(\"company\")\n",
        "company_type.mean().loc[:,[\"price_charged\"]]"
      ],
      "execution_count": 110,
      "outputs": [
        {
          "output_type": "execute_result",
          "data": {
            "text/html": [
              "<div>\n",
              "<style scoped>\n",
              "    .dataframe tbody tr th:only-of-type {\n",
              "        vertical-align: middle;\n",
              "    }\n",
              "\n",
              "    .dataframe tbody tr th {\n",
              "        vertical-align: top;\n",
              "    }\n",
              "\n",
              "    .dataframe thead th {\n",
              "        text-align: right;\n",
              "    }\n",
              "</style>\n",
              "<table border=\"1\" class=\"dataframe\">\n",
              "  <thead>\n",
              "    <tr style=\"text-align: right;\">\n",
              "      <th></th>\n",
              "      <th>price_charged</th>\n",
              "    </tr>\n",
              "    <tr>\n",
              "      <th>company</th>\n",
              "      <th></th>\n",
              "    </tr>\n",
              "  </thead>\n",
              "  <tbody>\n",
              "    <tr>\n",
              "      <th>Pink Cab</th>\n",
              "      <td>310.800856</td>\n",
              "    </tr>\n",
              "    <tr>\n",
              "      <th>Yellow Cab</th>\n",
              "      <td>458.181990</td>\n",
              "    </tr>\n",
              "  </tbody>\n",
              "</table>\n",
              "</div>"
            ],
            "text/plain": [
              "            price_charged\n",
              "company                  \n",
              "Pink Cab       310.800856\n",
              "Yellow Cab     458.181990"
            ]
          },
          "metadata": {
            "tags": []
          },
          "execution_count": 110
        }
      ]
    },
    {
      "cell_type": "code",
      "metadata": {
        "colab": {
          "base_uri": "https://localhost:8080/",
          "height": 351
        },
        "id": "Hq1i5KvU4xoi",
        "outputId": "45d8d652-1138-4134-e6f3-e1b37cea9036"
      },
      "source": [
        "plt.figure(figsize=(10,5))\n",
        "plt.bar(company_type.mean().index,company_type.mean()[\"price_charged\"],color=[\"pink\",\"yellow\"],bottom=10)\n",
        "plt.xlabel(\"Company\",fontsize=11)\n",
        "plt.ylabel(\"Averge\",fontsize=11)\n",
        "plt.title(\"Price Charged\",fontsize=14,fontstyle=\"italic\",fontweight=\"bold\")\n",
        "plt.savefig(\"price_charged.png\",dpi=100)\n",
        "plt.show()"
      ],
      "execution_count": 111,
      "outputs": [
        {
          "output_type": "display_data",
          "data": {
            "image/png": "[encoded data removed]",
            "text/plain": [
              "<Figure size 720x360 with 1 Axes>"
            ]
          },
          "metadata": {
            "tags": [],
            "needs_background": "light"
          }
        }
      ]
    },
    {
      "cell_type": "markdown",
      "metadata": {
        "id": "2onSspZn9FKF"
      },
      "source": [
        "**Profit Analysis**"
      ]
    },
    {
      "cell_type": "markdown",
      "metadata": {
        "id": "uiYtYARP9gOB"
      },
      "source": [
        "2. Hypothesis: Is there a differnce in the profit per one trip by the two cab company?"
      ]
    },
    {
      "cell_type": "code",
      "metadata": {
        "colab": {
          "base_uri": "https://localhost:8080/",
          "height": 142
        },
        "id": "UNk_KVlb-Nqa",
        "outputId": "4b8a0fda-9e9d-4906-ff40-c0f544eb68ea"
      },
      "source": [
        "company_type.mean().loc[:,[\"profit_per_one_trip\"]]"
      ],
      "execution_count": 112,
      "outputs": [
        {
          "output_type": "execute_result",
          "data": {
            "text/html": [
              "<div>\n",
              "<style scoped>\n",
              "    .dataframe tbody tr th:only-of-type {\n",
              "        vertical-align: middle;\n",
              "    }\n",
              "\n",
              "    .dataframe tbody tr th {\n",
              "        vertical-align: top;\n",
              "    }\n",
              "\n",
              "    .dataframe thead th {\n",
              "        text-align: right;\n",
              "    }\n",
              "</style>\n",
              "<table border=\"1\" class=\"dataframe\">\n",
              "  <thead>\n",
              "    <tr style=\"text-align: right;\">\n",
              "      <th></th>\n",
              "      <th>profit_per_one_trip</th>\n",
              "    </tr>\n",
              "    <tr>\n",
              "      <th>company</th>\n",
              "      <th></th>\n",
              "    </tr>\n",
              "  </thead>\n",
              "  <tbody>\n",
              "    <tr>\n",
              "      <th>Pink Cab</th>\n",
              "      <td>62.652174</td>\n",
              "    </tr>\n",
              "    <tr>\n",
              "      <th>Yellow Cab</th>\n",
              "      <td>160.259986</td>\n",
              "    </tr>\n",
              "  </tbody>\n",
              "</table>\n",
              "</div>"
            ],
            "text/plain": [
              "            profit_per_one_trip\n",
              "company                        \n",
              "Pink Cab              62.652174\n",
              "Yellow Cab           160.259986"
            ]
          },
          "metadata": {
            "tags": []
          },
          "execution_count": 112
        }
      ]
    },
    {
      "cell_type": "code",
      "metadata": {
        "colab": {
          "base_uri": "https://localhost:8080/",
          "height": 351
        },
        "id": "Eapx9zRn4yL9",
        "outputId": "c2a4dff8-4c92-4950-f24b-22caeebe0387"
      },
      "source": [
        "plt.figure(figsize=(10,5))\n",
        "plt.bar(company_type.mean().index,company_type.mean()[\"profit_per_one_trip\"],color=[\"pink\",\"yellow\"],bottom=10)\n",
        "plt.xlabel(\"Company\",fontsize=11)\n",
        "plt.ylabel(\"Averge\",fontsize=11)\n",
        "plt.title(\"profit per one trip\",fontsize=14,fontstyle=\"italic\",fontweight=\"bold\")\n",
        "plt.savefig(\"price_charged.png\",dpi=100)\n",
        "plt.show()"
      ],
      "execution_count": 113,
      "outputs": [
        {
          "output_type": "display_data",
          "data": {
            "image/png": "[encoded data removed]",
            "text/plain": [
              "<Figure size 720x360 with 1 Axes>"
            ]
          },
          "metadata": {
            "tags": [],
            "needs_background": "light"
          }
        }
      ]
    },
    {
      "cell_type": "markdown",
      "metadata": {
        "id": "4nai7xvj95pB"
      },
      "source": [
        "**Income Analysis**"
      ]
    },
    {
      "cell_type": "markdown",
      "metadata": {
        "id": "NcdU8Y7r9qjU"
      },
      "source": [
        "3. Hypothesis: Is there a differnce in the income (usd/month) by the two cab company?"
      ]
    },
    {
      "cell_type": "code",
      "metadata": {
        "colab": {
          "base_uri": "https://localhost:8080/",
          "height": 142
        },
        "id": "-mvDj7cE-Tcp",
        "outputId": "a5812361-9134-4505-a437-3d317ccd18d6"
      },
      "source": [
        "company_type.mean().loc[:,[\"income_(usd/month)\"]]"
      ],
      "execution_count": 114,
      "outputs": [
        {
          "output_type": "execute_result",
          "data": {
            "text/html": [
              "<div>\n",
              "<style scoped>\n",
              "    .dataframe tbody tr th:only-of-type {\n",
              "        vertical-align: middle;\n",
              "    }\n",
              "\n",
              "    .dataframe tbody tr th {\n",
              "        vertical-align: top;\n",
              "    }\n",
              "\n",
              "    .dataframe thead th {\n",
              "        text-align: right;\n",
              "    }\n",
              "</style>\n",
              "<table border=\"1\" class=\"dataframe\">\n",
              "  <thead>\n",
              "    <tr style=\"text-align: right;\">\n",
              "      <th></th>\n",
              "      <th>income_(usd/month)</th>\n",
              "    </tr>\n",
              "    <tr>\n",
              "      <th>company</th>\n",
              "      <th></th>\n",
              "    </tr>\n",
              "  </thead>\n",
              "  <tbody>\n",
              "    <tr>\n",
              "      <th>Pink Cab</th>\n",
              "      <td>15059.047137</td>\n",
              "    </tr>\n",
              "    <tr>\n",
              "      <th>Yellow Cab</th>\n",
              "      <td>15045.669817</td>\n",
              "    </tr>\n",
              "  </tbody>\n",
              "</table>\n",
              "</div>"
            ],
            "text/plain": [
              "            income_(usd/month)\n",
              "company                       \n",
              "Pink Cab          15059.047137\n",
              "Yellow Cab        15045.669817"
            ]
          },
          "metadata": {
            "tags": []
          },
          "execution_count": 114
        }
      ]
    },
    {
      "cell_type": "code",
      "metadata": {
        "colab": {
          "base_uri": "https://localhost:8080/",
          "height": 351
        },
        "id": "dj4ce_oJ4z3f",
        "outputId": "aeacd766-5cbc-466c-fa43-a5ea3cd7f00b"
      },
      "source": [
        "plt.figure(figsize=(10,5))\n",
        "plt.bar(company_type.mean().index,company_type.mean()[\"income_(usd/month)\"],color=[\"pink\",\"yellow\"],bottom=10)\n",
        "plt.xlabel(\"Company\",fontsize=11)\n",
        "plt.ylabel(\"Averge\",fontsize=11)\n",
        "plt.title(\"income (usd/month)\",fontsize=14,fontstyle=\"italic\",fontweight=\"bold\")\n",
        "plt.savefig(\"price_charged.png\",dpi=100)\n",
        "plt.show()"
      ],
      "execution_count": 115,
      "outputs": [
        {
          "output_type": "display_data",
          "data": {
            "image/png": "[encoded data removed]",
            "text/plain": [
              "<Figure size 720x360 with 1 Axes>"
            ]
          },
          "metadata": {
            "tags": [],
            "needs_background": "light"
          }
        }
      ]
    },
    {
      "cell_type": "markdown",
      "metadata": {
        "id": "N8zZtM6_-90P"
      },
      "source": [
        "**KM Travelled analysis**"
      ]
    },
    {
      "cell_type": "markdown",
      "metadata": {
        "id": "n6dwKEPu_EQT"
      },
      "source": [
        "4. Hpothesis: Is there difference in the KM travelled by two cab company?"
      ]
    },
    {
      "cell_type": "code",
      "metadata": {
        "colab": {
          "base_uri": "https://localhost:8080/",
          "height": 142
        },
        "id": "-5iXV7tX40pB",
        "outputId": "ba544c8c-d194-4852-cae7-2243efa36580"
      },
      "source": [
        "company_type.mean().loc[:,[\"km_travelled\"]]"
      ],
      "execution_count": 116,
      "outputs": [
        {
          "output_type": "execute_result",
          "data": {
            "text/html": [
              "<div>\n",
              "<style scoped>\n",
              "    .dataframe tbody tr th:only-of-type {\n",
              "        vertical-align: middle;\n",
              "    }\n",
              "\n",
              "    .dataframe tbody tr th {\n",
              "        vertical-align: top;\n",
              "    }\n",
              "\n",
              "    .dataframe thead th {\n",
              "        text-align: right;\n",
              "    }\n",
              "</style>\n",
              "<table border=\"1\" class=\"dataframe\">\n",
              "  <thead>\n",
              "    <tr style=\"text-align: right;\">\n",
              "      <th></th>\n",
              "      <th>km_travelled</th>\n",
              "    </tr>\n",
              "    <tr>\n",
              "      <th>company</th>\n",
              "      <th></th>\n",
              "    </tr>\n",
              "  </thead>\n",
              "  <tbody>\n",
              "    <tr>\n",
              "      <th>Pink Cab</th>\n",
              "      <td>22.559917</td>\n",
              "    </tr>\n",
              "    <tr>\n",
              "      <th>Yellow Cab</th>\n",
              "      <td>22.569517</td>\n",
              "    </tr>\n",
              "  </tbody>\n",
              "</table>\n",
              "</div>"
            ],
            "text/plain": [
              "            km_travelled\n",
              "company                 \n",
              "Pink Cab       22.559917\n",
              "Yellow Cab     22.569517"
            ]
          },
          "metadata": {
            "tags": []
          },
          "execution_count": 116
        }
      ]
    },
    {
      "cell_type": "code",
      "metadata": {
        "colab": {
          "base_uri": "https://localhost:8080/",
          "height": 296
        },
        "id": "0ZovvRvL41Uw",
        "outputId": "7c720e98-30ba-424d-9e4e-e97ed55609b8"
      },
      "source": [
        "plt.figure(figsize=(7,4))\n",
        "plt.bar(company_type.mean().index,company_type.mean()[\"km_travelled\"],color=[\"pink\",\"yellow\"])\n",
        "plt.xlabel(\"Company\",fontsize=11)\n",
        "plt.ylabel(\"Averge\",fontsize=11)\n",
        "plt.title(\"Km travelled\",fontsize=14,fontstyle=\"italic\",fontweight=\"bold\")\n",
        "plt.savefig(\"KM.png\", dpi=100)\n",
        "plt.show()"
      ],
      "execution_count": 117,
      "outputs": [
        {
          "output_type": "display_data",
          "data": {
            "image/png": "[encoded data removed]",
            "text/plain": [
              "<Figure size 504x288 with 1 Axes>"
            ]
          },
          "metadata": {
            "tags": [],
            "needs_background": "light"
          }
        }
      ]
    },
    {
      "cell_type": "markdown",
      "metadata": {
        "id": "cjiTwrqt_TuS"
      },
      "source": [
        "We didn't notice any difference in the KM travelled between Yellow and Pink Cab"
      ]
    },
    {
      "cell_type": "markdown",
      "metadata": {
        "id": "nR2ZlSZDDOfq"
      },
      "source": [
        "**Profit per KM/City**"
      ]
    },
    {
      "cell_type": "code",
      "metadata": {
        "colab": {
          "base_uri": "https://localhost:8080/",
          "height": 504
        },
        "id": "TNvbMvHe417j",
        "outputId": "3084bafa-0ff0-4eb6-c9cd-12ca9017a81e"
      },
      "source": [
        "masterData.groupby('city')['profit_per_km'].median().plot(kind='bar', figsize=(15,7), ylabel='profit_per_km');\n"
      ],
      "execution_count": 118,
      "outputs": [
        {
          "output_type": "display_data",
          "data": {
            "image/png": "[encoded data removed]",
            "text/plain": [
              "<Figure size 1080x504 with 1 Axes>"
            ]
          },
          "metadata": {
            "tags": [],
            "needs_background": "light"
          }
        }
      ]
    },
    {
      "cell_type": "markdown",
      "metadata": {
        "id": "BssdkUhxDxvB"
      },
      "source": [
        "Based on the graph, the highest Profit per km is in favor of New York City, however the lowest Profit per KM is in favor of Sacramenyo has."
      ]
    },
    {
      "cell_type": "code",
      "metadata": {
        "id": "ekjJR2wA42hZ",
        "colab": {
          "base_uri": "https://localhost:8080/",
          "height": 388
        },
        "outputId": "dc84fa26-fcff-41e4-806c-774255dfc2f0"
      },
      "source": [
        "# Profit distribution by year and company\n",
        "plt.figure(figsize=(12,6))\n",
        "ax = sns.barplot(x='year', y=\"profit_per_one_trip\", hue=\"company\", data=masterData)\n"
      ],
      "execution_count": 119,
      "outputs": [
        {
          "output_type": "display_data",
          "data": {
            "image/png": "[encoded data removed]",
            "text/plain": [
              "<Figure size 864x432 with 1 Axes>"
            ]
          },
          "metadata": {
            "tags": [],
            "needs_background": "light"
          }
        }
      ]
    },
    {
      "cell_type": "markdown",
      "metadata": {
        "id": "B83qN8X7T0ec"
      },
      "source": [
        "Overall Yellow company profit per one trip is higher more than twice than Pink company in the three years.\n",
        "\n"
      ]
    },
    {
      "cell_type": "markdown",
      "metadata": {
        "id": "ZAXErFKyMTzI"
      },
      "source": [
        "**Customer per company analysis**"
      ]
    },
    {
      "cell_type": "code",
      "metadata": {
        "id": "MADPZ-PF44h-",
        "colab": {
          "base_uri": "https://localhost:8080/"
        },
        "outputId": "e472044b-cdf1-4b9b-8b73-4d91163d770e"
      },
      "source": [
        "print(len(masterData.customer_id.unique()), 'customers')\n"
      ],
      "execution_count": 120,
      "outputs": [
        {
          "output_type": "stream",
          "text": [
            "46148 customers\n"
          ],
          "name": "stdout"
        }
      ]
    },
    {
      "cell_type": "code",
      "metadata": {
        "id": "fvzY3Hel45nc",
        "colab": {
          "base_uri": "https://localhost:8080/",
          "height": 419
        },
        "outputId": "6452d8a9-225e-4701-ddc6-2a9a62d0182c"
      },
      "source": [
        "masterData.groupby(['customer_id','company', ]).size().to_frame('size').reset_index()\n"
      ],
      "execution_count": 121,
      "outputs": [
        {
          "output_type": "execute_result",
          "data": {
            "text/html": [
              "<div>\n",
              "<style scoped>\n",
              "    .dataframe tbody tr th:only-of-type {\n",
              "        vertical-align: middle;\n",
              "    }\n",
              "\n",
              "    .dataframe tbody tr th {\n",
              "        vertical-align: top;\n",
              "    }\n",
              "\n",
              "    .dataframe thead th {\n",
              "        text-align: right;\n",
              "    }\n",
              "</style>\n",
              "<table border=\"1\" class=\"dataframe\">\n",
              "  <thead>\n",
              "    <tr style=\"text-align: right;\">\n",
              "      <th></th>\n",
              "      <th>customer_id</th>\n",
              "      <th>company</th>\n",
              "      <th>size</th>\n",
              "    </tr>\n",
              "  </thead>\n",
              "  <tbody>\n",
              "    <tr>\n",
              "      <th>0</th>\n",
              "      <td>1</td>\n",
              "      <td>Pink Cab</td>\n",
              "      <td>4</td>\n",
              "    </tr>\n",
              "    <tr>\n",
              "      <th>1</th>\n",
              "      <td>1</td>\n",
              "      <td>Yellow Cab</td>\n",
              "      <td>25</td>\n",
              "    </tr>\n",
              "    <tr>\n",
              "      <th>2</th>\n",
              "      <td>2</td>\n",
              "      <td>Pink Cab</td>\n",
              "      <td>4</td>\n",
              "    </tr>\n",
              "    <tr>\n",
              "      <th>3</th>\n",
              "      <td>2</td>\n",
              "      <td>Yellow Cab</td>\n",
              "      <td>36</td>\n",
              "    </tr>\n",
              "    <tr>\n",
              "      <th>4</th>\n",
              "      <td>3</td>\n",
              "      <td>Pink Cab</td>\n",
              "      <td>6</td>\n",
              "    </tr>\n",
              "    <tr>\n",
              "      <th>...</th>\n",
              "      <td>...</td>\n",
              "      <td>...</td>\n",
              "      <td>...</td>\n",
              "    </tr>\n",
              "    <tr>\n",
              "      <th>72221</th>\n",
              "      <td>59998</td>\n",
              "      <td>Yellow Cab</td>\n",
              "      <td>6</td>\n",
              "    </tr>\n",
              "    <tr>\n",
              "      <th>72222</th>\n",
              "      <td>59999</td>\n",
              "      <td>Pink Cab</td>\n",
              "      <td>2</td>\n",
              "    </tr>\n",
              "    <tr>\n",
              "      <th>72223</th>\n",
              "      <td>59999</td>\n",
              "      <td>Yellow Cab</td>\n",
              "      <td>6</td>\n",
              "    </tr>\n",
              "    <tr>\n",
              "      <th>72224</th>\n",
              "      <td>60000</td>\n",
              "      <td>Pink Cab</td>\n",
              "      <td>4</td>\n",
              "    </tr>\n",
              "    <tr>\n",
              "      <th>72225</th>\n",
              "      <td>60000</td>\n",
              "      <td>Yellow Cab</td>\n",
              "      <td>14</td>\n",
              "    </tr>\n",
              "  </tbody>\n",
              "</table>\n",
              "<p>72226 rows × 3 columns</p>\n",
              "</div>"
            ],
            "text/plain": [
              "       customer_id     company  size\n",
              "0                1    Pink Cab     4\n",
              "1                1  Yellow Cab    25\n",
              "2                2    Pink Cab     4\n",
              "3                2  Yellow Cab    36\n",
              "4                3    Pink Cab     6\n",
              "...            ...         ...   ...\n",
              "72221        59998  Yellow Cab     6\n",
              "72222        59999    Pink Cab     2\n",
              "72223        59999  Yellow Cab     6\n",
              "72224        60000    Pink Cab     4\n",
              "72225        60000  Yellow Cab    14\n",
              "\n",
              "[72226 rows x 3 columns]"
            ]
          },
          "metadata": {
            "tags": []
          },
          "execution_count": 121
        }
      ]
    },
    {
      "cell_type": "markdown",
      "metadata": {
        "id": "U9sU2BZrNizU"
      },
      "source": [
        "Many customers choose to use Yellow cab company more to travel.\n",
        "the same customer sometimes travel with both companies. "
      ]
    },
    {
      "cell_type": "code",
      "metadata": {
        "id": "T18O2Zcf46Wf",
        "colab": {
          "base_uri": "https://localhost:8080/",
          "height": 142
        },
        "outputId": "59dd9440-7c9d-45a2-cbd5-2376a37a7073"
      },
      "source": [
        "cal= masterData.groupby(['customer_id','company' ]).size().to_frame('size').reset_index()\n",
        "cal.groupby('company').sum()"
      ],
      "execution_count": 122,
      "outputs": [
        {
          "output_type": "execute_result",
          "data": {
            "text/html": [
              "<div>\n",
              "<style scoped>\n",
              "    .dataframe tbody tr th:only-of-type {\n",
              "        vertical-align: middle;\n",
              "    }\n",
              "\n",
              "    .dataframe tbody tr th {\n",
              "        vertical-align: top;\n",
              "    }\n",
              "\n",
              "    .dataframe thead th {\n",
              "        text-align: right;\n",
              "    }\n",
              "</style>\n",
              "<table border=\"1\" class=\"dataframe\">\n",
              "  <thead>\n",
              "    <tr style=\"text-align: right;\">\n",
              "      <th></th>\n",
              "      <th>customer_id</th>\n",
              "      <th>size</th>\n",
              "    </tr>\n",
              "    <tr>\n",
              "      <th>company</th>\n",
              "      <th></th>\n",
              "      <th></th>\n",
              "    </tr>\n",
              "  </thead>\n",
              "  <tbody>\n",
              "    <tr>\n",
              "      <th>Pink Cab</th>\n",
              "      <td>831664558</td>\n",
              "      <td>84711</td>\n",
              "    </tr>\n",
              "    <tr>\n",
              "      <th>Yellow Cab</th>\n",
              "      <td>1049163053</td>\n",
              "      <td>274681</td>\n",
              "    </tr>\n",
              "  </tbody>\n",
              "</table>\n",
              "</div>"
            ],
            "text/plain": [
              "            customer_id    size\n",
              "company                        \n",
              "Pink Cab      831664558   84711\n",
              "Yellow Cab   1049163053  274681"
            ]
          },
          "metadata": {
            "tags": []
          },
          "execution_count": 122
        }
      ]
    },
    {
      "cell_type": "markdown",
      "metadata": {
        "id": "szTIiacXOZlU"
      },
      "source": [
        "The highest number of customers in the cab industry is in the favor of Yellow cab "
      ]
    },
    {
      "cell_type": "code",
      "metadata": {
        "id": "DygU_dFBOp3_",
        "colab": {
          "base_uri": "https://localhost:8080/",
          "height": 389
        },
        "outputId": "ea37c5fe-ca59-4d90-c0bb-b4565f42629f"
      },
      "source": [
        "plt.figure(figsize=(10, 5))\n",
        "sns.countplot(masterData.company)\n",
        "plt.xticks(rotation=90)\n",
        "\n",
        "plt.title(\"Number of customers by company\", {\"fontname\":\"fantasy\", \"fontweight\":\"bold\", \"fontsize\":\"medium\"})\n",
        "plt.ylabel(\"Customers\", {\"fontname\": \"serif\", \"fontweight\":\"bold\"})\n",
        "plt.xlabel(\"Cab company\", {\"fontname\": \"serif\", \"fontweight\":\"bold\"})\n",
        "plt.xticks(rotation=90)\n",
        "plt.show()"
      ],
      "execution_count": 123,
      "outputs": [
        {
          "output_type": "display_data",
          "data": {
            "image/png": "[encoded data removed]",
            "text/plain": [
              "<Figure size 720x360 with 1 Axes>"
            ]
          },
          "metadata": {
            "tags": [],
            "needs_background": "light"
          }
        }
      ]
    },
    {
      "cell_type": "markdown",
      "metadata": {
        "id": "71QeswkaunDo"
      },
      "source": [
        "**Week Analysis**"
      ]
    },
    {
      "cell_type": "markdown",
      "metadata": {
        "id": "NYzl610k4Wli"
      },
      "source": [
        "Hypothesis: Does the profit of each company increase in week?"
      ]
    },
    {
      "cell_type": "code",
      "metadata": {
        "id": "dODVsAP5uq2y",
        "colab": {
          "base_uri": "https://localhost:8080/",
          "height": 514
        },
        "outputId": "9c680500-5d24-4be9-fcde-93861ba06b68"
      },
      "source": [
        "weekday_group = masterData.groupby([masterData['Weekday'], 'company'])\n",
        "(weekday_group[['km_travelled', 'profit_per_one_trip', 'profit_per_km','company']].median())\n"
      ],
      "execution_count": 124,
      "outputs": [
        {
          "output_type": "execute_result",
          "data": {
            "text/html": [
              "<div>\n",
              "<style scoped>\n",
              "    .dataframe tbody tr th:only-of-type {\n",
              "        vertical-align: middle;\n",
              "    }\n",
              "\n",
              "    .dataframe tbody tr th {\n",
              "        vertical-align: top;\n",
              "    }\n",
              "\n",
              "    .dataframe thead th {\n",
              "        text-align: right;\n",
              "    }\n",
              "</style>\n",
              "<table border=\"1\" class=\"dataframe\">\n",
              "  <thead>\n",
              "    <tr style=\"text-align: right;\">\n",
              "      <th></th>\n",
              "      <th></th>\n",
              "      <th>km_travelled</th>\n",
              "      <th>profit_per_one_trip</th>\n",
              "      <th>profit_per_km</th>\n",
              "    </tr>\n",
              "    <tr>\n",
              "      <th>Weekday</th>\n",
              "      <th>company</th>\n",
              "      <th></th>\n",
              "      <th></th>\n",
              "      <th></th>\n",
              "    </tr>\n",
              "  </thead>\n",
              "  <tbody>\n",
              "    <tr>\n",
              "      <th rowspan=\"2\" valign=\"top\">0</th>\n",
              "      <th>Pink Cab</th>\n",
              "      <td>22.05</td>\n",
              "      <td>34.3105</td>\n",
              "      <td>2.058884</td>\n",
              "    </tr>\n",
              "    <tr>\n",
              "      <th>Yellow Cab</th>\n",
              "      <td>22.42</td>\n",
              "      <td>93.1312</td>\n",
              "      <td>5.103434</td>\n",
              "    </tr>\n",
              "    <tr>\n",
              "      <th rowspan=\"2\" valign=\"top\">1</th>\n",
              "      <th>Pink Cab</th>\n",
              "      <td>22.61</td>\n",
              "      <td>35.6000</td>\n",
              "      <td>2.134995</td>\n",
              "    </tr>\n",
              "    <tr>\n",
              "      <th>Yellow Cab</th>\n",
              "      <td>22.41</td>\n",
              "      <td>96.6506</td>\n",
              "      <td>5.391836</td>\n",
              "    </tr>\n",
              "    <tr>\n",
              "      <th rowspan=\"2\" valign=\"top\">2</th>\n",
              "      <th>Pink Cab</th>\n",
              "      <td>22.26</td>\n",
              "      <td>36.4670</td>\n",
              "      <td>2.106509</td>\n",
              "    </tr>\n",
              "    <tr>\n",
              "      <th>Yellow Cab</th>\n",
              "      <td>22.42</td>\n",
              "      <td>93.1888</td>\n",
              "      <td>5.149244</td>\n",
              "    </tr>\n",
              "    <tr>\n",
              "      <th rowspan=\"2\" valign=\"top\">3</th>\n",
              "      <th>Pink Cab</th>\n",
              "      <td>22.40</td>\n",
              "      <td>36.0680</td>\n",
              "      <td>2.139563</td>\n",
              "    </tr>\n",
              "    <tr>\n",
              "      <th>Yellow Cab</th>\n",
              "      <td>22.26</td>\n",
              "      <td>89.9904</td>\n",
              "      <td>5.025000</td>\n",
              "    </tr>\n",
              "    <tr>\n",
              "      <th rowspan=\"2\" valign=\"top\">4</th>\n",
              "      <th>Pink Cab</th>\n",
              "      <td>22.66</td>\n",
              "      <td>45.9650</td>\n",
              "      <td>2.612900</td>\n",
              "    </tr>\n",
              "    <tr>\n",
              "      <th>Yellow Cab</th>\n",
              "      <td>22.47</td>\n",
              "      <td>106.1260</td>\n",
              "      <td>5.792595</td>\n",
              "    </tr>\n",
              "    <tr>\n",
              "      <th rowspan=\"2\" valign=\"top\">5</th>\n",
              "      <th>Pink Cab</th>\n",
              "      <td>22.31</td>\n",
              "      <td>46.1200</td>\n",
              "      <td>2.706624</td>\n",
              "    </tr>\n",
              "    <tr>\n",
              "      <th>Yellow Cab</th>\n",
              "      <td>22.60</td>\n",
              "      <td>109.9228</td>\n",
              "      <td>5.876486</td>\n",
              "    </tr>\n",
              "    <tr>\n",
              "      <th rowspan=\"2\" valign=\"top\">6</th>\n",
              "      <th>Pink Cab</th>\n",
              "      <td>22.54</td>\n",
              "      <td>47.7005</td>\n",
              "      <td>2.751732</td>\n",
              "    </tr>\n",
              "    <tr>\n",
              "      <th>Yellow Cab</th>\n",
              "      <td>22.60</td>\n",
              "      <td>112.7820</td>\n",
              "      <td>6.159612</td>\n",
              "    </tr>\n",
              "  </tbody>\n",
              "</table>\n",
              "</div>"
            ],
            "text/plain": [
              "                    km_travelled  profit_per_one_trip  profit_per_km\n",
              "Weekday company                                                     \n",
              "0       Pink Cab           22.05              34.3105       2.058884\n",
              "        Yellow Cab         22.42              93.1312       5.103434\n",
              "1       Pink Cab           22.61              35.6000       2.134995\n",
              "        Yellow Cab         22.41              96.6506       5.391836\n",
              "2       Pink Cab           22.26              36.4670       2.106509\n",
              "        Yellow Cab         22.42              93.1888       5.149244\n",
              "3       Pink Cab           22.40              36.0680       2.139563\n",
              "        Yellow Cab         22.26              89.9904       5.025000\n",
              "4       Pink Cab           22.66              45.9650       2.612900\n",
              "        Yellow Cab         22.47             106.1260       5.792595\n",
              "5       Pink Cab           22.31              46.1200       2.706624\n",
              "        Yellow Cab         22.60             109.9228       5.876486\n",
              "6       Pink Cab           22.54              47.7005       2.751732\n",
              "        Yellow Cab         22.60             112.7820       6.159612"
            ]
          },
          "metadata": {
            "tags": []
          },
          "execution_count": 124
        }
      ]
    },
    {
      "cell_type": "code",
      "metadata": {
        "id": "PY6b2er14522",
        "colab": {
          "base_uri": "https://localhost:8080/",
          "height": 346
        },
        "outputId": "b9cff6f0-1eac-465f-ed45-396ee6c81ab4"
      },
      "source": [
        "plt.figure(figsize=(10, 5))\n",
        "sns.barplot(x = masterData['Weekday'] , y= masterData['profit_per_one_trip'] , hue = masterData['company'])\n",
        "\n",
        "plt.title(\"Profit per weekday by company\", {\"fontname\":\"fantasy\", \"fontweight\":\"bold\", \"fontsize\":\"medium\"})\n",
        "plt.ylabel(\"Profit\", {\"fontname\": \"serif\", \"fontweight\":\"bold\"})\n",
        "plt.xlabel(\"weekday\", {\"fontname\": \"serif\", \"fontweight\":\"bold\"})\n",
        "plt.show()"
      ],
      "execution_count": 125,
      "outputs": [
        {
          "output_type": "display_data",
          "data": {
            "image/png": "[encoded data removed]",
            "text/plain": [
              "<Figure size 720x360 with 1 Axes>"
            ]
          },
          "metadata": {
            "tags": [],
            "needs_background": "light"
          }
        }
      ]
    },
    {
      "cell_type": "markdown",
      "metadata": {
        "id": "q2ExbN1JwlgO"
      },
      "source": [
        "Profit per one trip increases in the weekends, especially, in Yellow cab.\n",
        "This increase is caused by the increase of kilometres travelled.\n"
      ]
    },
    {
      "cell_type": "markdown",
      "metadata": {
        "id": "Jx0W7dZE6ZQw"
      },
      "source": [
        "**seasonality Analysis**"
      ]
    },
    {
      "cell_type": "markdown",
      "metadata": {
        "id": "MVGRSGDD6dff"
      },
      "source": [
        "Hypothesis: Is there any seasonality in the profit of each company?"
      ]
    },
    {
      "cell_type": "code",
      "metadata": {
        "id": "3yCI8mbb8ImQ",
        "colab": {
          "base_uri": "https://localhost:8080/",
          "height": 483
        },
        "outputId": "a8c69f19-a730-4275-90ae-75e6a398f8c8"
      },
      "source": [
        "monthGroup = masterData.groupby(['month','company'])\n",
        "(monthGroup[['km_travelled', 'profit_per_one_trip', 'profit_per_km']].median()).unstack()"
      ],
      "execution_count": 126,
      "outputs": [
        {
          "output_type": "execute_result",
          "data": {
            "text/html": [
              "<div>\n",
              "<style scoped>\n",
              "    .dataframe tbody tr th:only-of-type {\n",
              "        vertical-align: middle;\n",
              "    }\n",
              "\n",
              "    .dataframe tbody tr th {\n",
              "        vertical-align: top;\n",
              "    }\n",
              "\n",
              "    .dataframe thead tr th {\n",
              "        text-align: left;\n",
              "    }\n",
              "\n",
              "    .dataframe thead tr:last-of-type th {\n",
              "        text-align: right;\n",
              "    }\n",
              "</style>\n",
              "<table border=\"1\" class=\"dataframe\">\n",
              "  <thead>\n",
              "    <tr>\n",
              "      <th></th>\n",
              "      <th colspan=\"2\" halign=\"left\">km_travelled</th>\n",
              "      <th colspan=\"2\" halign=\"left\">profit_per_one_trip</th>\n",
              "      <th colspan=\"2\" halign=\"left\">profit_per_km</th>\n",
              "    </tr>\n",
              "    <tr>\n",
              "      <th>company</th>\n",
              "      <th>Pink Cab</th>\n",
              "      <th>Yellow Cab</th>\n",
              "      <th>Pink Cab</th>\n",
              "      <th>Yellow Cab</th>\n",
              "      <th>Pink Cab</th>\n",
              "      <th>Yellow Cab</th>\n",
              "    </tr>\n",
              "    <tr>\n",
              "      <th>month</th>\n",
              "      <th></th>\n",
              "      <th></th>\n",
              "      <th></th>\n",
              "      <th></th>\n",
              "      <th></th>\n",
              "      <th></th>\n",
              "    </tr>\n",
              "  </thead>\n",
              "  <tbody>\n",
              "    <tr>\n",
              "      <th>1</th>\n",
              "      <td>22.355</td>\n",
              "      <td>22.54</td>\n",
              "      <td>41.935</td>\n",
              "      <td>114.6160</td>\n",
              "      <td>2.454020</td>\n",
              "      <td>6.074740</td>\n",
              "    </tr>\n",
              "    <tr>\n",
              "      <th>2</th>\n",
              "      <td>22.310</td>\n",
              "      <td>22.57</td>\n",
              "      <td>47.520</td>\n",
              "      <td>116.3060</td>\n",
              "      <td>2.736672</td>\n",
              "      <td>6.051205</td>\n",
              "    </tr>\n",
              "    <tr>\n",
              "      <th>3</th>\n",
              "      <td>23.520</td>\n",
              "      <td>22.22</td>\n",
              "      <td>52.398</td>\n",
              "      <td>109.8300</td>\n",
              "      <td>2.890560</td>\n",
              "      <td>6.010245</td>\n",
              "    </tr>\n",
              "    <tr>\n",
              "      <th>4</th>\n",
              "      <td>22.080</td>\n",
              "      <td>22.47</td>\n",
              "      <td>34.840</td>\n",
              "      <td>107.1488</td>\n",
              "      <td>2.184878</td>\n",
              "      <td>5.971364</td>\n",
              "    </tr>\n",
              "    <tr>\n",
              "      <th>5</th>\n",
              "      <td>22.000</td>\n",
              "      <td>22.23</td>\n",
              "      <td>30.260</td>\n",
              "      <td>126.4988</td>\n",
              "      <td>1.898216</td>\n",
              "      <td>6.777619</td>\n",
              "    </tr>\n",
              "    <tr>\n",
              "      <th>6</th>\n",
              "      <td>22.600</td>\n",
              "      <td>22.31</td>\n",
              "      <td>34.558</td>\n",
              "      <td>113.7192</td>\n",
              "      <td>1.999074</td>\n",
              "      <td>5.966703</td>\n",
              "    </tr>\n",
              "    <tr>\n",
              "      <th>7</th>\n",
              "      <td>22.260</td>\n",
              "      <td>22.66</td>\n",
              "      <td>34.030</td>\n",
              "      <td>85.4900</td>\n",
              "      <td>2.071250</td>\n",
              "      <td>4.656637</td>\n",
              "    </tr>\n",
              "    <tr>\n",
              "      <th>8</th>\n",
              "      <td>22.230</td>\n",
              "      <td>22.31</td>\n",
              "      <td>38.230</td>\n",
              "      <td>83.3244</td>\n",
              "      <td>2.269637</td>\n",
              "      <td>4.618318</td>\n",
              "    </tr>\n",
              "    <tr>\n",
              "      <th>9</th>\n",
              "      <td>22.440</td>\n",
              "      <td>22.42</td>\n",
              "      <td>36.803</td>\n",
              "      <td>106.8900</td>\n",
              "      <td>2.157562</td>\n",
              "      <td>5.650641</td>\n",
              "    </tr>\n",
              "    <tr>\n",
              "      <th>10</th>\n",
              "      <td>22.420</td>\n",
              "      <td>22.54</td>\n",
              "      <td>42.980</td>\n",
              "      <td>98.7100</td>\n",
              "      <td>2.514739</td>\n",
              "      <td>5.537637</td>\n",
              "    </tr>\n",
              "    <tr>\n",
              "      <th>11</th>\n",
              "      <td>22.420</td>\n",
              "      <td>22.61</td>\n",
              "      <td>43.768</td>\n",
              "      <td>83.9762</td>\n",
              "      <td>2.598498</td>\n",
              "      <td>4.671760</td>\n",
              "    </tr>\n",
              "    <tr>\n",
              "      <th>12</th>\n",
              "      <td>22.610</td>\n",
              "      <td>22.60</td>\n",
              "      <td>58.124</td>\n",
              "      <td>99.6280</td>\n",
              "      <td>3.268564</td>\n",
              "      <td>5.509328</td>\n",
              "    </tr>\n",
              "  </tbody>\n",
              "</table>\n",
              "</div>"
            ],
            "text/plain": [
              "        km_travelled             ... profit_per_km           \n",
              "company     Pink Cab Yellow Cab  ...      Pink Cab Yellow Cab\n",
              "month                            ...                         \n",
              "1             22.355      22.54  ...      2.454020   6.074740\n",
              "2             22.310      22.57  ...      2.736672   6.051205\n",
              "3             23.520      22.22  ...      2.890560   6.010245\n",
              "4             22.080      22.47  ...      2.184878   5.971364\n",
              "5             22.000      22.23  ...      1.898216   6.777619\n",
              "6             22.600      22.31  ...      1.999074   5.966703\n",
              "7             22.260      22.66  ...      2.071250   4.656637\n",
              "8             22.230      22.31  ...      2.269637   4.618318\n",
              "9             22.440      22.42  ...      2.157562   5.650641\n",
              "10            22.420      22.54  ...      2.514739   5.537637\n",
              "11            22.420      22.61  ...      2.598498   4.671760\n",
              "12            22.610      22.60  ...      3.268564   5.509328\n",
              "\n",
              "[12 rows x 6 columns]"
            ]
          },
          "metadata": {
            "tags": []
          },
          "execution_count": 126
        }
      ]
    },
    {
      "cell_type": "markdown",
      "metadata": {
        "id": "wHM3Hdrn-6p5"
      },
      "source": [
        "The profit margin for yellow cab is always greater than Pink cab"
      ]
    },
    {
      "cell_type": "code",
      "metadata": {
        "id": "mgyteZcB8KE8",
        "colab": {
          "base_uri": "https://localhost:8080/",
          "height": 429
        },
        "outputId": "2b70f433-82fd-4aea-f5d4-ddab056b0372"
      },
      "source": [
        "((monthGroup[['profit_per_one_trip']].median()).unstack()).plot(kind='bar', figsize=(15,7), ylabel='Median Profit per trip');\n"
      ],
      "execution_count": 127,
      "outputs": [
        {
          "output_type": "display_data",
          "data": {
            "image/png": "[encoded data removed]",
            "text/plain": [
              "<Figure size 1080x504 with 1 Axes>"
            ]
          },
          "metadata": {
            "tags": [],
            "needs_background": "light"
          }
        }
      ]
    },
    {
      "cell_type": "code",
      "metadata": {
        "id": "HVjpdV5YBN8K",
        "colab": {
          "base_uri": "https://localhost:8080/",
          "height": 435
        },
        "outputId": "104a3637-d0f9-4b03-e8ce-5e887fb27b0e"
      },
      "source": [
        "((monthGroup[['profit_per_km']].median()).unstack()).plot(kind='bar', figsize=(15,7), ylabel='Median Profit per km');\n"
      ],
      "execution_count": 128,
      "outputs": [
        {
          "output_type": "display_data",
          "data": {
            "image/png": "[encoded data removed]",
            "text/plain": [
              "<Figure size 1080x504 with 1 Axes>"
            ]
          },
          "metadata": {
            "tags": [],
            "needs_background": "light"
          }
        }
      ]
    },
    {
      "cell_type": "markdown",
      "metadata": {
        "id": "ARbXzAe9-zui"
      },
      "source": [
        "The profit increase in the spring season especially in May.\n",
        "\n",
        "During July and August, both companys recorded a decrease in profit per km and profit per one trip. We can say that there's some seasonality \n",
        "\n"
      ]
    },
    {
      "cell_type": "markdown",
      "metadata": {
        "id": "P4b6VyqyUjKX"
      },
      "source": [
        "**Yearly analysis**\n"
      ]
    },
    {
      "cell_type": "markdown",
      "metadata": {
        "id": "eHGRLXZKUxm2"
      },
      "source": [
        "**Hypothesis: what's the mean profit of each company in each year ?**\n",
        "\n"
      ]
    },
    {
      "cell_type": "code",
      "metadata": {
        "id": "UkxZq5NDOqnp",
        "colab": {
          "base_uri": "https://localhost:8080/",
          "height": 235
        },
        "outputId": "3217f043-b0ff-4c32-9838-f0f48e81b03c"
      },
      "source": [
        "profit_year = masterData.groupby([masterData['year'], masterData['company']])['profit_per_one_trip'].mean().to_frame().reset_index()\n",
        "profit_year\n"
      ],
      "execution_count": 129,
      "outputs": [
        {
          "output_type": "execute_result",
          "data": {
            "text/html": [
              "<div>\n",
              "<style scoped>\n",
              "    .dataframe tbody tr th:only-of-type {\n",
              "        vertical-align: middle;\n",
              "    }\n",
              "\n",
              "    .dataframe tbody tr th {\n",
              "        vertical-align: top;\n",
              "    }\n",
              "\n",
              "    .dataframe thead th {\n",
              "        text-align: right;\n",
              "    }\n",
              "</style>\n",
              "<table border=\"1\" class=\"dataframe\">\n",
              "  <thead>\n",
              "    <tr style=\"text-align: right;\">\n",
              "      <th></th>\n",
              "      <th>year</th>\n",
              "      <th>company</th>\n",
              "      <th>profit_per_one_trip</th>\n",
              "    </tr>\n",
              "  </thead>\n",
              "  <tbody>\n",
              "    <tr>\n",
              "      <th>0</th>\n",
              "      <td>2016</td>\n",
              "      <td>Pink Cab</td>\n",
              "      <td>68.321819</td>\n",
              "    </tr>\n",
              "    <tr>\n",
              "      <th>1</th>\n",
              "      <td>2016</td>\n",
              "      <td>Yellow Cab</td>\n",
              "      <td>169.347821</td>\n",
              "    </tr>\n",
              "    <tr>\n",
              "      <th>2</th>\n",
              "      <td>2017</td>\n",
              "      <td>Pink Cab</td>\n",
              "      <td>67.070839</td>\n",
              "    </tr>\n",
              "    <tr>\n",
              "      <th>3</th>\n",
              "      <td>2017</td>\n",
              "      <td>Yellow Cab</td>\n",
              "      <td>168.817057</td>\n",
              "    </tr>\n",
              "    <tr>\n",
              "      <th>4</th>\n",
              "      <td>2018</td>\n",
              "      <td>Pink Cab</td>\n",
              "      <td>53.229689</td>\n",
              "    </tr>\n",
              "    <tr>\n",
              "      <th>5</th>\n",
              "      <td>2018</td>\n",
              "      <td>Yellow Cab</td>\n",
              "      <td>143.416122</td>\n",
              "    </tr>\n",
              "  </tbody>\n",
              "</table>\n",
              "</div>"
            ],
            "text/plain": [
              "   year     company  profit_per_one_trip\n",
              "0  2016    Pink Cab            68.321819\n",
              "1  2016  Yellow Cab           169.347821\n",
              "2  2017    Pink Cab            67.070839\n",
              "3  2017  Yellow Cab           168.817057\n",
              "4  2018    Pink Cab            53.229689\n",
              "5  2018  Yellow Cab           143.416122"
            ]
          },
          "metadata": {
            "tags": []
          },
          "execution_count": 129
        }
      ]
    },
    {
      "cell_type": "markdown",
      "metadata": {
        "id": "QPlL1g8Oobsd"
      },
      "source": [
        "in 2018, profit margin has decreased in the Pink cab.\n",
        "Compared to Yellow cab profit, Pink cab profit is much less ."
      ]
    },
    {
      "cell_type": "code",
      "metadata": {
        "id": "rcEwxN6gOrKc",
        "colab": {
          "base_uri": "https://localhost:8080/",
          "height": 346
        },
        "outputId": "94443c5d-ed5d-4414-84a7-0292c4aad429"
      },
      "source": [
        "plt.figure(figsize=(10, 5))\n",
        "sns.barplot(x = 'year' , y= 'profit_per_one_trip' , hue = 'company', data = profit_year)\n",
        "\n",
        "plt.title(\"Profit per year by company\", {\"fontname\":\"fantasy\", \"fontweight\":\"bold\", \"fontsize\":\"medium\"})\n",
        "plt.ylabel(\"Profit\", {\"fontname\": \"serif\", \"fontweight\":\"bold\"})\n",
        "plt.xlabel(\"Year\", {\"fontname\": \"serif\", \"fontweight\":\"bold\"})\n",
        "plt.show()"
      ],
      "execution_count": 130,
      "outputs": [
        {
          "output_type": "display_data",
          "data": {
            "image/png": "[encoded data removed]",
            "text/plain": [
              "<Figure size 720x360 with 1 Axes>"
            ]
          },
          "metadata": {
            "tags": [],
            "needs_background": "light"
          }
        }
      ]
    },
    {
      "cell_type": "markdown",
      "metadata": {
        "id": "v09XxfTCqjiK"
      },
      "source": [
        "**Hypothesis: what's the mean prive of each company in every year ?**\n",
        "\n"
      ]
    },
    {
      "cell_type": "code",
      "metadata": {
        "id": "pGVK4ENDp6nj",
        "colab": {
          "base_uri": "https://localhost:8080/",
          "height": 235
        },
        "outputId": "ad7f2d6b-d336-4ff4-a543-70d967d39f97"
      },
      "source": [
        "priceCharg_year = masterData.groupby([masterData['year'], 'company'])['price_charged'].mean().to_frame().reset_index()\n",
        "priceCharg_year"
      ],
      "execution_count": 131,
      "outputs": [
        {
          "output_type": "execute_result",
          "data": {
            "text/html": [
              "<div>\n",
              "<style scoped>\n",
              "    .dataframe tbody tr th:only-of-type {\n",
              "        vertical-align: middle;\n",
              "    }\n",
              "\n",
              "    .dataframe tbody tr th {\n",
              "        vertical-align: top;\n",
              "    }\n",
              "\n",
              "    .dataframe thead th {\n",
              "        text-align: right;\n",
              "    }\n",
              "</style>\n",
              "<table border=\"1\" class=\"dataframe\">\n",
              "  <thead>\n",
              "    <tr style=\"text-align: right;\">\n",
              "      <th></th>\n",
              "      <th>year</th>\n",
              "      <th>company</th>\n",
              "      <th>price_charged</th>\n",
              "    </tr>\n",
              "  </thead>\n",
              "  <tbody>\n",
              "    <tr>\n",
              "      <th>0</th>\n",
              "      <td>2016</td>\n",
              "      <td>Pink Cab</td>\n",
              "      <td>315.330113</td>\n",
              "    </tr>\n",
              "    <tr>\n",
              "      <th>1</th>\n",
              "      <td>2016</td>\n",
              "      <td>Yellow Cab</td>\n",
              "      <td>467.918301</td>\n",
              "    </tr>\n",
              "    <tr>\n",
              "      <th>2</th>\n",
              "      <td>2017</td>\n",
              "      <td>Pink Cab</td>\n",
              "      <td>315.907442</td>\n",
              "    </tr>\n",
              "    <tr>\n",
              "      <th>3</th>\n",
              "      <td>2017</td>\n",
              "      <td>Yellow Cab</td>\n",
              "      <td>466.639950</td>\n",
              "    </tr>\n",
              "    <tr>\n",
              "      <th>4</th>\n",
              "      <td>2018</td>\n",
              "      <td>Pink Cab</td>\n",
              "      <td>301.642530</td>\n",
              "    </tr>\n",
              "    <tr>\n",
              "      <th>5</th>\n",
              "      <td>2018</td>\n",
              "      <td>Yellow Cab</td>\n",
              "      <td>440.875558</td>\n",
              "    </tr>\n",
              "  </tbody>\n",
              "</table>\n",
              "</div>"
            ],
            "text/plain": [
              "   year     company  price_charged\n",
              "0  2016    Pink Cab     315.330113\n",
              "1  2016  Yellow Cab     467.918301\n",
              "2  2017    Pink Cab     315.907442\n",
              "3  2017  Yellow Cab     466.639950\n",
              "4  2018    Pink Cab     301.642530\n",
              "5  2018  Yellow Cab     440.875558"
            ]
          },
          "metadata": {
            "tags": []
          },
          "execution_count": 131
        }
      ]
    },
    {
      "cell_type": "code",
      "metadata": {
        "id": "RKWFfjR3p7J-",
        "colab": {
          "base_uri": "https://localhost:8080/",
          "height": 346
        },
        "outputId": "040f71a2-c3e0-44c4-fee4-227b47e7f64f"
      },
      "source": [
        "plt.figure(figsize=(10, 5))\n",
        "\n",
        "sns.barplot(x = 'year' , y= 'price_charged' , hue = 'company', data = priceCharg_year)\n",
        "\n",
        "plt.title(\"Price/year for each company\", {\"fontname\":\"fantasy\", \"fontweight\":\"bold\", \"fontsize\":\"medium\"})\n",
        "plt.ylabel(\"Price\", {\"fontname\": \"serif\", \"fontweight\":\"bold\"})\n",
        "plt.xlabel(\"Year\", {\"fontname\": \"serif\", \"fontweight\":\"bold\"})\n",
        "plt.show()"
      ],
      "execution_count": 132,
      "outputs": [
        {
          "output_type": "display_data",
          "data": {
            "image/png": "[encoded data removed]",
            "text/plain": [
              "<Figure size 720x360 with 1 Axes>"
            ]
          },
          "metadata": {
            "tags": [],
            "needs_background": "light"
          }
        }
      ]
    },
    {
      "cell_type": "markdown",
      "metadata": {
        "id": "10Imr4MZrm1d"
      },
      "source": [
        "Yellow Company has the highest price charged along three years."
      ]
    },
    {
      "cell_type": "markdown",
      "metadata": {
        "id": "YQkze69aVW7j"
      },
      "source": [
        "**Hypothesis: Which company has maximum cab users every year?**\n"
      ]
    },
    {
      "cell_type": "code",
      "metadata": {
        "id": "71eWXuf9p7y5",
        "colab": {
          "base_uri": "https://localhost:8080/",
          "height": 235
        },
        "outputId": "86b6c00a-1e0b-43bb-ac01-61fdce85c462"
      },
      "source": [
        "customer_per_year = masterData.groupby([masterData['year'], 'company'])['customer_id'].count().to_frame().reset_index()\n",
        "customer_per_year"
      ],
      "execution_count": 133,
      "outputs": [
        {
          "output_type": "execute_result",
          "data": {
            "text/html": [
              "<div>\n",
              "<style scoped>\n",
              "    .dataframe tbody tr th:only-of-type {\n",
              "        vertical-align: middle;\n",
              "    }\n",
              "\n",
              "    .dataframe tbody tr th {\n",
              "        vertical-align: top;\n",
              "    }\n",
              "\n",
              "    .dataframe thead th {\n",
              "        text-align: right;\n",
              "    }\n",
              "</style>\n",
              "<table border=\"1\" class=\"dataframe\">\n",
              "  <thead>\n",
              "    <tr style=\"text-align: right;\">\n",
              "      <th></th>\n",
              "      <th>year</th>\n",
              "      <th>company</th>\n",
              "      <th>customer_id</th>\n",
              "    </tr>\n",
              "  </thead>\n",
              "  <tbody>\n",
              "    <tr>\n",
              "      <th>0</th>\n",
              "      <td>2016</td>\n",
              "      <td>Pink Cab</td>\n",
              "      <td>25080</td>\n",
              "    </tr>\n",
              "    <tr>\n",
              "      <th>1</th>\n",
              "      <td>2016</td>\n",
              "      <td>Yellow Cab</td>\n",
              "      <td>82239</td>\n",
              "    </tr>\n",
              "    <tr>\n",
              "      <th>2</th>\n",
              "      <td>2017</td>\n",
              "      <td>Pink Cab</td>\n",
              "      <td>30321</td>\n",
              "    </tr>\n",
              "    <tr>\n",
              "      <th>3</th>\n",
              "      <td>2017</td>\n",
              "      <td>Yellow Cab</td>\n",
              "      <td>98189</td>\n",
              "    </tr>\n",
              "    <tr>\n",
              "      <th>4</th>\n",
              "      <td>2018</td>\n",
              "      <td>Pink Cab</td>\n",
              "      <td>29310</td>\n",
              "    </tr>\n",
              "    <tr>\n",
              "      <th>5</th>\n",
              "      <td>2018</td>\n",
              "      <td>Yellow Cab</td>\n",
              "      <td>94253</td>\n",
              "    </tr>\n",
              "  </tbody>\n",
              "</table>\n",
              "</div>"
            ],
            "text/plain": [
              "   year     company  customer_id\n",
              "0  2016    Pink Cab        25080\n",
              "1  2016  Yellow Cab        82239\n",
              "2  2017    Pink Cab        30321\n",
              "3  2017  Yellow Cab        98189\n",
              "4  2018    Pink Cab        29310\n",
              "5  2018  Yellow Cab        94253"
            ]
          },
          "metadata": {
            "tags": []
          },
          "execution_count": 133
        }
      ]
    },
    {
      "cell_type": "code",
      "metadata": {
        "id": "IHNMVC6wtqqC",
        "colab": {
          "base_uri": "https://localhost:8080/",
          "height": 346
        },
        "outputId": "4f92be7e-2fa3-48a3-cbaa-ddebd1f90a43"
      },
      "source": [
        "plt.figure(figsize=(10, 5))\n",
        "\n",
        "sns.barplot(x = 'year' , y= 'customer_id' , hue = 'company', data = customer_per_year)\n",
        "\n",
        "plt.title(\"Customers/year for each company\", {\"fontname\":\"fantasy\", \"fontweight\":\"bold\", \"fontsize\":\"medium\"})\n",
        "plt.ylabel(\"Customers\", {\"fontname\": \"serif\", \"fontweight\":\"bold\"})\n",
        "plt.xlabel(\"Year\", {\"fontname\": \"serif\", \"fontweight\":\"bold\"})\n",
        "plt.show()"
      ],
      "execution_count": 134,
      "outputs": [
        {
          "output_type": "display_data",
          "data": {
            "image/png": "[encoded data removed]",
            "text/plain": [
              "<Figure size 720x360 with 1 Axes>"
            ]
          },
          "metadata": {
            "tags": [],
            "needs_background": "light"
          }
        }
      ]
    },
    {
      "cell_type": "markdown",
      "metadata": {
        "id": "TK7wk1Evt9BM"
      },
      "source": [
        "Over years, Yellow company has the highest number of customers, especially in 2017\n",
        "\n"
      ]
    },
    {
      "cell_type": "markdown",
      "metadata": {
        "id": "ziju9wwNJsV4"
      },
      "source": [
        "**Add Us holidays data set**"
      ]
    },
    {
      "cell_type": "code",
      "metadata": {
        "colab": {
          "base_uri": "https://localhost:8080/",
          "height": 204
        },
        "id": "VgCeVXU_A-Lt",
        "outputId": "652f205d-1893-4c52-a74f-9748b932bf25"
      },
      "source": [
        "import pandas as pd\n",
        "holiday = pd.read_csv('https://query.data.world/s/xfi2xhr5c5zo2l3ryb3ldbbxdnqfc2')\n",
        "holiday.head()"
      ],
      "execution_count": 135,
      "outputs": [
        {
          "output_type": "execute_result",
          "data": {
            "text/html": [
              "<div>\n",
              "<style scoped>\n",
              "    .dataframe tbody tr th:only-of-type {\n",
              "        vertical-align: middle;\n",
              "    }\n",
              "\n",
              "    .dataframe tbody tr th {\n",
              "        vertical-align: top;\n",
              "    }\n",
              "\n",
              "    .dataframe thead th {\n",
              "        text-align: right;\n",
              "    }\n",
              "</style>\n",
              "<table border=\"1\" class=\"dataframe\">\n",
              "  <thead>\n",
              "    <tr style=\"text-align: right;\">\n",
              "      <th></th>\n",
              "      <th>Date</th>\n",
              "      <th>Holiday</th>\n",
              "    </tr>\n",
              "  </thead>\n",
              "  <tbody>\n",
              "    <tr>\n",
              "      <th>0</th>\n",
              "      <td>12/31/2010</td>\n",
              "      <td>New Year's Day</td>\n",
              "    </tr>\n",
              "    <tr>\n",
              "      <th>1</th>\n",
              "      <td>1/17/2011</td>\n",
              "      <td>Birthday of Martin Luther King, Jr.</td>\n",
              "    </tr>\n",
              "    <tr>\n",
              "      <th>2</th>\n",
              "      <td>2/21/2011</td>\n",
              "      <td>Washington's Birthday</td>\n",
              "    </tr>\n",
              "    <tr>\n",
              "      <th>3</th>\n",
              "      <td>5/30/2011</td>\n",
              "      <td>Memorial Day</td>\n",
              "    </tr>\n",
              "    <tr>\n",
              "      <th>4</th>\n",
              "      <td>7/4/2011</td>\n",
              "      <td>Independence Day</td>\n",
              "    </tr>\n",
              "  </tbody>\n",
              "</table>\n",
              "</div>"
            ],
            "text/plain": [
              "         Date                              Holiday\n",
              "0  12/31/2010                       New Year's Day\n",
              "1   1/17/2011  Birthday of Martin Luther King, Jr.\n",
              "2   2/21/2011                Washington's Birthday\n",
              "3   5/30/2011                         Memorial Day\n",
              "4    7/4/2011                     Independence Day"
            ]
          },
          "metadata": {
            "tags": []
          },
          "execution_count": 135
        }
      ]
    },
    {
      "cell_type": "code",
      "metadata": {
        "id": "_Sd243wVBepB"
      },
      "source": [
        "holiday['Date'] = pd.to_datetime(holiday['Date'])"
      ],
      "execution_count": 136,
      "outputs": []
    },
    {
      "cell_type": "code",
      "metadata": {
        "colab": {
          "base_uri": "https://localhost:8080/",
          "height": 419
        },
        "id": "7CeCXedWPm3T",
        "outputId": "0afef173-4037-4e65-9f3e-fb68e4e4ae1a"
      },
      "source": [
        "holiday['weekend'] = pd.DatetimeIndex(holiday[\"Date\"]).dayofweek\n",
        "holiday.head(100)"
      ],
      "execution_count": 137,
      "outputs": [
        {
          "output_type": "execute_result",
          "data": {
            "text/html": [
              "<div>\n",
              "<style scoped>\n",
              "    .dataframe tbody tr th:only-of-type {\n",
              "        vertical-align: middle;\n",
              "    }\n",
              "\n",
              "    .dataframe tbody tr th {\n",
              "        vertical-align: top;\n",
              "    }\n",
              "\n",
              "    .dataframe thead th {\n",
              "        text-align: right;\n",
              "    }\n",
              "</style>\n",
              "<table border=\"1\" class=\"dataframe\">\n",
              "  <thead>\n",
              "    <tr style=\"text-align: right;\">\n",
              "      <th></th>\n",
              "      <th>Date</th>\n",
              "      <th>Holiday</th>\n",
              "      <th>weekend</th>\n",
              "    </tr>\n",
              "  </thead>\n",
              "  <tbody>\n",
              "    <tr>\n",
              "      <th>0</th>\n",
              "      <td>2010-12-31</td>\n",
              "      <td>New Year's Day</td>\n",
              "      <td>4</td>\n",
              "    </tr>\n",
              "    <tr>\n",
              "      <th>1</th>\n",
              "      <td>2011-01-17</td>\n",
              "      <td>Birthday of Martin Luther King, Jr.</td>\n",
              "      <td>0</td>\n",
              "    </tr>\n",
              "    <tr>\n",
              "      <th>2</th>\n",
              "      <td>2011-02-21</td>\n",
              "      <td>Washington's Birthday</td>\n",
              "      <td>0</td>\n",
              "    </tr>\n",
              "    <tr>\n",
              "      <th>3</th>\n",
              "      <td>2011-05-30</td>\n",
              "      <td>Memorial Day</td>\n",
              "      <td>0</td>\n",
              "    </tr>\n",
              "    <tr>\n",
              "      <th>4</th>\n",
              "      <td>2011-07-04</td>\n",
              "      <td>Independence Day</td>\n",
              "      <td>0</td>\n",
              "    </tr>\n",
              "    <tr>\n",
              "      <th>...</th>\n",
              "      <td>...</td>\n",
              "      <td>...</td>\n",
              "      <td>...</td>\n",
              "    </tr>\n",
              "    <tr>\n",
              "      <th>95</th>\n",
              "      <td>2020-09-07</td>\n",
              "      <td>Labor Day</td>\n",
              "      <td>0</td>\n",
              "    </tr>\n",
              "    <tr>\n",
              "      <th>96</th>\n",
              "      <td>2020-10-12</td>\n",
              "      <td>Columbus Day</td>\n",
              "      <td>0</td>\n",
              "    </tr>\n",
              "    <tr>\n",
              "      <th>97</th>\n",
              "      <td>2020-11-11</td>\n",
              "      <td>Veterans Day</td>\n",
              "      <td>2</td>\n",
              "    </tr>\n",
              "    <tr>\n",
              "      <th>98</th>\n",
              "      <td>2020-11-26</td>\n",
              "      <td>Thanksgiving Day</td>\n",
              "      <td>3</td>\n",
              "    </tr>\n",
              "    <tr>\n",
              "      <th>99</th>\n",
              "      <td>2020-12-25</td>\n",
              "      <td>Christmas Day</td>\n",
              "      <td>4</td>\n",
              "    </tr>\n",
              "  </tbody>\n",
              "</table>\n",
              "<p>100 rows × 3 columns</p>\n",
              "</div>"
            ],
            "text/plain": [
              "         Date                              Holiday  weekend\n",
              "0  2010-12-31                       New Year's Day        4\n",
              "1  2011-01-17  Birthday of Martin Luther King, Jr.        0\n",
              "2  2011-02-21                Washington's Birthday        0\n",
              "3  2011-05-30                         Memorial Day        0\n",
              "4  2011-07-04                     Independence Day        0\n",
              "..        ...                                  ...      ...\n",
              "95 2020-09-07                            Labor Day        0\n",
              "96 2020-10-12                         Columbus Day        0\n",
              "97 2020-11-11                         Veterans Day        2\n",
              "98 2020-11-26                     Thanksgiving Day        3\n",
              "99 2020-12-25                        Christmas Day        4\n",
              "\n",
              "[100 rows x 3 columns]"
            ]
          },
          "metadata": {
            "tags": []
          },
          "execution_count": 137
        }
      ]
    },
    {
      "cell_type": "code",
      "metadata": {
        "colab": {
          "base_uri": "https://localhost:8080/",
          "height": 204
        },
        "id": "fzWS-KC5p_Db",
        "outputId": "3696ae6c-e927-48fa-94b4-310c45839b7b"
      },
      "source": [
        "holiday.head()"
      ],
      "execution_count": 138,
      "outputs": [
        {
          "output_type": "execute_result",
          "data": {
            "text/html": [
              "<div>\n",
              "<style scoped>\n",
              "    .dataframe tbody tr th:only-of-type {\n",
              "        vertical-align: middle;\n",
              "    }\n",
              "\n",
              "    .dataframe tbody tr th {\n",
              "        vertical-align: top;\n",
              "    }\n",
              "\n",
              "    .dataframe thead th {\n",
              "        text-align: right;\n",
              "    }\n",
              "</style>\n",
              "<table border=\"1\" class=\"dataframe\">\n",
              "  <thead>\n",
              "    <tr style=\"text-align: right;\">\n",
              "      <th></th>\n",
              "      <th>Date</th>\n",
              "      <th>Holiday</th>\n",
              "      <th>weekend</th>\n",
              "    </tr>\n",
              "  </thead>\n",
              "  <tbody>\n",
              "    <tr>\n",
              "      <th>0</th>\n",
              "      <td>2010-12-31</td>\n",
              "      <td>New Year's Day</td>\n",
              "      <td>4</td>\n",
              "    </tr>\n",
              "    <tr>\n",
              "      <th>1</th>\n",
              "      <td>2011-01-17</td>\n",
              "      <td>Birthday of Martin Luther King, Jr.</td>\n",
              "      <td>0</td>\n",
              "    </tr>\n",
              "    <tr>\n",
              "      <th>2</th>\n",
              "      <td>2011-02-21</td>\n",
              "      <td>Washington's Birthday</td>\n",
              "      <td>0</td>\n",
              "    </tr>\n",
              "    <tr>\n",
              "      <th>3</th>\n",
              "      <td>2011-05-30</td>\n",
              "      <td>Memorial Day</td>\n",
              "      <td>0</td>\n",
              "    </tr>\n",
              "    <tr>\n",
              "      <th>4</th>\n",
              "      <td>2011-07-04</td>\n",
              "      <td>Independence Day</td>\n",
              "      <td>0</td>\n",
              "    </tr>\n",
              "  </tbody>\n",
              "</table>\n",
              "</div>"
            ],
            "text/plain": [
              "        Date                              Holiday  weekend\n",
              "0 2010-12-31                       New Year's Day        4\n",
              "1 2011-01-17  Birthday of Martin Luther King, Jr.        0\n",
              "2 2011-02-21                Washington's Birthday        0\n",
              "3 2011-05-30                         Memorial Day        0\n",
              "4 2011-07-04                     Independence Day        0"
            ]
          },
          "metadata": {
            "tags": []
          },
          "execution_count": 138
        }
      ]
    },
    {
      "cell_type": "code",
      "metadata": {
        "colab": {
          "base_uri": "https://localhost:8080/",
          "height": 343
        },
        "id": "fD3_C4mgqA8j",
        "outputId": "996f7b5e-8fa7-482a-c08a-23dbd13cebc7"
      },
      "source": [
        "#holiday['Date'] = pd.to_datetime(holiday['Date'])\n",
        "holiday.sort_values(by='Date', inplace=True)\n",
        "holiday.reset_index().set_index('Date',drop=False, inplace=True)\n",
        "\n",
        "masterData = pd.merge(masterData, holiday, left_index=True, right_index=True)\n",
        "masterData.head()"
      ],
      "execution_count": 139,
      "outputs": [
        {
          "output_type": "execute_result",
          "data": {
            "text/html": [
              "<div>\n",
              "<style scoped>\n",
              "    .dataframe tbody tr th:only-of-type {\n",
              "        vertical-align: middle;\n",
              "    }\n",
              "\n",
              "    .dataframe tbody tr th {\n",
              "        vertical-align: top;\n",
              "    }\n",
              "\n",
              "    .dataframe thead th {\n",
              "        text-align: right;\n",
              "    }\n",
              "</style>\n",
              "<table border=\"1\" class=\"dataframe\">\n",
              "  <thead>\n",
              "    <tr style=\"text-align: right;\">\n",
              "      <th></th>\n",
              "      <th>Unnamed: 0</th>\n",
              "      <th>transaction_id</th>\n",
              "      <th>date_of_travel</th>\n",
              "      <th>company</th>\n",
              "      <th>city</th>\n",
              "      <th>km_travelled</th>\n",
              "      <th>price_charged</th>\n",
              "      <th>cost_of_trip</th>\n",
              "      <th>customer_id</th>\n",
              "      <th>payment_mode</th>\n",
              "      <th>gender</th>\n",
              "      <th>age</th>\n",
              "      <th>income_(usd/month)</th>\n",
              "      <th>population</th>\n",
              "      <th>users</th>\n",
              "      <th>day</th>\n",
              "      <th>Weekday</th>\n",
              "      <th>month</th>\n",
              "      <th>year</th>\n",
              "      <th>profit_per_one_trip</th>\n",
              "      <th>profit_per_km</th>\n",
              "      <th>price_per_km</th>\n",
              "      <th>cost_per_km</th>\n",
              "      <th>Date</th>\n",
              "      <th>Holiday</th>\n",
              "      <th>weekend</th>\n",
              "    </tr>\n",
              "  </thead>\n",
              "  <tbody>\n",
              "    <tr>\n",
              "      <th>0</th>\n",
              "      <td>0</td>\n",
              "      <td>10000011</td>\n",
              "      <td>08/01/2016</td>\n",
              "      <td>Pink Cab</td>\n",
              "      <td>ATLANTA GA</td>\n",
              "      <td>30.45</td>\n",
              "      <td>370.95</td>\n",
              "      <td>313.6350</td>\n",
              "      <td>29290</td>\n",
              "      <td>Card</td>\n",
              "      <td>Male</td>\n",
              "      <td>28</td>\n",
              "      <td>10813</td>\n",
              "      <td>814,885</td>\n",
              "      <td>24,701</td>\n",
              "      <td>1</td>\n",
              "      <td>0</td>\n",
              "      <td>8</td>\n",
              "      <td>2016</td>\n",
              "      <td>57.3150</td>\n",
              "      <td>1.882266</td>\n",
              "      <td>12.182266</td>\n",
              "      <td>10.30</td>\n",
              "      <td>2010-12-31</td>\n",
              "      <td>New Year's Day</td>\n",
              "      <td>4</td>\n",
              "    </tr>\n",
              "    <tr>\n",
              "      <th>1</th>\n",
              "      <td>1</td>\n",
              "      <td>10351127</td>\n",
              "      <td>21/07/2018</td>\n",
              "      <td>Yellow Cab</td>\n",
              "      <td>ATLANTA GA</td>\n",
              "      <td>26.19</td>\n",
              "      <td>598.70</td>\n",
              "      <td>317.4228</td>\n",
              "      <td>29290</td>\n",
              "      <td>Cash</td>\n",
              "      <td>Male</td>\n",
              "      <td>28</td>\n",
              "      <td>10813</td>\n",
              "      <td>814,885</td>\n",
              "      <td>24,701</td>\n",
              "      <td>21</td>\n",
              "      <td>5</td>\n",
              "      <td>7</td>\n",
              "      <td>2018</td>\n",
              "      <td>281.2772</td>\n",
              "      <td>10.739870</td>\n",
              "      <td>22.859870</td>\n",
              "      <td>12.12</td>\n",
              "      <td>2011-01-17</td>\n",
              "      <td>Birthday of Martin Luther King, Jr.</td>\n",
              "      <td>0</td>\n",
              "    </tr>\n",
              "    <tr>\n",
              "      <th>2</th>\n",
              "      <td>2</td>\n",
              "      <td>10412921</td>\n",
              "      <td>23/11/2018</td>\n",
              "      <td>Yellow Cab</td>\n",
              "      <td>ATLANTA GA</td>\n",
              "      <td>42.55</td>\n",
              "      <td>792.05</td>\n",
              "      <td>597.4020</td>\n",
              "      <td>29290</td>\n",
              "      <td>Card</td>\n",
              "      <td>Male</td>\n",
              "      <td>28</td>\n",
              "      <td>10813</td>\n",
              "      <td>814,885</td>\n",
              "      <td>24,701</td>\n",
              "      <td>23</td>\n",
              "      <td>4</td>\n",
              "      <td>11</td>\n",
              "      <td>2018</td>\n",
              "      <td>194.6480</td>\n",
              "      <td>4.574571</td>\n",
              "      <td>18.614571</td>\n",
              "      <td>14.04</td>\n",
              "      <td>2011-02-21</td>\n",
              "      <td>Washington's Birthday</td>\n",
              "      <td>0</td>\n",
              "    </tr>\n",
              "    <tr>\n",
              "      <th>3</th>\n",
              "      <td>3</td>\n",
              "      <td>10000012</td>\n",
              "      <td>06/01/2016</td>\n",
              "      <td>Pink Cab</td>\n",
              "      <td>ATLANTA GA</td>\n",
              "      <td>28.62</td>\n",
              "      <td>358.52</td>\n",
              "      <td>334.8540</td>\n",
              "      <td>27703</td>\n",
              "      <td>Card</td>\n",
              "      <td>Male</td>\n",
              "      <td>27</td>\n",
              "      <td>9237</td>\n",
              "      <td>814,885</td>\n",
              "      <td>24,701</td>\n",
              "      <td>1</td>\n",
              "      <td>2</td>\n",
              "      <td>6</td>\n",
              "      <td>2016</td>\n",
              "      <td>23.6660</td>\n",
              "      <td>0.826904</td>\n",
              "      <td>12.526904</td>\n",
              "      <td>11.70</td>\n",
              "      <td>2011-05-30</td>\n",
              "      <td>Memorial Day</td>\n",
              "      <td>0</td>\n",
              "    </tr>\n",
              "    <tr>\n",
              "      <th>4</th>\n",
              "      <td>4</td>\n",
              "      <td>10320494</td>\n",
              "      <td>21/04/2018</td>\n",
              "      <td>Yellow Cab</td>\n",
              "      <td>ATLANTA GA</td>\n",
              "      <td>36.38</td>\n",
              "      <td>721.10</td>\n",
              "      <td>467.1192</td>\n",
              "      <td>27703</td>\n",
              "      <td>Card</td>\n",
              "      <td>Male</td>\n",
              "      <td>27</td>\n",
              "      <td>9237</td>\n",
              "      <td>814,885</td>\n",
              "      <td>24,701</td>\n",
              "      <td>21</td>\n",
              "      <td>5</td>\n",
              "      <td>4</td>\n",
              "      <td>2018</td>\n",
              "      <td>253.9808</td>\n",
              "      <td>6.981330</td>\n",
              "      <td>19.821330</td>\n",
              "      <td>12.84</td>\n",
              "      <td>2011-07-04</td>\n",
              "      <td>Independence Day</td>\n",
              "      <td>0</td>\n",
              "    </tr>\n",
              "  </tbody>\n",
              "</table>\n",
              "</div>"
            ],
            "text/plain": [
              "   Unnamed: 0  transaction_id  ...                              Holiday weekend\n",
              "0           0        10000011  ...                       New Year's Day       4\n",
              "1           1        10351127  ...  Birthday of Martin Luther King, Jr.       0\n",
              "2           2        10412921  ...                Washington's Birthday       0\n",
              "3           3        10000012  ...                         Memorial Day       0\n",
              "4           4        10320494  ...                     Independence Day       0\n",
              "\n",
              "[5 rows x 26 columns]"
            ]
          },
          "metadata": {
            "tags": []
          },
          "execution_count": 139
        }
      ]
    },
    {
      "cell_type": "code",
      "metadata": {
        "id": "l8_vQdLuC6Yf"
      },
      "source": [
        "masterData.to_csv('masterDataNew.csv', sep=';')"
      ],
      "execution_count": 140,
      "outputs": []
    },
    {
      "cell_type": "code",
      "metadata": {
        "id": "xjOiDOa389dC"
      },
      "source": [
        "masterData=pd.read_csv(\"masterDataNew (1).csv\" , sep=';')\n"
      ],
      "execution_count": 141,
      "outputs": []
    },
    {
      "cell_type": "markdown",
      "metadata": {
        "id": "7USTo-4D9Vob"
      },
      "source": [
        "Due to the difficulty to replace Null weekend value with False and the rest with True, Excel is used."
      ]
    },
    {
      "cell_type": "code",
      "metadata": {
        "colab": {
          "base_uri": "https://localhost:8080/",
          "height": 1000
        },
        "id": "cPeWFXp6qCK4",
        "outputId": "e5c7c6a6-2153-4874-fd83-7633b93b75a4"
      },
      "source": [
        "masterData.head(20)"
      ],
      "execution_count": 142,
      "outputs": [
        {
          "output_type": "execute_result",
          "data": {
            "text/html": [
              "<div>\n",
              "<style scoped>\n",
              "    .dataframe tbody tr th:only-of-type {\n",
              "        vertical-align: middle;\n",
              "    }\n",
              "\n",
              "    .dataframe tbody tr th {\n",
              "        vertical-align: top;\n",
              "    }\n",
              "\n",
              "    .dataframe thead th {\n",
              "        text-align: right;\n",
              "    }\n",
              "</style>\n",
              "<table border=\"1\" class=\"dataframe\">\n",
              "  <thead>\n",
              "    <tr style=\"text-align: right;\">\n",
              "      <th></th>\n",
              "      <th>Unnamed: 0</th>\n",
              "      <th>Unnamed: 0.1</th>\n",
              "      <th>transaction_id</th>\n",
              "      <th>date_of_travel</th>\n",
              "      <th>company</th>\n",
              "      <th>city</th>\n",
              "      <th>km_travelled</th>\n",
              "      <th>price_charged</th>\n",
              "      <th>cost_of_trip</th>\n",
              "      <th>customer_id</th>\n",
              "      <th>payment_mode</th>\n",
              "      <th>gender</th>\n",
              "      <th>age</th>\n",
              "      <th>income_(usd/month)</th>\n",
              "      <th>population</th>\n",
              "      <th>users</th>\n",
              "      <th>day</th>\n",
              "      <th>Weekday</th>\n",
              "      <th>month</th>\n",
              "      <th>year</th>\n",
              "      <th>profit_per_one_trip</th>\n",
              "      <th>profit_per_km</th>\n",
              "      <th>price_per_km</th>\n",
              "      <th>cost_per_km</th>\n",
              "      <th>Date_x</th>\n",
              "      <th>Holiday_x</th>\n",
              "      <th>weekend_x</th>\n",
              "      <th>Date_y</th>\n",
              "      <th>Holiday_y</th>\n",
              "      <th>weekend_y</th>\n",
              "    </tr>\n",
              "  </thead>\n",
              "  <tbody>\n",
              "    <tr>\n",
              "      <th>0</th>\n",
              "      <td>0</td>\n",
              "      <td>0</td>\n",
              "      <td>10000011</td>\n",
              "      <td>08/01/2016</td>\n",
              "      <td>Pink Cab</td>\n",
              "      <td>ATLANTA GA</td>\n",
              "      <td>30.45</td>\n",
              "      <td>370.95</td>\n",
              "      <td>313.6350</td>\n",
              "      <td>29290</td>\n",
              "      <td>Card</td>\n",
              "      <td>Male</td>\n",
              "      <td>28</td>\n",
              "      <td>10813</td>\n",
              "      <td>814,885</td>\n",
              "      <td>24,701</td>\n",
              "      <td>1</td>\n",
              "      <td>0</td>\n",
              "      <td>8</td>\n",
              "      <td>2016</td>\n",
              "      <td>57.3150</td>\n",
              "      <td>1.882266</td>\n",
              "      <td>12.182266</td>\n",
              "      <td>10.30</td>\n",
              "      <td>31/12/2010</td>\n",
              "      <td>New Year's Day</td>\n",
              "      <td>False</td>\n",
              "      <td>31/12/2010</td>\n",
              "      <td>New Year's Day</td>\n",
              "      <td>True</td>\n",
              "    </tr>\n",
              "    <tr>\n",
              "      <th>1</th>\n",
              "      <td>1</td>\n",
              "      <td>1</td>\n",
              "      <td>10351127</td>\n",
              "      <td>21/07/2018</td>\n",
              "      <td>Yellow Cab</td>\n",
              "      <td>ATLANTA GA</td>\n",
              "      <td>26.19</td>\n",
              "      <td>598.70</td>\n",
              "      <td>317.4228</td>\n",
              "      <td>29290</td>\n",
              "      <td>Cash</td>\n",
              "      <td>Male</td>\n",
              "      <td>28</td>\n",
              "      <td>10813</td>\n",
              "      <td>814,885</td>\n",
              "      <td>24,701</td>\n",
              "      <td>21</td>\n",
              "      <td>5</td>\n",
              "      <td>7</td>\n",
              "      <td>2018</td>\n",
              "      <td>281.2772</td>\n",
              "      <td>10.739870</td>\n",
              "      <td>22.859870</td>\n",
              "      <td>12.12</td>\n",
              "      <td>17/01/2011</td>\n",
              "      <td>Birthday of Martin Luther King, Jr.</td>\n",
              "      <td>False</td>\n",
              "      <td>17/01/2011</td>\n",
              "      <td>Birthday of Martin Luther King, Jr.</td>\n",
              "      <td>False</td>\n",
              "    </tr>\n",
              "    <tr>\n",
              "      <th>2</th>\n",
              "      <td>2</td>\n",
              "      <td>2</td>\n",
              "      <td>10412921</td>\n",
              "      <td>23/11/2018</td>\n",
              "      <td>Yellow Cab</td>\n",
              "      <td>ATLANTA GA</td>\n",
              "      <td>42.55</td>\n",
              "      <td>792.05</td>\n",
              "      <td>597.4020</td>\n",
              "      <td>29290</td>\n",
              "      <td>Card</td>\n",
              "      <td>Male</td>\n",
              "      <td>28</td>\n",
              "      <td>10813</td>\n",
              "      <td>814,885</td>\n",
              "      <td>24,701</td>\n",
              "      <td>23</td>\n",
              "      <td>4</td>\n",
              "      <td>11</td>\n",
              "      <td>2018</td>\n",
              "      <td>194.6480</td>\n",
              "      <td>4.574571</td>\n",
              "      <td>18.614571</td>\n",
              "      <td>14.04</td>\n",
              "      <td>21/02/2011</td>\n",
              "      <td>Washington's Birthday</td>\n",
              "      <td>False</td>\n",
              "      <td>21/02/2011</td>\n",
              "      <td>Washington's Birthday</td>\n",
              "      <td>False</td>\n",
              "    </tr>\n",
              "    <tr>\n",
              "      <th>3</th>\n",
              "      <td>3</td>\n",
              "      <td>3</td>\n",
              "      <td>10000012</td>\n",
              "      <td>06/01/2016</td>\n",
              "      <td>Pink Cab</td>\n",
              "      <td>ATLANTA GA</td>\n",
              "      <td>28.62</td>\n",
              "      <td>358.52</td>\n",
              "      <td>334.8540</td>\n",
              "      <td>27703</td>\n",
              "      <td>Card</td>\n",
              "      <td>Male</td>\n",
              "      <td>27</td>\n",
              "      <td>9237</td>\n",
              "      <td>814,885</td>\n",
              "      <td>24,701</td>\n",
              "      <td>1</td>\n",
              "      <td>2</td>\n",
              "      <td>6</td>\n",
              "      <td>2016</td>\n",
              "      <td>23.6660</td>\n",
              "      <td>0.826904</td>\n",
              "      <td>12.526904</td>\n",
              "      <td>11.70</td>\n",
              "      <td>30/05/2011</td>\n",
              "      <td>Memorial Day</td>\n",
              "      <td>False</td>\n",
              "      <td>30/05/2011</td>\n",
              "      <td>Memorial Day</td>\n",
              "      <td>False</td>\n",
              "    </tr>\n",
              "    <tr>\n",
              "      <th>4</th>\n",
              "      <td>4</td>\n",
              "      <td>4</td>\n",
              "      <td>10320494</td>\n",
              "      <td>21/04/2018</td>\n",
              "      <td>Yellow Cab</td>\n",
              "      <td>ATLANTA GA</td>\n",
              "      <td>36.38</td>\n",
              "      <td>721.10</td>\n",
              "      <td>467.1192</td>\n",
              "      <td>27703</td>\n",
              "      <td>Card</td>\n",
              "      <td>Male</td>\n",
              "      <td>27</td>\n",
              "      <td>9237</td>\n",
              "      <td>814,885</td>\n",
              "      <td>24,701</td>\n",
              "      <td>21</td>\n",
              "      <td>5</td>\n",
              "      <td>4</td>\n",
              "      <td>2018</td>\n",
              "      <td>253.9808</td>\n",
              "      <td>6.981330</td>\n",
              "      <td>19.821330</td>\n",
              "      <td>12.84</td>\n",
              "      <td>04/07/2011</td>\n",
              "      <td>Independence Day</td>\n",
              "      <td>False</td>\n",
              "      <td>04/07/2011</td>\n",
              "      <td>Independence Day</td>\n",
              "      <td>False</td>\n",
              "    </tr>\n",
              "    <tr>\n",
              "      <th>5</th>\n",
              "      <td>5</td>\n",
              "      <td>5</td>\n",
              "      <td>10324737</td>\n",
              "      <td>04/05/2018</td>\n",
              "      <td>Yellow Cab</td>\n",
              "      <td>ATLANTA GA</td>\n",
              "      <td>6.18</td>\n",
              "      <td>138.40</td>\n",
              "      <td>87.5088</td>\n",
              "      <td>27703</td>\n",
              "      <td>Cash</td>\n",
              "      <td>Male</td>\n",
              "      <td>27</td>\n",
              "      <td>9237</td>\n",
              "      <td>814,885</td>\n",
              "      <td>24,701</td>\n",
              "      <td>5</td>\n",
              "      <td>3</td>\n",
              "      <td>4</td>\n",
              "      <td>2018</td>\n",
              "      <td>50.8912</td>\n",
              "      <td>8.234822</td>\n",
              "      <td>22.394822</td>\n",
              "      <td>14.16</td>\n",
              "      <td>05/09/2011</td>\n",
              "      <td>Labor Day</td>\n",
              "      <td>False</td>\n",
              "      <td>05/09/2011</td>\n",
              "      <td>Labor Day</td>\n",
              "      <td>False</td>\n",
              "    </tr>\n",
              "    <tr>\n",
              "      <th>6</th>\n",
              "      <td>6</td>\n",
              "      <td>6</td>\n",
              "      <td>10395626</td>\n",
              "      <td>27/10/2018</td>\n",
              "      <td>Pink Cab</td>\n",
              "      <td>ATLANTA GA</td>\n",
              "      <td>13.39</td>\n",
              "      <td>167.03</td>\n",
              "      <td>141.9340</td>\n",
              "      <td>27703</td>\n",
              "      <td>Card</td>\n",
              "      <td>Male</td>\n",
              "      <td>27</td>\n",
              "      <td>9237</td>\n",
              "      <td>814,885</td>\n",
              "      <td>24,701</td>\n",
              "      <td>27</td>\n",
              "      <td>5</td>\n",
              "      <td>10</td>\n",
              "      <td>2018</td>\n",
              "      <td>25.0960</td>\n",
              "      <td>1.874235</td>\n",
              "      <td>12.474235</td>\n",
              "      <td>10.60</td>\n",
              "      <td>10/10/2011</td>\n",
              "      <td>Columbus Day</td>\n",
              "      <td>False</td>\n",
              "      <td>10/10/2011</td>\n",
              "      <td>Columbus Day</td>\n",
              "      <td>False</td>\n",
              "    </tr>\n",
              "    <tr>\n",
              "      <th>7</th>\n",
              "      <td>7</td>\n",
              "      <td>7</td>\n",
              "      <td>10000013</td>\n",
              "      <td>02/01/2016</td>\n",
              "      <td>Pink Cab</td>\n",
              "      <td>ATLANTA GA</td>\n",
              "      <td>9.04</td>\n",
              "      <td>125.20</td>\n",
              "      <td>97.6320</td>\n",
              "      <td>28712</td>\n",
              "      <td>Cash</td>\n",
              "      <td>Male</td>\n",
              "      <td>53</td>\n",
              "      <td>11242</td>\n",
              "      <td>814,885</td>\n",
              "      <td>24,701</td>\n",
              "      <td>1</td>\n",
              "      <td>0</td>\n",
              "      <td>2</td>\n",
              "      <td>2016</td>\n",
              "      <td>27.5680</td>\n",
              "      <td>3.049558</td>\n",
              "      <td>13.849558</td>\n",
              "      <td>10.80</td>\n",
              "      <td>11/11/2011</td>\n",
              "      <td>Veterans Day</td>\n",
              "      <td>False</td>\n",
              "      <td>11/11/2011</td>\n",
              "      <td>Veterans Day</td>\n",
              "      <td>True</td>\n",
              "    </tr>\n",
              "    <tr>\n",
              "      <th>8</th>\n",
              "      <td>8</td>\n",
              "      <td>8</td>\n",
              "      <td>10079404</td>\n",
              "      <td>21/09/2016</td>\n",
              "      <td>Yellow Cab</td>\n",
              "      <td>ATLANTA GA</td>\n",
              "      <td>39.60</td>\n",
              "      <td>704.30</td>\n",
              "      <td>494.2080</td>\n",
              "      <td>28712</td>\n",
              "      <td>Card</td>\n",
              "      <td>Male</td>\n",
              "      <td>53</td>\n",
              "      <td>11242</td>\n",
              "      <td>814,885</td>\n",
              "      <td>24,701</td>\n",
              "      <td>21</td>\n",
              "      <td>2</td>\n",
              "      <td>9</td>\n",
              "      <td>2016</td>\n",
              "      <td>210.0920</td>\n",
              "      <td>5.305354</td>\n",
              "      <td>17.785354</td>\n",
              "      <td>12.48</td>\n",
              "      <td>24/11/2011</td>\n",
              "      <td>Thanksgiving Day</td>\n",
              "      <td>False</td>\n",
              "      <td>24/11/2011</td>\n",
              "      <td>Thanksgiving Day</td>\n",
              "      <td>True</td>\n",
              "    </tr>\n",
              "    <tr>\n",
              "      <th>9</th>\n",
              "      <td>9</td>\n",
              "      <td>9</td>\n",
              "      <td>10186994</td>\n",
              "      <td>23/06/2017</td>\n",
              "      <td>Yellow Cab</td>\n",
              "      <td>ATLANTA GA</td>\n",
              "      <td>18.19</td>\n",
              "      <td>365.63</td>\n",
              "      <td>246.6564</td>\n",
              "      <td>28712</td>\n",
              "      <td>Card</td>\n",
              "      <td>Male</td>\n",
              "      <td>53</td>\n",
              "      <td>11242</td>\n",
              "      <td>814,885</td>\n",
              "      <td>24,701</td>\n",
              "      <td>23</td>\n",
              "      <td>4</td>\n",
              "      <td>6</td>\n",
              "      <td>2017</td>\n",
              "      <td>118.9736</td>\n",
              "      <td>6.540605</td>\n",
              "      <td>20.100605</td>\n",
              "      <td>13.56</td>\n",
              "      <td>26/12/2011</td>\n",
              "      <td>Christmas Day</td>\n",
              "      <td>False</td>\n",
              "      <td>26/12/2011</td>\n",
              "      <td>Christmas Day</td>\n",
              "      <td>False</td>\n",
              "    </tr>\n",
              "    <tr>\n",
              "      <th>10</th>\n",
              "      <td>10</td>\n",
              "      <td>10</td>\n",
              "      <td>10320493</td>\n",
              "      <td>21/04/2018</td>\n",
              "      <td>Yellow Cab</td>\n",
              "      <td>ATLANTA GA</td>\n",
              "      <td>19.38</td>\n",
              "      <td>326.35</td>\n",
              "      <td>272.0952</td>\n",
              "      <td>28712</td>\n",
              "      <td>Cash</td>\n",
              "      <td>Male</td>\n",
              "      <td>53</td>\n",
              "      <td>11242</td>\n",
              "      <td>814,885</td>\n",
              "      <td>24,701</td>\n",
              "      <td>21</td>\n",
              "      <td>5</td>\n",
              "      <td>4</td>\n",
              "      <td>2018</td>\n",
              "      <td>54.2548</td>\n",
              "      <td>2.799525</td>\n",
              "      <td>16.839525</td>\n",
              "      <td>14.04</td>\n",
              "      <td>02/01/2012</td>\n",
              "      <td>New Year's Day</td>\n",
              "      <td>False</td>\n",
              "      <td>02/01/2012</td>\n",
              "      <td>New Year's Day</td>\n",
              "      <td>False</td>\n",
              "    </tr>\n",
              "    <tr>\n",
              "      <th>11</th>\n",
              "      <td>11</td>\n",
              "      <td>11</td>\n",
              "      <td>10000014</td>\n",
              "      <td>07/01/2016</td>\n",
              "      <td>Pink Cab</td>\n",
              "      <td>ATLANTA GA</td>\n",
              "      <td>33.17</td>\n",
              "      <td>377.40</td>\n",
              "      <td>351.6020</td>\n",
              "      <td>28020</td>\n",
              "      <td>Cash</td>\n",
              "      <td>Male</td>\n",
              "      <td>23</td>\n",
              "      <td>23327</td>\n",
              "      <td>814,885</td>\n",
              "      <td>24,701</td>\n",
              "      <td>1</td>\n",
              "      <td>4</td>\n",
              "      <td>7</td>\n",
              "      <td>2016</td>\n",
              "      <td>25.7980</td>\n",
              "      <td>0.777751</td>\n",
              "      <td>11.377751</td>\n",
              "      <td>10.60</td>\n",
              "      <td>16/01/2012</td>\n",
              "      <td>Birthday of Martin Luther King, Jr.</td>\n",
              "      <td>False</td>\n",
              "      <td>16/01/2012</td>\n",
              "      <td>Birthday of Martin Luther King, Jr.</td>\n",
              "      <td>False</td>\n",
              "    </tr>\n",
              "    <tr>\n",
              "      <th>12</th>\n",
              "      <td>12</td>\n",
              "      <td>12</td>\n",
              "      <td>10094994</td>\n",
              "      <td>27/10/2016</td>\n",
              "      <td>Pink Cab</td>\n",
              "      <td>ATLANTA GA</td>\n",
              "      <td>41.44</td>\n",
              "      <td>522.14</td>\n",
              "      <td>484.8480</td>\n",
              "      <td>28020</td>\n",
              "      <td>Cash</td>\n",
              "      <td>Male</td>\n",
              "      <td>23</td>\n",
              "      <td>23327</td>\n",
              "      <td>814,885</td>\n",
              "      <td>24,701</td>\n",
              "      <td>27</td>\n",
              "      <td>3</td>\n",
              "      <td>10</td>\n",
              "      <td>2016</td>\n",
              "      <td>37.2920</td>\n",
              "      <td>0.899903</td>\n",
              "      <td>12.599903</td>\n",
              "      <td>11.70</td>\n",
              "      <td>20/02/2012</td>\n",
              "      <td>Washington's Birthday</td>\n",
              "      <td>False</td>\n",
              "      <td>20/02/2012</td>\n",
              "      <td>Washington's Birthday</td>\n",
              "      <td>False</td>\n",
              "    </tr>\n",
              "    <tr>\n",
              "      <th>13</th>\n",
              "      <td>13</td>\n",
              "      <td>13</td>\n",
              "      <td>10140112</td>\n",
              "      <td>27/01/2017</td>\n",
              "      <td>Yellow Cab</td>\n",
              "      <td>ATLANTA GA</td>\n",
              "      <td>24.72</td>\n",
              "      <td>515.66</td>\n",
              "      <td>323.3376</td>\n",
              "      <td>28020</td>\n",
              "      <td>Card</td>\n",
              "      <td>Male</td>\n",
              "      <td>23</td>\n",
              "      <td>23327</td>\n",
              "      <td>814,885</td>\n",
              "      <td>24,701</td>\n",
              "      <td>27</td>\n",
              "      <td>4</td>\n",
              "      <td>1</td>\n",
              "      <td>2017</td>\n",
              "      <td>192.3224</td>\n",
              "      <td>7.780032</td>\n",
              "      <td>20.860032</td>\n",
              "      <td>13.08</td>\n",
              "      <td>28/05/2012</td>\n",
              "      <td>Memorial Day</td>\n",
              "      <td>False</td>\n",
              "      <td>28/05/2012</td>\n",
              "      <td>Memorial Day</td>\n",
              "      <td>False</td>\n",
              "    </tr>\n",
              "    <tr>\n",
              "      <th>14</th>\n",
              "      <td>14</td>\n",
              "      <td>14</td>\n",
              "      <td>10326470</td>\n",
              "      <td>11/05/2018</td>\n",
              "      <td>Pink Cab</td>\n",
              "      <td>ATLANTA GA</td>\n",
              "      <td>34.00</td>\n",
              "      <td>451.19</td>\n",
              "      <td>408.0000</td>\n",
              "      <td>28020</td>\n",
              "      <td>Cash</td>\n",
              "      <td>Male</td>\n",
              "      <td>23</td>\n",
              "      <td>23327</td>\n",
              "      <td>814,885</td>\n",
              "      <td>24,701</td>\n",
              "      <td>5</td>\n",
              "      <td>0</td>\n",
              "      <td>11</td>\n",
              "      <td>2018</td>\n",
              "      <td>43.1900</td>\n",
              "      <td>1.270294</td>\n",
              "      <td>13.270294</td>\n",
              "      <td>12.00</td>\n",
              "      <td>04/07/2012</td>\n",
              "      <td>Independence Day</td>\n",
              "      <td>False</td>\n",
              "      <td>04/07/2012</td>\n",
              "      <td>Independence Day</td>\n",
              "      <td>True</td>\n",
              "    </tr>\n",
              "    <tr>\n",
              "      <th>15</th>\n",
              "      <td>15</td>\n",
              "      <td>15</td>\n",
              "      <td>10000015</td>\n",
              "      <td>03/01/2016</td>\n",
              "      <td>Pink Cab</td>\n",
              "      <td>ATLANTA GA</td>\n",
              "      <td>8.73</td>\n",
              "      <td>114.62</td>\n",
              "      <td>97.7760</td>\n",
              "      <td>27182</td>\n",
              "      <td>Card</td>\n",
              "      <td>Male</td>\n",
              "      <td>33</td>\n",
              "      <td>8536</td>\n",
              "      <td>814,885</td>\n",
              "      <td>24,701</td>\n",
              "      <td>1</td>\n",
              "      <td>1</td>\n",
              "      <td>3</td>\n",
              "      <td>2016</td>\n",
              "      <td>16.8440</td>\n",
              "      <td>1.929439</td>\n",
              "      <td>13.129439</td>\n",
              "      <td>11.20</td>\n",
              "      <td>03/09/2012</td>\n",
              "      <td>Labor Day</td>\n",
              "      <td>False</td>\n",
              "      <td>03/09/2012</td>\n",
              "      <td>Labor Day</td>\n",
              "      <td>False</td>\n",
              "    </tr>\n",
              "    <tr>\n",
              "      <th>16</th>\n",
              "      <td>16</td>\n",
              "      <td>16</td>\n",
              "      <td>10099482</td>\n",
              "      <td>06/11/2016</td>\n",
              "      <td>Yellow Cab</td>\n",
              "      <td>ATLANTA GA</td>\n",
              "      <td>10.90</td>\n",
              "      <td>191.13</td>\n",
              "      <td>132.1080</td>\n",
              "      <td>27182</td>\n",
              "      <td>Card</td>\n",
              "      <td>Male</td>\n",
              "      <td>33</td>\n",
              "      <td>8536</td>\n",
              "      <td>814,885</td>\n",
              "      <td>24,701</td>\n",
              "      <td>11</td>\n",
              "      <td>5</td>\n",
              "      <td>6</td>\n",
              "      <td>2016</td>\n",
              "      <td>59.0220</td>\n",
              "      <td>5.414862</td>\n",
              "      <td>17.534862</td>\n",
              "      <td>12.12</td>\n",
              "      <td>08/10/2012</td>\n",
              "      <td>Columbus Day</td>\n",
              "      <td>False</td>\n",
              "      <td>08/10/2012</td>\n",
              "      <td>Columbus Day</td>\n",
              "      <td>False</td>\n",
              "    </tr>\n",
              "    <tr>\n",
              "      <th>17</th>\n",
              "      <td>17</td>\n",
              "      <td>17</td>\n",
              "      <td>10179732</td>\n",
              "      <td>03/06/2017</td>\n",
              "      <td>Yellow Cab</td>\n",
              "      <td>ATLANTA GA</td>\n",
              "      <td>20.00</td>\n",
              "      <td>321.04</td>\n",
              "      <td>271.2000</td>\n",
              "      <td>27182</td>\n",
              "      <td>Cash</td>\n",
              "      <td>Male</td>\n",
              "      <td>33</td>\n",
              "      <td>8536</td>\n",
              "      <td>814,885</td>\n",
              "      <td>24,701</td>\n",
              "      <td>6</td>\n",
              "      <td>0</td>\n",
              "      <td>3</td>\n",
              "      <td>2017</td>\n",
              "      <td>49.8400</td>\n",
              "      <td>2.492000</td>\n",
              "      <td>16.052000</td>\n",
              "      <td>13.56</td>\n",
              "      <td>12/11/2012</td>\n",
              "      <td>Veterans Day</td>\n",
              "      <td>False</td>\n",
              "      <td>12/11/2012</td>\n",
              "      <td>Veterans Day</td>\n",
              "      <td>False</td>\n",
              "    </tr>\n",
              "    <tr>\n",
              "      <th>18</th>\n",
              "      <td>18</td>\n",
              "      <td>18</td>\n",
              "      <td>10293463</td>\n",
              "      <td>13/01/2018</td>\n",
              "      <td>Yellow Cab</td>\n",
              "      <td>ATLANTA GA</td>\n",
              "      <td>40.56</td>\n",
              "      <td>893.17</td>\n",
              "      <td>549.9936</td>\n",
              "      <td>27182</td>\n",
              "      <td>Card</td>\n",
              "      <td>Male</td>\n",
              "      <td>33</td>\n",
              "      <td>8536</td>\n",
              "      <td>814,885</td>\n",
              "      <td>24,701</td>\n",
              "      <td>13</td>\n",
              "      <td>5</td>\n",
              "      <td>1</td>\n",
              "      <td>2018</td>\n",
              "      <td>343.1764</td>\n",
              "      <td>8.460957</td>\n",
              "      <td>22.020957</td>\n",
              "      <td>13.56</td>\n",
              "      <td>22/11/2012</td>\n",
              "      <td>Thanksgiving Day</td>\n",
              "      <td>False</td>\n",
              "      <td>22/11/2012</td>\n",
              "      <td>Thanksgiving Day</td>\n",
              "      <td>True</td>\n",
              "    </tr>\n",
              "    <tr>\n",
              "      <th>19</th>\n",
              "      <td>19</td>\n",
              "      <td>19</td>\n",
              "      <td>10000016</td>\n",
              "      <td>07/01/2016</td>\n",
              "      <td>Pink Cab</td>\n",
              "      <td>ATLANTA GA</td>\n",
              "      <td>6.06</td>\n",
              "      <td>72.43</td>\n",
              "      <td>63.0240</td>\n",
              "      <td>27318</td>\n",
              "      <td>Cash</td>\n",
              "      <td>Male</td>\n",
              "      <td>25</td>\n",
              "      <td>13984</td>\n",
              "      <td>814,885</td>\n",
              "      <td>24,701</td>\n",
              "      <td>1</td>\n",
              "      <td>4</td>\n",
              "      <td>7</td>\n",
              "      <td>2016</td>\n",
              "      <td>9.4060</td>\n",
              "      <td>1.552145</td>\n",
              "      <td>11.952145</td>\n",
              "      <td>10.40</td>\n",
              "      <td>25/12/2012</td>\n",
              "      <td>Christmas Day</td>\n",
              "      <td>False</td>\n",
              "      <td>25/12/2012</td>\n",
              "      <td>Christmas Day</td>\n",
              "      <td>True</td>\n",
              "    </tr>\n",
              "  </tbody>\n",
              "</table>\n",
              "</div>"
            ],
            "text/plain": [
              "    Unnamed: 0  Unnamed: 0.1  ...                            Holiday_y weekend_y\n",
              "0            0             0  ...                       New Year's Day      True\n",
              "1            1             1  ...  Birthday of Martin Luther King, Jr.     False\n",
              "2            2             2  ...                Washington's Birthday     False\n",
              "3            3             3  ...                         Memorial Day     False\n",
              "4            4             4  ...                     Independence Day     False\n",
              "5            5             5  ...                            Labor Day     False\n",
              "6            6             6  ...                         Columbus Day     False\n",
              "7            7             7  ...                         Veterans Day      True\n",
              "8            8             8  ...                     Thanksgiving Day      True\n",
              "9            9             9  ...                        Christmas Day     False\n",
              "10          10            10  ...                       New Year's Day     False\n",
              "11          11            11  ...  Birthday of Martin Luther King, Jr.     False\n",
              "12          12            12  ...                Washington's Birthday     False\n",
              "13          13            13  ...                         Memorial Day     False\n",
              "14          14            14  ...                     Independence Day      True\n",
              "15          15            15  ...                            Labor Day     False\n",
              "16          16            16  ...                         Columbus Day     False\n",
              "17          17            17  ...                         Veterans Day     False\n",
              "18          18            18  ...                     Thanksgiving Day      True\n",
              "19          19            19  ...                        Christmas Day      True\n",
              "\n",
              "[20 rows x 30 columns]"
            ]
          },
          "metadata": {
            "tags": []
          },
          "execution_count": 142
        }
      ]
    },
    {
      "cell_type": "code",
      "metadata": {
        "id": "JFP-wWws-J1q"
      },
      "source": [
        "masterData.drop('Unnamed: 0', axis=1, inplace=True)\n",
        "masterData.drop('Unnamed: 0.1', axis=1, inplace=True)\n"
      ],
      "execution_count": 143,
      "outputs": []
    },
    {
      "cell_type": "code",
      "metadata": {
        "id": "sgu59gtU_6XH"
      },
      "source": [
        "masterData.drop('Date_x', axis=1, inplace=True)\n",
        "masterData.drop('Holiday_x', axis=1, inplace=True)\n",
        "masterData.drop('weekend_x', axis=1, inplace=True)"
      ],
      "execution_count": 144,
      "outputs": []
    },
    {
      "cell_type": "code",
      "metadata": {
        "colab": {
          "base_uri": "https://localhost:8080/"
        },
        "id": "bnxNn2VU3dna",
        "outputId": "199e5c71-0e71-4406-95e6-9e0c6c411aed"
      },
      "source": [
        "masterData.groupby('weekend_y')['km_travelled'].mean()"
      ],
      "execution_count": 145,
      "outputs": [
        {
          "output_type": "execute_result",
          "data": {
            "text/plain": [
              "weekend_y\n",
              "False    22.560806\n",
              "True     25.747368\n",
              "Name: km_travelled, dtype: float64"
            ]
          },
          "metadata": {
            "tags": []
          },
          "execution_count": 145
        }
      ]
    },
    {
      "cell_type": "code",
      "metadata": {
        "colab": {
          "base_uri": "https://localhost:8080/",
          "height": 461
        },
        "id": "knqPKmU1ABN0",
        "outputId": "cdcc6f83-248f-4480-a40f-1b97ff422a8b"
      },
      "source": [
        "masterData.groupby('weekend_y')['km_travelled'].mean().plot(kind='bar', figsize=(15,7), ylabel='KM Travelled', title='Average Kilometres Travelled');"
      ],
      "execution_count": 146,
      "outputs": [
        {
          "output_type": "display_data",
          "data": {
            "image/png": "[encoded data removed]",
            "text/plain": [
              "<Figure size 1080x504 with 1 Axes>"
            ]
          },
          "metadata": {
            "tags": [],
            "needs_background": "light"
          }
        }
      ]
    },
    {
      "cell_type": "markdown",
      "metadata": {
        "id": "TfBiIg4eAe8z"
      },
      "source": [
        "Distance travelled  for weekends is more big than weekdays\n"
      ]
    },
    {
      "cell_type": "code",
      "metadata": {
        "colab": {
          "base_uri": "https://localhost:8080/"
        },
        "id": "78kX7OEZ-9-1",
        "outputId": "ecad71e5-1e09-4921-a692-ad4fcbe6ec7a"
      },
      "source": [
        "masterData.groupby('Holiday_y')['km_travelled'].median()"
      ],
      "execution_count": 147,
      "outputs": [
        {
          "output_type": "execute_result",
          "data": {
            "text/plain": [
              "Holiday_y\n",
              "Birthday of Martin Luther King, Jr.    26.780\n",
              "Christmas Day                          21.095\n",
              "Columbus Day                           23.300\n",
              "Independence Day                       25.160\n",
              "Labor Day                              14.615\n",
              "Memorial Day                           24.975\n",
              "New Year's Day                         32.985\n",
              "Thanksgiving Day                       33.175\n",
              "Veterans Day                           17.500\n",
              "Washington's Birthday                  24.525\n",
              "Name: km_travelled, dtype: float64"
            ]
          },
          "metadata": {
            "tags": []
          },
          "execution_count": 147
        }
      ]
    },
    {
      "cell_type": "code",
      "metadata": {
        "colab": {
          "base_uri": "https://localhost:8080/",
          "height": 616
        },
        "id": "NjuPa6MP--II",
        "outputId": "c641040e-46f9-4888-d0b1-2397888e4f2d"
      },
      "source": [
        "masterData.groupby('Holiday_y')['km_travelled'].median().plot(kind='bar', figsize=(13,7), ylabel='KM Travelled', title='Average Kilometres Travelled');"
      ],
      "execution_count": 148,
      "outputs": [
        {
          "output_type": "display_data",
          "data": {
            "image/png": "[encoded data removed]",
            "text/plain": [
              "<Figure size 936x504 with 1 Axes>"
            ]
          },
          "metadata": {
            "tags": [],
            "needs_background": "light"
          }
        }
      ]
    },
    {
      "cell_type": "markdown",
      "metadata": {
        "id": "_AZl31lOBouN"
      },
      "source": [
        "The maximum avearge kilometres travelled is in Thanksgiving Day.\n"
      ]
    },
    {
      "cell_type": "code",
      "metadata": {
        "colab": {
          "base_uri": "https://localhost:8080/",
          "height": 593
        },
        "id": "7j8ZbXREB_kS",
        "outputId": "81585f94-64b6-4821-84d6-4ec2e096a0d5"
      },
      "source": [
        "masterData.groupby('Holiday_y')['price_charged', 'cost_of_trip'].median().plot(kind='bar', figsize=(15,7), ylabel='Cost & Price Charged', title='Cost of trip and price Charged during holidays');\n"
      ],
      "execution_count": 149,
      "outputs": [
        {
          "output_type": "display_data",
          "data": {
            "image/png": "[encoded data removed]",
            "text/plain": [
              "<Figure size 1080x504 with 1 Axes>"
            ]
          },
          "metadata": {
            "tags": [],
            "needs_background": "light"
          }
        }
      ]
    },
    {
      "cell_type": "markdown",
      "metadata": {
        "id": "BtkxlzPoYwK0"
      },
      "source": [
        "**In order to determine if there is a significant difference between the means of two groups, We will use a type of inferential statistic called, T-test.**"
      ]
    },
    {
      "cell_type": "code",
      "metadata": {
        "id": "hqcP2VhrZV1Q"
      },
      "source": [
        "import scipy.stats as stat\n",
        "from scipy.stats import ttest_1samp\n",
        "from scipy.stats import ttest_ind\n",
        "\n",
        "sample_size = int((10/100)*359392) \n",
        "def T_test(a, b):\n",
        "    sample_a = np.random.choice(a, sample_size)\n",
        "    sample_b = np.random.choice(b, sample_size)\n",
        "    ttest, p_value = ttest_ind(sample_a, sample_b, equal_var = False)\n",
        "    print(f'p-value: {p_value}')\n",
        "    if p_value < 0.05:    # alpha value is 0.05 or 5%\n",
        "        print(\"Reject null hypothesis (H0)\")\n",
        "    else:\n",
        "        print(\"Accept null hypothesis (H0)\")"
      ],
      "execution_count": 150,
      "outputs": []
    },
    {
      "cell_type": "markdown",
      "metadata": {
        "id": "QDZX1-XTWnWm"
      },
      "source": [
        "**On KM travelled:**\n",
        "\n",
        "Hypothesis: \n",
        "\n",
        "H0 = KM travelled by Yellow Cab and Pink Cab are equal\n",
        "\n",
        "H1 = KM travelled by Yellow Cab and Pink Cab are not equal\n"
      ]
    },
    {
      "cell_type": "code",
      "metadata": {
        "colab": {
          "base_uri": "https://localhost:8080/"
        },
        "id": "ESSyhhgWSKQb",
        "outputId": "820ec8a6-765d-4967-d8bd-0bafd857da7b"
      },
      "source": [
        "masterData['km_travelled'].groupby(masterData['company']).mean()"
      ],
      "execution_count": 151,
      "outputs": [
        {
          "output_type": "execute_result",
          "data": {
            "text/plain": [
              "company\n",
              "Pink Cab      20.738929\n",
              "Yellow Cab    24.951111\n",
              "Name: km_travelled, dtype: float64"
            ]
          },
          "metadata": {
            "tags": []
          },
          "execution_count": 151
        }
      ]
    },
    {
      "cell_type": "code",
      "metadata": {
        "colab": {
          "base_uri": "https://localhost:8080/"
        },
        "id": "Ic5VOuSvaIYS",
        "outputId": "d43c2c3b-fdaf-4835-d221-54f9a1052ba5"
      },
      "source": [
        "T_test(masterData[masterData['company'] == 'Yellow Cab']['km_travelled'], masterData[masterData['company'] == 'Pink Cab']['km_travelled'])"
      ],
      "execution_count": 152,
      "outputs": [
        {
          "output_type": "stream",
          "text": [
            "p-value: 0.0\n",
            "Reject null hypothesis (H0)\n"
          ],
          "name": "stdout"
        }
      ]
    },
    {
      "cell_type": "markdown",
      "metadata": {
        "id": "hjIk-ZgSc2_q"
      },
      "source": [
        "**On profit per one trip**\n",
        "\n",
        "Hypothesis:\n",
        "\n",
        "H0 = Profit per one trip for weekdays and weekends are identical\n",
        "\n",
        "H1 = Profit per one trip for weekdays and weekends are not identical\n",
        "\n"
      ]
    },
    {
      "cell_type": "code",
      "metadata": {
        "id": "7W2QRbTFaKVo"
      },
      "source": [
        "#masterData['profit_per_one_trip'].groupby(masterData['weekend']).mean()"
      ],
      "execution_count": 153,
      "outputs": []
    },
    {
      "cell_type": "code",
      "metadata": {
        "id": "9qO-hYc6cZci"
      },
      "source": [
        "#T_test(masterData[masterData['weekend'] > 0]['profit_per_one_trip'], masterData[masterData['weekend'] == 0]['profit_per_one_trip'])\n"
      ],
      "execution_count": 154,
      "outputs": []
    },
    {
      "cell_type": "markdown",
      "metadata": {
        "id": "V0T_1fZzEV8M"
      },
      "source": [
        "Hypothesis:\n",
        "\n",
        "H0 = Profit is same for both Yellow cab and Pink cab\n",
        "\n",
        "H1 = Profit is not same for both Yellow cab and Pink cab"
      ]
    },
    {
      "cell_type": "code",
      "metadata": {
        "colab": {
          "base_uri": "https://localhost:8080/"
        },
        "id": "Kw2qieMkcaCm",
        "outputId": "12d6d1be-6e46-4948-ea33-bd39de5539d0"
      },
      "source": [
        "masterData['profit_per_one_trip'].groupby(masterData['company']).mean()\n"
      ],
      "execution_count": 155,
      "outputs": [
        {
          "output_type": "execute_result",
          "data": {
            "text/plain": [
              "company\n",
              "Pink Cab       29.916679\n",
              "Yellow Cab    233.814811\n",
              "Name: profit_per_one_trip, dtype: float64"
            ]
          },
          "metadata": {
            "tags": []
          },
          "execution_count": 155
        }
      ]
    },
    {
      "cell_type": "code",
      "metadata": {
        "colab": {
          "base_uri": "https://localhost:8080/"
        },
        "id": "9po9Q2t-cakZ",
        "outputId": "62e12fbf-a125-4f53-9a2f-3616a2892cbe"
      },
      "source": [
        "T_test(masterData[masterData['company'] == 'Yellow Cab']['profit_per_one_trip'], masterData[masterData['company'] == 'Pink Cab']['profit_per_one_trip'])\n"
      ],
      "execution_count": 156,
      "outputs": [
        {
          "output_type": "stream",
          "text": [
            "p-value: 0.0\n",
            "Reject null hypothesis (H0)\n"
          ],
          "name": "stdout"
        }
      ]
    },
    {
      "cell_type": "markdown",
      "metadata": {
        "id": "fQWKp_-PFcAl"
      },
      "source": [
        "**On price charged:**\n",
        "\n",
        "Hypothesis:\n",
        "\n",
        "H0 = Price charged by Yellow and Pink Cabs are same\n",
        "\n",
        "H1 = Price charged by Yellow and Pink Cabs are not same"
      ]
    },
    {
      "cell_type": "code",
      "metadata": {
        "colab": {
          "base_uri": "https://localhost:8080/"
        },
        "id": "AF0LUXHqcb4F",
        "outputId": "9d868400-2eec-40db-ab9f-366b56f23927"
      },
      "source": [
        "masterData['price_per_km'].groupby(masterData['company']).mean()\n"
      ],
      "execution_count": 157,
      "outputs": [
        {
          "output_type": "execute_result",
          "data": {
            "text/plain": [
              "company\n",
              "Pink Cab      12.324567\n",
              "Yellow Cab    23.200070\n",
              "Name: price_per_km, dtype: float64"
            ]
          },
          "metadata": {
            "tags": []
          },
          "execution_count": 157
        }
      ]
    },
    {
      "cell_type": "code",
      "metadata": {
        "colab": {
          "base_uri": "https://localhost:8080/"
        },
        "id": "5Pofg_vDcdbg",
        "outputId": "497d5c9a-bbfd-4b7b-bc9a-0f94eae6db15"
      },
      "source": [
        "T_test(masterData[masterData['company'] == 'Yellow Cab']['price_per_km'], masterData[masterData['company'] == 'Pink Cab']['price_per_km'])\n"
      ],
      "execution_count": 158,
      "outputs": [
        {
          "output_type": "stream",
          "text": [
            "p-value: 0.0\n",
            "Reject null hypothesis (H0)\n"
          ],
          "name": "stdout"
        }
      ]
    },
    {
      "cell_type": "markdown",
      "metadata": {
        "id": "CQ0DCLhqHxtZ"
      },
      "source": [
        "**On cost:**\n",
        "\n",
        "Hypothesis:\n",
        "\n",
        "H0 = Cost for both Yellow and Pink Cabs are same\n",
        "\n",
        "H1 = Cost for both Yellow and Pink Cabs are not same"
      ]
    },
    {
      "cell_type": "code",
      "metadata": {
        "colab": {
          "base_uri": "https://localhost:8080/"
        },
        "id": "6kM1IHN3cfOf",
        "outputId": "3f72672a-049f-4787-eef0-30f279f0c39f"
      },
      "source": [
        "masterData['cost_of_trip'].groupby(masterData['company']).mean()\n"
      ],
      "execution_count": 159,
      "outputs": [
        {
          "output_type": "execute_result",
          "data": {
            "text/plain": [
              "company\n",
              "Pink Cab      228.122607\n",
              "Yellow Cab    331.805050\n",
              "Name: cost_of_trip, dtype: float64"
            ]
          },
          "metadata": {
            "tags": []
          },
          "execution_count": 159
        }
      ]
    },
    {
      "cell_type": "code",
      "metadata": {
        "colab": {
          "base_uri": "https://localhost:8080/"
        },
        "id": "iiDcQmXFchbf",
        "outputId": "77bcd8c7-5238-43b4-f654-ef001554a588"
      },
      "source": [
        "T_test(masterData[masterData['company'] == 'Yellow Cab']['cost_of_trip'], masterData[masterData['company'] == 'Pink Cab']['cost_of_trip'])\n"
      ],
      "execution_count": 160,
      "outputs": [
        {
          "output_type": "stream",
          "text": [
            "p-value: 0.0\n",
            "Reject null hypothesis (H0)\n"
          ],
          "name": "stdout"
        }
      ]
    },
    {
      "cell_type": "markdown",
      "metadata": {
        "id": "NUgHYTFPY4y6"
      },
      "source": [
        "\n",
        "**Pearson correlation coefficient**\n",
        "\n",
        "The Pearson correlation coefficient measures the linear relationship between two datasets. \n",
        "It calculate a Pearson correlation coefficient and the p-value for testing non-correlation.\n",
        "\n"
      ]
    },
    {
      "cell_type": "markdown",
      "metadata": {
        "id": "BPoE3zm4UcIq"
      },
      "source": [
        "\n",
        "Hypothesis:\n",
        "\n",
        "H0 = km Travelled and profit per one trip are not related\n",
        "\n",
        "H1 = km Travelled and profit per one trip are related"
      ]
    },
    {
      "cell_type": "code",
      "metadata": {
        "id": "teLtdXhlci2d"
      },
      "source": [
        "kmtr = masterData['km_travelled']\n",
        "prof = masterData['profit_per_one_trip']"
      ],
      "execution_count": 161,
      "outputs": []
    },
    {
      "cell_type": "code",
      "metadata": {
        "colab": {
          "base_uri": "https://localhost:8080/"
        },
        "id": "RacO7SpFaLDy",
        "outputId": "cce5db15-4990-4542-c569-b6c8bb0e2511"
      },
      "source": [
        "from scipy.stats import pearsonr\n",
        "\n",
        "stat, p = pearsonr(kmtr, prof)\n",
        "print('stat=%.3f, p=%.3f' % (stat, p))\n",
        "if p > 0.05:\n",
        "    print('Km travelled and profit per trip are not related')\n",
        "else:\n",
        "    print('Km travelled and profit per trip are related')"
      ],
      "execution_count": 162,
      "outputs": [
        {
          "output_type": "stream",
          "text": [
            "stat=0.366, p=0.000\n",
            "Km travelled and profit per trip are related\n"
          ],
          "name": "stdout"
        }
      ]
    },
    {
      "cell_type": "markdown",
      "metadata": {
        "id": "8-Du-LMmYLx2"
      },
      "source": [
        "Hypothesis:\n",
        "\n",
        "H0: There is no relationship profit per one trip and age\n",
        "\n",
        "H1: There is relationship between profit per one trip and age"
      ]
    },
    {
      "cell_type": "code",
      "metadata": {
        "id": "1H7ZRbhtZ5w2"
      },
      "source": [
        "agee = masterData['age']\n",
        "profitr = masterData['profit_per_one_trip']"
      ],
      "execution_count": 163,
      "outputs": []
    },
    {
      "cell_type": "code",
      "metadata": {
        "colab": {
          "base_uri": "https://localhost:8080/"
        },
        "id": "7ILEvf3EaGeY",
        "outputId": "323ba0ab-cc78-4c14-a9d5-bbb2286d32f9"
      },
      "source": [
        "from scipy.stats import pearsonr\n",
        "\n",
        "stat, p = pearsonr(agee, profitr)\n",
        "print('stat=%.3f, p=%.3f' % (stat, p))\n",
        "if p > 0.05:\n",
        "    print('age and profit are not related')\n",
        "else:\n",
        "    print('age and profit are related')"
      ],
      "execution_count": 164,
      "outputs": [
        {
          "output_type": "stream",
          "text": [
            "stat=-0.089, p=0.378\n",
            "age and profit are not related\n"
          ],
          "name": "stdout"
        }
      ]
    },
    {
      "cell_type": "code",
      "metadata": {
        "id": "fUAzJaCIma0j"
      },
      "source": [
        "price = masterData['price_charged']\n",
        "cost = masterData['cost_of_trip']"
      ],
      "execution_count": 165,
      "outputs": []
    },
    {
      "cell_type": "code",
      "metadata": {
        "colab": {
          "base_uri": "https://localhost:8080/"
        },
        "id": "-BYPacZ5mbgL",
        "outputId": "11afa8c9-d3c6-4ade-d6d0-13e8151616f4"
      },
      "source": [
        "from scipy.stats import pearsonr\n",
        "\n",
        "stat, p = pearsonr(price, cost)\n",
        "print('stat=%.3f, p=%.3f' % (stat, p))\n",
        "if p > 0.05:\n",
        "    print('price charged and cost_of_trip are not related')\n",
        "else:\n",
        "    print('price charged and cost_of_trip are related')"
      ],
      "execution_count": 166,
      "outputs": [
        {
          "output_type": "stream",
          "text": [
            "stat=0.798, p=0.000\n",
            "price charged and cost_of_trip are related\n"
          ],
          "name": "stdout"
        }
      ]
    },
    {
      "cell_type": "markdown",
      "metadata": {
        "id": "33MiMEnQfPYo"
      },
      "source": [
        "Hypothesis:\n",
        "\n",
        "H0= There is no difference in KM Travelled by Females compared to Males for Yellow Cab.\n",
        "\n",
        "H1= There is a difference in KM Travelled by Females compared to Males for Yellow Cab."
      ]
    },
    {
      "cell_type": "code",
      "metadata": {
        "id": "BCZP_zbhffQg"
      },
      "source": [
        "kmt = masterData['km_travelled']\n",
        "genn = masterData['gender']"
      ],
      "execution_count": 167,
      "outputs": []
    },
    {
      "cell_type": "code",
      "metadata": {
        "colab": {
          "base_uri": "https://localhost:8080/"
        },
        "id": "0FL1wTn-fjeP",
        "outputId": "3829371e-e98a-4b3a-a687-20990dd9d6b7"
      },
      "source": [
        "from scipy.stats import pearsonr\n",
        "\n",
        "stat, p = pearsonr(kmt, genn)\n",
        "print('stat=%.3f, p=%.3f' % (stat, p))\n",
        "if p > 0.05:\n",
        "    print('profit and age company preference are not related')\n",
        "else:\n",
        "    print('profit and gen company preference are related')"
      ],
      "execution_count": 169,
      "outputs": [
        {
          "output_type": "stream",
          "text": [
            "stat=nan, p=nan\n",
            "profit and gen company preference are related\n"
          ],
          "name": "stdout"
        }
      ]
    },
    {
      "cell_type": "markdown",
      "metadata": {
        "id": "PpHkJ5O6Q3rB"
      },
      "source": [
        "**Recommendations & Insights**\n",
        "\n",
        "\n",
        "Investing in Yellow Cab will be the best decision by following these points:\n",
        "\n",
        "Yellow cab is the superior in terms of rides, profits.\n",
        "\n",
        "That's mean, that most rides are made with yellow taxis.\n",
        "Yellow Cab has the biggest share of the profits.\n",
        "\n",
        "Over years, Yellow company has the highest number of customers, especially in 2017.\n",
        "\n",
        "Most of the customers for both yellow cab and Pink cab Yellow cab are Young and Middle-aged. \n",
        "\n",
        "Weekly, monthly and anual profit of Yellow Cab is always much higher than Pink Cab.\n",
        "\n",
        "Most of the customer of populated cities prefer Yellow Cab. \n",
        "\n",
        "During July and August, both companys recorded a decrease in profit per km and profit per one trip. We can say that there's some seasonality.\n",
        "\n",
        "Payment mode  of most of the customers of Yellow Cab is card. For Pink Cab, both card & cash payments are used.\n"
      ]
    }
  ]
}